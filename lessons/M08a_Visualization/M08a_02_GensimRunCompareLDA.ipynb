{
 "cells": [
  {
   "cell_type": "markdown",
   "metadata": {
    "tags": []
   },
   "source": [
    "# How to Compare Topic Models (Gensim)\n",
    "\n",
    "```yaml\n",
    "Course:   DS 5001\n",
    "Module:   08a \n",
    "Topic:    How to Compare Topic Models (Gensim)\n",
    "Author:   Gensim (adapted by R.C. Alvarado\n",
    "Date:     23 March 2023\n",
    "```"
   ]
  },
  {
   "cell_type": "markdown",
   "metadata": {},
   "source": [
    "## Purpose\n",
    "\n",
    "Demonstrates how you can visualize and compare trained topic models."
   ]
  },
  {
   "cell_type": "markdown",
   "metadata": {
    "tags": []
   },
   "source": [
    "## Set Up"
   ]
  },
  {
   "cell_type": "markdown",
   "metadata": {
    "tags": []
   },
   "source": [
    "### Config"
   ]
  },
  {
   "cell_type": "code",
   "execution_count": 1,
   "metadata": {},
   "outputs": [],
   "source": [
    "num_topics = 15"
   ]
  },
  {
   "cell_type": "markdown",
   "metadata": {},
   "source": [
    "### Imports"
   ]
  },
  {
   "cell_type": "code",
   "execution_count": 2,
   "metadata": {
    "collapsed": false,
    "jupyter": {
     "outputs_hidden": false
    }
   },
   "outputs": [],
   "source": [
    "import numpy as np\n",
    "import matplotlib.pyplot as plt\n",
    "import plotly.graph_objs as go\n",
    "import plotly.offline as py"
   ]
  },
  {
   "cell_type": "code",
   "execution_count": 3,
   "metadata": {
    "collapsed": false,
    "jupyter": {
     "outputs_hidden": false
    }
   },
   "outputs": [],
   "source": [
    "from string import punctuation\n",
    "from nltk import RegexpTokenizer\n",
    "from nltk.stem.porter import PorterStemmer\n",
    "from nltk.corpus import stopwords\n",
    "from sklearn.datasets import fetch_20newsgroups\n",
    "from gensim.corpora import Dictionary\n",
    "from gensim.models import LdaMulticore"
   ]
  },
  {
   "cell_type": "markdown",
   "metadata": {},
   "source": [
    "## Acquire and Prepare Data\n",
    "\n",
    "Acquire and clean up the 20 Newsgroups dataset."
   ]
  },
  {
   "cell_type": "code",
   "execution_count": 4,
   "metadata": {
    "collapsed": false,
    "jupyter": {
     "outputs_hidden": false
    }
   },
   "outputs": [],
   "source": [
    "newsgroups = fetch_20newsgroups()\n",
    "eng_stopwords = set(stopwords.words('english'))\n",
    "tokenizer = RegexpTokenizer(r'\\s+', gaps=True)\n",
    "stemmer = PorterStemmer()\n",
    "translate_tab = {ord(p): u\" \" for p in punctuation}"
   ]
  },
  {
   "cell_type": "markdown",
   "metadata": {},
   "source": [
    "Convert a documents to list of tokens."
   ]
  },
  {
   "cell_type": "code",
   "execution_count": 5,
   "metadata": {
    "collapsed": false,
    "jupyter": {
     "outputs_hidden": false
    }
   },
   "outputs": [],
   "source": [
    "def text2tokens(raw_text):\n",
    "    \"\"\"Split the raw_text string into a list of stemmed tokens.\"\"\"\n",
    "    clean_text = raw_text.lower().translate(translate_tab)\n",
    "    tokens = [token.strip() for token in tokenizer.tokenize(clean_text)]\n",
    "    tokens = [token for token in tokens if token not in eng_stopwords]\n",
    "    stemmed_tokens = [stemmer.stem(token) for token in tokens]\n",
    "    return [token for token in stemmed_tokens if len(token) > 2]  # skip short tokens"
   ]
  },
  {
   "cell_type": "code",
   "execution_count": 6,
   "metadata": {
    "collapsed": false,
    "jupyter": {
     "outputs_hidden": false
    }
   },
   "outputs": [],
   "source": [
    "dataset = [text2tokens(txt) for txt in newsgroups['data']] "
   ]
  },
  {
   "cell_type": "markdown",
   "metadata": {},
   "source": [
    "Create Gensim dictionary."
   ]
  },
  {
   "cell_type": "code",
   "execution_count": 7,
   "metadata": {
    "collapsed": false,
    "jupyter": {
     "outputs_hidden": false
    }
   },
   "outputs": [],
   "source": [
    "dictionary = Dictionary(documents=dataset, prune_at=None)\n",
    "dictionary.filter_extremes(no_below=5, no_above=0.3, keep_n=None)  # use Dictionary to remove un-relevant tokens\n",
    "dictionary.compactify()"
   ]
  },
  {
   "cell_type": "markdown",
   "metadata": {},
   "source": [
    "Convert list of tokens to bag of word representation"
   ]
  },
  {
   "cell_type": "code",
   "execution_count": 8,
   "metadata": {
    "collapsed": false,
    "jupyter": {
     "outputs_hidden": false
    }
   },
   "outputs": [],
   "source": [
    "d2b_dataset = [dictionary.doc2bow(doc) for doc in dataset] "
   ]
  },
  {
   "cell_type": "markdown",
   "metadata": {},
   "source": [
    "## Fit LDA Models"
   ]
  },
  {
   "cell_type": "code",
   "execution_count": 9,
   "metadata": {
    "collapsed": false,
    "jupyter": {
     "outputs_hidden": false
    }
   },
   "outputs": [],
   "source": [
    "lda_fst = LdaMulticore(\n",
    "    corpus=d2b_dataset, \n",
    "    num_topics=num_topics, \n",
    "    id2word=dictionary,\n",
    "    workers=4, \n",
    "    eval_every=None, \n",
    "    passes=10, \n",
    "    batch=True,\n",
    ")\n",
    "\n",
    "lda_snd = LdaMulticore(\n",
    "    corpus=d2b_dataset, \n",
    "    num_topics=num_topics, \n",
    "    id2word=dictionary,\n",
    "    workers=4, \n",
    "    eval_every=None, \n",
    "    passes=20, \n",
    "    batch=True,\n",
    ")"
   ]
  },
  {
   "cell_type": "markdown",
   "metadata": {},
   "source": [
    "## Visualize Differences with `diff()`\n",
    "\n",
    "We use two slightly different visualization methods depending on how you're running this tutorial."
   ]
  },
  {
   "cell_type": "code",
   "execution_count": 10,
   "metadata": {
    "collapsed": false,
    "jupyter": {
     "outputs_hidden": false
    }
   },
   "outputs": [],
   "source": [
    "def plot_difference_plotly(mdiff, title=\"\", annotation=None):\n",
    "    \"\"\"Plot the difference between models. Uses plotly as the backend.\"\"\"\n",
    "    annotation_html = None\n",
    "    if annotation is not None:\n",
    "        annotation_html = [\n",
    "            [\n",
    "                \"+++ {}<br>--- {}\".format(\", \".join(int_tokens), \", \".join(diff_tokens))\n",
    "                for (int_tokens, diff_tokens) in row\n",
    "            ]\n",
    "            for row in annotation\n",
    "        ]\n",
    "\n",
    "    data = go.Heatmap(z=mdiff, colorscale='RdBu', text=annotation_html)\n",
    "    layout = go.Layout(width=950, height=950, title=title, xaxis=dict(title=\"topic\"), yaxis=dict(title=\"topic\"))\n",
    "    py.iplot(dict(data=[data], layout=layout))"
   ]
  },
  {
   "cell_type": "code",
   "execution_count": 11,
   "metadata": {
    "collapsed": false,
    "jupyter": {
     "outputs_hidden": false
    }
   },
   "outputs": [],
   "source": [
    "def plot_difference_matplotlib(mdiff, title=\"\", annotation=None):\n",
    "    \"\"\"Helper function to plot difference between models.\n",
    "\n",
    "    Uses matplotlib as the backend.\"\"\"\n",
    "    fig, ax = plt.subplots(figsize=(18, 14))\n",
    "    data = ax.imshow(mdiff, cmap='RdBu_r', origin='lower')\n",
    "    plt.title(title)\n",
    "    plt.colorbar(data)"
   ]
  },
  {
   "cell_type": "code",
   "execution_count": 12,
   "metadata": {
    "collapsed": false,
    "jupyter": {
     "outputs_hidden": false
    }
   },
   "outputs": [],
   "source": [
    "# py.init_notebook_mode()\n",
    "plot_difference = plot_difference_plotly"
   ]
  },
  {
   "cell_type": "markdown",
   "metadata": {},
   "source": [
    "Gensim can help you visualise the differences between topics. For this purpose, you can use the ``diff()`` method of LdaModel.\n",
    "\n",
    "``diff()`` returns a matrix with distances **mdiff** and a matrix with annotations **annotation**. Read the docstring for more detailed info.\n",
    "\n",
    "In each **mdiff[i][j]** cell you'll find a distance between **topic_i** from the first model and **topic_j** from the second model.\n",
    "\n",
    "In each **annotation[i][j]** cell you'll find **[tokens from intersection, tokens from difference** between **topic_i** from first model and **topic_j** from the second model.\n",
    "\n",
    "\n"
   ]
  },
  {
   "cell_type": "code",
   "execution_count": 13,
   "metadata": {
    "collapsed": false,
    "jupyter": {
     "outputs_hidden": false
    }
   },
   "outputs": [],
   "source": [
    "# print(LdaMulticore.diff.__doc__)"
   ]
  },
  {
   "cell_type": "markdown",
   "metadata": {},
   "source": [
    "## Case 1: How topics within ONE model correlate with each other."
   ]
  },
  {
   "cell_type": "markdown",
   "metadata": {},
   "source": [
    "Short description:\n",
    "\n",
    "* x-axis - topic1\n",
    "* y-axis - topic2\n",
    "* BLUE: strongly decorrelated topics\n",
    "* RED: strongly correlated topics\n",
    "\n",
    "In an ideal world, we would like to see different topics decorrelated between themselves.\n",
    "\n",
    "In this case, our matrix would look like this:"
   ]
  },
  {
   "cell_type": "code",
   "execution_count": 14,
   "metadata": {
    "collapsed": false,
    "jupyter": {
     "outputs_hidden": false
    }
   },
   "outputs": [],
   "source": [
    "mdiff = np.ones((num_topics, num_topics))\n",
    "np.fill_diagonal(mdiff, 0.)"
   ]
  },
  {
   "cell_type": "code",
   "execution_count": 15,
   "metadata": {
    "collapsed": false,
    "jupyter": {
     "outputs_hidden": false
    }
   },
   "outputs": [
    {
     "data": {
      "application/vnd.plotly.v1+json": {
       "config": {
        "linkText": "Export to plot.ly",
        "plotlyServerURL": "https://plot.ly",
        "showLink": false
       },
       "data": [
        {
         "colorscale": [
          [
           0,
           "rgb(103,0,31)"
          ],
          [
           0.1,
           "rgb(178,24,43)"
          ],
          [
           0.2,
           "rgb(214,96,77)"
          ],
          [
           0.3,
           "rgb(244,165,130)"
          ],
          [
           0.4,
           "rgb(253,219,199)"
          ],
          [
           0.5,
           "rgb(247,247,247)"
          ],
          [
           0.6,
           "rgb(209,229,240)"
          ],
          [
           0.7,
           "rgb(146,197,222)"
          ],
          [
           0.8,
           "rgb(67,147,195)"
          ],
          [
           0.9,
           "rgb(33,102,172)"
          ],
          [
           1,
           "rgb(5,48,97)"
          ]
         ],
         "type": "heatmap",
         "z": [
          [
           0,
           1,
           1,
           1,
           1,
           1,
           1,
           1,
           1,
           1,
           1,
           1,
           1,
           1,
           1
          ],
          [
           1,
           0,
           1,
           1,
           1,
           1,
           1,
           1,
           1,
           1,
           1,
           1,
           1,
           1,
           1
          ],
          [
           1,
           1,
           0,
           1,
           1,
           1,
           1,
           1,
           1,
           1,
           1,
           1,
           1,
           1,
           1
          ],
          [
           1,
           1,
           1,
           0,
           1,
           1,
           1,
           1,
           1,
           1,
           1,
           1,
           1,
           1,
           1
          ],
          [
           1,
           1,
           1,
           1,
           0,
           1,
           1,
           1,
           1,
           1,
           1,
           1,
           1,
           1,
           1
          ],
          [
           1,
           1,
           1,
           1,
           1,
           0,
           1,
           1,
           1,
           1,
           1,
           1,
           1,
           1,
           1
          ],
          [
           1,
           1,
           1,
           1,
           1,
           1,
           0,
           1,
           1,
           1,
           1,
           1,
           1,
           1,
           1
          ],
          [
           1,
           1,
           1,
           1,
           1,
           1,
           1,
           0,
           1,
           1,
           1,
           1,
           1,
           1,
           1
          ],
          [
           1,
           1,
           1,
           1,
           1,
           1,
           1,
           1,
           0,
           1,
           1,
           1,
           1,
           1,
           1
          ],
          [
           1,
           1,
           1,
           1,
           1,
           1,
           1,
           1,
           1,
           0,
           1,
           1,
           1,
           1,
           1
          ],
          [
           1,
           1,
           1,
           1,
           1,
           1,
           1,
           1,
           1,
           1,
           0,
           1,
           1,
           1,
           1
          ],
          [
           1,
           1,
           1,
           1,
           1,
           1,
           1,
           1,
           1,
           1,
           1,
           0,
           1,
           1,
           1
          ],
          [
           1,
           1,
           1,
           1,
           1,
           1,
           1,
           1,
           1,
           1,
           1,
           1,
           0,
           1,
           1
          ],
          [
           1,
           1,
           1,
           1,
           1,
           1,
           1,
           1,
           1,
           1,
           1,
           1,
           1,
           0,
           1
          ],
          [
           1,
           1,
           1,
           1,
           1,
           1,
           1,
           1,
           1,
           1,
           1,
           1,
           1,
           1,
           0
          ]
         ]
        }
       ],
       "layout": {
        "height": 950,
        "template": {
         "data": {
          "bar": [
           {
            "error_x": {
             "color": "#2a3f5f"
            },
            "error_y": {
             "color": "#2a3f5f"
            },
            "marker": {
             "line": {
              "color": "#E5ECF6",
              "width": 0.5
             },
             "pattern": {
              "fillmode": "overlay",
              "size": 10,
              "solidity": 0.2
             }
            },
            "type": "bar"
           }
          ],
          "barpolar": [
           {
            "marker": {
             "line": {
              "color": "#E5ECF6",
              "width": 0.5
             },
             "pattern": {
              "fillmode": "overlay",
              "size": 10,
              "solidity": 0.2
             }
            },
            "type": "barpolar"
           }
          ],
          "carpet": [
           {
            "aaxis": {
             "endlinecolor": "#2a3f5f",
             "gridcolor": "white",
             "linecolor": "white",
             "minorgridcolor": "white",
             "startlinecolor": "#2a3f5f"
            },
            "baxis": {
             "endlinecolor": "#2a3f5f",
             "gridcolor": "white",
             "linecolor": "white",
             "minorgridcolor": "white",
             "startlinecolor": "#2a3f5f"
            },
            "type": "carpet"
           }
          ],
          "choropleth": [
           {
            "colorbar": {
             "outlinewidth": 0,
             "ticks": ""
            },
            "type": "choropleth"
           }
          ],
          "contour": [
           {
            "colorbar": {
             "outlinewidth": 0,
             "ticks": ""
            },
            "colorscale": [
             [
              0,
              "#0d0887"
             ],
             [
              0.1111111111111111,
              "#46039f"
             ],
             [
              0.2222222222222222,
              "#7201a8"
             ],
             [
              0.3333333333333333,
              "#9c179e"
             ],
             [
              0.4444444444444444,
              "#bd3786"
             ],
             [
              0.5555555555555556,
              "#d8576b"
             ],
             [
              0.6666666666666666,
              "#ed7953"
             ],
             [
              0.7777777777777778,
              "#fb9f3a"
             ],
             [
              0.8888888888888888,
              "#fdca26"
             ],
             [
              1,
              "#f0f921"
             ]
            ],
            "type": "contour"
           }
          ],
          "contourcarpet": [
           {
            "colorbar": {
             "outlinewidth": 0,
             "ticks": ""
            },
            "type": "contourcarpet"
           }
          ],
          "heatmap": [
           {
            "colorbar": {
             "outlinewidth": 0,
             "ticks": ""
            },
            "colorscale": [
             [
              0,
              "#0d0887"
             ],
             [
              0.1111111111111111,
              "#46039f"
             ],
             [
              0.2222222222222222,
              "#7201a8"
             ],
             [
              0.3333333333333333,
              "#9c179e"
             ],
             [
              0.4444444444444444,
              "#bd3786"
             ],
             [
              0.5555555555555556,
              "#d8576b"
             ],
             [
              0.6666666666666666,
              "#ed7953"
             ],
             [
              0.7777777777777778,
              "#fb9f3a"
             ],
             [
              0.8888888888888888,
              "#fdca26"
             ],
             [
              1,
              "#f0f921"
             ]
            ],
            "type": "heatmap"
           }
          ],
          "heatmapgl": [
           {
            "colorbar": {
             "outlinewidth": 0,
             "ticks": ""
            },
            "colorscale": [
             [
              0,
              "#0d0887"
             ],
             [
              0.1111111111111111,
              "#46039f"
             ],
             [
              0.2222222222222222,
              "#7201a8"
             ],
             [
              0.3333333333333333,
              "#9c179e"
             ],
             [
              0.4444444444444444,
              "#bd3786"
             ],
             [
              0.5555555555555556,
              "#d8576b"
             ],
             [
              0.6666666666666666,
              "#ed7953"
             ],
             [
              0.7777777777777778,
              "#fb9f3a"
             ],
             [
              0.8888888888888888,
              "#fdca26"
             ],
             [
              1,
              "#f0f921"
             ]
            ],
            "type": "heatmapgl"
           }
          ],
          "histogram": [
           {
            "marker": {
             "pattern": {
              "fillmode": "overlay",
              "size": 10,
              "solidity": 0.2
             }
            },
            "type": "histogram"
           }
          ],
          "histogram2d": [
           {
            "colorbar": {
             "outlinewidth": 0,
             "ticks": ""
            },
            "colorscale": [
             [
              0,
              "#0d0887"
             ],
             [
              0.1111111111111111,
              "#46039f"
             ],
             [
              0.2222222222222222,
              "#7201a8"
             ],
             [
              0.3333333333333333,
              "#9c179e"
             ],
             [
              0.4444444444444444,
              "#bd3786"
             ],
             [
              0.5555555555555556,
              "#d8576b"
             ],
             [
              0.6666666666666666,
              "#ed7953"
             ],
             [
              0.7777777777777778,
              "#fb9f3a"
             ],
             [
              0.8888888888888888,
              "#fdca26"
             ],
             [
              1,
              "#f0f921"
             ]
            ],
            "type": "histogram2d"
           }
          ],
          "histogram2dcontour": [
           {
            "colorbar": {
             "outlinewidth": 0,
             "ticks": ""
            },
            "colorscale": [
             [
              0,
              "#0d0887"
             ],
             [
              0.1111111111111111,
              "#46039f"
             ],
             [
              0.2222222222222222,
              "#7201a8"
             ],
             [
              0.3333333333333333,
              "#9c179e"
             ],
             [
              0.4444444444444444,
              "#bd3786"
             ],
             [
              0.5555555555555556,
              "#d8576b"
             ],
             [
              0.6666666666666666,
              "#ed7953"
             ],
             [
              0.7777777777777778,
              "#fb9f3a"
             ],
             [
              0.8888888888888888,
              "#fdca26"
             ],
             [
              1,
              "#f0f921"
             ]
            ],
            "type": "histogram2dcontour"
           }
          ],
          "mesh3d": [
           {
            "colorbar": {
             "outlinewidth": 0,
             "ticks": ""
            },
            "type": "mesh3d"
           }
          ],
          "parcoords": [
           {
            "line": {
             "colorbar": {
              "outlinewidth": 0,
              "ticks": ""
             }
            },
            "type": "parcoords"
           }
          ],
          "pie": [
           {
            "automargin": true,
            "type": "pie"
           }
          ],
          "scatter": [
           {
            "fillpattern": {
             "fillmode": "overlay",
             "size": 10,
             "solidity": 0.2
            },
            "type": "scatter"
           }
          ],
          "scatter3d": [
           {
            "line": {
             "colorbar": {
              "outlinewidth": 0,
              "ticks": ""
             }
            },
            "marker": {
             "colorbar": {
              "outlinewidth": 0,
              "ticks": ""
             }
            },
            "type": "scatter3d"
           }
          ],
          "scattercarpet": [
           {
            "marker": {
             "colorbar": {
              "outlinewidth": 0,
              "ticks": ""
             }
            },
            "type": "scattercarpet"
           }
          ],
          "scattergeo": [
           {
            "marker": {
             "colorbar": {
              "outlinewidth": 0,
              "ticks": ""
             }
            },
            "type": "scattergeo"
           }
          ],
          "scattergl": [
           {
            "marker": {
             "colorbar": {
              "outlinewidth": 0,
              "ticks": ""
             }
            },
            "type": "scattergl"
           }
          ],
          "scattermapbox": [
           {
            "marker": {
             "colorbar": {
              "outlinewidth": 0,
              "ticks": ""
             }
            },
            "type": "scattermapbox"
           }
          ],
          "scatterpolar": [
           {
            "marker": {
             "colorbar": {
              "outlinewidth": 0,
              "ticks": ""
             }
            },
            "type": "scatterpolar"
           }
          ],
          "scatterpolargl": [
           {
            "marker": {
             "colorbar": {
              "outlinewidth": 0,
              "ticks": ""
             }
            },
            "type": "scatterpolargl"
           }
          ],
          "scatterternary": [
           {
            "marker": {
             "colorbar": {
              "outlinewidth": 0,
              "ticks": ""
             }
            },
            "type": "scatterternary"
           }
          ],
          "surface": [
           {
            "colorbar": {
             "outlinewidth": 0,
             "ticks": ""
            },
            "colorscale": [
             [
              0,
              "#0d0887"
             ],
             [
              0.1111111111111111,
              "#46039f"
             ],
             [
              0.2222222222222222,
              "#7201a8"
             ],
             [
              0.3333333333333333,
              "#9c179e"
             ],
             [
              0.4444444444444444,
              "#bd3786"
             ],
             [
              0.5555555555555556,
              "#d8576b"
             ],
             [
              0.6666666666666666,
              "#ed7953"
             ],
             [
              0.7777777777777778,
              "#fb9f3a"
             ],
             [
              0.8888888888888888,
              "#fdca26"
             ],
             [
              1,
              "#f0f921"
             ]
            ],
            "type": "surface"
           }
          ],
          "table": [
           {
            "cells": {
             "fill": {
              "color": "#EBF0F8"
             },
             "line": {
              "color": "white"
             }
            },
            "header": {
             "fill": {
              "color": "#C8D4E3"
             },
             "line": {
              "color": "white"
             }
            },
            "type": "table"
           }
          ]
         },
         "layout": {
          "annotationdefaults": {
           "arrowcolor": "#2a3f5f",
           "arrowhead": 0,
           "arrowwidth": 1
          },
          "autotypenumbers": "strict",
          "coloraxis": {
           "colorbar": {
            "outlinewidth": 0,
            "ticks": ""
           }
          },
          "colorscale": {
           "diverging": [
            [
             0,
             "#8e0152"
            ],
            [
             0.1,
             "#c51b7d"
            ],
            [
             0.2,
             "#de77ae"
            ],
            [
             0.3,
             "#f1b6da"
            ],
            [
             0.4,
             "#fde0ef"
            ],
            [
             0.5,
             "#f7f7f7"
            ],
            [
             0.6,
             "#e6f5d0"
            ],
            [
             0.7,
             "#b8e186"
            ],
            [
             0.8,
             "#7fbc41"
            ],
            [
             0.9,
             "#4d9221"
            ],
            [
             1,
             "#276419"
            ]
           ],
           "sequential": [
            [
             0,
             "#0d0887"
            ],
            [
             0.1111111111111111,
             "#46039f"
            ],
            [
             0.2222222222222222,
             "#7201a8"
            ],
            [
             0.3333333333333333,
             "#9c179e"
            ],
            [
             0.4444444444444444,
             "#bd3786"
            ],
            [
             0.5555555555555556,
             "#d8576b"
            ],
            [
             0.6666666666666666,
             "#ed7953"
            ],
            [
             0.7777777777777778,
             "#fb9f3a"
            ],
            [
             0.8888888888888888,
             "#fdca26"
            ],
            [
             1,
             "#f0f921"
            ]
           ],
           "sequentialminus": [
            [
             0,
             "#0d0887"
            ],
            [
             0.1111111111111111,
             "#46039f"
            ],
            [
             0.2222222222222222,
             "#7201a8"
            ],
            [
             0.3333333333333333,
             "#9c179e"
            ],
            [
             0.4444444444444444,
             "#bd3786"
            ],
            [
             0.5555555555555556,
             "#d8576b"
            ],
            [
             0.6666666666666666,
             "#ed7953"
            ],
            [
             0.7777777777777778,
             "#fb9f3a"
            ],
            [
             0.8888888888888888,
             "#fdca26"
            ],
            [
             1,
             "#f0f921"
            ]
           ]
          },
          "colorway": [
           "#636efa",
           "#EF553B",
           "#00cc96",
           "#ab63fa",
           "#FFA15A",
           "#19d3f3",
           "#FF6692",
           "#B6E880",
           "#FF97FF",
           "#FECB52"
          ],
          "font": {
           "color": "#2a3f5f"
          },
          "geo": {
           "bgcolor": "white",
           "lakecolor": "white",
           "landcolor": "#E5ECF6",
           "showlakes": true,
           "showland": true,
           "subunitcolor": "white"
          },
          "hoverlabel": {
           "align": "left"
          },
          "hovermode": "closest",
          "mapbox": {
           "style": "light"
          },
          "paper_bgcolor": "white",
          "plot_bgcolor": "#E5ECF6",
          "polar": {
           "angularaxis": {
            "gridcolor": "white",
            "linecolor": "white",
            "ticks": ""
           },
           "bgcolor": "#E5ECF6",
           "radialaxis": {
            "gridcolor": "white",
            "linecolor": "white",
            "ticks": ""
           }
          },
          "scene": {
           "xaxis": {
            "backgroundcolor": "#E5ECF6",
            "gridcolor": "white",
            "gridwidth": 2,
            "linecolor": "white",
            "showbackground": true,
            "ticks": "",
            "zerolinecolor": "white"
           },
           "yaxis": {
            "backgroundcolor": "#E5ECF6",
            "gridcolor": "white",
            "gridwidth": 2,
            "linecolor": "white",
            "showbackground": true,
            "ticks": "",
            "zerolinecolor": "white"
           },
           "zaxis": {
            "backgroundcolor": "#E5ECF6",
            "gridcolor": "white",
            "gridwidth": 2,
            "linecolor": "white",
            "showbackground": true,
            "ticks": "",
            "zerolinecolor": "white"
           }
          },
          "shapedefaults": {
           "line": {
            "color": "#2a3f5f"
           }
          },
          "ternary": {
           "aaxis": {
            "gridcolor": "white",
            "linecolor": "white",
            "ticks": ""
           },
           "baxis": {
            "gridcolor": "white",
            "linecolor": "white",
            "ticks": ""
           },
           "bgcolor": "#E5ECF6",
           "caxis": {
            "gridcolor": "white",
            "linecolor": "white",
            "ticks": ""
           }
          },
          "title": {
           "x": 0.05
          },
          "xaxis": {
           "automargin": true,
           "gridcolor": "white",
           "linecolor": "white",
           "ticks": "",
           "title": {
            "standoff": 15
           },
           "zerolinecolor": "white",
           "zerolinewidth": 2
          },
          "yaxis": {
           "automargin": true,
           "gridcolor": "white",
           "linecolor": "white",
           "ticks": "",
           "title": {
            "standoff": 15
           },
           "zerolinecolor": "white",
           "zerolinewidth": 2
          }
         }
        },
        "title": {
         "text": "Topic difference (one model) in ideal world"
        },
        "width": 950,
        "xaxis": {
         "autorange": true,
         "range": [
          -0.5,
          14.5
         ],
         "title": {
          "text": "topic"
         }
        },
        "yaxis": {
         "autorange": true,
         "range": [
          -0.5,
          14.5
         ],
         "title": {
          "text": "topic"
         }
        }
       }
      },
      "image/png": "[encoded data removed]"
     },
     "metadata": {},
     "output_type": "display_data"
    }
   ],
   "source": [
    "plot_difference(mdiff, title=\"Topic difference (one model) in ideal world\")"
   ]
  },
  {
   "cell_type": "markdown",
   "metadata": {},
   "source": [
    "Unfortunately, in real life, not everything is so good, and the matrix looks different."
   ]
  },
  {
   "cell_type": "markdown",
   "metadata": {},
   "source": [
    "Short description (interactive annotations only):\n",
    "\n",
    "* ``+++ make, world, well`` - words from the intersection of topics = present in both topics;\n",
    "* ``--- money, day, still`` - words from the symmetric difference of topics = present in one topic but not the other.\n",
    "\n",
    "\n"
   ]
  },
  {
   "cell_type": "code",
   "execution_count": 16,
   "metadata": {
    "collapsed": false,
    "jupyter": {
     "outputs_hidden": false
    }
   },
   "outputs": [],
   "source": [
    "mdiff, annotation = lda_fst.diff(lda_fst, distance='jaccard', num_words=50)"
   ]
  },
  {
   "cell_type": "code",
   "execution_count": 17,
   "metadata": {
    "collapsed": false,
    "jupyter": {
     "outputs_hidden": false
    }
   },
   "outputs": [
    {
     "data": {
      "application/vnd.plotly.v1+json": {
       "config": {
        "linkText": "Export to plot.ly",
        "plotlyServerURL": "https://plot.ly",
        "showLink": false
       },
       "data": [
        {
         "colorscale": [
          [
           0,
           "rgb(103,0,31)"
          ],
          [
           0.1,
           "rgb(178,24,43)"
          ],
          [
           0.2,
           "rgb(214,96,77)"
          ],
          [
           0.3,
           "rgb(244,165,130)"
          ],
          [
           0.4,
           "rgb(253,219,199)"
          ],
          [
           0.5,
           "rgb(247,247,247)"
          ],
          [
           0.6,
           "rgb(209,229,240)"
          ],
          [
           0.7,
           "rgb(146,197,222)"
          ],
          [
           0.8,
           "rgb(67,147,195)"
          ],
          [
           0.9,
           "rgb(33,102,172)"
          ],
          [
           1,
           "rgb(5,48,97)"
          ]
         ],
         "text": [
          [
           "+++ govern, weapon, see, said, take, repli, world, ever, give, gun<br>--- ",
           "+++ see, repli, world, nasa, distribut, even, problem, well, news, year<br>--- andrew, weapon, govern, said, batf, take, ever, price, give, car",
           "+++ <br>--- ysu, 9f9, take, air, world, ever, give, max, gun, 7ex",
           "+++ right, see, distribut, could, time, take, never, repli, also, say<br>--- access, world, ever, give, car, gari, gun, two, work, new",
           "+++ govern, said, take, gun, right, make, could, david, come, even<br>--- someth, ride, public, job, weapon, see, batf, repli, world, bill",
           "+++ see, take, right, gun, player, point, make, could, even, well<br>--- weapon, govern, number, said, batf, escrow, fan, repli, world, ever",
           "+++ see, could, time, way, come, believ, also, even, say, point<br>--- take, atheist, world, ever, give, true, gun, exist, belief, man",
           "+++ first, distribut, could, time, also, much, nasa, year, make, thing<br>--- access, satellit, take, world, ever, give, gun, two, includ, cost",
           "+++ right, first, govern, distribut, time, repli, peopl, well, make, good<br>--- take, bank, wire, world, ever, give, gun, two, militia, cco",
           "+++ distribut, could, time, also, way, much, repli, problem, well, think<br>--- chang, take, world, ever, give, gun, thank, font, work, client",
           "+++ also, distribut, problem<br>--- board, disk, take, email, world, ever, give, gun, thank, includ",
           "+++ distribut, could, david, time, also, repli, say, problem, peopl, world<br>--- take, servic, email, ever, give, car, gun, thank, anonym, new",
           "+++ govern, see, said, take, right, point, make, start, could, come<br>--- arab, men, moral, repli, isra, world, ever, give, human, gun",
           "+++ distribut, could, time, way, never, also, repli, say, peopl, world<br>--- take, ever, ibm, give, gun, thank, two, wpi, new, uchicago",
           "+++ govern, see, said, take, world, right, point, make, could, even<br>--- turk, greek, weapon, repli, drug, ever, give, car, engin, come"
          ],
          [
           "+++ see, repli, world, nasa, distribut, even, problem, thing, well, news<br>--- andrew, weapon, said, govern, take, part, model, ever, look, price",
           "+++ andrew, see, model, repli, world, price, car, engin, rochest, experi<br>--- ",
           "+++ <br>--- ysu, 9f9, air, world, car, max, 7ex, bxn, work, b8f",
           "+++ see, repli, car, work, distribut, may, new, thing, well, news<br>--- access, take, world, gari, two, nasa, cunixb, gld, gov, back",
           "+++ time, way, also, much, question, want, new, even, realli, say<br>--- andrew, someth, ride, public, govern, job, said, see, take, part",
           "+++ may, see, time, way, also, much, new, even, mani, say<br>--- take, world, car, gun, two, work, hit, around, play, score",
           "+++ may, see, time, way, question, also, want, even, mani, say<br>--- atheist, world, car, true, exist, work, belief, man, new, around",
           "+++ distribut, may, time, also, much, want, new, comput, sun, nasa<br>--- access, satellit, world, car, two, includ, cost, well, around, technolog",
           "+++ may, distribut, time, repli, new, comput, peopl, well, good, thing<br>--- bank, wire, world, car, two, work, militia, cco, connect, arm",
           "+++ anyon, distribut, may, time, also, way, much, repli, want, comput<br>--- chang, world, car, thank, font, new, around, client, help, function",
           "+++ anyon, distribut, also, want, new, comput, problem, work, look<br>--- board, disk, email, world, car, thank, includ, well, around, help",
           "+++ repli, world, car, may, distribut, question, new, mani, problem, news<br>--- andrew, see, number, way, group, model, mail, servic, email, health",
           "+++ see, time, way, also, question, want, even, mani, say, thing<br>--- arab, men, take, world, car, two, work, jew, talk, new",
           "+++ repli, world, engin, distribut, new, well, news, anyon, time, way<br>--- read, someth, andrew, see, school, cwru, inc, mail, model, ibm",
           "+++ see, world, car, engin, work, may, new, even, mani, problem<br>--- andrew, turk, govern, greek, said, take, part, repli, drug, model"
          ],
          [
           "+++ <br>--- ysu, take, 9f9, air, world, ever, give, max, gun, 7ex",
           "+++ <br>--- ysu, 9f9, air, world, car, max, 7ex, bxn, work, b8f",
           "+++ ysu, fij, 9f9, g9v, air, mb8f, qax, 75u, max, 1d9l<br>--- ",
           "+++ <br>--- access, ysu, take, 9f9, air, car, max, gari, two, 7ex",
           "+++ <br>--- ysu, take, 9f9, air, bill, firearm, max, gun, 7ex, bxn",
           "+++ <br>--- ysu, take, 9f9, air, max, gun, two, 7ex, bxn, b8f",
           "+++ <br>--- ysu, 9f9, atheist, air, max, true, exist, 7ex, bxn, b8f",
           "+++ <br>--- access, ysu, satellit, 9f9, air, max, two, 7ex, includ, cost",
           "+++ <br>--- ysu, 9f9, bank, wire, air, max, two, 7ex, bxn, b8f",
           "+++ <br>--- chang, ysu, 9f9, air, max, thank, 7ex, font, bxn, work",
           "+++ <br>--- board, ysu, disk, 9f9, email, air, max, thank, 7ex, includ",
           "+++ <br>--- ysu, 9f9, servic, email, air, world, car, max, thank, 7ex",
           "+++ <br>--- ysu, arab, men, take, 9f9, air, max, two, 7ex, bxn",
           "+++ <br>--- ysu, 9f9, air, world, ibm, max, thank, two, 7ex, wpi",
           "+++ <br>--- ysu, turk, greek, take, 9f9, air, world, car, max, armenia"
          ],
          [
           "+++ right, see, distribut, could, time, take, never, repli, also, say<br>--- access, world, ever, give, car, gari, gun, two, work, new",
           "+++ see, repli, car, work, distribut, may, new, thing, well, news<br>--- access, take, world, gari, two, around, realli, comput, care, henri",
           "+++ <br>--- access, ysu, 9f9, take, air, car, max, gari, two, 7ex",
           "+++ access, insur, see, take, repli, mail, health, game, look, car<br>--- ",
           "+++ take, right, work, make, could, back, new, thing, bike, well<br>--- access, bill, firearm, car, gari, gun, two, hous, american, usa",
           "+++ see, take, game, system, right, two, point, make, may, could<br>--- access, number, repli, car, gari, gun, work, need, cunixb, gld",
           "+++ law, may, see, could, time, also, want, say, point, good<br>--- access, take, atheist, car, true, gari, two, exist, work, belief",
           "+++ access, two, may, could, distribut, time, also, want, new, year<br>--- satellit, take, car, gari, includ, cost, well, technolog, usa, comput",
           "+++ right, two, distribut, may, time, repli, new, good, well, make<br>--- access, take, bank, wire, car, gari, work, militia, cco, connect",
           "+++ distribut, may, could, time, also, want, repli, well, work, think<br>--- chang, access, take, car, gari, thank, two, font, new, client",
           "+++ distribut, also, want, new, mail, work, system, look<br>--- board, access, disk, take, email, car, gari, thank, two, includ",
           "+++ distribut, may, could, time, also, want, repli, mail, car, new<br>--- access, number, take, group, servic, email, world, gari, internet, thank",
           "+++ right, two, see, could, time, also, take, want, say, point<br>--- access, arab, men, car, gari, work, jew, talk, new, case",
           "+++ repli, mail, system, two, make, distribut, could, new, well, news<br>--- read, someth, access, insur, see, school, take, cwru, world, pat",
           "+++ see, take, car, right, two, point, work, make, may, could<br>--- access, turk, greek, repli, world, gari, armenia, war, cunixb, gld"
          ],
          [
           "+++ govern, said, take, gun, right, make, could, david, come, even<br>--- someth, ride, public, weapon, see, job, repli, world, ever, bill",
           "+++ way, much, time, also, question, want, new, even, say, realli<br>--- andrew, someth, ride, public, govern, see, job, said, take, repli",
           "+++ <br>--- ysu, 9f9, take, air, bill, firearm, max, gun, 7ex, bxn",
           "+++ take, right, work, make, could, back, new, thing, bike, well<br>--- access, someth, ride, public, govern, see, job, said, repli, mail",
           "+++ someth, ride, public, govern, job, said, take, bill, firearm, gun<br>--- ",
           "+++ take, gun, right, make, need, could, new, even, well, first<br>--- someth, ride, public, govern, see, number, job, said, escrow, fan",
           "+++ law, time, could, way, also, come, question, want, even, say<br>--- take, atheist, bill, firearm, true, gun, exist, work, belief, man",
           "+++ public, first, time, could, also, state, much, want, new, program<br>--- access, satellit, take, bill, firearm, gun, two, includ, cost, well",
           "+++ right, first, govern, time, state, new, tri, peopl, well, make<br>--- take, bank, wire, bill, firearm, gun, two, work, militia, cco",
           "+++ time, could, also, way, much, want, tri, program, well, work<br>--- chang, take, bill, firearm, gun, thank, font, new, client, hous",
           "+++ also, want, new, program, work, need, look<br>--- board, disk, take, email, bill, firearm, gun, thank, includ, well",
           "+++ time, could, david, state, question, also, new, want, say, peopl<br>--- take, servic, email, world, bill, firearm, car, gun, thank, anonym",
           "+++ someth, govern, said, take, right, state, make, could, come, question<br>--- ride, arab, see, men, public, moral, job, islam, isra, bill",
           "+++ someth, time, could, way, state, also, want, new, tri, say<br>--- read, ride, public, govern, job, said, school, take, cwru, repli",
           "+++ govern, said, take, right, state, work, make, could, back, new<br>--- someth, ride, turk, greek, see, public, job, drug, world, bill"
          ],
          [
           "+++ see, take, gun, right, player, point, make, could, even, well<br>--- weapon, said, govern, number, escrow, repli, fan, world, ever, game",
           "+++ way, may, see, much, time, also, new, even, mani, say<br>--- take, world, car, gun, two, work, around, hit, play, score",
           "+++ <br>--- ysu, 9f9, take, air, max, gun, two, 7ex, bxn, b8f",
           "+++ see, take, game, system, right, two, point, make, may, could<br>--- access, number, repli, car, gari, gun, work, need, cunixb, gld",
           "+++ take, gun, right, make, need, could, new, even, well, law<br>--- ride, number, bill, firearm, stephanopoulo, two, work, david, back, hit",
           "+++ see, number, take, fan, game, look, system, season, gun, run<br>--- ",
           "+++ law, may, could, see, time, way, also, even, mani, point<br>--- take, atheist, true, gun, two, exist, belief, man, new, hit",
           "+++ first, two, may, could, time, bit, also, much, new, make<br>--- access, satellit, take, gun, includ, cost, work, well, hit, play",
           "+++ right, first, two, may, time, new, well, make, system, good<br>--- take, bank, wire, gun, militia, cco, connect, arm, amend, hit",
           "+++ run, may, could, time, also, way, much, well, think, make<br>--- chang, take, gun, thank, two, font, work, new, hit, client",
           "+++ run, bit, also, new, system, need, look<br>--- board, disk, take, email, gun, thank, two, includ, work, well",
           "+++ may, could, number, time, also, new, mani, say, think, make<br>--- take, servic, email, world, car, gun, thank, two, anonym, well",
           "+++ right, two, see, could, time, way, take, also, even, mani<br>--- arab, men, gun, jew, talk, new, hit, play, case, score",
           "+++ run, two, time, could, way, also, new, say, well, think<br>--- take, world, ibm, gun, thank, wpi, hit, uchicago, play, robert",
           "+++ see, take, right, two, point, make, may, could, new, even<br>--- turk, govern, greek, said, number, fan, drug, world, game, look"
          ],
          [
           "+++ see, could, time, way, come, believ, also, even, say, point<br>--- take, atheist, world, ever, give, true, gun, exist, belief, man",
           "+++ way, may, see, time, question, also, want, even, mani, say<br>--- atheist, world, car, true, exist, work, belief, man, new, around",
           "+++ <br>--- ysu, 9f9, atheist, air, max, true, 7ex, exist, bxn, b8f",
           "+++ law, see, could, may, time, also, want, say, point, good<br>--- access, take, atheist, car, true, gari, two, exist, work, belief",
           "+++ law, time, could, way, also, come, question, want, even, say<br>--- take, atheist, bill, firearm, true, gun, exist, work, belief, man",
           "+++ law, may, could, see, time, way, also, even, mani, point<br>--- take, atheist, true, gun, two, exist, belief, man, new, hit",
           "+++ read, see, atheist, god, life, mean, christ, human, true, jesu<br>--- ",
           "+++ time, may, could, also, want, make, thing<br>--- access, satellit, atheist, true, two, exist, includ, cost, work, belief",
           "+++ time, may, good, peopl, well, make, mean, thing<br>--- bank, atheist, wire, true, two, exist, militia, cco, connect, arm",
           "+++ may, could, time, also, way, want, differ, thing, well, think<br>--- chang, atheist, true, thank, exist, font, work, belief, man, client",
           "+++ also, want, file<br>--- board, disk, atheist, email, true, thank, exist, includ, work, belief",
           "+++ may, could, time, differ, question, also, want, mani, say, peopl<br>--- atheist, servic, email, world, car, true, thank, exist, anonym, belief",
           "+++ see, mean, human, point, make, could, come, question, even, mani<br>--- read, someth, arab, govern, said, men, take, moral, islam, atheist",
           "+++ read, time, could, way, also, want, say, thing, peopl, well<br>--- atheist, world, ibm, true, thank, two, exist, wpi, belief, man",
           "+++ may, could, see, time, way, also, even, mani, point, say<br>--- turk, greek, take, atheist, world, car, true, armenia, two, exist"
          ],
          [
           "+++ first, distribut, could, time, much, also, thing, nasa, make, year<br>--- access, satellit, take, world, ever, give, gun, two, includ, cost",
           "+++ distribut, may, much, time, also, want, new, comput, sun, nasa<br>--- access, satellit, world, car, two, includ, cost, well, around, technolog",
           "+++ <br>--- access, ysu, satellit, 9f9, air, max, two, 7ex, includ, bxn",
           "+++ access, two, distribut, could, may, time, also, want, new, year<br>--- satellit, take, car, gari, includ, cost, well, technolog, usa, comput",
           "+++ public, first, time, could, also, state, much, want, new, program<br>--- access, satellit, take, bill, firearm, gun, two, includ, cost, well",
           "+++ first, two, may, could, time, also, much, bit, new, make<br>--- access, satellit, take, gun, includ, cost, work, well, hit, play",
           "+++ time, may, also, could, want, make, thing<br>--- access, satellit, atheist, true, two, exist, includ, cost, work, belief",
           "+++ access, data, public, space, moon, satellit, avail, scsi, system, engin<br>--- ",
           "+++ first, two, distribut, may, time, state, new, comput, make, system<br>--- access, satellit, bank, wire, includ, cost, work, militia, cco, connect",
           "+++ distribut, may, could, time, also, much, want, comput, program, work<br>--- chang, access, satellit, thank, two, includ, font, cost, new, well",
           "+++ data, distribut, bit, also, want, new, includ, comput, program, avail<br>--- board, access, disk, satellit, email, thank, two, cost, technolog, help",
           "+++ distribut, may, could, state, time, also, new, want, comput, make<br>--- access, satellit, servic, email, world, car, thank, two, includ, cost",
           "+++ two, time, could, also, state, want, thing, make, year<br>--- access, arab, men, satellit, take, includ, cost, work, jew, talk",
           "+++ two, distribut, could, time, state, also, want, new, comput, make<br>--- access, satellit, world, ibm, thank, includ, wpi, cost, work, well",
           "+++ first, two, may, could, time, state, also, much, new, year<br>--- access, turk, greek, satellit, take, world, car, armenia, includ, cost"
          ],
          [
           "+++ right, first, govern, distribut, time, repli, peopl, well, make, good<br>--- take, bank, wire, world, ever, give, gun, two, militia, cco",
           "+++ may, distribut, time, repli, new, comput, peopl, well, good, thing<br>--- bank, wire, world, car, two, work, militia, cco, connect, arm",
           "+++ <br>--- ysu, 9f9, bank, air, wire, max, two, 7ex, bxn, b8f",
           "+++ right, two, distribut, may, time, repli, new, good, well, make<br>--- access, take, bank, wire, car, gari, work, militia, cco, connect",
           "+++ right, first, govern, time, state, new, tri, peopl, well, make<br>--- take, bank, wire, bill, firearm, gun, two, work, militia, cco",
           "+++ right, first, two, may, time, new, well, make, system, good<br>--- take, bank, wire, gun, militia, cco, connect, arm, amend, hit",
           "+++ time, may, good, peopl, well, make, mean, thing<br>--- bank, atheist, wire, true, two, exist, militia, cco, connect, belief",
           "+++ first, two, may, distribut, time, state, new, comput, make, system<br>--- access, satellit, bank, wire, includ, cost, work, militia, cco, connect",
           "+++ uucp, govern, caltech, isc, power, bank, repli, goal, wire, geb<br>--- ",
           "+++ distribut, may, time, repli, tri, comput, well, make, system, thing<br>--- chang, bank, wire, thank, two, font, work, militia, cco, connect",
           "+++ distribut, comput, new, system, need<br>--- board, disk, bank, email, wire, thank, two, includ, work, militia",
           "+++ distribut, may, time, state, repli, new, comput, peopl, make, system<br>--- bank, servic, email, wire, world, car, thank, two, anonym, militia",
           "+++ right, case, two, govern, time, state, tri, peopl, well, make<br>--- arab, men, take, bank, wire, militia, jew, cco, connect, arm",
           "+++ two, distribut, time, state, repli, new, tri, comput, peopl, well<br>--- bank, wire, world, ibm, thank, wpi, militia, cco, connect, arm",
           "+++ right, first, two, govern, may, time, state, new, peopl, well<br>--- turk, greek, take, bank, wire, world, car, armenia, work, militia"
          ],
          [
           "+++ distribut, could, time, much, way, also, repli, problem, well, think<br>--- chang, take, world, ever, give, gun, thank, font, work, client",
           "+++ anyon, distribut, may, way, much, time, also, repli, want, comput<br>--- chang, world, car, thank, font, new, around, client, help, function",
           "+++ <br>--- chang, ysu, 9f9, air, max, thank, 7ex, font, bxn, work",
           "+++ distribut, could, may, time, also, want, repli, well, work, think<br>--- chang, access, take, car, gari, thank, two, font, new, client",
           "+++ time, could, way, also, much, want, tri, program, well, work<br>--- chang, take, bill, firearm, gun, thank, font, new, client, help",
           "+++ run, may, could, time, way, also, much, well, think, make<br>--- chang, take, gun, thank, two, font, work, new, hit, client",
           "+++ may, could, time, way, also, differ, want, thing, well, think<br>--- chang, atheist, true, thank, exist, font, work, belief, man, client",
           "+++ may, could, distribut, time, also, much, want, comput, program, work<br>--- chang, access, satellit, thank, two, includ, font, cost, new, well",
           "+++ distribut, may, time, repli, tri, comput, well, make, system, thing<br>--- chang, bank, wire, thank, two, font, work, militia, cco, connect",
           "+++ chang, color, set, error, repli, widget, driver, look, seem, system<br>--- ",
           "+++ color, set, system, version, run, display, thank, work, need, distribut<br>--- control, board, data, disk, chang, error, mail, repli, info, avail",
           "+++ repli, driver, system, thank, make, distribut, may, could, call, problem<br>--- chang, number, color, set, group, mail, servic, error, email, widget",
           "+++ think, time, could, call, way, also, want, tri, well, seem<br>--- chang, arab, men, take, thank, two, font, work, jew, talk",
           "+++ repli, system, run, thank, make, need, distribut, could, call, tri<br>--- chang, read, someth, color, school, set, cwru, mail, error, widget",
           "+++ may, could, call, time, way, also, much, problem, well, work<br>--- chang, turk, greek, take, world, car, armenia, thank, two, font"
          ],
          [
           "+++ also, distribut, problem<br>--- board, disk, take, email, world, ever, give, gun, thank, includ",
           "+++ anyon, distribut, also, want, new, comput, problem, work, look<br>--- board, disk, email, world, car, thank, includ, well, around, help",
           "+++ <br>--- board, ysu, disk, 9f9, air, email, max, thank, 7ex, includ",
           "+++ distribut, also, want, new, mail, work, system, look<br>--- access, board, disk, take, email, car, gari, thank, two, includ",
           "+++ also, want, new, program, work, need, look<br>--- board, disk, take, email, bill, firearm, gun, thank, includ, well",
           "+++ run, bit, also, new, system, need, look<br>--- board, disk, take, email, gun, thank, two, includ, work, well",
           "+++ also, want, file<br>--- board, disk, atheist, email, true, thank, exist, includ, work, belief",
           "+++ data, distribut, bit, also, want, new, includ, comput, program, avail<br>--- access, board, disk, satellit, email, thank, two, cost, technolog, help",
           "+++ distribut, comput, new, system, need<br>--- board, disk, bank, wire, email, thank, two, includ, work, militia",
           "+++ color, set, system, version, run, display, thank, work, need, distribut<br>--- chang, control, board, disk, repli, email, format, includ, font, card",
           "+++ control, board, data, disk, color, set, mail, info, avail, email<br>--- ",
           "+++ help, anyon, thank, distribut, mac, also, want, new, mail, comput<br>--- control, board, disk, number, color, group, repli, servic, world, car",
           "+++ also, want<br>--- board, disk, arab, men, take, email, thank, two, includ, work",
           "+++ run, help, thank, anyon, distribut, also, want, new, mail, comput<br>--- board, disk, email, world, ibm, two, includ, wpi, work, well",
           "+++ also, new, work, problem<br>--- board, disk, turk, greek, take, email, world, car, armenia, thank"
          ],
          [
           "+++ distribut, could, david, time, also, repli, say, problem, peopl, world<br>--- take, servic, email, ever, give, car, gun, thank, anonym, new",
           "+++ repli, world, car, may, distribut, question, new, mani, problem, news<br>--- andrew, see, number, way, group, mail, servic, email, health, driver",
           "+++ <br>--- ysu, 9f9, servic, air, email, world, car, max, thank, 7ex",
           "+++ distribut, could, may, time, also, want, repli, mail, car, new<br>--- access, take, servic, email, world, gari, thank, two, work, anonym",
           "+++ time, could, david, state, question, also, new, want, say, peopl<br>--- take, servic, email, world, bill, firearm, car, gun, thank, work",
           "+++ may, could, number, time, also, new, mani, say, think, make<br>--- take, servic, email, world, car, gun, thank, two, anonym, well",
           "+++ may, could, time, also, question, differ, want, mani, say, peopl<br>--- atheist, servic, email, world, car, true, thank, exist, anonym, belief",
           "+++ may, could, distribut, state, time, also, new, want, comput, make<br>--- access, satellit, servic, email, world, car, thank, two, includ, cost",
           "+++ distribut, may, time, state, repli, new, comput, peopl, make, system<br>--- bank, servic, wire, email, world, car, thank, two, anonym, militia",
           "+++ repli, driver, system, thank, make, distribut, may, call, could, problem<br>--- chang, color, number, set, group, error, mail, servic, widget, email",
           "+++ help, anyon, thank, distribut, mac, also, want, new, mail, comput<br>--- board, disk, servic, world, car, includ, work, anonym, diseas, differ",
           "+++ number, group, repli, mail, servic, email, world, health, driver, car<br>--- ",
           "+++ time, could, call, state, question, also, want, mani, say, peopl<br>--- arab, men, take, servic, email, world, car, thank, two, anonym",
           "+++ repli, mail, world, system, thank, state, make, distribut, could, call<br>--- read, someth, number, school, cwru, group, servic, email, health, driver",
           "+++ may, could, call, state, time, also, new, mani, problem, say<br>--- turk, greek, take, servic, email, armenia, thank, two, work, anonym"
          ],
          [
           "+++ govern, see, said, take, right, point, make, start, could, come<br>--- arab, men, moral, repli, world, isra, ever, give, human, gun",
           "+++ way, see, time, also, question, want, even, mani, say, peopl<br>--- arab, men, take, world, car, two, work, jew, talk, new",
           "+++ <br>--- ysu, arab, men, 9f9, take, air, max, two, 7ex, bxn",
           "+++ right, two, see, could, time, also, take, want, say, point<br>--- access, arab, men, car, gari, work, jew, talk, new, case",
           "+++ someth, govern, said, take, right, state, make, could, question, come<br>--- ride, public, job, men, arab, see, moral, islam, isra, bill",
           "+++ right, two, see, could, time, way, take, also, even, mani<br>--- arab, men, gun, jew, talk, new, hit, play, score, case",
           "+++ see, mean, human, point, make, could, question, come, even, mani<br>--- read, someth, arab, govern, men, argument, said, take, moral, atheist",
           "+++ two, time, could, also, state, want, year, make, thing<br>--- access, arab, men, satellit, take, includ, cost, work, jew, talk",
           "+++ right, case, two, govern, time, state, tri, peopl, well, make<br>--- arab, men, take, bank, wire, militia, jew, cco, connect, arm",
           "+++ think, time, could, call, also, way, want, tri, well, seem<br>--- chang, arab, men, take, thank, two, font, work, jew, talk",
           "+++ also, want<br>--- board, disk, arab, men, take, email, thank, two, includ, work",
           "+++ time, could, call, state, question, also, want, mani, say, peopl<br>--- arab, men, take, servic, email, world, car, thank, two, anonym",
           "+++ someth, arab, govern, see, said, men, take, moral, islam, isra<br>--- ",
           "+++ someth, two, time, could, call, state, way, also, tri, want<br>--- arab, men, take, world, ibm, thank, wpi, jew, talk, new",
           "+++ govern, see, said, take, right, two, state, point, make, could<br>--- someth, turk, greek, men, arab, talk, moral, drug, islam, world"
          ],
          [
           "+++ distribut, could, time, never, way, also, repli, say, peopl, world<br>--- take, ever, ibm, give, gun, thank, two, wpi, new, believ",
           "+++ repli, world, engin, distribut, new, well, news, anyon, way, time<br>--- ibm, car, thank, two, wpi, work, around, uchicago, robert, help",
           "+++ <br>--- ysu, 9f9, air, world, ibm, max, thank, two, 7ex, wpi",
           "+++ repli, mail, system, two, make, distribut, could, new, well, news<br>--- access, read, someth, see, school, take, cwru, pat, health, world",
           "+++ someth, time, could, way, state, also, want, new, tri, say<br>--- take, world, bill, ibm, firearm, gun, thank, two, wpi, work",
           "+++ run, two, time, could, way, also, new, say, well, think<br>--- take, world, ibm, gun, thank, wpi, hit, play, uchicago, robert",
           "+++ read, time, could, way, also, want, say, thing, peopl, well<br>--- atheist, world, ibm, true, thank, two, exist, wpi, belief, man",
           "+++ two, distribut, could, time, state, also, want, new, comput, make<br>--- access, satellit, world, ibm, thank, includ, wpi, cost, work, well",
           "+++ two, distribut, time, state, repli, new, tri, comput, peopl, well<br>--- bank, wire, world, ibm, thank, wpi, militia, cco, connect, arm",
           "+++ repli, system, run, thank, make, need, distribut, could, call, tri<br>--- chang, read, someth, color, school, set, cwru, error, mail, widget",
           "+++ run, help, thank, anyon, distribut, also, want, new, mail, comput<br>--- board, disk, email, world, ibm, two, includ, wpi, work, well",
           "+++ repli, mail, world, system, thank, state, make, distribut, could, call<br>--- read, someth, number, school, group, servic, cwru, email, health, driver",
           "+++ someth, two, time, could, call, state, way, also, tri, want<br>--- arab, men, take, world, ibm, thank, wpi, jew, talk, new",
           "+++ read, someth, school, cwru, repli, mail, world, ibm, opinion, system<br>--- ",
           "+++ two, time, could, call, state, way, also, new, say, good<br>--- turk, greek, take, ibm, car, armenia, thank, wpi, work, uchicago"
          ],
          [
           "+++ govern, see, said, take, world, right, point, make, could, even<br>--- turk, weapon, greek, repli, drug, ever, give, car, engin, gun",
           "+++ see, world, car, engin, work, may, new, even, mani, problem<br>--- andrew, turk, govern, greek, said, take, repli, drug, studi, price",
           "+++ <br>--- ysu, turk, greek, 9f9, take, air, world, car, max, armenia",
           "+++ see, take, car, right, two, point, work, make, may, could<br>--- access, turk, govern, greek, said, repli, mail, drug, pat, health",
           "+++ govern, said, take, right, state, work, make, could, back, new<br>--- someth, ride, public, job, see, turk, greek, drug, world, bill",
           "+++ see, take, right, two, point, make, may, could, new, even<br>--- turk, govern, number, greek, said, escrow, fan, drug, world, game",
           "+++ may, could, see, time, way, also, even, mani, point, say<br>--- turk, greek, take, atheist, world, car, true, armenia, two, exist",
           "+++ first, two, may, could, time, state, also, much, new, year<br>--- access, turk, greek, satellit, take, world, car, armenia, includ, cost",
           "+++ right, first, two, govern, may, time, state, new, peopl, well<br>--- turk, greek, take, bank, wire, world, car, armenia, work, militia",
           "+++ may, could, call, time, also, way, much, problem, well, work<br>--- chang, turk, greek, take, world, car, armenia, thank, two, font",
           "+++ also, new, work, problem<br>--- board, disk, turk, greek, take, email, world, car, armenia, thank",
           "+++ may, could, call, state, time, also, new, mani, problem, say<br>--- turk, greek, take, servic, email, armenia, thank, two, anonym, work",
           "+++ govern, see, said, take, right, two, state, point, make, could<br>--- someth, arab, men, turk, moral, greek, islam, drug, isra, world",
           "+++ two, time, could, call, state, way, also, new, say, good<br>--- turk, greek, take, ibm, car, armenia, thank, wpi, work, uchicago",
           "+++ turk, govern, see, greek, said, take, drug, world, car, engin<br>--- "
          ]
         ],
         "type": "heatmap",
         "z": [
          [
           0,
           0.75,
           1,
           0.7804878048780488,
           0.6842105263157895,
           0.75,
           0.7951807228915663,
           0.8888888888888888,
           0.8764044943820225,
           0.8636363636363636,
           0.9690721649484536,
           0.8372093023255813,
           0.75,
           0.8095238095238095,
           0.6842105263157895
          ],
          [
           0.75,
           0,
           1,
           0.7654320987654322,
           0.7804878048780488,
           0.8235294117647058,
           0.8235294117647058,
           0.8372093023255813,
           0.8888888888888888,
           0.8095238095238095,
           0.9010989010989011,
           0.75,
           0.8372093023255813,
           0.75,
           0.7341772151898734
          ],
          [
           1,
           1,
           0,
           1,
           1,
           1,
           1,
           1,
           1,
           1,
           1,
           1,
           1,
           1,
           1
          ],
          [
           0.7804878048780488,
           0.7654320987654322,
           1,
           0,
           0.7654320987654322,
           0.75,
           0.8235294117647058,
           0.8372093023255813,
           0.8505747126436781,
           0.8372093023255813,
           0.9130434782608696,
           0.7804878048780488,
           0.8095238095238095,
           0.75,
           0.75
          ],
          [
           0.6842105263157895,
           0.7804878048780488,
           1,
           0.7654320987654322,
           0,
           0.75,
           0.8095238095238095,
           0.8235294117647058,
           0.8505747126436781,
           0.8235294117647058,
           0.9247311827956989,
           0.8372093023255813,
           0.717948717948718,
           0.7804878048780488,
           0.6842105263157895
          ],
          [
           0.75,
           0.8235294117647058,
           1,
           0.75,
           0.75,
           0,
           0.8235294117647058,
           0.8372093023255813,
           0.8636363636363636,
           0.8505747126436781,
           0.9247311827956989,
           0.8636363636363636,
           0.8095238095238095,
           0.8095238095238095,
           0.7341772151898734
          ],
          [
           0.7951807228915663,
           0.8235294117647058,
           1,
           0.8235294117647058,
           0.8095238095238095,
           0.8235294117647058,
           0,
           0.9247311827956989,
           0.9130434782608696,
           0.8636363636363636,
           0.9690721649484536,
           0.8505747126436781,
           0.75,
           0.8372093023255813,
           0.8095238095238095
          ],
          [
           0.8888888888888888,
           0.8372093023255813,
           1,
           0.8372093023255813,
           0.8235294117647058,
           0.8372093023255813,
           0.9247311827956989,
           0,
           0.8636363636363636,
           0.8372093023255813,
           0.8235294117647058,
           0.8372093023255813,
           0.9010989010989011,
           0.8372093023255813,
           0.8372093023255813
          ],
          [
           0.8764044943820225,
           0.8888888888888888,
           1,
           0.8505747126436781,
           0.8505747126436781,
           0.8636363636363636,
           0.9130434782608696,
           0.8636363636363636,
           0,
           0.8764044943820225,
           0.9473684210526316,
           0.8764044943820225,
           0.8636363636363636,
           0.8235294117647058,
           0.8505747126436781
          ],
          [
           0.8636363636363636,
           0.8095238095238095,
           1,
           0.8372093023255813,
           0.8235294117647058,
           0.8505747126436781,
           0.8636363636363636,
           0.8372093023255813,
           0.8764044943820225,
           0,
           0.75,
           0.75,
           0.8636363636363636,
           0.717948717948718,
           0.8505747126436781
          ],
          [
           0.9690721649484536,
           0.9010989010989011,
           1,
           0.9130434782608696,
           0.9247311827956989,
           0.9247311827956989,
           0.9690721649484536,
           0.8235294117647058,
           0.9473684210526316,
           0.75,
           0,
           0.8095238095238095,
           0.9795918367346939,
           0.8095238095238095,
           0.9583333333333334
          ],
          [
           0.8372093023255813,
           0.75,
           1,
           0.7804878048780488,
           0.8372093023255813,
           0.8636363636363636,
           0.8505747126436781,
           0.8372093023255813,
           0.8764044943820225,
           0.75,
           0.8095238095238095,
           0,
           0.8505747126436781,
           0.6666666666666667,
           0.8095238095238095
          ],
          [
           0.75,
           0.8372093023255813,
           1,
           0.8095238095238095,
           0.717948717948718,
           0.8095238095238095,
           0.75,
           0.9010989010989011,
           0.8636363636363636,
           0.8636363636363636,
           0.9795918367346939,
           0.8505747126436781,
           0,
           0.7951807228915663,
           0.7012987012987013
          ],
          [
           0.8095238095238095,
           0.75,
           1,
           0.75,
           0.7804878048780488,
           0.8095238095238095,
           0.8372093023255813,
           0.8372093023255813,
           0.8235294117647058,
           0.717948717948718,
           0.8095238095238095,
           0.6666666666666667,
           0.7951807228915663,
           0,
           0.7951807228915663
          ],
          [
           0.6842105263157895,
           0.7341772151898734,
           1,
           0.75,
           0.6842105263157895,
           0.7341772151898734,
           0.8095238095238095,
           0.8372093023255813,
           0.8505747126436781,
           0.8505747126436781,
           0.9583333333333334,
           0.8095238095238095,
           0.7012987012987013,
           0.7951807228915663,
           0
          ]
         ]
        }
       ],
       "layout": {
        "height": 950,
        "template": {
         "data": {
          "bar": [
           {
            "error_x": {
             "color": "#2a3f5f"
            },
            "error_y": {
             "color": "#2a3f5f"
            },
            "marker": {
             "line": {
              "color": "#E5ECF6",
              "width": 0.5
             },
             "pattern": {
              "fillmode": "overlay",
              "size": 10,
              "solidity": 0.2
             }
            },
            "type": "bar"
           }
          ],
          "barpolar": [
           {
            "marker": {
             "line": {
              "color": "#E5ECF6",
              "width": 0.5
             },
             "pattern": {
              "fillmode": "overlay",
              "size": 10,
              "solidity": 0.2
             }
            },
            "type": "barpolar"
           }
          ],
          "carpet": [
           {
            "aaxis": {
             "endlinecolor": "#2a3f5f",
             "gridcolor": "white",
             "linecolor": "white",
             "minorgridcolor": "white",
             "startlinecolor": "#2a3f5f"
            },
            "baxis": {
             "endlinecolor": "#2a3f5f",
             "gridcolor": "white",
             "linecolor": "white",
             "minorgridcolor": "white",
             "startlinecolor": "#2a3f5f"
            },
            "type": "carpet"
           }
          ],
          "choropleth": [
           {
            "colorbar": {
             "outlinewidth": 0,
             "ticks": ""
            },
            "type": "choropleth"
           }
          ],
          "contour": [
           {
            "colorbar": {
             "outlinewidth": 0,
             "ticks": ""
            },
            "colorscale": [
             [
              0,
              "#0d0887"
             ],
             [
              0.1111111111111111,
              "#46039f"
             ],
             [
              0.2222222222222222,
              "#7201a8"
             ],
             [
              0.3333333333333333,
              "#9c179e"
             ],
             [
              0.4444444444444444,
              "#bd3786"
             ],
             [
              0.5555555555555556,
              "#d8576b"
             ],
             [
              0.6666666666666666,
              "#ed7953"
             ],
             [
              0.7777777777777778,
              "#fb9f3a"
             ],
             [
              0.8888888888888888,
              "#fdca26"
             ],
             [
              1,
              "#f0f921"
             ]
            ],
            "type": "contour"
           }
          ],
          "contourcarpet": [
           {
            "colorbar": {
             "outlinewidth": 0,
             "ticks": ""
            },
            "type": "contourcarpet"
           }
          ],
          "heatmap": [
           {
            "colorbar": {
             "outlinewidth": 0,
             "ticks": ""
            },
            "colorscale": [
             [
              0,
              "#0d0887"
             ],
             [
              0.1111111111111111,
              "#46039f"
             ],
             [
              0.2222222222222222,
              "#7201a8"
             ],
             [
              0.3333333333333333,
              "#9c179e"
             ],
             [
              0.4444444444444444,
              "#bd3786"
             ],
             [
              0.5555555555555556,
              "#d8576b"
             ],
             [
              0.6666666666666666,
              "#ed7953"
             ],
             [
              0.7777777777777778,
              "#fb9f3a"
             ],
             [
              0.8888888888888888,
              "#fdca26"
             ],
             [
              1,
              "#f0f921"
             ]
            ],
            "type": "heatmap"
           }
          ],
          "heatmapgl": [
           {
            "colorbar": {
             "outlinewidth": 0,
             "ticks": ""
            },
            "colorscale": [
             [
              0,
              "#0d0887"
             ],
             [
              0.1111111111111111,
              "#46039f"
             ],
             [
              0.2222222222222222,
              "#7201a8"
             ],
             [
              0.3333333333333333,
              "#9c179e"
             ],
             [
              0.4444444444444444,
              "#bd3786"
             ],
             [
              0.5555555555555556,
              "#d8576b"
             ],
             [
              0.6666666666666666,
              "#ed7953"
             ],
             [
              0.7777777777777778,
              "#fb9f3a"
             ],
             [
              0.8888888888888888,
              "#fdca26"
             ],
             [
              1,
              "#f0f921"
             ]
            ],
            "type": "heatmapgl"
           }
          ],
          "histogram": [
           {
            "marker": {
             "pattern": {
              "fillmode": "overlay",
              "size": 10,
              "solidity": 0.2
             }
            },
            "type": "histogram"
           }
          ],
          "histogram2d": [
           {
            "colorbar": {
             "outlinewidth": 0,
             "ticks": ""
            },
            "colorscale": [
             [
              0,
              "#0d0887"
             ],
             [
              0.1111111111111111,
              "#46039f"
             ],
             [
              0.2222222222222222,
              "#7201a8"
             ],
             [
              0.3333333333333333,
              "#9c179e"
             ],
             [
              0.4444444444444444,
              "#bd3786"
             ],
             [
              0.5555555555555556,
              "#d8576b"
             ],
             [
              0.6666666666666666,
              "#ed7953"
             ],
             [
              0.7777777777777778,
              "#fb9f3a"
             ],
             [
              0.8888888888888888,
              "#fdca26"
             ],
             [
              1,
              "#f0f921"
             ]
            ],
            "type": "histogram2d"
           }
          ],
          "histogram2dcontour": [
           {
            "colorbar": {
             "outlinewidth": 0,
             "ticks": ""
            },
            "colorscale": [
             [
              0,
              "#0d0887"
             ],
             [
              0.1111111111111111,
              "#46039f"
             ],
             [
              0.2222222222222222,
              "#7201a8"
             ],
             [
              0.3333333333333333,
              "#9c179e"
             ],
             [
              0.4444444444444444,
              "#bd3786"
             ],
             [
              0.5555555555555556,
              "#d8576b"
             ],
             [
              0.6666666666666666,
              "#ed7953"
             ],
             [
              0.7777777777777778,
              "#fb9f3a"
             ],
             [
              0.8888888888888888,
              "#fdca26"
             ],
             [
              1,
              "#f0f921"
             ]
            ],
            "type": "histogram2dcontour"
           }
          ],
          "mesh3d": [
           {
            "colorbar": {
             "outlinewidth": 0,
             "ticks": ""
            },
            "type": "mesh3d"
           }
          ],
          "parcoords": [
           {
            "line": {
             "colorbar": {
              "outlinewidth": 0,
              "ticks": ""
             }
            },
            "type": "parcoords"
           }
          ],
          "pie": [
           {
            "automargin": true,
            "type": "pie"
           }
          ],
          "scatter": [
           {
            "fillpattern": {
             "fillmode": "overlay",
             "size": 10,
             "solidity": 0.2
            },
            "type": "scatter"
           }
          ],
          "scatter3d": [
           {
            "line": {
             "colorbar": {
              "outlinewidth": 0,
              "ticks": ""
             }
            },
            "marker": {
             "colorbar": {
              "outlinewidth": 0,
              "ticks": ""
             }
            },
            "type": "scatter3d"
           }
          ],
          "scattercarpet": [
           {
            "marker": {
             "colorbar": {
              "outlinewidth": 0,
              "ticks": ""
             }
            },
            "type": "scattercarpet"
           }
          ],
          "scattergeo": [
           {
            "marker": {
             "colorbar": {
              "outlinewidth": 0,
              "ticks": ""
             }
            },
            "type": "scattergeo"
           }
          ],
          "scattergl": [
           {
            "marker": {
             "colorbar": {
              "outlinewidth": 0,
              "ticks": ""
             }
            },
            "type": "scattergl"
           }
          ],
          "scattermapbox": [
           {
            "marker": {
             "colorbar": {
              "outlinewidth": 0,
              "ticks": ""
             }
            },
            "type": "scattermapbox"
           }
          ],
          "scatterpolar": [
           {
            "marker": {
             "colorbar": {
              "outlinewidth": 0,
              "ticks": ""
             }
            },
            "type": "scatterpolar"
           }
          ],
          "scatterpolargl": [
           {
            "marker": {
             "colorbar": {
              "outlinewidth": 0,
              "ticks": ""
             }
            },
            "type": "scatterpolargl"
           }
          ],
          "scatterternary": [
           {
            "marker": {
             "colorbar": {
              "outlinewidth": 0,
              "ticks": ""
             }
            },
            "type": "scatterternary"
           }
          ],
          "surface": [
           {
            "colorbar": {
             "outlinewidth": 0,
             "ticks": ""
            },
            "colorscale": [
             [
              0,
              "#0d0887"
             ],
             [
              0.1111111111111111,
              "#46039f"
             ],
             [
              0.2222222222222222,
              "#7201a8"
             ],
             [
              0.3333333333333333,
              "#9c179e"
             ],
             [
              0.4444444444444444,
              "#bd3786"
             ],
             [
              0.5555555555555556,
              "#d8576b"
             ],
             [
              0.6666666666666666,
              "#ed7953"
             ],
             [
              0.7777777777777778,
              "#fb9f3a"
             ],
             [
              0.8888888888888888,
              "#fdca26"
             ],
             [
              1,
              "#f0f921"
             ]
            ],
            "type": "surface"
           }
          ],
          "table": [
           {
            "cells": {
             "fill": {
              "color": "#EBF0F8"
             },
             "line": {
              "color": "white"
             }
            },
            "header": {
             "fill": {
              "color": "#C8D4E3"
             },
             "line": {
              "color": "white"
             }
            },
            "type": "table"
           }
          ]
         },
         "layout": {
          "annotationdefaults": {
           "arrowcolor": "#2a3f5f",
           "arrowhead": 0,
           "arrowwidth": 1
          },
          "autotypenumbers": "strict",
          "coloraxis": {
           "colorbar": {
            "outlinewidth": 0,
            "ticks": ""
           }
          },
          "colorscale": {
           "diverging": [
            [
             0,
             "#8e0152"
            ],
            [
             0.1,
             "#c51b7d"
            ],
            [
             0.2,
             "#de77ae"
            ],
            [
             0.3,
             "#f1b6da"
            ],
            [
             0.4,
             "#fde0ef"
            ],
            [
             0.5,
             "#f7f7f7"
            ],
            [
             0.6,
             "#e6f5d0"
            ],
            [
             0.7,
             "#b8e186"
            ],
            [
             0.8,
             "#7fbc41"
            ],
            [
             0.9,
             "#4d9221"
            ],
            [
             1,
             "#276419"
            ]
           ],
           "sequential": [
            [
             0,
             "#0d0887"
            ],
            [
             0.1111111111111111,
             "#46039f"
            ],
            [
             0.2222222222222222,
             "#7201a8"
            ],
            [
             0.3333333333333333,
             "#9c179e"
            ],
            [
             0.4444444444444444,
             "#bd3786"
            ],
            [
             0.5555555555555556,
             "#d8576b"
            ],
            [
             0.6666666666666666,
             "#ed7953"
            ],
            [
             0.7777777777777778,
             "#fb9f3a"
            ],
            [
             0.8888888888888888,
             "#fdca26"
            ],
            [
             1,
             "#f0f921"
            ]
           ],
           "sequentialminus": [
            [
             0,
             "#0d0887"
            ],
            [
             0.1111111111111111,
             "#46039f"
            ],
            [
             0.2222222222222222,
             "#7201a8"
            ],
            [
             0.3333333333333333,
             "#9c179e"
            ],
            [
             0.4444444444444444,
             "#bd3786"
            ],
            [
             0.5555555555555556,
             "#d8576b"
            ],
            [
             0.6666666666666666,
             "#ed7953"
            ],
            [
             0.7777777777777778,
             "#fb9f3a"
            ],
            [
             0.8888888888888888,
             "#fdca26"
            ],
            [
             1,
             "#f0f921"
            ]
           ]
          },
          "colorway": [
           "#636efa",
           "#EF553B",
           "#00cc96",
           "#ab63fa",
           "#FFA15A",
           "#19d3f3",
           "#FF6692",
           "#B6E880",
           "#FF97FF",
           "#FECB52"
          ],
          "font": {
           "color": "#2a3f5f"
          },
          "geo": {
           "bgcolor": "white",
           "lakecolor": "white",
           "landcolor": "#E5ECF6",
           "showlakes": true,
           "showland": true,
           "subunitcolor": "white"
          },
          "hoverlabel": {
           "align": "left"
          },
          "hovermode": "closest",
          "mapbox": {
           "style": "light"
          },
          "paper_bgcolor": "white",
          "plot_bgcolor": "#E5ECF6",
          "polar": {
           "angularaxis": {
            "gridcolor": "white",
            "linecolor": "white",
            "ticks": ""
           },
           "bgcolor": "#E5ECF6",
           "radialaxis": {
            "gridcolor": "white",
            "linecolor": "white",
            "ticks": ""
           }
          },
          "scene": {
           "xaxis": {
            "backgroundcolor": "#E5ECF6",
            "gridcolor": "white",
            "gridwidth": 2,
            "linecolor": "white",
            "showbackground": true,
            "ticks": "",
            "zerolinecolor": "white"
           },
           "yaxis": {
            "backgroundcolor": "#E5ECF6",
            "gridcolor": "white",
            "gridwidth": 2,
            "linecolor": "white",
            "showbackground": true,
            "ticks": "",
            "zerolinecolor": "white"
           },
           "zaxis": {
            "backgroundcolor": "#E5ECF6",
            "gridcolor": "white",
            "gridwidth": 2,
            "linecolor": "white",
            "showbackground": true,
            "ticks": "",
            "zerolinecolor": "white"
           }
          },
          "shapedefaults": {
           "line": {
            "color": "#2a3f5f"
           }
          },
          "ternary": {
           "aaxis": {
            "gridcolor": "white",
            "linecolor": "white",
            "ticks": ""
           },
           "baxis": {
            "gridcolor": "white",
            "linecolor": "white",
            "ticks": ""
           },
           "bgcolor": "#E5ECF6",
           "caxis": {
            "gridcolor": "white",
            "linecolor": "white",
            "ticks": ""
           }
          },
          "title": {
           "x": 0.05
          },
          "xaxis": {
           "automargin": true,
           "gridcolor": "white",
           "linecolor": "white",
           "ticks": "",
           "title": {
            "standoff": 15
           },
           "zerolinecolor": "white",
           "zerolinewidth": 2
          },
          "yaxis": {
           "automargin": true,
           "gridcolor": "white",
           "linecolor": "white",
           "ticks": "",
           "title": {
            "standoff": 15
           },
           "zerolinecolor": "white",
           "zerolinewidth": 2
          }
         }
        },
        "title": {
         "text": "Topic difference (one model) [jaccard distance]"
        },
        "width": 950,
        "xaxis": {
         "autorange": true,
         "range": [
          -0.5,
          14.5
         ],
         "title": {
          "text": "topic"
         }
        },
        "yaxis": {
         "autorange": true,
         "range": [
          -0.5,
          14.5
         ],
         "title": {
          "text": "topic"
         }
        }
       }
      },
      "image/png": "[encoded data removed]"
     },
     "metadata": {},
     "output_type": "display_data"
    }
   ],
   "source": [
    "plot_difference(mdiff, title=\"Topic difference (one model) [jaccard distance]\", annotation=annotation)"
   ]
  },
  {
   "cell_type": "markdown",
   "metadata": {},
   "source": [
    "If you compare a model with itself, you want to see as many red elements as\n",
    "possible (except on the diagonal). With this picture, you can look at the\n",
    "\"not very red elements\" and understand which topics in the model are very\n",
    "similar and why (you can read annotation if you move your pointer to cell).\n",
    "\n",
    "Jaccard is a stable and robust distance function, but sometimes not sensitive\n",
    "enough. Let's try to use the Hellinger distance instead.\n",
    "\n",
    "\n"
   ]
  },
  {
   "cell_type": "code",
   "execution_count": 18,
   "metadata": {
    "collapsed": false,
    "jupyter": {
     "outputs_hidden": false
    }
   },
   "outputs": [
    {
     "data": {
      "application/vnd.plotly.v1+json": {
       "config": {
        "linkText": "Export to plot.ly",
        "plotlyServerURL": "https://plot.ly",
        "showLink": false
       },
       "data": [
        {
         "colorscale": [
          [
           0,
           "rgb(103,0,31)"
          ],
          [
           0.1,
           "rgb(178,24,43)"
          ],
          [
           0.2,
           "rgb(214,96,77)"
          ],
          [
           0.3,
           "rgb(244,165,130)"
          ],
          [
           0.4,
           "rgb(253,219,199)"
          ],
          [
           0.5,
           "rgb(247,247,247)"
          ],
          [
           0.6,
           "rgb(209,229,240)"
          ],
          [
           0.7,
           "rgb(146,197,222)"
          ],
          [
           0.8,
           "rgb(67,147,195)"
          ],
          [
           0.9,
           "rgb(33,102,172)"
          ],
          [
           1,
           "rgb(5,48,97)"
          ]
         ],
         "text": [
          [
           "+++ govern, weapon, see, said, take, repli, world, ever, give, gun<br>--- ",
           "+++ see, repli, world, nasa, distribut, even, problem, well, news, year<br>--- andrew, weapon, govern, said, batf, take, ever, price, give, car",
           "+++ <br>--- ysu, 9f9, take, air, world, ever, give, max, gun, 7ex",
           "+++ right, see, distribut, could, time, take, never, repli, also, say<br>--- access, world, ever, give, car, gari, gun, two, work, new",
           "+++ govern, said, take, gun, right, make, could, david, come, even<br>--- someth, ride, public, job, weapon, see, batf, repli, world, bill",
           "+++ see, take, right, gun, player, point, make, could, even, well<br>--- weapon, govern, number, said, batf, escrow, fan, repli, world, ever",
           "+++ see, could, time, way, come, believ, also, even, say, point<br>--- take, atheist, world, ever, give, true, gun, exist, belief, man",
           "+++ first, distribut, could, time, also, much, nasa, year, make, thing<br>--- access, satellit, take, world, ever, give, gun, two, includ, cost",
           "+++ right, first, govern, distribut, time, repli, peopl, well, make, good<br>--- take, bank, wire, world, ever, give, gun, two, militia, cco",
           "+++ distribut, could, time, also, way, much, repli, problem, well, think<br>--- chang, take, world, ever, give, gun, thank, font, work, client",
           "+++ also, distribut, problem<br>--- board, disk, take, email, world, ever, give, gun, thank, includ",
           "+++ distribut, could, david, time, also, repli, say, problem, peopl, world<br>--- take, servic, email, ever, give, car, gun, thank, anonym, new",
           "+++ govern, see, said, take, right, point, make, start, could, come<br>--- arab, men, moral, repli, isra, world, ever, give, human, gun",
           "+++ distribut, could, time, way, never, also, repli, say, peopl, world<br>--- take, ever, ibm, give, gun, thank, two, wpi, new, uchicago",
           "+++ govern, see, said, take, world, right, point, make, could, even<br>--- turk, greek, weapon, repli, drug, ever, give, car, engin, come"
          ],
          [
           "+++ see, repli, world, nasa, distribut, even, problem, thing, well, news<br>--- andrew, weapon, said, govern, take, part, model, ever, look, price",
           "+++ andrew, see, model, repli, world, price, car, engin, rochest, experi<br>--- ",
           "+++ <br>--- ysu, 9f9, air, world, car, max, 7ex, bxn, work, b8f",
           "+++ see, repli, car, work, distribut, may, new, thing, well, news<br>--- access, take, world, gari, two, nasa, cunixb, gld, gov, back",
           "+++ time, way, also, much, question, want, new, even, realli, say<br>--- andrew, someth, ride, public, govern, job, said, see, take, part",
           "+++ may, see, time, way, also, much, new, even, mani, say<br>--- take, world, car, gun, two, work, hit, around, play, score",
           "+++ may, see, time, way, question, also, want, even, mani, say<br>--- atheist, world, car, true, exist, work, belief, man, new, around",
           "+++ distribut, may, time, also, much, want, new, comput, sun, nasa<br>--- access, satellit, world, car, two, includ, cost, well, around, technolog",
           "+++ may, distribut, time, repli, new, comput, peopl, well, good, thing<br>--- bank, wire, world, car, two, work, militia, cco, connect, arm",
           "+++ anyon, distribut, may, time, also, way, much, repli, want, comput<br>--- chang, world, car, thank, font, new, around, client, help, function",
           "+++ anyon, distribut, also, want, new, comput, problem, work, look<br>--- board, disk, email, world, car, thank, includ, well, around, help",
           "+++ repli, world, car, may, distribut, question, new, mani, problem, news<br>--- andrew, see, number, way, group, model, mail, servic, email, health",
           "+++ see, time, way, also, question, want, even, mani, say, thing<br>--- arab, men, take, world, car, two, work, jew, talk, new",
           "+++ repli, world, engin, distribut, new, well, news, anyon, time, way<br>--- read, someth, andrew, see, school, cwru, inc, mail, model, ibm",
           "+++ see, world, car, engin, work, may, new, even, mani, problem<br>--- andrew, turk, govern, greek, said, take, part, repli, drug, model"
          ],
          [
           "+++ <br>--- ysu, take, 9f9, air, world, ever, give, max, gun, 7ex",
           "+++ <br>--- ysu, 9f9, air, world, car, max, 7ex, bxn, work, b8f",
           "+++ ysu, fij, 9f9, g9v, air, mb8f, qax, 75u, max, 1d9l<br>--- ",
           "+++ <br>--- access, ysu, take, 9f9, air, car, max, gari, two, 7ex",
           "+++ <br>--- ysu, take, 9f9, air, bill, firearm, max, gun, 7ex, bxn",
           "+++ <br>--- ysu, take, 9f9, air, max, gun, two, 7ex, bxn, b8f",
           "+++ <br>--- ysu, 9f9, atheist, air, max, true, exist, 7ex, bxn, b8f",
           "+++ <br>--- access, ysu, satellit, 9f9, air, max, two, 7ex, includ, cost",
           "+++ <br>--- ysu, 9f9, bank, wire, air, max, two, 7ex, bxn, b8f",
           "+++ <br>--- chang, ysu, 9f9, air, max, thank, 7ex, font, bxn, work",
           "+++ <br>--- board, ysu, disk, 9f9, email, air, max, thank, 7ex, includ",
           "+++ <br>--- ysu, 9f9, servic, email, air, world, car, max, thank, 7ex",
           "+++ <br>--- ysu, arab, men, take, 9f9, air, max, two, 7ex, bxn",
           "+++ <br>--- ysu, 9f9, air, world, ibm, max, thank, two, 7ex, wpi",
           "+++ <br>--- ysu, turk, greek, take, 9f9, air, world, car, max, armenia"
          ],
          [
           "+++ right, see, distribut, could, time, take, never, repli, also, say<br>--- access, world, ever, give, car, gari, gun, two, work, new",
           "+++ see, repli, car, work, distribut, may, new, thing, well, news<br>--- access, take, world, gari, two, around, realli, comput, care, henri",
           "+++ <br>--- access, ysu, 9f9, take, air, car, max, gari, two, 7ex",
           "+++ access, insur, see, take, repli, mail, health, game, look, car<br>--- ",
           "+++ take, right, work, make, could, back, new, thing, bike, well<br>--- access, bill, firearm, car, gari, gun, two, hous, american, usa",
           "+++ see, take, game, system, right, two, point, make, may, could<br>--- access, number, repli, car, gari, gun, work, need, cunixb, gld",
           "+++ law, may, see, could, time, also, want, say, point, good<br>--- access, take, atheist, car, true, gari, two, exist, work, belief",
           "+++ access, two, may, could, distribut, time, also, want, new, year<br>--- satellit, take, car, gari, includ, cost, well, technolog, usa, comput",
           "+++ right, two, distribut, may, time, repli, new, good, well, make<br>--- access, take, bank, wire, car, gari, work, militia, cco, connect",
           "+++ distribut, may, could, time, also, want, repli, well, work, think<br>--- chang, access, take, car, gari, thank, two, font, new, client",
           "+++ distribut, also, want, new, mail, work, system, look<br>--- board, access, disk, take, email, car, gari, thank, two, includ",
           "+++ distribut, may, could, time, also, want, repli, mail, car, new<br>--- access, number, take, group, servic, email, world, gari, internet, thank",
           "+++ right, two, see, could, time, also, take, want, say, point<br>--- access, arab, men, car, gari, work, jew, talk, new, case",
           "+++ repli, mail, system, two, make, distribut, could, new, well, news<br>--- read, someth, access, insur, see, school, take, cwru, world, pat",
           "+++ see, take, car, right, two, point, work, make, may, could<br>--- access, turk, greek, repli, world, gari, armenia, war, cunixb, gld"
          ],
          [
           "+++ govern, said, take, gun, right, make, could, david, come, even<br>--- someth, ride, public, weapon, see, job, repli, world, ever, bill",
           "+++ way, much, time, also, question, want, new, even, say, realli<br>--- andrew, someth, ride, public, govern, see, job, said, take, repli",
           "+++ <br>--- ysu, 9f9, take, air, bill, firearm, max, gun, 7ex, bxn",
           "+++ take, right, work, make, could, back, new, thing, bike, well<br>--- access, someth, ride, public, govern, see, job, said, repli, mail",
           "+++ someth, ride, public, govern, job, said, take, bill, firearm, gun<br>--- ",
           "+++ take, gun, right, make, need, could, new, even, well, first<br>--- someth, ride, public, govern, see, number, job, said, escrow, fan",
           "+++ law, time, could, way, also, come, question, want, even, say<br>--- take, atheist, bill, firearm, true, gun, exist, work, belief, man",
           "+++ public, first, time, could, also, state, much, want, new, program<br>--- access, satellit, take, bill, firearm, gun, two, includ, cost, well",
           "+++ right, first, govern, time, state, new, tri, peopl, well, make<br>--- take, bank, wire, bill, firearm, gun, two, work, militia, cco",
           "+++ time, could, also, way, much, want, tri, program, well, work<br>--- chang, take, bill, firearm, gun, thank, font, new, client, hous",
           "+++ also, want, new, program, work, need, look<br>--- board, disk, take, email, bill, firearm, gun, thank, includ, well",
           "+++ time, could, david, state, question, also, new, want, say, peopl<br>--- take, servic, email, world, bill, firearm, car, gun, thank, anonym",
           "+++ someth, govern, said, take, right, state, make, could, come, question<br>--- ride, arab, see, men, public, moral, job, islam, isra, bill",
           "+++ someth, time, could, way, state, also, want, new, tri, say<br>--- read, ride, public, govern, job, said, school, take, cwru, repli",
           "+++ govern, said, take, right, state, work, make, could, back, new<br>--- someth, ride, turk, greek, see, public, job, drug, world, bill"
          ],
          [
           "+++ see, take, gun, right, player, point, make, could, even, well<br>--- weapon, said, govern, number, escrow, repli, fan, world, ever, game",
           "+++ way, may, see, much, time, also, new, even, mani, say<br>--- take, world, car, gun, two, work, around, hit, play, score",
           "+++ <br>--- ysu, 9f9, take, air, max, gun, two, 7ex, bxn, b8f",
           "+++ see, take, game, system, right, two, point, make, may, could<br>--- access, number, repli, car, gari, gun, work, need, cunixb, gld",
           "+++ take, gun, right, make, need, could, new, even, well, law<br>--- ride, number, bill, firearm, stephanopoulo, two, work, david, back, hit",
           "+++ see, number, take, fan, game, look, system, season, gun, run<br>--- ",
           "+++ law, may, could, see, time, way, also, even, mani, point<br>--- take, atheist, true, gun, two, exist, belief, man, new, hit",
           "+++ first, two, may, could, time, bit, also, much, new, make<br>--- access, satellit, take, gun, includ, cost, work, well, hit, play",
           "+++ right, first, two, may, time, new, well, make, system, good<br>--- take, bank, wire, gun, militia, cco, connect, arm, amend, hit",
           "+++ run, may, could, time, also, way, much, well, think, make<br>--- chang, take, gun, thank, two, font, work, new, hit, client",
           "+++ run, bit, also, new, system, need, look<br>--- board, disk, take, email, gun, thank, two, includ, work, well",
           "+++ may, could, number, time, also, new, mani, say, think, make<br>--- take, servic, email, world, car, gun, thank, two, anonym, well",
           "+++ right, two, see, could, time, way, take, also, even, mani<br>--- arab, men, gun, jew, talk, new, hit, play, case, score",
           "+++ run, two, time, could, way, also, new, say, well, think<br>--- take, world, ibm, gun, thank, wpi, hit, uchicago, play, robert",
           "+++ see, take, right, two, point, make, may, could, new, even<br>--- turk, govern, greek, said, number, fan, drug, world, game, look"
          ],
          [
           "+++ see, could, time, way, come, believ, also, even, say, point<br>--- take, atheist, world, ever, give, true, gun, exist, belief, man",
           "+++ way, may, see, time, question, also, want, even, mani, say<br>--- atheist, world, car, true, exist, work, belief, man, new, around",
           "+++ <br>--- ysu, 9f9, atheist, air, max, true, 7ex, exist, bxn, b8f",
           "+++ law, see, could, may, time, also, want, say, point, good<br>--- access, take, atheist, car, true, gari, two, exist, work, belief",
           "+++ law, time, could, way, also, come, question, want, even, say<br>--- take, atheist, bill, firearm, true, gun, exist, work, belief, man",
           "+++ law, may, could, see, time, way, also, even, mani, point<br>--- take, atheist, true, gun, two, exist, belief, man, new, hit",
           "+++ read, see, atheist, god, life, mean, christ, human, true, jesu<br>--- ",
           "+++ time, may, could, also, want, make, thing<br>--- access, satellit, atheist, true, two, exist, includ, cost, work, belief",
           "+++ time, may, good, peopl, well, make, mean, thing<br>--- bank, atheist, wire, true, two, exist, militia, cco, connect, arm",
           "+++ may, could, time, also, way, want, differ, thing, well, think<br>--- chang, atheist, true, thank, exist, font, work, belief, man, client",
           "+++ also, want, file<br>--- board, disk, atheist, email, true, thank, exist, includ, work, belief",
           "+++ may, could, time, differ, question, also, want, mani, say, peopl<br>--- atheist, servic, email, world, car, true, thank, exist, anonym, belief",
           "+++ see, mean, human, point, make, could, come, question, even, mani<br>--- read, someth, arab, govern, said, men, take, moral, islam, atheist",
           "+++ read, time, could, way, also, want, say, thing, peopl, well<br>--- atheist, world, ibm, true, thank, two, exist, wpi, belief, man",
           "+++ may, could, see, time, way, also, even, mani, point, say<br>--- turk, greek, take, atheist, world, car, true, armenia, two, exist"
          ],
          [
           "+++ first, distribut, could, time, much, also, thing, nasa, make, year<br>--- access, satellit, take, world, ever, give, gun, two, includ, cost",
           "+++ distribut, may, much, time, also, want, new, comput, sun, nasa<br>--- access, satellit, world, car, two, includ, cost, well, around, technolog",
           "+++ <br>--- access, ysu, satellit, 9f9, air, max, two, 7ex, includ, bxn",
           "+++ access, two, distribut, could, may, time, also, want, new, year<br>--- satellit, take, car, gari, includ, cost, well, technolog, usa, comput",
           "+++ public, first, time, could, also, state, much, want, new, program<br>--- access, satellit, take, bill, firearm, gun, two, includ, cost, well",
           "+++ first, two, may, could, time, also, much, bit, new, make<br>--- access, satellit, take, gun, includ, cost, work, well, hit, play",
           "+++ time, may, also, could, want, make, thing<br>--- access, satellit, atheist, true, two, exist, includ, cost, work, belief",
           "+++ access, data, public, space, moon, satellit, avail, scsi, system, engin<br>--- ",
           "+++ first, two, distribut, may, time, state, new, comput, make, system<br>--- access, satellit, bank, wire, includ, cost, work, militia, cco, connect",
           "+++ distribut, may, could, time, also, much, want, comput, program, work<br>--- chang, access, satellit, thank, two, includ, font, cost, new, well",
           "+++ data, distribut, bit, also, want, new, includ, comput, program, avail<br>--- board, access, disk, satellit, email, thank, two, cost, technolog, help",
           "+++ distribut, may, could, state, time, also, new, want, comput, make<br>--- access, satellit, servic, email, world, car, thank, two, includ, cost",
           "+++ two, time, could, also, state, want, thing, make, year<br>--- access, arab, men, satellit, take, includ, cost, work, jew, talk",
           "+++ two, distribut, could, time, state, also, want, new, comput, make<br>--- access, satellit, world, ibm, thank, includ, wpi, cost, work, well",
           "+++ first, two, may, could, time, state, also, much, new, year<br>--- access, turk, greek, satellit, take, world, car, armenia, includ, cost"
          ],
          [
           "+++ right, first, govern, distribut, time, repli, peopl, well, make, good<br>--- take, bank, wire, world, ever, give, gun, two, militia, cco",
           "+++ may, distribut, time, repli, new, comput, peopl, well, good, thing<br>--- bank, wire, world, car, two, work, militia, cco, connect, arm",
           "+++ <br>--- ysu, 9f9, bank, air, wire, max, two, 7ex, bxn, b8f",
           "+++ right, two, distribut, may, time, repli, new, good, well, make<br>--- access, take, bank, wire, car, gari, work, militia, cco, connect",
           "+++ right, first, govern, time, state, new, tri, peopl, well, make<br>--- take, bank, wire, bill, firearm, gun, two, work, militia, cco",
           "+++ right, first, two, may, time, new, well, make, system, good<br>--- take, bank, wire, gun, militia, cco, connect, arm, amend, hit",
           "+++ time, may, good, peopl, well, make, mean, thing<br>--- bank, atheist, wire, true, two, exist, militia, cco, connect, belief",
           "+++ first, two, may, distribut, time, state, new, comput, make, system<br>--- access, satellit, bank, wire, includ, cost, work, militia, cco, connect",
           "+++ uucp, govern, caltech, isc, power, bank, repli, goal, wire, geb<br>--- ",
           "+++ distribut, may, time, repli, tri, comput, well, make, system, thing<br>--- chang, bank, wire, thank, two, font, work, militia, cco, connect",
           "+++ distribut, comput, new, system, need<br>--- board, disk, bank, email, wire, thank, two, includ, work, militia",
           "+++ distribut, may, time, state, repli, new, comput, peopl, make, system<br>--- bank, servic, email, wire, world, car, thank, two, anonym, militia",
           "+++ right, case, two, govern, time, state, tri, peopl, well, make<br>--- arab, men, take, bank, wire, militia, jew, cco, connect, arm",
           "+++ two, distribut, time, state, repli, new, tri, comput, peopl, well<br>--- bank, wire, world, ibm, thank, wpi, militia, cco, connect, arm",
           "+++ right, first, two, govern, may, time, state, new, peopl, well<br>--- turk, greek, take, bank, wire, world, car, armenia, work, militia"
          ],
          [
           "+++ distribut, could, time, much, way, also, repli, problem, well, think<br>--- chang, take, world, ever, give, gun, thank, font, work, client",
           "+++ anyon, distribut, may, way, much, time, also, repli, want, comput<br>--- chang, world, car, thank, font, new, around, client, help, function",
           "+++ <br>--- chang, ysu, 9f9, air, max, thank, 7ex, font, bxn, work",
           "+++ distribut, could, may, time, also, want, repli, well, work, think<br>--- chang, access, take, car, gari, thank, two, font, new, client",
           "+++ time, could, way, also, much, want, tri, program, well, work<br>--- chang, take, bill, firearm, gun, thank, font, new, client, help",
           "+++ run, may, could, time, way, also, much, well, think, make<br>--- chang, take, gun, thank, two, font, work, new, hit, client",
           "+++ may, could, time, way, also, differ, want, thing, well, think<br>--- chang, atheist, true, thank, exist, font, work, belief, man, client",
           "+++ may, could, distribut, time, also, much, want, comput, program, work<br>--- chang, access, satellit, thank, two, includ, font, cost, new, well",
           "+++ distribut, may, time, repli, tri, comput, well, make, system, thing<br>--- chang, bank, wire, thank, two, font, work, militia, cco, connect",
           "+++ chang, color, set, error, repli, widget, driver, look, seem, system<br>--- ",
           "+++ color, set, system, version, run, display, thank, work, need, distribut<br>--- control, board, data, disk, chang, error, mail, repli, info, avail",
           "+++ repli, driver, system, thank, make, distribut, may, could, call, problem<br>--- chang, number, color, set, group, mail, servic, error, email, widget",
           "+++ think, time, could, call, way, also, want, tri, well, seem<br>--- chang, arab, men, take, thank, two, font, work, jew, talk",
           "+++ repli, system, run, thank, make, need, distribut, could, call, tri<br>--- chang, read, someth, color, school, set, cwru, mail, error, widget",
           "+++ may, could, call, time, way, also, much, problem, well, work<br>--- chang, turk, greek, take, world, car, armenia, thank, two, font"
          ],
          [
           "+++ also, distribut, problem<br>--- board, disk, take, email, world, ever, give, gun, thank, includ",
           "+++ anyon, distribut, also, want, new, comput, problem, work, look<br>--- board, disk, email, world, car, thank, includ, well, around, help",
           "+++ <br>--- board, ysu, disk, 9f9, air, email, max, thank, 7ex, includ",
           "+++ distribut, also, want, new, mail, work, system, look<br>--- access, board, disk, take, email, car, gari, thank, two, includ",
           "+++ also, want, new, program, work, need, look<br>--- board, disk, take, email, bill, firearm, gun, thank, includ, well",
           "+++ run, bit, also, new, system, need, look<br>--- board, disk, take, email, gun, thank, two, includ, work, well",
           "+++ also, want, file<br>--- board, disk, atheist, email, true, thank, exist, includ, work, belief",
           "+++ data, distribut, bit, also, want, new, includ, comput, program, avail<br>--- access, board, disk, satellit, email, thank, two, cost, technolog, help",
           "+++ distribut, comput, new, system, need<br>--- board, disk, bank, wire, email, thank, two, includ, work, militia",
           "+++ color, set, system, version, run, display, thank, work, need, distribut<br>--- chang, control, board, disk, repli, email, format, includ, font, card",
           "+++ control, board, data, disk, color, set, mail, info, avail, email<br>--- ",
           "+++ help, anyon, thank, distribut, mac, also, want, new, mail, comput<br>--- control, board, disk, number, color, group, repli, servic, world, car",
           "+++ also, want<br>--- board, disk, arab, men, take, email, thank, two, includ, work",
           "+++ run, help, thank, anyon, distribut, also, want, new, mail, comput<br>--- board, disk, email, world, ibm, two, includ, wpi, work, well",
           "+++ also, new, work, problem<br>--- board, disk, turk, greek, take, email, world, car, armenia, thank"
          ],
          [
           "+++ distribut, could, david, time, also, repli, say, problem, peopl, world<br>--- take, servic, email, ever, give, car, gun, thank, anonym, new",
           "+++ repli, world, car, may, distribut, question, new, mani, problem, news<br>--- andrew, see, number, way, group, mail, servic, email, health, driver",
           "+++ <br>--- ysu, 9f9, servic, air, email, world, car, max, thank, 7ex",
           "+++ distribut, could, may, time, also, want, repli, mail, car, new<br>--- access, take, servic, email, world, gari, thank, two, work, anonym",
           "+++ time, could, david, state, question, also, new, want, say, peopl<br>--- take, servic, email, world, bill, firearm, car, gun, thank, work",
           "+++ may, could, number, time, also, new, mani, say, think, make<br>--- take, servic, email, world, car, gun, thank, two, anonym, well",
           "+++ may, could, time, also, question, differ, want, mani, say, peopl<br>--- atheist, servic, email, world, car, true, thank, exist, anonym, belief",
           "+++ may, could, distribut, state, time, also, new, want, comput, make<br>--- access, satellit, servic, email, world, car, thank, two, includ, cost",
           "+++ distribut, may, time, state, repli, new, comput, peopl, make, system<br>--- bank, servic, wire, email, world, car, thank, two, anonym, militia",
           "+++ repli, driver, system, thank, make, distribut, may, call, could, problem<br>--- chang, color, number, set, group, error, mail, servic, widget, email",
           "+++ help, anyon, thank, distribut, mac, also, want, new, mail, comput<br>--- board, disk, servic, world, car, includ, work, anonym, diseas, differ",
           "+++ number, group, repli, mail, servic, email, world, health, driver, car<br>--- ",
           "+++ time, could, call, state, question, also, want, mani, say, peopl<br>--- arab, men, take, servic, email, world, car, thank, two, anonym",
           "+++ repli, mail, world, system, thank, state, make, distribut, could, call<br>--- read, someth, number, school, cwru, group, servic, email, health, driver",
           "+++ may, could, call, state, time, also, new, mani, problem, say<br>--- turk, greek, take, servic, email, armenia, thank, two, work, anonym"
          ],
          [
           "+++ govern, see, said, take, right, point, make, start, could, come<br>--- arab, men, moral, repli, world, isra, ever, give, human, gun",
           "+++ way, see, time, also, question, want, even, mani, say, peopl<br>--- arab, men, take, world, car, two, work, jew, talk, new",
           "+++ <br>--- ysu, arab, men, 9f9, take, air, max, two, 7ex, bxn",
           "+++ right, two, see, could, time, also, take, want, say, point<br>--- access, arab, men, car, gari, work, jew, talk, new, case",
           "+++ someth, govern, said, take, right, state, make, could, question, come<br>--- ride, public, job, men, arab, see, moral, islam, isra, bill",
           "+++ right, two, see, could, time, way, take, also, even, mani<br>--- arab, men, gun, jew, talk, new, hit, play, score, case",
           "+++ see, mean, human, point, make, could, question, come, even, mani<br>--- read, someth, arab, govern, men, argument, said, take, moral, atheist",
           "+++ two, time, could, also, state, want, year, make, thing<br>--- access, arab, men, satellit, take, includ, cost, work, jew, talk",
           "+++ right, case, two, govern, time, state, tri, peopl, well, make<br>--- arab, men, take, bank, wire, militia, jew, cco, connect, arm",
           "+++ think, time, could, call, also, way, want, tri, well, seem<br>--- chang, arab, men, take, thank, two, font, work, jew, talk",
           "+++ also, want<br>--- board, disk, arab, men, take, email, thank, two, includ, work",
           "+++ time, could, call, state, question, also, want, mani, say, peopl<br>--- arab, men, take, servic, email, world, car, thank, two, anonym",
           "+++ someth, arab, govern, see, said, men, take, moral, islam, isra<br>--- ",
           "+++ someth, two, time, could, call, state, way, also, tri, want<br>--- arab, men, take, world, ibm, thank, wpi, jew, talk, new",
           "+++ govern, see, said, take, right, two, state, point, make, could<br>--- someth, turk, greek, men, arab, talk, moral, drug, islam, world"
          ],
          [
           "+++ distribut, could, time, never, way, also, repli, say, peopl, world<br>--- take, ever, ibm, give, gun, thank, two, wpi, new, believ",
           "+++ repli, world, engin, distribut, new, well, news, anyon, way, time<br>--- ibm, car, thank, two, wpi, work, around, uchicago, robert, help",
           "+++ <br>--- ysu, 9f9, air, world, ibm, max, thank, two, 7ex, wpi",
           "+++ repli, mail, system, two, make, distribut, could, new, well, news<br>--- access, read, someth, see, school, take, cwru, pat, health, world",
           "+++ someth, time, could, way, state, also, want, new, tri, say<br>--- take, world, bill, ibm, firearm, gun, thank, two, wpi, work",
           "+++ run, two, time, could, way, also, new, say, well, think<br>--- take, world, ibm, gun, thank, wpi, hit, play, uchicago, robert",
           "+++ read, time, could, way, also, want, say, thing, peopl, well<br>--- atheist, world, ibm, true, thank, two, exist, wpi, belief, man",
           "+++ two, distribut, could, time, state, also, want, new, comput, make<br>--- access, satellit, world, ibm, thank, includ, wpi, cost, work, well",
           "+++ two, distribut, time, state, repli, new, tri, comput, peopl, well<br>--- bank, wire, world, ibm, thank, wpi, militia, cco, connect, arm",
           "+++ repli, system, run, thank, make, need, distribut, could, call, tri<br>--- chang, read, someth, color, school, set, cwru, error, mail, widget",
           "+++ run, help, thank, anyon, distribut, also, want, new, mail, comput<br>--- board, disk, email, world, ibm, two, includ, wpi, work, well",
           "+++ repli, mail, world, system, thank, state, make, distribut, could, call<br>--- read, someth, number, school, group, servic, cwru, email, health, driver",
           "+++ someth, two, time, could, call, state, way, also, tri, want<br>--- arab, men, take, world, ibm, thank, wpi, jew, talk, new",
           "+++ read, someth, school, cwru, repli, mail, world, ibm, opinion, system<br>--- ",
           "+++ two, time, could, call, state, way, also, new, say, good<br>--- turk, greek, take, ibm, car, armenia, thank, wpi, work, uchicago"
          ],
          [
           "+++ govern, see, said, take, world, right, point, make, could, even<br>--- turk, weapon, greek, repli, drug, ever, give, car, engin, gun",
           "+++ see, world, car, engin, work, may, new, even, mani, problem<br>--- andrew, turk, govern, greek, said, take, repli, drug, studi, price",
           "+++ <br>--- ysu, turk, greek, 9f9, take, air, world, car, max, armenia",
           "+++ see, take, car, right, two, point, work, make, may, could<br>--- access, turk, govern, greek, said, repli, mail, drug, pat, health",
           "+++ govern, said, take, right, state, work, make, could, back, new<br>--- someth, ride, public, job, see, turk, greek, drug, world, bill",
           "+++ see, take, right, two, point, make, may, could, new, even<br>--- turk, govern, number, greek, said, escrow, fan, drug, world, game",
           "+++ may, could, see, time, way, also, even, mani, point, say<br>--- turk, greek, take, atheist, world, car, true, armenia, two, exist",
           "+++ first, two, may, could, time, state, also, much, new, year<br>--- access, turk, greek, satellit, take, world, car, armenia, includ, cost",
           "+++ right, first, two, govern, may, time, state, new, peopl, well<br>--- turk, greek, take, bank, wire, world, car, armenia, work, militia",
           "+++ may, could, call, time, also, way, much, problem, well, work<br>--- chang, turk, greek, take, world, car, armenia, thank, two, font",
           "+++ also, new, work, problem<br>--- board, disk, turk, greek, take, email, world, car, armenia, thank",
           "+++ may, could, call, state, time, also, new, mani, problem, say<br>--- turk, greek, take, servic, email, armenia, thank, two, anonym, work",
           "+++ govern, see, said, take, right, two, state, point, make, could<br>--- someth, arab, men, turk, moral, greek, islam, drug, isra, world",
           "+++ two, time, could, call, state, way, also, new, say, good<br>--- turk, greek, take, ibm, car, armenia, thank, wpi, work, uchicago",
           "+++ turk, govern, see, greek, said, take, drug, world, car, engin<br>--- "
          ]
         ],
         "type": "heatmap",
         "z": [
          [
           0,
           0.6292422310234422,
           0.9629359780701786,
           0.6464806148926804,
           0.583024274199162,
           0.6253130541602478,
           0.6728820478505109,
           0.6445247420126107,
           0.680255544580978,
           0.7140593189368519,
           0.7574286126403846,
           0.6477956818787332,
           0.6194815507836829,
           0.6455252948199678,
           0.61380545120985
          ],
          [
           0.6292422310234422,
           0,
           0.9604845002363366,
           0.650198126023206,
           0.6369317651022366,
           0.6809933048146826,
           0.6722154843528001,
           0.6237584545066757,
           0.6960799298702773,
           0.6755094678859652,
           0.6871322217802391,
           0.6126673675944168,
           0.6852400896920767,
           0.6363023042139931,
           0.6297842941808454
          ],
          [
           0.9629359780701786,
           0.9604845002363366,
           0,
           0.9750037194534309,
           0.976943577788675,
           0.9703433449990561,
           0.9974953993082378,
           0.9596978257114103,
           0.9848587602069366,
           0.9795414670308797,
           0.9882858380563272,
           0.9476751213209808,
           1,
           0.9780487437528657,
           0.9621098358562618
          ],
          [
           0.6464806148926804,
           0.650198126023206,
           0.9750037194534309,
           0,
           0.6476618570035767,
           0.6513321515377133,
           0.7372262412194688,
           0.6437320068826434,
           0.7105241122158419,
           0.7114174094868806,
           0.710581507652795,
           0.6580542623184681,
           0.7134101641656926,
           0.6661557915924888,
           0.6600622547501415
          ],
          [
           0.583024274199162,
           0.6369317651022366,
           0.976943577788675,
           0.6476618570035767,
           0,
           0.6260024491925188,
           0.6706826403171786,
           0.6055497420815588,
           0.6815285750040759,
           0.70222547003451,
           0.7377903898417792,
           0.6241360098007211,
           0.6077450943338932,
           0.650691355919534,
           0.5818853203921626
          ],
          [
           0.6253130541602478,
           0.6809933048146826,
           0.9703433449990561,
           0.6513321515377133,
           0.6260024491925188,
           0,
           0.7476464472959039,
           0.6622821832354678,
           0.6743949478211523,
           0.7290226173271853,
           0.732926140033899,
           0.6741074682944105,
           0.7140209639922602,
           0.6750548685850437,
           0.6753383384193203
          ],
          [
           0.6728820478505109,
           0.6722154843528001,
           0.9974953993082378,
           0.7372262412194688,
           0.6706826403171786,
           0.7476464472959039,
           0,
           0.708132610761808,
           0.7513250937517252,
           0.7254723609675311,
           0.7889469054261655,
           0.6645368446828986,
           0.6071713648717335,
           0.7079944725840766,
           0.6572222799155342
          ],
          [
           0.6445247420126107,
           0.6237584545066757,
           0.9596978257114103,
           0.6437320068826434,
           0.6055497420815588,
           0.6622821832354678,
           0.708132610761808,
           0,
           0.699034774993194,
           0.6417775073148666,
           0.5990492626281415,
           0.6018875704558295,
           0.7019835308637415,
           0.6464590121190732,
           0.6222928061178373
          ],
          [
           0.680255544580978,
           0.6960799298702773,
           0.9848587602069366,
           0.7105241122158419,
           0.6815285750040759,
           0.6743949478211523,
           0.7513250937517252,
           0.699034774993194,
           0,
           0.7468053346231217,
           0.757070781173267,
           0.6998733614704095,
           0.7203359265056678,
           0.7178130708189195,
           0.6901836068785445
          ],
          [
           0.7140593189368519,
           0.6755094678859652,
           0.9795414670308797,
           0.7114174094868806,
           0.70222547003451,
           0.7290226173271853,
           0.7254723609675311,
           0.6417775073148666,
           0.7468053346231217,
           0,
           0.5614798304258888,
           0.6429590280813394,
           0.7570885432923709,
           0.6432822190532896,
           0.7101980662939521
          ],
          [
           0.7574286126403846,
           0.6871322217802391,
           0.9882858380563272,
           0.710581507652795,
           0.7377903898417792,
           0.732926140033899,
           0.7889469054261655,
           0.5990492626281415,
           0.757070781173267,
           0.5614798304258888,
           0,
           0.6463435512903306,
           0.8134219746787659,
           0.6460776985233497,
           0.7475344321850764
          ],
          [
           0.6477956818787332,
           0.6126673675944168,
           0.9476751213209808,
           0.6580542623184681,
           0.6241360098007211,
           0.6741074682944105,
           0.6645368446828986,
           0.6018875704558295,
           0.6998733614704095,
           0.6429590280813394,
           0.6463435512903306,
           0,
           0.6833708899524743,
           0.6250472724754735,
           0.6134146526475031
          ],
          [
           0.6194815507836829,
           0.6852400896920767,
           1,
           0.7134101641656926,
           0.6077450943338932,
           0.7140209639922602,
           0.6071713648717335,
           0.7019835308637415,
           0.7203359265056678,
           0.7570885432923709,
           0.8134219746787659,
           0.6833708899524743,
           0,
           0.7076179046080894,
           0.5565760221956726
          ],
          [
           0.6455252948199678,
           0.6363023042139931,
           0.9780487437528657,
           0.6661557915924888,
           0.650691355919534,
           0.6750548685850437,
           0.7079944725840766,
           0.6464590121190732,
           0.7178130708189195,
           0.6432822190532896,
           0.6460776985233497,
           0.6250472724754735,
           0.7076179046080894,
           0,
           0.6662297656757205
          ],
          [
           0.61380545120985,
           0.6297842941808454,
           0.9621098358562618,
           0.6600622547501415,
           0.5818853203921626,
           0.6753383384193203,
           0.6572222799155342,
           0.6222928061178373,
           0.6901836068785445,
           0.7101980662939521,
           0.7475344321850764,
           0.6134146526475031,
           0.5565760221956726,
           0.6662297656757205,
           0
          ]
         ]
        }
       ],
       "layout": {
        "height": 950,
        "template": {
         "data": {
          "bar": [
           {
            "error_x": {
             "color": "#2a3f5f"
            },
            "error_y": {
             "color": "#2a3f5f"
            },
            "marker": {
             "line": {
              "color": "#E5ECF6",
              "width": 0.5
             },
             "pattern": {
              "fillmode": "overlay",
              "size": 10,
              "solidity": 0.2
             }
            },
            "type": "bar"
           }
          ],
          "barpolar": [
           {
            "marker": {
             "line": {
              "color": "#E5ECF6",
              "width": 0.5
             },
             "pattern": {
              "fillmode": "overlay",
              "size": 10,
              "solidity": 0.2
             }
            },
            "type": "barpolar"
           }
          ],
          "carpet": [
           {
            "aaxis": {
             "endlinecolor": "#2a3f5f",
             "gridcolor": "white",
             "linecolor": "white",
             "minorgridcolor": "white",
             "startlinecolor": "#2a3f5f"
            },
            "baxis": {
             "endlinecolor": "#2a3f5f",
             "gridcolor": "white",
             "linecolor": "white",
             "minorgridcolor": "white",
             "startlinecolor": "#2a3f5f"
            },
            "type": "carpet"
           }
          ],
          "choropleth": [
           {
            "colorbar": {
             "outlinewidth": 0,
             "ticks": ""
            },
            "type": "choropleth"
           }
          ],
          "contour": [
           {
            "colorbar": {
             "outlinewidth": 0,
             "ticks": ""
            },
            "colorscale": [
             [
              0,
              "#0d0887"
             ],
             [
              0.1111111111111111,
              "#46039f"
             ],
             [
              0.2222222222222222,
              "#7201a8"
             ],
             [
              0.3333333333333333,
              "#9c179e"
             ],
             [
              0.4444444444444444,
              "#bd3786"
             ],
             [
              0.5555555555555556,
              "#d8576b"
             ],
             [
              0.6666666666666666,
              "#ed7953"
             ],
             [
              0.7777777777777778,
              "#fb9f3a"
             ],
             [
              0.8888888888888888,
              "#fdca26"
             ],
             [
              1,
              "#f0f921"
             ]
            ],
            "type": "contour"
           }
          ],
          "contourcarpet": [
           {
            "colorbar": {
             "outlinewidth": 0,
             "ticks": ""
            },
            "type": "contourcarpet"
           }
          ],
          "heatmap": [
           {
            "colorbar": {
             "outlinewidth": 0,
             "ticks": ""
            },
            "colorscale": [
             [
              0,
              "#0d0887"
             ],
             [
              0.1111111111111111,
              "#46039f"
             ],
             [
              0.2222222222222222,
              "#7201a8"
             ],
             [
              0.3333333333333333,
              "#9c179e"
             ],
             [
              0.4444444444444444,
              "#bd3786"
             ],
             [
              0.5555555555555556,
              "#d8576b"
             ],
             [
              0.6666666666666666,
              "#ed7953"
             ],
             [
              0.7777777777777778,
              "#fb9f3a"
             ],
             [
              0.8888888888888888,
              "#fdca26"
             ],
             [
              1,
              "#f0f921"
             ]
            ],
            "type": "heatmap"
           }
          ],
          "heatmapgl": [
           {
            "colorbar": {
             "outlinewidth": 0,
             "ticks": ""
            },
            "colorscale": [
             [
              0,
              "#0d0887"
             ],
             [
              0.1111111111111111,
              "#46039f"
             ],
             [
              0.2222222222222222,
              "#7201a8"
             ],
             [
              0.3333333333333333,
              "#9c179e"
             ],
             [
              0.4444444444444444,
              "#bd3786"
             ],
             [
              0.5555555555555556,
              "#d8576b"
             ],
             [
              0.6666666666666666,
              "#ed7953"
             ],
             [
              0.7777777777777778,
              "#fb9f3a"
             ],
             [
              0.8888888888888888,
              "#fdca26"
             ],
             [
              1,
              "#f0f921"
             ]
            ],
            "type": "heatmapgl"
           }
          ],
          "histogram": [
           {
            "marker": {
             "pattern": {
              "fillmode": "overlay",
              "size": 10,
              "solidity": 0.2
             }
            },
            "type": "histogram"
           }
          ],
          "histogram2d": [
           {
            "colorbar": {
             "outlinewidth": 0,
             "ticks": ""
            },
            "colorscale": [
             [
              0,
              "#0d0887"
             ],
             [
              0.1111111111111111,
              "#46039f"
             ],
             [
              0.2222222222222222,
              "#7201a8"
             ],
             [
              0.3333333333333333,
              "#9c179e"
             ],
             [
              0.4444444444444444,
              "#bd3786"
             ],
             [
              0.5555555555555556,
              "#d8576b"
             ],
             [
              0.6666666666666666,
              "#ed7953"
             ],
             [
              0.7777777777777778,
              "#fb9f3a"
             ],
             [
              0.8888888888888888,
              "#fdca26"
             ],
             [
              1,
              "#f0f921"
             ]
            ],
            "type": "histogram2d"
           }
          ],
          "histogram2dcontour": [
           {
            "colorbar": {
             "outlinewidth": 0,
             "ticks": ""
            },
            "colorscale": [
             [
              0,
              "#0d0887"
             ],
             [
              0.1111111111111111,
              "#46039f"
             ],
             [
              0.2222222222222222,
              "#7201a8"
             ],
             [
              0.3333333333333333,
              "#9c179e"
             ],
             [
              0.4444444444444444,
              "#bd3786"
             ],
             [
              0.5555555555555556,
              "#d8576b"
             ],
             [
              0.6666666666666666,
              "#ed7953"
             ],
             [
              0.7777777777777778,
              "#fb9f3a"
             ],
             [
              0.8888888888888888,
              "#fdca26"
             ],
             [
              1,
              "#f0f921"
             ]
            ],
            "type": "histogram2dcontour"
           }
          ],
          "mesh3d": [
           {
            "colorbar": {
             "outlinewidth": 0,
             "ticks": ""
            },
            "type": "mesh3d"
           }
          ],
          "parcoords": [
           {
            "line": {
             "colorbar": {
              "outlinewidth": 0,
              "ticks": ""
             }
            },
            "type": "parcoords"
           }
          ],
          "pie": [
           {
            "automargin": true,
            "type": "pie"
           }
          ],
          "scatter": [
           {
            "fillpattern": {
             "fillmode": "overlay",
             "size": 10,
             "solidity": 0.2
            },
            "type": "scatter"
           }
          ],
          "scatter3d": [
           {
            "line": {
             "colorbar": {
              "outlinewidth": 0,
              "ticks": ""
             }
            },
            "marker": {
             "colorbar": {
              "outlinewidth": 0,
              "ticks": ""
             }
            },
            "type": "scatter3d"
           }
          ],
          "scattercarpet": [
           {
            "marker": {
             "colorbar": {
              "outlinewidth": 0,
              "ticks": ""
             }
            },
            "type": "scattercarpet"
           }
          ],
          "scattergeo": [
           {
            "marker": {
             "colorbar": {
              "outlinewidth": 0,
              "ticks": ""
             }
            },
            "type": "scattergeo"
           }
          ],
          "scattergl": [
           {
            "marker": {
             "colorbar": {
              "outlinewidth": 0,
              "ticks": ""
             }
            },
            "type": "scattergl"
           }
          ],
          "scattermapbox": [
           {
            "marker": {
             "colorbar": {
              "outlinewidth": 0,
              "ticks": ""
             }
            },
            "type": "scattermapbox"
           }
          ],
          "scatterpolar": [
           {
            "marker": {
             "colorbar": {
              "outlinewidth": 0,
              "ticks": ""
             }
            },
            "type": "scatterpolar"
           }
          ],
          "scatterpolargl": [
           {
            "marker": {
             "colorbar": {
              "outlinewidth": 0,
              "ticks": ""
             }
            },
            "type": "scatterpolargl"
           }
          ],
          "scatterternary": [
           {
            "marker": {
             "colorbar": {
              "outlinewidth": 0,
              "ticks": ""
             }
            },
            "type": "scatterternary"
           }
          ],
          "surface": [
           {
            "colorbar": {
             "outlinewidth": 0,
             "ticks": ""
            },
            "colorscale": [
             [
              0,
              "#0d0887"
             ],
             [
              0.1111111111111111,
              "#46039f"
             ],
             [
              0.2222222222222222,
              "#7201a8"
             ],
             [
              0.3333333333333333,
              "#9c179e"
             ],
             [
              0.4444444444444444,
              "#bd3786"
             ],
             [
              0.5555555555555556,
              "#d8576b"
             ],
             [
              0.6666666666666666,
              "#ed7953"
             ],
             [
              0.7777777777777778,
              "#fb9f3a"
             ],
             [
              0.8888888888888888,
              "#fdca26"
             ],
             [
              1,
              "#f0f921"
             ]
            ],
            "type": "surface"
           }
          ],
          "table": [
           {
            "cells": {
             "fill": {
              "color": "#EBF0F8"
             },
             "line": {
              "color": "white"
             }
            },
            "header": {
             "fill": {
              "color": "#C8D4E3"
             },
             "line": {
              "color": "white"
             }
            },
            "type": "table"
           }
          ]
         },
         "layout": {
          "annotationdefaults": {
           "arrowcolor": "#2a3f5f",
           "arrowhead": 0,
           "arrowwidth": 1
          },
          "autotypenumbers": "strict",
          "coloraxis": {
           "colorbar": {
            "outlinewidth": 0,
            "ticks": ""
           }
          },
          "colorscale": {
           "diverging": [
            [
             0,
             "#8e0152"
            ],
            [
             0.1,
             "#c51b7d"
            ],
            [
             0.2,
             "#de77ae"
            ],
            [
             0.3,
             "#f1b6da"
            ],
            [
             0.4,
             "#fde0ef"
            ],
            [
             0.5,
             "#f7f7f7"
            ],
            [
             0.6,
             "#e6f5d0"
            ],
            [
             0.7,
             "#b8e186"
            ],
            [
             0.8,
             "#7fbc41"
            ],
            [
             0.9,
             "#4d9221"
            ],
            [
             1,
             "#276419"
            ]
           ],
           "sequential": [
            [
             0,
             "#0d0887"
            ],
            [
             0.1111111111111111,
             "#46039f"
            ],
            [
             0.2222222222222222,
             "#7201a8"
            ],
            [
             0.3333333333333333,
             "#9c179e"
            ],
            [
             0.4444444444444444,
             "#bd3786"
            ],
            [
             0.5555555555555556,
             "#d8576b"
            ],
            [
             0.6666666666666666,
             "#ed7953"
            ],
            [
             0.7777777777777778,
             "#fb9f3a"
            ],
            [
             0.8888888888888888,
             "#fdca26"
            ],
            [
             1,
             "#f0f921"
            ]
           ],
           "sequentialminus": [
            [
             0,
             "#0d0887"
            ],
            [
             0.1111111111111111,
             "#46039f"
            ],
            [
             0.2222222222222222,
             "#7201a8"
            ],
            [
             0.3333333333333333,
             "#9c179e"
            ],
            [
             0.4444444444444444,
             "#bd3786"
            ],
            [
             0.5555555555555556,
             "#d8576b"
            ],
            [
             0.6666666666666666,
             "#ed7953"
            ],
            [
             0.7777777777777778,
             "#fb9f3a"
            ],
            [
             0.8888888888888888,
             "#fdca26"
            ],
            [
             1,
             "#f0f921"
            ]
           ]
          },
          "colorway": [
           "#636efa",
           "#EF553B",
           "#00cc96",
           "#ab63fa",
           "#FFA15A",
           "#19d3f3",
           "#FF6692",
           "#B6E880",
           "#FF97FF",
           "#FECB52"
          ],
          "font": {
           "color": "#2a3f5f"
          },
          "geo": {
           "bgcolor": "white",
           "lakecolor": "white",
           "landcolor": "#E5ECF6",
           "showlakes": true,
           "showland": true,
           "subunitcolor": "white"
          },
          "hoverlabel": {
           "align": "left"
          },
          "hovermode": "closest",
          "mapbox": {
           "style": "light"
          },
          "paper_bgcolor": "white",
          "plot_bgcolor": "#E5ECF6",
          "polar": {
           "angularaxis": {
            "gridcolor": "white",
            "linecolor": "white",
            "ticks": ""
           },
           "bgcolor": "#E5ECF6",
           "radialaxis": {
            "gridcolor": "white",
            "linecolor": "white",
            "ticks": ""
           }
          },
          "scene": {
           "xaxis": {
            "backgroundcolor": "#E5ECF6",
            "gridcolor": "white",
            "gridwidth": 2,
            "linecolor": "white",
            "showbackground": true,
            "ticks": "",
            "zerolinecolor": "white"
           },
           "yaxis": {
            "backgroundcolor": "#E5ECF6",
            "gridcolor": "white",
            "gridwidth": 2,
            "linecolor": "white",
            "showbackground": true,
            "ticks": "",
            "zerolinecolor": "white"
           },
           "zaxis": {
            "backgroundcolor": "#E5ECF6",
            "gridcolor": "white",
            "gridwidth": 2,
            "linecolor": "white",
            "showbackground": true,
            "ticks": "",
            "zerolinecolor": "white"
           }
          },
          "shapedefaults": {
           "line": {
            "color": "#2a3f5f"
           }
          },
          "ternary": {
           "aaxis": {
            "gridcolor": "white",
            "linecolor": "white",
            "ticks": ""
           },
           "baxis": {
            "gridcolor": "white",
            "linecolor": "white",
            "ticks": ""
           },
           "bgcolor": "#E5ECF6",
           "caxis": {
            "gridcolor": "white",
            "linecolor": "white",
            "ticks": ""
           }
          },
          "title": {
           "x": 0.05
          },
          "xaxis": {
           "automargin": true,
           "gridcolor": "white",
           "linecolor": "white",
           "ticks": "",
           "title": {
            "standoff": 15
           },
           "zerolinecolor": "white",
           "zerolinewidth": 2
          },
          "yaxis": {
           "automargin": true,
           "gridcolor": "white",
           "linecolor": "white",
           "ticks": "",
           "title": {
            "standoff": 15
           },
           "zerolinecolor": "white",
           "zerolinewidth": 2
          }
         }
        },
        "title": {
         "text": "Topic difference (one model) [hellinger distance]"
        },
        "width": 950,
        "xaxis": {
         "autorange": true,
         "range": [
          -0.5,
          14.5
         ],
         "title": {
          "text": "topic"
         }
        },
        "yaxis": {
         "autorange": true,
         "range": [
          -0.5,
          14.5
         ],
         "title": {
          "text": "topic"
         }
        }
       }
      },
      "image/png": "[encoded data removed]"
     },
     "metadata": {},
     "output_type": "display_data"
    }
   ],
   "source": [
    "mdiff, annotation = lda_fst.diff(lda_fst, distance='hellinger', num_words=50)\n",
    "plot_difference(mdiff, title=\"Topic difference (one model) [hellinger distance]\", annotation=annotation)"
   ]
  },
  {
   "cell_type": "markdown",
   "metadata": {},
   "source": [
    "You see that everything has become worse, but remember that everything depends on the task.\n",
    "\n",
    "Choose a distance function that matches your upstream task better: what kind of \"similarity\" is\n",
    "relevant to you. From my (Ivan's) experience, Jaccard is fine.\n",
    "\n",
    "\n"
   ]
  },
  {
   "cell_type": "markdown",
   "metadata": {},
   "source": [
    "## Case 2: How topics from DIFFERENT models correlate with each other."
   ]
  },
  {
   "cell_type": "markdown",
   "metadata": {},
   "source": [
    "Sometimes, we want to look at the patterns between two different models and compare them.\n",
    "\n",
    "You can do this by constructing a matrix with the difference.\n",
    "\n",
    "\n"
   ]
  },
  {
   "cell_type": "code",
   "execution_count": 19,
   "metadata": {
    "collapsed": false,
    "jupyter": {
     "outputs_hidden": false
    }
   },
   "outputs": [
    {
     "data": {
      "application/vnd.plotly.v1+json": {
       "config": {
        "linkText": "Export to plot.ly",
        "plotlyServerURL": "https://plot.ly",
        "showLink": false
       },
       "data": [
        {
         "colorscale": [
          [
           0,
           "rgb(103,0,31)"
          ],
          [
           0.1,
           "rgb(178,24,43)"
          ],
          [
           0.2,
           "rgb(214,96,77)"
          ],
          [
           0.3,
           "rgb(244,165,130)"
          ],
          [
           0.4,
           "rgb(253,219,199)"
          ],
          [
           0.5,
           "rgb(247,247,247)"
          ],
          [
           0.6,
           "rgb(209,229,240)"
          ],
          [
           0.7,
           "rgb(146,197,222)"
          ],
          [
           0.8,
           "rgb(67,147,195)"
          ],
          [
           0.9,
           "rgb(33,102,172)"
          ],
          [
           1,
           "rgb(5,48,97)"
          ]
         ],
         "text": [
          [
           "+++ right, govern, distribut, could, time, even, say, point, peopl, make<br>--- access, take, sandvik, world, ever, give, crypto, gun, pgp, two",
           "+++ distribut, could, time, also, much, repli, problem, think, make, good<br>--- board, take, world, ever, give, gun, thank, work, new, well",
           "+++ see, take, world, point, make, reason, could, even, problem, thing<br>--- someth, weapon, govern, said, moral, repli, wire, ever, seem, give",
           "+++ player, first, distribut, time, also, come, repli, even, world, well<br>--- take, rose, ever, give, gun, two, san, pitch, work, appear",
           "+++ right, govern, distribut, could, time, also, much, way, say, problem<br>--- disk, take, world, ever, ibm, give, car, gun, two, work",
           "+++ <br>--- 9f9, take, air, world, ever, give, max, gun, 7ex, bxn",
           "+++ also, problem<br>--- take, email, world, ever, give, gun, thank, includ, work, anonym",
           "+++ right, see, could, time, way, come, believ, also, even, say<br>--- read, weapon, govern, argument, said, take, repli, atheist, god, life",
           "+++ player, first, see, time, even, point, better, well, think, make<br>--- take, world, ever, give, gun, two, divis, canada, new, play",
           "+++ right, see, much, also, time, even, say, problem, peopl, well<br>--- take, world, vga, ever, gif, give, car, gun, thank, two",
           "+++ govern, see, said, take, right, make, start, could, come, even<br>--- someth, arab, weapon, repli, islam, isra, world, ever, opinion, give",
           "+++ first, time, could, said, also, nasa, world, well, think, make<br>--- access, satellit, take, bank, ever, give, gun, work, russian, new",
           "+++ right, first, govern, time, could, said, also, way, even, say<br>--- turk, greek, take, armi, ever, give, gun, armenia, two, exist",
           "+++ see, take, repli, make, distribut, even, well, year, day, first<br>--- someth, ride, still, weapon, govern, said, batf, washington, world, ever",
           "+++ weapon, take, gun, right, point, make, stratu, could, problem, well<br>--- control, public, space, govern, see, number, said, batf, repli, rate"
          ],
          [
           "+++ time, may, distribut, new, even, comput, say, peopl<br>--- access, sandvik, world, car, crypto, pgp, two, work, privat, well",
           "+++ think, anyon, distribut, time, also, usa, much, want, repli, new<br>--- board, world, car, thank, well, around, help, realli, say, window",
           "+++ see, world, may, question, new, even, mani, problem, thing, well<br>--- andrew, someth, take, moral, repli, model, wire, seem, price, system",
           "+++ distribut, may, time, usa, also, repli, new, even, comput, world<br>--- rose, car, two, san, pitch, appear, hit, dept, play, around",
           "+++ price, car, engin, work, distribut, question, new, problem, well, time<br>--- control, andrew, data, disk, govern, see, part, power, repli, model",
           "+++ <br>--- 9f9, air, world, car, max, 7ex, bxn, work, b8f, b4q",
           "+++ may, also, comput, problem, sun, work<br>--- email, world, car, thank, includ, anonym, new, well, around, help",
           "+++ may, see, time, way, question, also, want, even, mani, say<br>--- atheist, world, car, true, exist, work, belief, man, new, around",
           "+++ time, see, new, even, well, think, good, year, look<br>--- world, car, two, divis, work, canada, around, play, let, score",
           "+++ see, car, engin, work, new, even, problem, well, anyon, much<br>--- read, andrew, color, number, fast, model, repli, world, vga, driver",
           "+++ see, time, way, also, question, want, even, mani, say, peopl<br>--- arab, take, world, car, two, work, jew, new, around, let",
           "+++ may, time, also, question, scienc, new, want, nasa, world, well<br>--- access, satellit, bank, car, russian, around, pitt, usa, realli, comput",
           "+++ time, way, also, new, even, mani, say, peopl, world, well<br>--- turk, greek, armi, car, armenia, two, exist, histori, russian, jew",
           "+++ see, repli, work, distribut, new, even, mani, sun, thing, well<br>--- andrew, someth, ride, still, take, model, inc, washington, world, price",
           "+++ time, much, way, also, say, problem, peopl, year, well, work<br>--- take, rate, world, bill, firearm, car, gun, cost, new, around"
          ],
          [
           "+++ <br>--- access, ysu, 9f9, sandvik, air, max, crypto, pgp, two, 7ex",
           "+++ <br>--- board, ysu, 9f9, air, max, thank, 7ex, bxn, work, b8f",
           "+++ <br>--- ysu, take, 9f9, wire, air, world, max, exist, 7ex, bxn",
           "+++ <br>--- ysu, 9f9, rose, air, world, max, two, san, 7ex, bxn",
           "+++ <br>--- ysu, disk, 9f9, air, ibm, car, max, two, 7ex, bxn",
           "+++ fij, g9v, 9f9, air, mb8f, qax, 75u, max, 1d9l, chz<br>--- ysu, det, request, pit, min, dyer, van, 1fpl",
           "+++ <br>--- ysu, 9f9, email, air, max, thank, 7ex, includ, bxn, work",
           "+++ <br>--- ysu, 9f9, atheist, air, max, true, exist, 7ex, bxn, b8f",
           "+++ <br>--- ysu, 9f9, air, max, two, 7ex, divis, bxn, b8f, b4q",
           "+++ <br>--- ysu, 9f9, air, vga, gif, car, max, thank, two, 7ex",
           "+++ <br>--- ysu, arab, take, 9f9, air, max, two, 7ex, bxn, b8f",
           "+++ <br>--- access, ysu, satellit, 9f9, bank, air, world, max, 7ex, bxn",
           "+++ <br>--- ysu, turk, greek, 9f9, air, world, armi, max, armenia, two",
           "+++ <br>--- ysu, take, 9f9, air, lot, max, two, 7ex, bxn, work",
           "+++ <br>--- ysu, take, 9f9, rate, air, bill, firearm, max, gun, 7ex"
          ],
          [
           "+++ access, right, law, two, distribut, could, may, time, new, say<br>--- take, sandvik, car, crypto, gari, pgp, work, privat, well, technolog",
           "+++ distribut, could, time, also, usa, want, repli, mail, new, work<br>--- board, access, take, car, gari, thank, two, well, help, comput",
           "+++ see, may, could, time, take, also, new, say, point, good<br>--- access, wire, world, car, gari, two, exist, theori, work, caus",
           "+++ repli, mail, game, two, work, distribut, may, back, new, well<br>--- access, take, rose, world, car, gari, san, pitch, cunixb, gld",
           "+++ right, two, distribut, could, time, also, want, new, car, say<br>--- access, disk, take, ibm, gari, militia, differ, usa, care, henri",
           "+++ <br>--- access, 9f9, take, air, car, max, gari, two, 7ex, bxn",
           "+++ may, also, mail, work, system<br>--- access, take, email, car, gari, thank, two, includ, anonym, new",
           "+++ right, law, see, may, could, time, also, want, say, point<br>--- access, take, atheist, car, true, gari, two, exist, work, belief",
           "+++ two, see, time, back, new, toronto, point, well, game, think<br>--- access, take, car, gari, divis, work, canada, play, let, score",
           "+++ right, two, see, time, also, want, new, say, well, work<br>--- access, take, vga, gif, gari, thank, help, differ, usa, comput",
           "+++ right, law, two, see, could, time, never, take, back, also<br>--- access, arab, car, gari, work, jew, new, let, case, american",
           "+++ access, may, could, time, also, want, new, well, work, think<br>--- satellit, take, bank, world, car, gari, two, russian, pitt, usa",
           "+++ right, two, time, could, also, new, say, well, work, year<br>--- access, turk, greek, take, world, armi, car, gari, armenia, exist",
           "+++ see, take, repli, two, work, make, distribut, back, new, thing<br>--- access, someth, ride, still, mail, washington, pat, health, game, system",
           "+++ take, health, right, point, work, make, could, toronto, thing, well<br>--- control, access, number, repli, rate, bill, firearm, car, crime, gari"
          ],
          [
           "+++ right, public, law, govern, time, could, org, new, even, say<br>--- access, take, sandvik, bill, firearm, crypto, gun, pgp, two, work",
           "+++ time, could, also, state, much, want, tri, new, work, think<br>--- board, take, bill, firearm, gun, thank, well, hous, american, help",
           "+++ someth, take, make, need, could, question, new, even, tri, thing<br>--- ride, public, govern, see, job, said, moral, wire, world, bill",
           "+++ first, time, also, come, back, new, even, well, work, think<br>--- take, rose, world, bill, firearm, gun, two, san, pitch, appear",
           "+++ govern, right, state, work, make, need, could, question, new, tri<br>--- control, data, disk, someth, ride, public, job, said, take, power",
           "+++ <br>--- 9f9, take, air, bill, firearm, max, gun, 7ex, bxn, work",
           "+++ also, program, need, work<br>--- take, email, bill, firearm, gun, thank, includ, anonym, new, well",
           "+++ right, law, time, could, way, also, question, come, want, even<br>--- read, someth, ride, public, govern, see, argument, job, said, take",
           "+++ first, time, back, new, even, well, think, make, good, year<br>--- take, bill, firearm, gun, two, divis, work, canada, play, let",
           "+++ right, much, time, also, want, new, tri, even, say, peopl<br>--- read, someth, ride, public, govern, see, color, number, fast, job",
           "+++ someth, govern, said, take, right, state, make, could, come, question<br>--- ride, arab, see, public, job, islam, isra, bill, opinion, firearm",
           "+++ job, said, stephanopoulo, work, make, could, question, new, well, day<br>--- access, someth, ride, space, public, satellit, govern, nation, power, bank",
           "+++ right, first, govern, time, said, could, state, also, way, new<br>--- someth, ride, turk, greek, uucp, nazi, nation, public, job, take",
           "+++ someth, ride, take, work, make, need, back, new, even, tri<br>--- public, still, govern, see, job, said, repli, washington, bill, firearm",
           "+++ public, take, bill, firearm, gun, right, state, work, make, need<br>--- control, someth, space, weapon, ride, number, govern, job, said, rate"
          ],
          [
           "+++ number, system, right, two, point, make, need, chip, encrypt, may<br>--- enforc, access, data, public, govern, see, caltech, take, sandvik, fan",
           "+++ run, time, could, also, much, bit, new, look, think, make<br>--- board, take, gun, thank, two, work, well, hit, play, score",
           "+++ see, take, system, point, make, need, may, could, new, even<br>--- number, moral, wire, world, gun, two, exist, theori, research, must",
           "+++ game, season, run, player, two, team, win, may, last, new<br>--- best, see, number, escrow, take, repli, mail, rose, fan, world",
           "+++ right, run, two, time, could, also, much, bit, way, new<br>--- disk, take, ibm, car, gun, work, militia, hit, play, score",
           "+++ <br>--- 9f9, take, air, max, gun, two, 7ex, bxn, b8f, b4q",
           "+++ run, may, also, system, need<br>--- take, email, gun, thank, two, includ, work, anonym, new, well",
           "+++ right, law, may, see, could, time, way, also, even, mani<br>--- take, atheist, true, gun, two, exist, belief, man, new, hit",
           "+++ see, fan, game, season, player, two, team, point, make, win<br>--- best, number, leaf, escrow, goal, power, next, take, shot, final",
           "+++ right, two, see, number, bit, much, also, time, new, even<br>--- take, vga, gif, car, gun, thank, work, hit, play, score",
           "+++ right, law, first, two, see, could, time, way, take, also<br>--- arab, gun, jew, new, hit, play, let, case, american, score",
           "+++ first, may, could, time, also, new, well, think, make, system<br>--- access, satellit, take, bank, world, gun, two, work, russian, hit",
           "+++ right, first, two, time, could, also, way, new, even, mani<br>--- turk, greek, take, world, armi, gun, armenia, exist, histori, work",
           "+++ first, two, see, time, much, also, take, new, even, mani<br>--- lot, gun, work, drink, hit, play, score, differ, realli, thing",
           "+++ number, take, gun, right, point, make, need, could, well, defens<br>--- control, public, space, weapon, see, escrow, fan, rate, health, bill"
          ],
          [
           "+++ law, may, could, time, even, say, point, peopl, make<br>--- access, sandvik, atheist, crypto, true, pgp, two, exist, belief, man",
           "+++ time, could, also, want, think, make, good<br>--- board, atheist, true, thank, exist, work, belief, man, new, well",
           "+++ see, mean, exist, point, make, reason, must, may, could, question<br>--- read, someth, argument, take, moral, atheist, wire, world, god, life",
           "+++ time, may, also, come, even, well, think, good<br>--- atheist, rose, world, true, two, san, exist, pitch, work, belief",
           "+++ time, could, also, way, question, want, differ, say, peopl, well<br>--- disk, atheist, ibm, car, true, two, exist, work, militia, belief",
           "+++ <br>--- 9f9, atheist, air, max, true, 7ex, exist, bxn, b8f, belief",
           "+++ also, entri, file, may<br>--- atheist, email, true, thank, exist, includ, work, anonym, belief, man",
           "+++ read, see, atheist, god, life, mean, christ, true, jesu, exist<br>--- seem, human, right, love, file, entri",
           "+++ see, time, even, point, well, think, make, good<br>--- atheist, true, two, exist, divis, belief, man, canada, new, play",
           "+++ read, see, time, also, differ, want, even, say, peopl, well<br>--- atheist, vga, gif, car, true, thank, two, exist, work, belief",
           "+++ law, see, could, time, way, come, question, also, even, mani<br>--- arab, take, atheist, isra, opinion, christ, true, two, fact, exist",
           "+++ may, could, time, also, question, want, well, think, make<br>--- access, satellit, bank, atheist, world, true, exist, work, russian, belief",
           "+++ time, could, also, way, exist, even, mani, say, peopl, well<br>--- turk, greek, atheist, world, armi, true, armenia, two, histori, work",
           "+++ see, time, also, differ, want, even, mani, say, peopl, well<br>--- take, atheist, lot, true, two, exist, work, belief, man, drink",
           "+++ law, time, could, way, differ, also, say, point, peopl, well<br>--- take, atheist, rate, bill, firearm, true, gun, exist, cost, work"
          ],
          [
           "+++ access, data, public, chip, two, distribut, could, may, bit, time<br>--- enforc, moon, number, satellit, sandvik, secret, crypto, pgp, privaci, includ",
           "+++ distribut, could, time, state, also, want, new, comput, much, bit<br>--- board, access, satellit, thank, two, includ, cost, technolog, help, usa",
           "+++ may, could, time, much, also, new, thing, make, system, gener<br>--- access, satellit, take, wire, world, two, exist, includ, cost, theori",
           "+++ first, two, distribut, may, time, also, new, comput, list, work<br>--- access, satellit, rose, world, san, includ, cost, pitch, appear, well",
           "+++ data, scsi, system, engin, two, state, speed, work, make, need<br>--- control, access, disk, moon, satellit, ibm, car, includ, cost, nasa",
           "+++ <br>--- access, satellit, 9f9, air, max, two, 7ex, includ, bxn, cost",
           "+++ data, may, also, comput, includ, program, sun, avail, list, work<br>--- access, satellit, email, thank, two, cost, anonym, new, technolog, help",
           "+++ time, may, also, could, want, make, thing<br>--- access, satellit, atheist, true, two, exist, includ, cost, work, belief",
           "+++ first, two, time, new, make, year<br>--- access, satellit, includ, divis, cost, work, canada, well, play, technolog",
           "+++ two, bit, much, also, time, want, new, comput, work, make<br>--- access, satellit, vga, gif, car, thank, includ, cost, well, technolog",
           "+++ first, two, time, could, also, state, want, make, year<br>--- access, arab, satellit, take, includ, cost, work, jew, new, well",
           "+++ access, space, satellit, system, gener, nasa, work, make, research, mission<br>--- data, public, moon, job, said, nation, power, bank, avail, geb",
           "+++ first, two, time, could, also, state, new, work, year<br>--- access, turk, greek, satellit, world, armi, armenia, exist, includ, cost",
           "+++ first, two, distribut, time, much, also, want, new, sun, thing<br>--- access, satellit, take, lot, includ, cost, drink, well, technolog, differ",
           "+++ public, space, time, could, much, state, also, cost, year, work<br>--- access, satellit, take, rate, bill, firearm, gun, two, includ, new"
          ],
          [
           "+++ right, two, govern, caltech, distribut, may, time, new, comput, peopl<br>--- access, sandvik, bank, wire, crypto, pgp, militia, cco, connect, arm",
           "+++ distribut, time, state, power, repli, tri, new, comput, make, system<br>--- board, bank, wire, thank, two, work, militia, cco, connect, arm",
           "+++ ground, case, may, time, new, tri, good, wire, peopl, well<br>--- take, bank, world, two, exist, theori, militia, cco, connect, arm",
           "+++ first, two, may, distribut, time, repli, new, comput, well, play<br>--- bank, rose, wire, world, san, pitch, work, militia, cco, connect",
           "+++ right, govern, two, distribut, time, state, power, new, tri, militia<br>--- disk, bank, wire, ibm, car, work, cco, connect, arm, amend",
           "+++ <br>--- 9f9, bank, air, wire, max, two, 7ex, bxn, b8f, militia",
           "+++ system, comput, need, may<br>--- bank, email, wire, thank, two, includ, work, anonym, militia, cco",
           "+++ right, may, time, good, peopl, well, make, mean, thing<br>--- bank, atheist, wire, true, two, exist, militia, cco, connect, belief",
           "+++ first, two, period, time, pittsburgh, goal, power, new, well, shot<br>--- bank, wire, divis, militia, cco, connect, arm, canada, amend, pitt",
           "+++ right, two, time, new, tri, comput, peopl, well, make, good<br>--- bank, wire, vga, gif, car, thank, work, militia, cco, connect",
           "+++ right, case, first, two, govern, time, state, tri, peopl, well<br>--- arab, take, bank, wire, militia, jew, cco, connect, arm, new",
           "+++ gordon, first, may, time, power, bank, new, geb, well, make<br>--- access, satellit, wire, world, two, work, militia, russian, cco, connect",
           "+++ right, first, uucp, two, govern, time, state, new, peopl, well<br>--- turk, greek, bank, wire, world, armi, armenia, exist, histori, work",
           "+++ first, two, distribut, time, repli, new, tri, peopl, well, make<br>--- take, bank, wire, lot, work, militia, cco, connect, arm, drink",
           "+++ right, case, time, state, peopl, well, make, good, thing, need<br>--- take, bank, rate, wire, bill, firearm, gun, two, cost, work"
          ],
          [
           "+++ distribut, could, may, call, time, comput, make, system, need<br>--- chang, access, sandvik, crypto, pgp, thank, two, font, work, new",
           "+++ repli, driver, system, run, thank, work, make, need, distribut, could<br>--- control, board, chang, appl, color, set, power, mail, error, widget",
           "+++ think, may, could, time, much, also, way, tri, differ, problem<br>--- chang, take, wire, world, thank, exist, font, theori, work, new",
           "+++ run, distribut, may, time, also, repli, comput, well, work, think<br>--- chang, rose, world, thank, two, san, font, pitch, appear, new",
           "+++ system, run, work, make, need, distribut, could, tri, problem, well<br>--- chang, disk, ibm, car, thank, two, font, militia, new, client",
           "+++ <br>--- chang, 9f9, air, max, thank, 7ex, font, bxn, work, b8f",
           "+++ set, widget, system, version, run, display, thank, work, need, applic<br>--- chang, data, color, error, mail, repli, avail, email, ftp, info",
           "+++ think, may, could, time, way, also, differ, want, well, seem<br>--- chang, atheist, true, thank, exist, font, work, belief, man, client",
           "+++ time, well, think, make, look<br>--- chang, thank, two, font, divis, work, canada, new, client, play",
           "+++ color, driver, display, thank, screen, work, make, need, tri, problem<br>--- chang, read, see, number, fast, set, error, repli, widget, vga",
           "+++ time, could, call, way, also, want, tri, well, think, make<br>--- chang, arab, take, thank, two, font, work, jew, client, let",
           "+++ may, could, time, also, want, program, well, work, think, make<br>--- chang, access, satellit, bank, world, thank, font, russian, new, client",
           "+++ time, could, also, way, well, work<br>--- chang, turk, greek, world, armi, armenia, thank, two, exist, font",
           "+++ distribut, time, much, also, differ, want, repli, tri, well, work<br>--- chang, take, lot, thank, two, font, drink, new, client, help",
           "+++ time, could, much, way, differ, also, problem, well, work, think<br>--- chang, take, rate, bill, firearm, gun, thank, font, cost, client"
          ],
          [
           "+++ data, distribut, bit, new, comput, system, need, inform<br>--- access, board, disk, sandvik, email, crypto, pgp, thank, two, includ",
           "+++ control, board, mail, system, run, thank, machin, work, card, need<br>--- data, appl, disk, color, set, power, repli, info, avail, email",
           "+++ also, new, problem, system, need<br>--- board, disk, take, wire, email, world, thank, exist, includ, theori",
           "+++ run, sale, distribut, also, new, mail, comput, list, work, look<br>--- board, disk, rose, email, world, thank, two, san, includ, pitch",
           "+++ control, data, disk, system, support, run, work, card, need, distribut<br>--- board, color, email, ibm, car, version, display, thank, two, format",
           "+++ <br>--- board, disk, 9f9, air, email, max, thank, 7ex, includ, bxn",
           "+++ data, set, mail, info, avail, email, ftp, system, inform, support<br>--- control, board, disk, color, widget, look, send, internet, machin, anonym",
           "+++ also, want<br>--- board, disk, atheist, email, true, thank, exist, includ, work, belief",
           "+++ new, look<br>--- board, disk, email, thank, two, includ, divis, work, canada, well",
           "+++ color, display, thank, graphic, work, card, need, softwar, new, problem<br>--- control, board, disk, number, email, vga, gif, car, version, two",
           "+++ also, want<br>--- board, disk, arab, take, email, thank, two, includ, work, jew",
           "+++ also, want, new, program, work, system, look<br>--- access, board, disk, satellit, bank, email, world, thank, includ, russian",
           "+++ also, new, work<br>--- board, disk, turk, greek, email, world, armi, armenia, thank, two",
           "+++ distribut, also, want, new, work, need, look<br>--- board, disk, take, email, lot, thank, two, includ, drink, well",
           "+++ control, also, problem, work, need<br>--- board, disk, take, rate, email, bill, firearm, gun, thank, includ"
          ],
          [
           "+++ distribut, number, could, may, call, time, new, comput, say, peopl<br>--- access, sandvik, servic, email, world, car, crypto, pgp, thank, two",
           "+++ repli, mail, driver, system, thank, state, make, distribut, could, call<br>--- control, board, appl, number, power, group, servic, email, world, health",
           "+++ world, system, gener, medic, make, may, could, question, new, mani<br>--- number, take, moral, group, repli, servic, wire, email, car, internet",
           "+++ may, distribut, time, also, repli, mail, new, comput, world, think<br>--- rose, servic, email, car, thank, two, san, pitch, work, anonym",
           "+++ car, system, state, make, distribut, could, question, new, problem, time<br>--- disk, servic, email, world, ibm, thank, two, work, anonym, militia",
           "+++ <br>--- 9f9, servic, air, email, world, car, max, thank, 7ex, bxn",
           "+++ internet, help, thank, may, call, also, comput, mail, problem, email<br>--- servic, world, car, includ, work, new, diseas, mit, differ, program",
           "+++ may, could, time, also, question, differ, want, mani, say, peopl<br>--- atheist, servic, email, world, car, true, thank, exist, anonym, belief",
           "+++ time, new, think, make, look<br>--- servic, email, world, car, thank, two, divis, anonym, canada, well",
           "+++ number, driver, car, thank, make, new, problem, pleas, help, anyon<br>--- servic, email, world, vga, gif, two, work, anonym, well, diseas",
           "+++ time, could, call, state, question, also, want, mani, say, peopl<br>--- arab, take, servic, email, world, car, thank, two, anonym, jew",
           "+++ may, could, time, also, question, want, new, world, think, make<br>--- access, satellit, bank, servic, email, car, thank, work, anonym, russian",
           "+++ time, could, also, state, new, mani, say, peopl, world<br>--- turk, greek, servic, email, armi, car, armenia, thank, two, exist",
           "+++ distribut, time, also, differ, want, repli, new, mani, say, peopl<br>--- take, servic, email, world, car, lot, thank, two, work, anonym",
           "+++ time, could, number, state, differ, also, say, problem, peopl, health<br>--- take, servic, rate, email, world, bill, firearm, car, gun, thank"
          ],
          [
           "+++ right, two, govern, could, call, time, even, say, point, peopl<br>--- access, arab, men, take, sandvik, crypto, pgp, jew, talk, new",
           "+++ time, could, call, state, also, want, tri, think, make<br>--- board, arab, men, take, thank, two, work, jew, talk, new",
           "+++ someth, see, take, moral, seem, mean, point, make, object, could<br>--- arab, govern, men, said, islam, wire, world, isra, homosexu, system",
           "+++ two, time, also, come, even, well, think, year<br>--- arab, men, take, rose, world, san, pitch, work, jew, appear",
           "+++ right, two, govern, could, time, state, question, also, tri, want<br>--- disk, arab, men, take, ibm, car, work, militia, jew, talk",
           "+++ <br>--- arab, men, 9f9, take, air, max, two, 7ex, bxn, b8f",
           "+++ call, also<br>--- arab, men, take, email, thank, two, includ, work, anonym, jew",
           "+++ see, seem, mean, right, point, make, could, question, come, even<br>--- read, someth, arab, govern, men, argument, said, take, moral, atheist",
           "+++ two, see, time, even, point, well, think, make, year<br>--- arab, men, take, divis, jew, canada, talk, new, play, let",
           "+++ right, two, see, time, also, want, tri, even, say, peopl<br>--- arab, men, take, vga, gif, car, thank, work, jew, talk",
           "+++ someth, arab, govern, see, said, take, islam, isra, human, right<br>--- men, moral, homosexu, opinion, seem, countri, mean, point, tell, object",
           "+++ time, could, said, also, question, want, well, think, make, year<br>--- access, arab, men, satellit, take, bank, world, two, work, russian",
           "+++ govern, said, right, two, state, jew, could, even, mani, well<br>--- someth, turk, greek, men, uucp, nazi, nation, arab, see, take",
           "+++ someth, two, see, time, also, take, want, tri, even, mani<br>--- arab, men, lot, work, jew, drink, talk, new, case, differ",
           "+++ right, case, time, could, way, state, take, also, say, point<br>--- arab, men, rate, bill, firearm, gun, two, cost, work, jew"
          ],
          [
           "+++ two, distribut, could, call, time, new, comput, say, peopl, make<br>--- access, sandvik, world, ibm, crypto, pgp, thank, wpi, privat, well",
           "+++ repli, mail, system, run, thank, state, make, card, need, distribut<br>--- control, board, read, appl, someth, school, power, cwru, world, driver",
           "+++ someth, time, could, also, way, new, tri, say, peopl, world<br>--- take, wire, ibm, thank, two, exist, wpi, theori, uchicago, robert",
           "+++ repli, mail, world, run, two, win, distribut, new, well, news<br>--- rose, ibm, thank, san, wpi, pitch, work, appear, hit, dept",
           "+++ ibm, system, engin, run, two, state, card, make, need, distribut<br>--- control, read, data, disk, someth, govern, school, power, cwru, repli",
           "+++ <br>--- 9f9, air, world, ibm, max, thank, two, 7ex, wpi, bxn",
           "+++ run, help, thank, call, also, comput, mail, system, file, need<br>--- email, world, ibm, two, includ, wpi, work, anonym, new, well",
           "+++ read, time, could, way, also, want, say, peopl, well, think<br>--- atheist, world, ibm, true, thank, two, exist, wpi, belief, man",
           "+++ two, time, new, well, think, make, good, look, win<br>--- world, ibm, thank, wpi, divis, canada, play, uchicago, robert, let",
           "+++ read, engin, thank, two, make, card, need, new, tri, well<br>--- someth, see, color, number, fast, school, cwru, repli, mail, world",
           "+++ someth, two, time, could, call, state, way, never, tri, also<br>--- arab, take, world, ibm, thank, wpi, jew, new, uchicago, robert",
           "+++ time, could, also, want, new, world, well, think, make, system<br>--- access, satellit, bank, ibm, thank, two, wpi, work, russian, uchicago",
           "+++ two, time, could, also, state, way, new, say, peopl, world<br>--- turk, greek, armi, ibm, armenia, thank, exist, wpi, histori, work",
           "+++ someth, two, distribut, time, also, want, repli, new, tri, say<br>--- take, world, ibm, lot, thank, wpi, work, drink, uchicago, robert",
           "+++ time, could, way, state, also, say, peopl, well, think, make<br>--- take, rate, world, bill, ibm, firearm, gun, thank, two, wpi"
          ],
          [
           "+++ right, two, govern, could, may, call, time, new, even, say<br>--- access, turk, greek, take, sandvik, world, car, crypto, pgp, armenia",
           "+++ time, could, call, state, also, much, new, problem, work, think<br>--- board, turk, greek, take, world, car, armenia, thank, two, well",
           "+++ see, take, world, point, make, may, could, new, even, mani<br>--- someth, turk, govern, greek, said, moral, drug, wire, seem, system",
           "+++ first, two, may, time, also, back, new, even, world, well<br>--- turk, greek, take, rose, car, armenia, san, pitch, appear, hit",
           "+++ govern, car, engin, right, two, state, work, make, could, new<br>--- control, data, disk, turk, greek, said, see, take, power, drug",
           "+++ <br>--- turk, greek, 9f9, take, air, world, car, max, armenia, two",
           "+++ may, call, also, problem, work<br>--- turk, greek, take, email, world, car, armenia, thank, two, includ",
           "+++ right, may, see, could, time, way, also, even, mani, point<br>--- turk, greek, take, atheist, world, car, true, armenia, two, exist",
           "+++ first, two, see, time, back, new, even, point, well, think<br>--- turk, greek, take, world, car, armenia, divis, work, canada, play",
           "+++ see, car, engin, right, two, work, make, new, even, problem<br>--- turk, greek, color, number, take, world, vga, gif, display, thank",
           "+++ govern, see, said, take, right, two, state, make, war, could<br>--- someth, arab, turk, greek, islam, drug, isra, world, opinion, countri",
           "+++ first, may, said, could, time, also, new, world, well, work<br>--- access, turk, greek, satellit, take, bank, car, armenia, two, russian",
           "+++ turk, govern, greek, said, world, right, armenia, two, state, work<br>--- see, uucp, nazi, nation, take, drug, armi, genocid, soviet, car",
           "+++ see, take, two, work, make, back, new, msg, even, mani<br>--- someth, ride, still, turk, govern, greek, said, repli, drug, washington",
           "+++ take, right, state, point, work, make, could, problem, thing, well<br>--- turk, greek, rate, world, bill, firearm, car, gun, armenia, two"
          ]
         ],
         "type": "heatmap",
         "z": [
          [
           0.8888888888888888,
           0.8888888888888888,
           0.7341772151898734,
           0.8372093023255813,
           0.8095238095238095,
           1,
           0.9795918367346939,
           0.7804878048780488,
           0.8505747126436781,
           0.8372093023255813,
           0.7012987012987013,
           0.8636363636363636,
           0.8372093023255813,
           0.7654320987654322,
           0.7341772151898734
          ],
          [
           0.9130434782608696,
           0.8095238095238095,
           0.7341772151898734,
           0.7951807228915663,
           0.717948717948718,
           1,
           0.9361702127659575,
           0.8235294117647058,
           0.9010989010989011,
           0.75,
           0.8505747126436781,
           0.8095238095238095,
           0.8636363636363636,
           0.7341772151898734,
           0.8505747126436781
          ],
          [
           1,
           1,
           1,
           1,
           1,
           0.14814814814814814,
           1,
           1,
           1,
           1,
           1,
           1,
           1,
           1,
           1
          ],
          [
           0.8505747126436781,
           0.8235294117647058,
           0.7951807228915663,
           0.7654320987654322,
           0.7804878048780488,
           1,
           0.9473684210526316,
           0.8095238095238095,
           0.8372093023255813,
           0.8095238095238095,
           0.8095238095238095,
           0.8372093023255813,
           0.8888888888888888,
           0.7341772151898734,
           0.7654320987654322
          ],
          [
           0.8505747126436781,
           0.8372093023255813,
           0.7341772151898734,
           0.8505747126436781,
           0.717948717948718,
           1,
           0.9583333333333334,
           0.7951807228915663,
           0.8764044943820225,
           0.7804878048780488,
           0.6486486486486487,
           0.7654320987654322,
           0.8095238095238095,
           0.6486486486486487,
           0.6842105263157895
          ],
          [
           0.7341772151898734,
           0.8372093023255813,
           0.75,
           0.717948717948718,
           0.7804878048780488,
           1,
           0.9473684210526316,
           0.8095238095238095,
           0.6486486486486487,
           0.7951807228915663,
           0.7951807228915663,
           0.8636363636363636,
           0.8505747126436781,
           0.7804878048780488,
           0.75
          ],
          [
           0.9010989010989011,
           0.9247311827956989,
           0.717948717948718,
           0.9130434782608696,
           0.8372093023255813,
           1,
           0.9583333333333334,
           0.1132075471698113,
           0.9130434782608696,
           0.8372093023255813,
           0.7951807228915663,
           0.9010989010989011,
           0.8888888888888888,
           0.8372093023255813,
           0.8235294117647058
          ],
          [
           0.7804878048780488,
           0.8235294117647058,
           0.8505747126436781,
           0.8764044943820225,
           0.7654320987654322,
           1,
           0.8505747126436781,
           0.9247311827956989,
           0.9361702127659575,
           0.8505747126436781,
           0.9010989010989011,
           0.6666666666666667,
           0.9010989010989011,
           0.8372093023255813,
           0.8505747126436781
          ],
          [
           0.8505747126436781,
           0.8636363636363636,
           0.8235294117647058,
           0.8764044943820225,
           0.7951807228915663,
           1,
           0.9583333333333334,
           0.9010989010989011,
           0.8372093023255813,
           0.8636363636363636,
           0.8764044943820225,
           0.8636363636363636,
           0.8888888888888888,
           0.8505747126436781,
           0.8888888888888888
          ],
          [
           0.9010989010989011,
           0.6666666666666667,
           0.8095238095238095,
           0.8764044943820225,
           0.7654320987654322,
           1,
           0.7012987012987013,
           0.8636363636363636,
           0.9473684210526316,
           0.717948717948718,
           0.8888888888888888,
           0.8636363636363636,
           0.9361702127659575,
           0.8235294117647058,
           0.8505747126436781
          ],
          [
           0.9130434782608696,
           0.6486486486486487,
           0.9473684210526316,
           0.8764044943820225,
           0.7654320987654322,
           1,
           0.5294117647058824,
           0.9795918367346939,
           0.9795918367346939,
           0.75,
           0.9795918367346939,
           0.9247311827956989,
           0.9690721649484536,
           0.9247311827956989,
           0.9473684210526316
          ],
          [
           0.8372093023255813,
           0.7012987012987013,
           0.7654320987654322,
           0.8372093023255813,
           0.7654320987654322,
           1,
           0.8372093023255813,
           0.8505747126436781,
           0.9473684210526316,
           0.75,
           0.8636363636363636,
           0.8505747126436781,
           0.9010989010989011,
           0.8235294117647058,
           0.8505747126436781
          ],
          [
           0.8764044943820225,
           0.9010989010989011,
           0.6842105263157895,
           0.9130434782608696,
           0.7951807228915663,
           1,
           0.9795918367346939,
           0.7341772151898734,
           0.9010989010989011,
           0.8235294117647058,
           0.3870967741935484,
           0.8888888888888888,
           0.7654320987654322,
           0.7951807228915663,
           0.7951807228915663
          ],
          [
           0.8636363636363636,
           0.6666666666666667,
           0.7951807228915663,
           0.7654320987654322,
           0.6842105263157895,
           1,
           0.8764044943820225,
           0.8505747126436781,
           0.9010989010989011,
           0.7012987012987013,
           0.7951807228915663,
           0.8764044943820225,
           0.8764044943820225,
           0.7804878048780488,
           0.8505747126436781
          ],
          [
           0.8505747126436781,
           0.8636363636363636,
           0.717948717948718,
           0.8372093023255813,
           0.7341772151898734,
           1,
           0.9473684210526316,
           0.7951807228915663,
           0.8505747126436781,
           0.7654320987654322,
           0.6666666666666667,
           0.8372093023255813,
           0.5714285714285714,
           0.7012987012987013,
           0.7654320987654322
          ]
         ]
        }
       ],
       "layout": {
        "height": 950,
        "template": {
         "data": {
          "bar": [
           {
            "error_x": {
             "color": "#2a3f5f"
            },
            "error_y": {
             "color": "#2a3f5f"
            },
            "marker": {
             "line": {
              "color": "#E5ECF6",
              "width": 0.5
             },
             "pattern": {
              "fillmode": "overlay",
              "size": 10,
              "solidity": 0.2
             }
            },
            "type": "bar"
           }
          ],
          "barpolar": [
           {
            "marker": {
             "line": {
              "color": "#E5ECF6",
              "width": 0.5
             },
             "pattern": {
              "fillmode": "overlay",
              "size": 10,
              "solidity": 0.2
             }
            },
            "type": "barpolar"
           }
          ],
          "carpet": [
           {
            "aaxis": {
             "endlinecolor": "#2a3f5f",
             "gridcolor": "white",
             "linecolor": "white",
             "minorgridcolor": "white",
             "startlinecolor": "#2a3f5f"
            },
            "baxis": {
             "endlinecolor": "#2a3f5f",
             "gridcolor": "white",
             "linecolor": "white",
             "minorgridcolor": "white",
             "startlinecolor": "#2a3f5f"
            },
            "type": "carpet"
           }
          ],
          "choropleth": [
           {
            "colorbar": {
             "outlinewidth": 0,
             "ticks": ""
            },
            "type": "choropleth"
           }
          ],
          "contour": [
           {
            "colorbar": {
             "outlinewidth": 0,
             "ticks": ""
            },
            "colorscale": [
             [
              0,
              "#0d0887"
             ],
             [
              0.1111111111111111,
              "#46039f"
             ],
             [
              0.2222222222222222,
              "#7201a8"
             ],
             [
              0.3333333333333333,
              "#9c179e"
             ],
             [
              0.4444444444444444,
              "#bd3786"
             ],
             [
              0.5555555555555556,
              "#d8576b"
             ],
             [
              0.6666666666666666,
              "#ed7953"
             ],
             [
              0.7777777777777778,
              "#fb9f3a"
             ],
             [
              0.8888888888888888,
              "#fdca26"
             ],
             [
              1,
              "#f0f921"
             ]
            ],
            "type": "contour"
           }
          ],
          "contourcarpet": [
           {
            "colorbar": {
             "outlinewidth": 0,
             "ticks": ""
            },
            "type": "contourcarpet"
           }
          ],
          "heatmap": [
           {
            "colorbar": {
             "outlinewidth": 0,
             "ticks": ""
            },
            "colorscale": [
             [
              0,
              "#0d0887"
             ],
             [
              0.1111111111111111,
              "#46039f"
             ],
             [
              0.2222222222222222,
              "#7201a8"
             ],
             [
              0.3333333333333333,
              "#9c179e"
             ],
             [
              0.4444444444444444,
              "#bd3786"
             ],
             [
              0.5555555555555556,
              "#d8576b"
             ],
             [
              0.6666666666666666,
              "#ed7953"
             ],
             [
              0.7777777777777778,
              "#fb9f3a"
             ],
             [
              0.8888888888888888,
              "#fdca26"
             ],
             [
              1,
              "#f0f921"
             ]
            ],
            "type": "heatmap"
           }
          ],
          "heatmapgl": [
           {
            "colorbar": {
             "outlinewidth": 0,
             "ticks": ""
            },
            "colorscale": [
             [
              0,
              "#0d0887"
             ],
             [
              0.1111111111111111,
              "#46039f"
             ],
             [
              0.2222222222222222,
              "#7201a8"
             ],
             [
              0.3333333333333333,
              "#9c179e"
             ],
             [
              0.4444444444444444,
              "#bd3786"
             ],
             [
              0.5555555555555556,
              "#d8576b"
             ],
             [
              0.6666666666666666,
              "#ed7953"
             ],
             [
              0.7777777777777778,
              "#fb9f3a"
             ],
             [
              0.8888888888888888,
              "#fdca26"
             ],
             [
              1,
              "#f0f921"
             ]
            ],
            "type": "heatmapgl"
           }
          ],
          "histogram": [
           {
            "marker": {
             "pattern": {
              "fillmode": "overlay",
              "size": 10,
              "solidity": 0.2
             }
            },
            "type": "histogram"
           }
          ],
          "histogram2d": [
           {
            "colorbar": {
             "outlinewidth": 0,
             "ticks": ""
            },
            "colorscale": [
             [
              0,
              "#0d0887"
             ],
             [
              0.1111111111111111,
              "#46039f"
             ],
             [
              0.2222222222222222,
              "#7201a8"
             ],
             [
              0.3333333333333333,
              "#9c179e"
             ],
             [
              0.4444444444444444,
              "#bd3786"
             ],
             [
              0.5555555555555556,
              "#d8576b"
             ],
             [
              0.6666666666666666,
              "#ed7953"
             ],
             [
              0.7777777777777778,
              "#fb9f3a"
             ],
             [
              0.8888888888888888,
              "#fdca26"
             ],
             [
              1,
              "#f0f921"
             ]
            ],
            "type": "histogram2d"
           }
          ],
          "histogram2dcontour": [
           {
            "colorbar": {
             "outlinewidth": 0,
             "ticks": ""
            },
            "colorscale": [
             [
              0,
              "#0d0887"
             ],
             [
              0.1111111111111111,
              "#46039f"
             ],
             [
              0.2222222222222222,
              "#7201a8"
             ],
             [
              0.3333333333333333,
              "#9c179e"
             ],
             [
              0.4444444444444444,
              "#bd3786"
             ],
             [
              0.5555555555555556,
              "#d8576b"
             ],
             [
              0.6666666666666666,
              "#ed7953"
             ],
             [
              0.7777777777777778,
              "#fb9f3a"
             ],
             [
              0.8888888888888888,
              "#fdca26"
             ],
             [
              1,
              "#f0f921"
             ]
            ],
            "type": "histogram2dcontour"
           }
          ],
          "mesh3d": [
           {
            "colorbar": {
             "outlinewidth": 0,
             "ticks": ""
            },
            "type": "mesh3d"
           }
          ],
          "parcoords": [
           {
            "line": {
             "colorbar": {
              "outlinewidth": 0,
              "ticks": ""
             }
            },
            "type": "parcoords"
           }
          ],
          "pie": [
           {
            "automargin": true,
            "type": "pie"
           }
          ],
          "scatter": [
           {
            "fillpattern": {
             "fillmode": "overlay",
             "size": 10,
             "solidity": 0.2
            },
            "type": "scatter"
           }
          ],
          "scatter3d": [
           {
            "line": {
             "colorbar": {
              "outlinewidth": 0,
              "ticks": ""
             }
            },
            "marker": {
             "colorbar": {
              "outlinewidth": 0,
              "ticks": ""
             }
            },
            "type": "scatter3d"
           }
          ],
          "scattercarpet": [
           {
            "marker": {
             "colorbar": {
              "outlinewidth": 0,
              "ticks": ""
             }
            },
            "type": "scattercarpet"
           }
          ],
          "scattergeo": [
           {
            "marker": {
             "colorbar": {
              "outlinewidth": 0,
              "ticks": ""
             }
            },
            "type": "scattergeo"
           }
          ],
          "scattergl": [
           {
            "marker": {
             "colorbar": {
              "outlinewidth": 0,
              "ticks": ""
             }
            },
            "type": "scattergl"
           }
          ],
          "scattermapbox": [
           {
            "marker": {
             "colorbar": {
              "outlinewidth": 0,
              "ticks": ""
             }
            },
            "type": "scattermapbox"
           }
          ],
          "scatterpolar": [
           {
            "marker": {
             "colorbar": {
              "outlinewidth": 0,
              "ticks": ""
             }
            },
            "type": "scatterpolar"
           }
          ],
          "scatterpolargl": [
           {
            "marker": {
             "colorbar": {
              "outlinewidth": 0,
              "ticks": ""
             }
            },
            "type": "scatterpolargl"
           }
          ],
          "scatterternary": [
           {
            "marker": {
             "colorbar": {
              "outlinewidth": 0,
              "ticks": ""
             }
            },
            "type": "scatterternary"
           }
          ],
          "surface": [
           {
            "colorbar": {
             "outlinewidth": 0,
             "ticks": ""
            },
            "colorscale": [
             [
              0,
              "#0d0887"
             ],
             [
              0.1111111111111111,
              "#46039f"
             ],
             [
              0.2222222222222222,
              "#7201a8"
             ],
             [
              0.3333333333333333,
              "#9c179e"
             ],
             [
              0.4444444444444444,
              "#bd3786"
             ],
             [
              0.5555555555555556,
              "#d8576b"
             ],
             [
              0.6666666666666666,
              "#ed7953"
             ],
             [
              0.7777777777777778,
              "#fb9f3a"
             ],
             [
              0.8888888888888888,
              "#fdca26"
             ],
             [
              1,
              "#f0f921"
             ]
            ],
            "type": "surface"
           }
          ],
          "table": [
           {
            "cells": {
             "fill": {
              "color": "#EBF0F8"
             },
             "line": {
              "color": "white"
             }
            },
            "header": {
             "fill": {
              "color": "#C8D4E3"
             },
             "line": {
              "color": "white"
             }
            },
            "type": "table"
           }
          ]
         },
         "layout": {
          "annotationdefaults": {
           "arrowcolor": "#2a3f5f",
           "arrowhead": 0,
           "arrowwidth": 1
          },
          "autotypenumbers": "strict",
          "coloraxis": {
           "colorbar": {
            "outlinewidth": 0,
            "ticks": ""
           }
          },
          "colorscale": {
           "diverging": [
            [
             0,
             "#8e0152"
            ],
            [
             0.1,
             "#c51b7d"
            ],
            [
             0.2,
             "#de77ae"
            ],
            [
             0.3,
             "#f1b6da"
            ],
            [
             0.4,
             "#fde0ef"
            ],
            [
             0.5,
             "#f7f7f7"
            ],
            [
             0.6,
             "#e6f5d0"
            ],
            [
             0.7,
             "#b8e186"
            ],
            [
             0.8,
             "#7fbc41"
            ],
            [
             0.9,
             "#4d9221"
            ],
            [
             1,
             "#276419"
            ]
           ],
           "sequential": [
            [
             0,
             "#0d0887"
            ],
            [
             0.1111111111111111,
             "#46039f"
            ],
            [
             0.2222222222222222,
             "#7201a8"
            ],
            [
             0.3333333333333333,
             "#9c179e"
            ],
            [
             0.4444444444444444,
             "#bd3786"
            ],
            [
             0.5555555555555556,
             "#d8576b"
            ],
            [
             0.6666666666666666,
             "#ed7953"
            ],
            [
             0.7777777777777778,
             "#fb9f3a"
            ],
            [
             0.8888888888888888,
             "#fdca26"
            ],
            [
             1,
             "#f0f921"
            ]
           ],
           "sequentialminus": [
            [
             0,
             "#0d0887"
            ],
            [
             0.1111111111111111,
             "#46039f"
            ],
            [
             0.2222222222222222,
             "#7201a8"
            ],
            [
             0.3333333333333333,
             "#9c179e"
            ],
            [
             0.4444444444444444,
             "#bd3786"
            ],
            [
             0.5555555555555556,
             "#d8576b"
            ],
            [
             0.6666666666666666,
             "#ed7953"
            ],
            [
             0.7777777777777778,
             "#fb9f3a"
            ],
            [
             0.8888888888888888,
             "#fdca26"
            ],
            [
             1,
             "#f0f921"
            ]
           ]
          },
          "colorway": [
           "#636efa",
           "#EF553B",
           "#00cc96",
           "#ab63fa",
           "#FFA15A",
           "#19d3f3",
           "#FF6692",
           "#B6E880",
           "#FF97FF",
           "#FECB52"
          ],
          "font": {
           "color": "#2a3f5f"
          },
          "geo": {
           "bgcolor": "white",
           "lakecolor": "white",
           "landcolor": "#E5ECF6",
           "showlakes": true,
           "showland": true,
           "subunitcolor": "white"
          },
          "hoverlabel": {
           "align": "left"
          },
          "hovermode": "closest",
          "mapbox": {
           "style": "light"
          },
          "paper_bgcolor": "white",
          "plot_bgcolor": "#E5ECF6",
          "polar": {
           "angularaxis": {
            "gridcolor": "white",
            "linecolor": "white",
            "ticks": ""
           },
           "bgcolor": "#E5ECF6",
           "radialaxis": {
            "gridcolor": "white",
            "linecolor": "white",
            "ticks": ""
           }
          },
          "scene": {
           "xaxis": {
            "backgroundcolor": "#E5ECF6",
            "gridcolor": "white",
            "gridwidth": 2,
            "linecolor": "white",
            "showbackground": true,
            "ticks": "",
            "zerolinecolor": "white"
           },
           "yaxis": {
            "backgroundcolor": "#E5ECF6",
            "gridcolor": "white",
            "gridwidth": 2,
            "linecolor": "white",
            "showbackground": true,
            "ticks": "",
            "zerolinecolor": "white"
           },
           "zaxis": {
            "backgroundcolor": "#E5ECF6",
            "gridcolor": "white",
            "gridwidth": 2,
            "linecolor": "white",
            "showbackground": true,
            "ticks": "",
            "zerolinecolor": "white"
           }
          },
          "shapedefaults": {
           "line": {
            "color": "#2a3f5f"
           }
          },
          "ternary": {
           "aaxis": {
            "gridcolor": "white",
            "linecolor": "white",
            "ticks": ""
           },
           "baxis": {
            "gridcolor": "white",
            "linecolor": "white",
            "ticks": ""
           },
           "bgcolor": "#E5ECF6",
           "caxis": {
            "gridcolor": "white",
            "linecolor": "white",
            "ticks": ""
           }
          },
          "title": {
           "x": 0.05
          },
          "xaxis": {
           "automargin": true,
           "gridcolor": "white",
           "linecolor": "white",
           "ticks": "",
           "title": {
            "standoff": 15
           },
           "zerolinecolor": "white",
           "zerolinewidth": 2
          },
          "yaxis": {
           "automargin": true,
           "gridcolor": "white",
           "linecolor": "white",
           "ticks": "",
           "title": {
            "standoff": 15
           },
           "zerolinecolor": "white",
           "zerolinewidth": 2
          }
         }
        },
        "title": {
         "text": "Topic difference (two models) [jaccard distance]"
        },
        "width": 950,
        "xaxis": {
         "autorange": true,
         "range": [
          -0.5,
          14.5
         ],
         "title": {
          "text": "topic"
         }
        },
        "yaxis": {
         "autorange": true,
         "range": [
          -0.5,
          14.5
         ],
         "title": {
          "text": "topic"
         }
        }
       }
      },
      "image/png": "[encoded data removed]"
     },
     "metadata": {},
     "output_type": "display_data"
    }
   ],
   "source": [
    "mdiff, annotation = lda_fst.diff(lda_snd, distance='jaccard', num_words=50)\n",
    "plot_difference(mdiff, title=\"Topic difference (two models) [jaccard distance]\", annotation=annotation)"
   ]
  },
  {
   "cell_type": "markdown",
   "metadata": {},
   "source": [
    "Looking at this matrix, you can find similar and different topics between the two models.\n",
    "The plot also includes relevant tokens describing the topics' intersection and difference.\n",
    "\n",
    "\n"
   ]
  }
 ],
 "metadata": {
  "kernelspec": {
   "display_name": "Python 3 (ipykernel)",
   "language": "python",
   "name": "python3"
  },
  "language_info": {
   "codemirror_mode": {
    "name": "ipython",
    "version": 3
   },
   "file_extension": ".py",
   "mimetype": "text/x-python",
   "name": "python",
   "nbconvert_exporter": "python",
   "pygments_lexer": "ipython3",
   "version": "3.11.5"
  },
  "widgets": {
   "application/vnd.jupyter.widget-state+json": {
    "state": {},
    "version_major": 2,
    "version_minor": 0
   }
  }
 },
 "nbformat": 4,
 "nbformat_minor": 4
}
