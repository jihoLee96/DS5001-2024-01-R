{
 "cells": [
  {
   "cell_type": "markdown",
   "id": "01b15f46-a963-41df-918f-2d28ba2bf627",
   "metadata": {},
   "source": [
    "# LDA with Gensim\n",
    "\n",
    "```yaml\n",
    "Course:    DS 5001 \n",
    "Module:    08 Lab\n",
    "Topic:     LDA with Gensim\n",
    "Author:    R.C. Alvarado\n",
    "Date:      05 March 2024\n",
    "```\n",
    "\n",
    "**Purpose:** Using Gensim to generate topic models."
   ]
  },
  {
   "cell_type": "markdown",
   "id": "a51059c6-192b-4144-92b1-34429a72007c",
   "metadata": {},
   "source": [
    "# Set Up"
   ]
  },
  {
   "cell_type": "markdown",
   "id": "090f671b-3226-4d3e-b693-8bed61b7fcc6",
   "metadata": {
    "tags": []
   },
   "source": [
    "## Config"
   ]
  },
  {
   "cell_type": "code",
   "execution_count": 1,
   "id": "dfd1a939",
   "metadata": {
    "tags": []
   },
   "outputs": [],
   "source": [
    "import configparser\n",
    "config = configparser.ConfigParser()\n",
    "config.read('../../../env.ini')\n",
    "data_home = config['DEFAULT']['data_home']\n",
    "output_dir = config['DEFAULT']['output_dir']\n",
    "local_lib = config['DEFAULT']['local_lib']"
   ]
  },
  {
   "cell_type": "code",
   "execution_count": 2,
   "id": "99dfd55a-39e9-4cbc-b742-43b94abba488",
   "metadata": {
    "tags": []
   },
   "outputs": [],
   "source": [
    "data_prefix = 'austen-melville'"
   ]
  },
  {
   "cell_type": "markdown",
   "id": "94c4de45-a051-4ab7-833f-04fdb8ab4339",
   "metadata": {},
   "source": [
    "## Imports"
   ]
  },
  {
   "cell_type": "code",
   "execution_count": 3,
   "id": "e52f9f39-a99f-48a6-bbc5-ea966ed0d59d",
   "metadata": {
    "tags": []
   },
   "outputs": [],
   "source": [
    "import pandas as pd\n",
    "import numpy as np\n",
    "from gensim.corpora import Dictionary\n",
    "from gensim.models import LdaModel"
   ]
  },
  {
   "cell_type": "markdown",
   "id": "389d32f9-7e9f-41a4-a18f-d95497e6c092",
   "metadata": {},
   "source": [
    "# Get Data"
   ]
  },
  {
   "cell_type": "code",
   "execution_count": 4,
   "id": "24578ef9-72fd-4406-ad0f-bb2f0bb96b49",
   "metadata": {
    "tags": []
   },
   "outputs": [],
   "source": [
    "TOKENS = pd.read_csv(f\"{output_dir}/{data_prefix}-TOKEN.csv\")\n",
    "OHCO = list(TOKENS.columns[:5])\n",
    "TOKENS = TOKENS.set_index(OHCO)"
   ]
  },
  {
   "cell_type": "markdown",
   "id": "6085ab1d-4008-4171-a259-001ddbead6b7",
   "metadata": {},
   "source": [
    "# Create Gensum Corpus"
   ]
  },
  {
   "cell_type": "markdown",
   "id": "2b0d4894-e927-4197-998e-a136013b008d",
   "metadata": {},
   "source": [
    "We convert our TOKENS table into Gensim data structures.\n",
    "\n",
    "Gensim uses lists and dictionaries wrapped in objects to provide various kinds of access.\n",
    "\n",
    "Note that this is a bit of reinventing the wheel and it's not faster than what we've been doing with Pandas."
   ]
  },
  {
   "cell_type": "code",
   "execution_count": 5,
   "id": "4ffc6059-4dde-4d42-b578-6567db7e49f0",
   "metadata": {},
   "outputs": [],
   "source": [
    "TOKENS['pos_group'] = TOKENS.pos.str[:2]"
   ]
  },
  {
   "cell_type": "code",
   "execution_count": 6,
   "id": "24ab154b-361f-40a6-a6d3-aba478028143",
   "metadata": {},
   "outputs": [],
   "source": [
    "CORPUS = TOKENS[TOKENS.pos_group.str.contains('NN|VB') & ~TOKENS.pos.str.contains('NNP')]"
   ]
  },
  {
   "cell_type": "code",
   "execution_count": 7,
   "id": "ffb1dc8d-8796-482d-87f4-349c9f2bf8ed",
   "metadata": {
    "tags": []
   },
   "outputs": [],
   "source": [
    "DOCS = CORPUS.dropna().groupby(OHCO[:3]).term_str.apply(list)"
   ]
  },
  {
   "cell_type": "code",
   "execution_count": 8,
   "id": "82f9a996-82b9-4a23-aa47-cc58c08e7a3f",
   "metadata": {
    "tags": []
   },
   "outputs": [
    {
     "data": {
      "text/plain": [
       "book_id  chap_num  para_num\n",
       "105      1         1           [was, man, who, amusement, took, book, found, ...\n",
       "                   2                                                    [elliot]\n",
       "                   3           [walter, born, married, daughter, county, lady...\n",
       "                   4           [had, paragraph, stood, printers, hands, had, ...\n",
       "                   5           [followed, history, rise, ancient, family, ter...\n",
       "                                                     ...                        \n",
       "53861    15        20          [innate, disdain, bred, seamen, gees, receives...\n",
       "                   21          [is, work, be, gees, stand, round, sulks, here...\n",
       "                   22          [intellect, has, been, cultivated, well, attes...\n",
       "                   23          [account, perhaps, ethnologists, raise, curios...\n",
       "                   24          [sketchy, view, gee, information, apply, whali...\n",
       "Name: term_str, Length: 30336, dtype: object"
      ]
     },
     "execution_count": 8,
     "metadata": {},
     "output_type": "execute_result"
    }
   ],
   "source": [
    "DOCS"
   ]
  },
  {
   "cell_type": "code",
   "execution_count": 9,
   "id": "af52990f-a8ea-42af-8cb8-bf2fd640cc8c",
   "metadata": {
    "tags": []
   },
   "outputs": [],
   "source": [
    "vocab = Dictionary(DOCS.tolist()) \n",
    "vocab.filter_extremes(no_below=20, no_above=0.5)\n",
    "corpus = [vocab.doc2bow(doc) for doc in DOCS.tolist()]"
   ]
  },
  {
   "cell_type": "markdown",
   "id": "9beeee4e-ec4f-4fcc-84b7-5dbafc816ba7",
   "metadata": {},
   "source": [
    "# Generate LDA\n",
    "\n",
    "Next, we train a model using Gensim's LDA topic modeler."
   ]
  },
  {
   "cell_type": "markdown",
   "id": "3c8a6246-2438-4fa8-9d65-3ce22f13037f",
   "metadata": {
    "jp-MarkdownHeadingCollapsed": true,
    "tags": []
   },
   "source": [
    "We set some training parameters."
   ]
  },
  {
   "cell_type": "markdown",
   "id": "9b317782-29ae-44a8-a2f4-6b7f596b6bd2",
   "metadata": {},
   "source": [
    "Regarding these, here are some notes from the Gensim site:\n",
    "\n",
    "> First of all, the elephant in the room: how many topics do I need? There is\n",
    "really no easy answer for this, it will depend on both your data and your\n",
    "application. I have used 10 topics here because I wanted to have a few topics\n",
    "that I could interpret and \"label\", and because that turned out to give me\n",
    "reasonably good results. You might not need to interpret all your topics, so\n",
    "you could use a large number of topics, for example 100.\n",
    "\n",
    "> ``chunksize`` controls how many documents are processed at a time in the\n",
    "training algorithm. Increasing chunksize will speed up training, at least as\n",
    "long as the chunk of documents easily fit into memory. I've set ``chunksize =\n",
    "2000``, which is more than the amount of documents, so I process all the\n",
    "data in one go. Chunksize can however influence the quality of the model, as\n",
    "discussed in Hoffman and co-authors [2], but the difference was not\n",
    "substantial in this case.\n",
    "\n",
    "> ``passes`` controls how often we train the model on the entire corpus.\n",
    "Another word for passes might be \"epochs\". ``iterations`` is somewhat\n",
    "technical, but essentially it controls how often we repeat a particular loop\n",
    "over each document. It is important to set the number of \"passes\" and\n",
    "\"iterations\" high enough.\n",
    "\n",
    "> I suggest the following way to choose iterations and passes. First, enable\n",
    "logging (as described in many Gensim tutorials), and set ``eval_every = 1``\n",
    "in ``LdaModel``. When training the model look for a line in the log that\n",
    "looks something like this::\n",
    "\n",
    ">```2016-06-21 15:40:06,753 - gensim.models.ldamodel - DEBUG - 68/1566 documents converged within 400 iterations```\n",
    "\n",
    "> If you set ``passes = 20`` you will see this line 20 times. Make sure that by\n",
    "the final passes, most of the documents have converged. So you want to choose\n",
    "both passes and iterations to be high enough for this to happen.\n",
    "\n",
    "> We set ``alpha = 'auto'`` and ``eta = 'auto'``. Again this is somewhat\n",
    "technical, but essentially we are automatically learning two parameters in\n",
    "the model that we usually would have to specify explicitly.\n",
    "\n",
    "\n"
   ]
  },
  {
   "cell_type": "code",
   "execution_count": 10,
   "id": "7354845e-7d4d-4d0f-a30f-6aa7cad45fe0",
   "metadata": {
    "tags": []
   },
   "outputs": [],
   "source": [
    "num_topics = 40\n",
    "chunksize = 2000\n",
    "passes = 20\n",
    "iterations = 400\n",
    "eval_every = None  # Don't evaluate model perplexity, takes too much time."
   ]
  },
  {
   "cell_type": "markdown",
   "id": "68ff2937-01be-4ce0-aa51-d4943764a239",
   "metadata": {
    "tags": []
   },
   "source": [
    "We also make an index to word dictionary, since the model wants it."
   ]
  },
  {
   "cell_type": "code",
   "execution_count": 11,
   "id": "644127b3-a167-4f59-8e00-212fca3f8407",
   "metadata": {
    "tags": []
   },
   "outputs": [],
   "source": [
    "temp = vocab[0]  # This is only to \"load\" the dictionary.\n",
    "id2word = vocab.id2token"
   ]
  },
  {
   "cell_type": "code",
   "execution_count": 12,
   "id": "220a36a2-5a65-4aa3-b12f-3262cf67c4f8",
   "metadata": {
    "tags": []
   },
   "outputs": [],
   "source": [
    "model = LdaModel(\n",
    "    corpus=corpus,\n",
    "    id2word=id2word,\n",
    "    chunksize=chunksize,\n",
    "    alpha='auto',\n",
    "    eta='auto',\n",
    "    iterations=iterations,\n",
    "    num_topics=num_topics,\n",
    "    passes=passes,\n",
    "    eval_every=eval_every\n",
    ")"
   ]
  },
  {
   "cell_type": "markdown",
   "id": "5080570b-f0c0-4c3c-b23d-67b6a77a7685",
   "metadata": {},
   "source": [
    "# Inspect Results"
   ]
  },
  {
   "cell_type": "code",
   "execution_count": 13,
   "id": "69b15af7-44b5-4ad2-afb2-9bf612b18bae",
   "metadata": {
    "tags": []
   },
   "outputs": [],
   "source": [
    "PHI_gs = pd.DataFrame(model.get_topics(), columns=[v[1] for v in vocab.items()])"
   ]
  },
  {
   "cell_type": "code",
   "execution_count": 14,
   "id": "5bbd918c-7bbc-4b15-b5bd-c0f9013e4aca",
   "metadata": {
    "tags": []
   },
   "outputs": [],
   "source": [
    "THETA_gs = pd.DataFrame([(i, t[0], t[1]) \n",
    "    for i, d in enumerate(model.get_document_topics(corpus)) \n",
    "    for t in d],\n",
    "    columns=['doc_id', 'topic_id', 'topic_weight'])\\\n",
    "    .set_index(['doc_id','topic_id'])\\\n",
    "    .unstack(fill_value=0)\n",
    "THETA_gs.index = DOCS.index\n",
    "THETA_gs.columns = THETA_gs.columns.droplevel(0)"
   ]
  },
  {
   "cell_type": "code",
   "execution_count": 15,
   "id": "bd182314-a8d9-4c7e-a997-e0074bb99dff",
   "metadata": {
    "tags": []
   },
   "outputs": [
    {
     "data": {
      "text/html": [
       "<div>\n",
       "<style scoped>\n",
       "    .dataframe tbody tr th:only-of-type {\n",
       "        vertical-align: middle;\n",
       "    }\n",
       "\n",
       "    .dataframe tbody tr th {\n",
       "        vertical-align: top;\n",
       "    }\n",
       "\n",
       "    .dataframe thead th {\n",
       "        text-align: right;\n",
       "    }\n",
       "</style>\n",
       "<table border=\"1\" class=\"dataframe\">\n",
       "  <thead>\n",
       "    <tr style=\"text-align: right;\">\n",
       "      <th></th>\n",
       "      <th></th>\n",
       "      <th>topic_id</th>\n",
       "      <th>0</th>\n",
       "      <th>1</th>\n",
       "      <th>2</th>\n",
       "      <th>3</th>\n",
       "      <th>4</th>\n",
       "      <th>5</th>\n",
       "      <th>6</th>\n",
       "      <th>7</th>\n",
       "      <th>8</th>\n",
       "      <th>9</th>\n",
       "      <th>...</th>\n",
       "      <th>30</th>\n",
       "      <th>31</th>\n",
       "      <th>32</th>\n",
       "      <th>33</th>\n",
       "      <th>34</th>\n",
       "      <th>35</th>\n",
       "      <th>36</th>\n",
       "      <th>37</th>\n",
       "      <th>38</th>\n",
       "      <th>39</th>\n",
       "    </tr>\n",
       "    <tr>\n",
       "      <th>book_id</th>\n",
       "      <th>chap_num</th>\n",
       "      <th>para_num</th>\n",
       "      <th></th>\n",
       "      <th></th>\n",
       "      <th></th>\n",
       "      <th></th>\n",
       "      <th></th>\n",
       "      <th></th>\n",
       "      <th></th>\n",
       "      <th></th>\n",
       "      <th></th>\n",
       "      <th></th>\n",
       "      <th></th>\n",
       "      <th></th>\n",
       "      <th></th>\n",
       "      <th></th>\n",
       "      <th></th>\n",
       "      <th></th>\n",
       "      <th></th>\n",
       "      <th></th>\n",
       "      <th></th>\n",
       "      <th></th>\n",
       "      <th></th>\n",
       "    </tr>\n",
       "  </thead>\n",
       "  <tbody>\n",
       "    <tr>\n",
       "      <th rowspan=\"5\" valign=\"top\">105</th>\n",
       "      <th rowspan=\"5\" valign=\"top\">1</th>\n",
       "      <th>1</th>\n",
       "      <td>0.000000</td>\n",
       "      <td>0.0</td>\n",
       "      <td>0.000000</td>\n",
       "      <td>0.0</td>\n",
       "      <td>0.000000</td>\n",
       "      <td>0.050855</td>\n",
       "      <td>0.021893</td>\n",
       "      <td>0.019760</td>\n",
       "      <td>0.021575</td>\n",
       "      <td>0.020186</td>\n",
       "      <td>...</td>\n",
       "      <td>0.000000</td>\n",
       "      <td>0.040857</td>\n",
       "      <td>0.000000</td>\n",
       "      <td>0.000000</td>\n",
       "      <td>0.000000</td>\n",
       "      <td>0.014171</td>\n",
       "      <td>0.000000</td>\n",
       "      <td>0.000000</td>\n",
       "      <td>0.0</td>\n",
       "      <td>0.350516</td>\n",
       "    </tr>\n",
       "    <tr>\n",
       "      <th>2</th>\n",
       "      <td>0.016345</td>\n",
       "      <td>0.0</td>\n",
       "      <td>0.017052</td>\n",
       "      <td>0.0</td>\n",
       "      <td>0.000000</td>\n",
       "      <td>0.000000</td>\n",
       "      <td>0.013623</td>\n",
       "      <td>0.000000</td>\n",
       "      <td>0.012969</td>\n",
       "      <td>0.010024</td>\n",
       "      <td>...</td>\n",
       "      <td>0.000000</td>\n",
       "      <td>0.021053</td>\n",
       "      <td>0.000000</td>\n",
       "      <td>0.011279</td>\n",
       "      <td>0.015835</td>\n",
       "      <td>0.028965</td>\n",
       "      <td>0.014839</td>\n",
       "      <td>0.012293</td>\n",
       "      <td>0.0</td>\n",
       "      <td>0.336437</td>\n",
       "    </tr>\n",
       "    <tr>\n",
       "      <th>3</th>\n",
       "      <td>0.012350</td>\n",
       "      <td>0.0</td>\n",
       "      <td>0.012884</td>\n",
       "      <td>0.0</td>\n",
       "      <td>0.030006</td>\n",
       "      <td>0.000000</td>\n",
       "      <td>0.010293</td>\n",
       "      <td>0.000000</td>\n",
       "      <td>0.000000</td>\n",
       "      <td>0.000000</td>\n",
       "      <td>...</td>\n",
       "      <td>0.031551</td>\n",
       "      <td>0.015907</td>\n",
       "      <td>0.000000</td>\n",
       "      <td>0.000000</td>\n",
       "      <td>0.011964</td>\n",
       "      <td>0.021885</td>\n",
       "      <td>0.011212</td>\n",
       "      <td>0.000000</td>\n",
       "      <td>0.0</td>\n",
       "      <td>0.303046</td>\n",
       "    </tr>\n",
       "    <tr>\n",
       "      <th>4</th>\n",
       "      <td>0.010123</td>\n",
       "      <td>0.0</td>\n",
       "      <td>0.010561</td>\n",
       "      <td>0.0</td>\n",
       "      <td>0.044652</td>\n",
       "      <td>0.000000</td>\n",
       "      <td>0.000000</td>\n",
       "      <td>0.000000</td>\n",
       "      <td>0.000000</td>\n",
       "      <td>0.000000</td>\n",
       "      <td>...</td>\n",
       "      <td>0.000000</td>\n",
       "      <td>0.013039</td>\n",
       "      <td>0.000000</td>\n",
       "      <td>0.000000</td>\n",
       "      <td>0.000000</td>\n",
       "      <td>0.037982</td>\n",
       "      <td>0.000000</td>\n",
       "      <td>0.027658</td>\n",
       "      <td>0.0</td>\n",
       "      <td>0.368667</td>\n",
       "    </tr>\n",
       "    <tr>\n",
       "      <th>5</th>\n",
       "      <td>0.000000</td>\n",
       "      <td>0.0</td>\n",
       "      <td>0.000000</td>\n",
       "      <td>0.0</td>\n",
       "      <td>0.022342</td>\n",
       "      <td>0.000000</td>\n",
       "      <td>0.025881</td>\n",
       "      <td>0.000000</td>\n",
       "      <td>0.000000</td>\n",
       "      <td>0.000000</td>\n",
       "      <td>...</td>\n",
       "      <td>0.000000</td>\n",
       "      <td>0.048272</td>\n",
       "      <td>0.000000</td>\n",
       "      <td>0.000000</td>\n",
       "      <td>0.000000</td>\n",
       "      <td>0.034516</td>\n",
       "      <td>0.026573</td>\n",
       "      <td>0.000000</td>\n",
       "      <td>0.0</td>\n",
       "      <td>0.332426</td>\n",
       "    </tr>\n",
       "    <tr>\n",
       "      <th>...</th>\n",
       "      <th>...</th>\n",
       "      <th>...</th>\n",
       "      <td>...</td>\n",
       "      <td>...</td>\n",
       "      <td>...</td>\n",
       "      <td>...</td>\n",
       "      <td>...</td>\n",
       "      <td>...</td>\n",
       "      <td>...</td>\n",
       "      <td>...</td>\n",
       "      <td>...</td>\n",
       "      <td>...</td>\n",
       "      <td>...</td>\n",
       "      <td>...</td>\n",
       "      <td>...</td>\n",
       "      <td>...</td>\n",
       "      <td>...</td>\n",
       "      <td>...</td>\n",
       "      <td>...</td>\n",
       "      <td>...</td>\n",
       "      <td>...</td>\n",
       "      <td>...</td>\n",
       "      <td>...</td>\n",
       "    </tr>\n",
       "    <tr>\n",
       "      <th rowspan=\"5\" valign=\"top\">53861</th>\n",
       "      <th rowspan=\"5\" valign=\"top\">15</th>\n",
       "      <th>20</th>\n",
       "      <td>0.000000</td>\n",
       "      <td>0.0</td>\n",
       "      <td>0.000000</td>\n",
       "      <td>0.0</td>\n",
       "      <td>0.000000</td>\n",
       "      <td>0.000000</td>\n",
       "      <td>0.000000</td>\n",
       "      <td>0.021424</td>\n",
       "      <td>0.000000</td>\n",
       "      <td>0.000000</td>\n",
       "      <td>...</td>\n",
       "      <td>0.000000</td>\n",
       "      <td>0.027546</td>\n",
       "      <td>0.020074</td>\n",
       "      <td>0.000000</td>\n",
       "      <td>0.024838</td>\n",
       "      <td>0.014943</td>\n",
       "      <td>0.000000</td>\n",
       "      <td>0.000000</td>\n",
       "      <td>0.0</td>\n",
       "      <td>0.302017</td>\n",
       "    </tr>\n",
       "    <tr>\n",
       "      <th>21</th>\n",
       "      <td>0.045633</td>\n",
       "      <td>0.0</td>\n",
       "      <td>0.000000</td>\n",
       "      <td>0.0</td>\n",
       "      <td>0.000000</td>\n",
       "      <td>0.000000</td>\n",
       "      <td>0.000000</td>\n",
       "      <td>0.000000</td>\n",
       "      <td>0.000000</td>\n",
       "      <td>0.000000</td>\n",
       "      <td>...</td>\n",
       "      <td>0.000000</td>\n",
       "      <td>0.011849</td>\n",
       "      <td>0.000000</td>\n",
       "      <td>0.000000</td>\n",
       "      <td>0.000000</td>\n",
       "      <td>0.016357</td>\n",
       "      <td>0.000000</td>\n",
       "      <td>0.000000</td>\n",
       "      <td>0.0</td>\n",
       "      <td>0.249048</td>\n",
       "    </tr>\n",
       "    <tr>\n",
       "      <th>22</th>\n",
       "      <td>0.000000</td>\n",
       "      <td>0.0</td>\n",
       "      <td>0.041499</td>\n",
       "      <td>0.0</td>\n",
       "      <td>0.020179</td>\n",
       "      <td>0.000000</td>\n",
       "      <td>0.000000</td>\n",
       "      <td>0.000000</td>\n",
       "      <td>0.000000</td>\n",
       "      <td>0.000000</td>\n",
       "      <td>...</td>\n",
       "      <td>0.000000</td>\n",
       "      <td>0.010683</td>\n",
       "      <td>0.000000</td>\n",
       "      <td>0.022133</td>\n",
       "      <td>0.000000</td>\n",
       "      <td>0.014698</td>\n",
       "      <td>0.000000</td>\n",
       "      <td>0.000000</td>\n",
       "      <td>0.0</td>\n",
       "      <td>0.388021</td>\n",
       "    </tr>\n",
       "    <tr>\n",
       "      <th>23</th>\n",
       "      <td>0.069424</td>\n",
       "      <td>0.0</td>\n",
       "      <td>0.000000</td>\n",
       "      <td>0.0</td>\n",
       "      <td>0.000000</td>\n",
       "      <td>0.000000</td>\n",
       "      <td>0.021896</td>\n",
       "      <td>0.000000</td>\n",
       "      <td>0.036995</td>\n",
       "      <td>0.000000</td>\n",
       "      <td>...</td>\n",
       "      <td>0.000000</td>\n",
       "      <td>0.010024</td>\n",
       "      <td>0.000000</td>\n",
       "      <td>0.000000</td>\n",
       "      <td>0.000000</td>\n",
       "      <td>0.030056</td>\n",
       "      <td>0.000000</td>\n",
       "      <td>0.021250</td>\n",
       "      <td>0.0</td>\n",
       "      <td>0.270093</td>\n",
       "    </tr>\n",
       "    <tr>\n",
       "      <th>24</th>\n",
       "      <td>0.013326</td>\n",
       "      <td>0.0</td>\n",
       "      <td>0.013903</td>\n",
       "      <td>0.0</td>\n",
       "      <td>0.058824</td>\n",
       "      <td>0.000000</td>\n",
       "      <td>0.011107</td>\n",
       "      <td>0.000000</td>\n",
       "      <td>0.010574</td>\n",
       "      <td>0.000000</td>\n",
       "      <td>...</td>\n",
       "      <td>0.000000</td>\n",
       "      <td>0.017165</td>\n",
       "      <td>0.000000</td>\n",
       "      <td>0.000000</td>\n",
       "      <td>0.012910</td>\n",
       "      <td>0.023615</td>\n",
       "      <td>0.012099</td>\n",
       "      <td>0.010023</td>\n",
       "      <td>0.0</td>\n",
       "      <td>0.353290</td>\n",
       "    </tr>\n",
       "  </tbody>\n",
       "</table>\n",
       "<p>30336 rows × 40 columns</p>\n",
       "</div>"
      ],
      "text/plain": [
       "topic_id                         0    1         2    3         4         5   \\\n",
       "book_id chap_num para_num                                                     \n",
       "105     1        1         0.000000  0.0  0.000000  0.0  0.000000  0.050855   \n",
       "                 2         0.016345  0.0  0.017052  0.0  0.000000  0.000000   \n",
       "                 3         0.012350  0.0  0.012884  0.0  0.030006  0.000000   \n",
       "                 4         0.010123  0.0  0.010561  0.0  0.044652  0.000000   \n",
       "                 5         0.000000  0.0  0.000000  0.0  0.022342  0.000000   \n",
       "...                             ...  ...       ...  ...       ...       ...   \n",
       "53861   15       20        0.000000  0.0  0.000000  0.0  0.000000  0.000000   \n",
       "                 21        0.045633  0.0  0.000000  0.0  0.000000  0.000000   \n",
       "                 22        0.000000  0.0  0.041499  0.0  0.020179  0.000000   \n",
       "                 23        0.069424  0.0  0.000000  0.0  0.000000  0.000000   \n",
       "                 24        0.013326  0.0  0.013903  0.0  0.058824  0.000000   \n",
       "\n",
       "topic_id                         6         7         8         9   ...  \\\n",
       "book_id chap_num para_num                                          ...   \n",
       "105     1        1         0.021893  0.019760  0.021575  0.020186  ...   \n",
       "                 2         0.013623  0.000000  0.012969  0.010024  ...   \n",
       "                 3         0.010293  0.000000  0.000000  0.000000  ...   \n",
       "                 4         0.000000  0.000000  0.000000  0.000000  ...   \n",
       "                 5         0.025881  0.000000  0.000000  0.000000  ...   \n",
       "...                             ...       ...       ...       ...  ...   \n",
       "53861   15       20        0.000000  0.021424  0.000000  0.000000  ...   \n",
       "                 21        0.000000  0.000000  0.000000  0.000000  ...   \n",
       "                 22        0.000000  0.000000  0.000000  0.000000  ...   \n",
       "                 23        0.021896  0.000000  0.036995  0.000000  ...   \n",
       "                 24        0.011107  0.000000  0.010574  0.000000  ...   \n",
       "\n",
       "topic_id                         30        31        32        33        34  \\\n",
       "book_id chap_num para_num                                                     \n",
       "105     1        1         0.000000  0.040857  0.000000  0.000000  0.000000   \n",
       "                 2         0.000000  0.021053  0.000000  0.011279  0.015835   \n",
       "                 3         0.031551  0.015907  0.000000  0.000000  0.011964   \n",
       "                 4         0.000000  0.013039  0.000000  0.000000  0.000000   \n",
       "                 5         0.000000  0.048272  0.000000  0.000000  0.000000   \n",
       "...                             ...       ...       ...       ...       ...   \n",
       "53861   15       20        0.000000  0.027546  0.020074  0.000000  0.024838   \n",
       "                 21        0.000000  0.011849  0.000000  0.000000  0.000000   \n",
       "                 22        0.000000  0.010683  0.000000  0.022133  0.000000   \n",
       "                 23        0.000000  0.010024  0.000000  0.000000  0.000000   \n",
       "                 24        0.000000  0.017165  0.000000  0.000000  0.012910   \n",
       "\n",
       "topic_id                         35        36        37   38        39  \n",
       "book_id chap_num para_num                                               \n",
       "105     1        1         0.014171  0.000000  0.000000  0.0  0.350516  \n",
       "                 2         0.028965  0.014839  0.012293  0.0  0.336437  \n",
       "                 3         0.021885  0.011212  0.000000  0.0  0.303046  \n",
       "                 4         0.037982  0.000000  0.027658  0.0  0.368667  \n",
       "                 5         0.034516  0.026573  0.000000  0.0  0.332426  \n",
       "...                             ...       ...       ...  ...       ...  \n",
       "53861   15       20        0.014943  0.000000  0.000000  0.0  0.302017  \n",
       "                 21        0.016357  0.000000  0.000000  0.0  0.249048  \n",
       "                 22        0.014698  0.000000  0.000000  0.0  0.388021  \n",
       "                 23        0.030056  0.000000  0.021250  0.0  0.270093  \n",
       "                 24        0.023615  0.012099  0.010023  0.0  0.353290  \n",
       "\n",
       "[30336 rows x 40 columns]"
      ]
     },
     "execution_count": 15,
     "metadata": {},
     "output_type": "execute_result"
    }
   ],
   "source": [
    "THETA_gs"
   ]
  },
  {
   "cell_type": "code",
   "execution_count": 16,
   "id": "9458e98e-a534-403a-baa9-c9cb307a1695",
   "metadata": {
    "tags": []
   },
   "outputs": [
    {
     "data": {
      "image/png": "[encoded data removed]",
      "text/plain": [
       "<Figure size 1000x500 with 1 Axes>"
      ]
     },
     "metadata": {},
     "output_type": "display_data"
    }
   ],
   "source": [
    "THETA_gs.iloc[7].plot.bar(rot=45, figsize=(10,5));"
   ]
  },
  {
   "cell_type": "markdown",
   "id": "4a7a3740-5ce2-4549-a334-26234648723b",
   "metadata": {},
   "source": [
    "# Topic Coherence \n",
    "\n",
    "Topic coherence measures **the degree of semantic similarity between high-scoring words in the topic**. \n",
    "- These measures help in distinguishing between topics that are semantically interpretable and topics that are artifacts of the statistical model.\n",
    "- A coherent topic will have high-scoring words that are semantically related, indicating that the topic is likely to be meaningful.\n",
    "\n",
    "UMass topic coherence is based on document co-occurrence frequencies. A high score suggests that the top words in a topic frequently occur together in \n",
    "documents.\n",
    "\n",
    "**QUESTION: Does co-ocurrence imply semantic similarity?**\n",
    "\n",
    "More info from the docs:\n",
    "\n",
    "> We can compute the topic coherence of each topic. Below we display the\n",
    "average topic coherence and print the topics in order of topic coherence.\n",
    ">\n",
    "> Note that we use the \"Umass\" topic coherence measure here (see\n",
    "`gensim.models.ldamodel.LdaModel.top_topics`), Gensim has recently\n",
    "obtained an implementation of the \"AKSW\" topic coherence measure (see\n",
    "accompanying blog post, http://rare-technologies.com/what-is-topic-coherence/).\n",
    ">\n",
    "> If you are familiar with the subject of the articles in this dataset, you can\n",
    "see that the topics below make a lot of sense. However, they are not without\n",
    "flaws. We can see that there is substantial overlap between some topics,\n",
    "others are hard to interpret, and most of them have at least some terms that\n",
    "seem out of place. If you were able to do better, feel free to share your\n",
    "methods on the blog at http://rare-technologies.com/lda-training-tips/ !\n",
    "\n",
    "\n"
   ]
  },
  {
   "cell_type": "code",
   "execution_count": 17,
   "id": "0ddd469c-c991-47db-9e31-33f90c230fab",
   "metadata": {
    "tags": []
   },
   "outputs": [],
   "source": [
    "top_topics = model.top_topics(corpus)"
   ]
  },
  {
   "cell_type": "markdown",
   "id": "bb130e27-4b40-4f46-92e7-10efc210aa71",
   "metadata": {
    "tags": []
   },
   "source": [
    "Average topic coherence is the sum of topic coherences of all topics, divided by the number of topics."
   ]
  },
  {
   "cell_type": "code",
   "execution_count": 18,
   "id": "19210632-bc4d-4507-8760-b8ea822724ca",
   "metadata": {},
   "outputs": [],
   "source": [
    "# top_topics"
   ]
  },
  {
   "cell_type": "code",
   "execution_count": 19,
   "id": "a6bc4598-4b0d-4a3f-9687-5e9bb9fbecf0",
   "metadata": {},
   "outputs": [],
   "source": [
    "# pd.DataFrame(top_topics)"
   ]
  },
  {
   "cell_type": "code",
   "execution_count": 20,
   "id": "cf31d701-369b-441f-b068-62b5978d9d55",
   "metadata": {
    "tags": []
   },
   "outputs": [
    {
     "name": "stdout",
     "output_type": "stream",
     "text": [
      "Average topic coherence: -8.654.\n"
     ]
    }
   ],
   "source": [
    "avg_topic_coherence = sum([t[1] for t in top_topics]) / num_topics\n",
    "print(f'Average topic coherence: {round(avg_topic_coherence, 3)}.')"
   ]
  },
  {
   "cell_type": "markdown",
   "id": "462ac82e-e8ff-4ab8-b520-ab3379a9ec35",
   "metadata": {
    "tags": []
   },
   "source": [
    "# Top Topics"
   ]
  },
  {
   "cell_type": "code",
   "execution_count": 21,
   "id": "34e469c1-0a9d-45fc-837c-1d2b02601323",
   "metadata": {
    "tags": []
   },
   "outputs": [],
   "source": [
    "TOPICS = pd.DataFrame(\n",
    "    [(i, j, topic[1], *reversed(term_pair)) for i, topic in enumerate(top_topics) for j, term_pair in enumerate(topic[0])], \n",
    "    columns=['topic_id', 'term_rank', 'll', 'term_str', 'term_weight']).set_index(['topic_id','term_rank'])\\\n",
    "    .term_str.unstack().apply(lambda x: ' '.join(x), axis=1).to_frame('top_terms')"
   ]
  },
  {
   "cell_type": "code",
   "execution_count": 22,
   "id": "c3d0686d-c3f5-4b7e-a1c7-31b765ed18ac",
   "metadata": {},
   "outputs": [],
   "source": [
    "TOPICS['coherence'] = pd.DataFrame(top_topics)[1]"
   ]
  },
  {
   "cell_type": "code",
   "execution_count": 23,
   "id": "311b4277-8126-4a19-9df3-bd473a71ca30",
   "metadata": {
    "tags": []
   },
   "outputs": [
    {
     "data": {
      "text/html": [
       "<div>\n",
       "<style scoped>\n",
       "    .dataframe tbody tr th:only-of-type {\n",
       "        vertical-align: middle;\n",
       "    }\n",
       "\n",
       "    .dataframe tbody tr th {\n",
       "        vertical-align: top;\n",
       "    }\n",
       "\n",
       "    .dataframe thead th {\n",
       "        text-align: right;\n",
       "    }\n",
       "</style>\n",
       "<table border=\"1\" class=\"dataframe\">\n",
       "  <thead>\n",
       "    <tr style=\"text-align: right;\">\n",
       "      <th></th>\n",
       "      <th>top_terms</th>\n",
       "      <th>coherence</th>\n",
       "    </tr>\n",
       "    <tr>\n",
       "      <th>topic_id</th>\n",
       "      <th></th>\n",
       "      <th></th>\n",
       "    </tr>\n",
       "  </thead>\n",
       "  <tbody>\n",
       "    <tr>\n",
       "      <th>0</th>\n",
       "      <td>was had were be been him time did being have s...</td>\n",
       "      <td>-2.173556</td>\n",
       "    </tr>\n",
       "    <tr>\n",
       "      <th>1</th>\n",
       "      <td>is be have are man it do has say know men come...</td>\n",
       "      <td>-2.394659</td>\n",
       "    </tr>\n",
       "    <tr>\n",
       "      <th>2</th>\n",
       "      <td>day came went morning till days home country c...</td>\n",
       "      <td>-3.138070</td>\n",
       "    </tr>\n",
       "    <tr>\n",
       "      <th>3</th>\n",
       "      <td>room looking stood door sat table chimney down...</td>\n",
       "      <td>-3.979811</td>\n",
       "    </tr>\n",
       "    <tr>\n",
       "      <th>4</th>\n",
       "      <td>fell back hair wind art length cut sound cant ...</td>\n",
       "      <td>-5.761031</td>\n",
       "    </tr>\n",
       "    <tr>\n",
       "      <th>5</th>\n",
       "      <td>head air face looked last hat gentlemen heads ...</td>\n",
       "      <td>-6.252651</td>\n",
       "    </tr>\n",
       "    <tr>\n",
       "      <th>6</th>\n",
       "      <td>sea round water stranger line spot trees horse...</td>\n",
       "      <td>-7.258234</td>\n",
       "    </tr>\n",
       "    <tr>\n",
       "      <th>7</th>\n",
       "      <td>years wife work age city purpose carried owing...</td>\n",
       "      <td>-7.451768</td>\n",
       "    </tr>\n",
       "    <tr>\n",
       "      <th>8</th>\n",
       "      <td>so but tell well not hear he voice suppose tal...</td>\n",
       "      <td>-7.653225</td>\n",
       "    </tr>\n",
       "    <tr>\n",
       "      <th>9</th>\n",
       "      <td>night going get no away walk stop drink yard f...</td>\n",
       "      <td>-7.914956</td>\n",
       "    </tr>\n",
       "    <tr>\n",
       "      <th>10</th>\n",
       "      <td>sight plain earth foot rose distance road top ...</td>\n",
       "      <td>-8.095219</td>\n",
       "    </tr>\n",
       "    <tr>\n",
       "      <th>11</th>\n",
       "      <td>hand eye lay mystery play throwing wisdom summ...</td>\n",
       "      <td>-8.148260</td>\n",
       "    </tr>\n",
       "    <tr>\n",
       "      <th>12</th>\n",
       "      <td>hands held forth self shot peace mark whence t...</td>\n",
       "      <td>-8.149598</td>\n",
       "    </tr>\n",
       "    <tr>\n",
       "      <th>13</th>\n",
       "      <td>ship uncle land comes says what remember ones ...</td>\n",
       "      <td>-8.231361</td>\n",
       "    </tr>\n",
       "    <tr>\n",
       "      <th>14</th>\n",
       "      <td>word gentleman turn on right the fear his save...</td>\n",
       "      <td>-8.299965</td>\n",
       "    </tr>\n",
       "    <tr>\n",
       "      <th>15</th>\n",
       "      <td>said am i sir yes turning replied wish want pr...</td>\n",
       "      <td>-8.381973</td>\n",
       "    </tr>\n",
       "    <tr>\n",
       "      <th>16</th>\n",
       "      <td>stand fire letter floor wood boys eat asked se...</td>\n",
       "      <td>-8.438525</td>\n",
       "    </tr>\n",
       "    <tr>\n",
       "      <th>17</th>\n",
       "      <td>feet standing why stone miles started woods wa...</td>\n",
       "      <td>-8.469478</td>\n",
       "    </tr>\n",
       "    <tr>\n",
       "      <th>18</th>\n",
       "      <td>see you now here mean knows us better we a you...</td>\n",
       "      <td>-8.483854</td>\n",
       "    </tr>\n",
       "    <tr>\n",
       "      <th>19</th>\n",
       "      <td>light death dark master show how spring goes b...</td>\n",
       "      <td>-8.527932</td>\n",
       "    </tr>\n",
       "    <tr>\n",
       "      <th>20</th>\n",
       "      <td>who book kings heaven mans dropped paper gold ...</td>\n",
       "      <td>-8.559630</td>\n",
       "    </tr>\n",
       "    <tr>\n",
       "      <th>21</th>\n",
       "      <td>me soul ah arms child still mine according fol...</td>\n",
       "      <td>-8.808217</td>\n",
       "    </tr>\n",
       "    <tr>\n",
       "      <th>22</th>\n",
       "      <td>eyes words sun silence expression up grief pul...</td>\n",
       "      <td>-9.092847</td>\n",
       "    </tr>\n",
       "    <tr>\n",
       "      <th>23</th>\n",
       "      <td>body living money blood law race dead wise por...</td>\n",
       "      <td>-9.240151</td>\n",
       "    </tr>\n",
       "    <tr>\n",
       "      <th>24</th>\n",
       "      <td>things seems officers long good strangers yout...</td>\n",
       "      <td>-9.290523</td>\n",
       "    </tr>\n",
       "    <tr>\n",
       "      <th>25</th>\n",
       "      <td>war ships board in wine by run officer prove h...</td>\n",
       "      <td>-9.363815</td>\n",
       "    </tr>\n",
       "    <tr>\n",
       "      <th>26</th>\n",
       "      <td>boat mouth shore ha sides cast hundred forced ...</td>\n",
       "      <td>-9.586604</td>\n",
       "    </tr>\n",
       "    <tr>\n",
       "      <th>27</th>\n",
       "      <td>help bound try wont while another lives laugh ...</td>\n",
       "      <td>-9.979804</td>\n",
       "    </tr>\n",
       "    <tr>\n",
       "      <th>28</th>\n",
       "      <td>there oh watch quarter sake answered heavens u...</td>\n",
       "      <td>-10.129636</td>\n",
       "    </tr>\n",
       "    <tr>\n",
       "      <th>29</th>\n",
       "      <td>then myself dear though will ten doctor true p...</td>\n",
       "      <td>-10.335278</td>\n",
       "    </tr>\n",
       "    <tr>\n",
       "      <th>30</th>\n",
       "      <td>boy lord aspect tree bottom beneath gazed touc...</td>\n",
       "      <td>-10.401838</td>\n",
       "    </tr>\n",
       "    <tr>\n",
       "      <th>31</th>\n",
       "      <td>go let cried box ye fellow bread off hearted f...</td>\n",
       "      <td>-10.711590</td>\n",
       "    </tr>\n",
       "    <tr>\n",
       "      <th>32</th>\n",
       "      <td>coat guide pay pride ask gun assure imagine ma...</td>\n",
       "      <td>-10.801867</td>\n",
       "    </tr>\n",
       "    <tr>\n",
       "      <th>33</th>\n",
       "      <td>read vain following wall note over aunt readin...</td>\n",
       "      <td>-10.970169</td>\n",
       "    </tr>\n",
       "    <tr>\n",
       "      <th>34</th>\n",
       "      <td>more hold out first experience hinted somehow ...</td>\n",
       "      <td>-11.018817</td>\n",
       "    </tr>\n",
       "    <tr>\n",
       "      <th>35</th>\n",
       "      <td>order sailor grave behold memory cases humanit...</td>\n",
       "      <td>-11.031708</td>\n",
       "    </tr>\n",
       "    <tr>\n",
       "      <th>36</th>\n",
       "      <td>name none mentioned deemed lies ends names fai...</td>\n",
       "      <td>-11.351442</td>\n",
       "    </tr>\n",
       "    <tr>\n",
       "      <th>37</th>\n",
       "      <td>sense crowd women spread strange advice alas s...</td>\n",
       "      <td>-11.991498</td>\n",
       "    </tr>\n",
       "    <tr>\n",
       "      <th>38</th>\n",
       "      <td>half charity form seek served frigate pity hea...</td>\n",
       "      <td>-12.915352</td>\n",
       "    </tr>\n",
       "    <tr>\n",
       "      <th>39</th>\n",
       "      <td>captain story teeth mention philosophy bell ag...</td>\n",
       "      <td>-13.368022</td>\n",
       "    </tr>\n",
       "  </tbody>\n",
       "</table>\n",
       "</div>"
      ],
      "text/plain": [
       "                                                  top_terms  coherence\n",
       "topic_id                                                              \n",
       "0         was had were be been him time did being have s...  -2.173556\n",
       "1         is be have are man it do has say know men come...  -2.394659\n",
       "2         day came went morning till days home country c...  -3.138070\n",
       "3         room looking stood door sat table chimney down...  -3.979811\n",
       "4         fell back hair wind art length cut sound cant ...  -5.761031\n",
       "5         head air face looked last hat gentlemen heads ...  -6.252651\n",
       "6         sea round water stranger line spot trees horse...  -7.258234\n",
       "7         years wife work age city purpose carried owing...  -7.451768\n",
       "8         so but tell well not hear he voice suppose tal...  -7.653225\n",
       "9         night going get no away walk stop drink yard f...  -7.914956\n",
       "10        sight plain earth foot rose distance road top ...  -8.095219\n",
       "11        hand eye lay mystery play throwing wisdom summ...  -8.148260\n",
       "12        hands held forth self shot peace mark whence t...  -8.149598\n",
       "13        ship uncle land comes says what remember ones ...  -8.231361\n",
       "14        word gentleman turn on right the fear his save...  -8.299965\n",
       "15        said am i sir yes turning replied wish want pr...  -8.381973\n",
       "16        stand fire letter floor wood boys eat asked se...  -8.438525\n",
       "17        feet standing why stone miles started woods wa...  -8.469478\n",
       "18        see you now here mean knows us better we a you...  -8.483854\n",
       "19        light death dark master show how spring goes b...  -8.527932\n",
       "20        who book kings heaven mans dropped paper gold ...  -8.559630\n",
       "21        me soul ah arms child still mine according fol...  -8.808217\n",
       "22        eyes words sun silence expression up grief pul...  -9.092847\n",
       "23        body living money blood law race dead wise por...  -9.240151\n",
       "24        things seems officers long good strangers yout...  -9.290523\n",
       "25        war ships board in wine by run officer prove h...  -9.363815\n",
       "26        boat mouth shore ha sides cast hundred forced ...  -9.586604\n",
       "27        help bound try wont while another lives laugh ...  -9.979804\n",
       "28        there oh watch quarter sake answered heavens u... -10.129636\n",
       "29        then myself dear though will ten doctor true p... -10.335278\n",
       "30        boy lord aspect tree bottom beneath gazed touc... -10.401838\n",
       "31        go let cried box ye fellow bread off hearted f... -10.711590\n",
       "32        coat guide pay pride ask gun assure imagine ma... -10.801867\n",
       "33        read vain following wall note over aunt readin... -10.970169\n",
       "34        more hold out first experience hinted somehow ... -11.018817\n",
       "35        order sailor grave behold memory cases humanit... -11.031708\n",
       "36        name none mentioned deemed lies ends names fai... -11.351442\n",
       "37        sense crowd women spread strange advice alas s... -11.991498\n",
       "38        half charity form seek served frigate pity hea... -12.915352\n",
       "39        captain story teeth mention philosophy bell ag... -13.368022"
      ]
     },
     "execution_count": 23,
     "metadata": {},
     "output_type": "execute_result"
    }
   ],
   "source": [
    "TOPICS.sort_values('coherence', ascending=False)"
   ]
  },
  {
   "cell_type": "code",
   "execution_count": null,
   "id": "2fd2563a-4f2e-4290-99c2-8aaf0e4e6654",
   "metadata": {},
   "outputs": [],
   "source": []
  }
 ],
 "metadata": {
  "kernelspec": {
   "display_name": "Python [conda env:ds5001]",
   "language": "python",
   "name": "conda-env-ds5001-py"
  },
  "language_info": {
   "codemirror_mode": {
    "name": "ipython",
    "version": 3
   },
   "file_extension": ".py",
   "mimetype": "text/x-python",
   "name": "python",
   "nbconvert_exporter": "python",
   "pygments_lexer": "ipython3",
   "version": "3.11.5"
  },
  "widgets": {
   "application/vnd.jupyter.widget-state+json": {
    "state": {},
    "version_major": 2,
    "version_minor": 0
   }
  }
 },
 "nbformat": 4,
 "nbformat_minor": 5
}
