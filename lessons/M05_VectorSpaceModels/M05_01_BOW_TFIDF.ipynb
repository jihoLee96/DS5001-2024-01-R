{
 "cells": [
  {
   "cell_type": "markdown",
   "metadata": {},
   "source": [
    "# BOW and TFIDF\n",
    "\n",
    "```yaml\n",
    "course:   DS 5001 \n",
    "module:   05 5 Lab\n",
    "topic:    BOW and TFIDF\n",
    "author:   R.C. Alvarado\n",
    "date:     13 February 2024\n",
    "```"
   ]
  },
  {
   "cell_type": "markdown",
   "metadata": {},
   "source": [
    "# Set Up"
   ]
  },
  {
   "cell_type": "markdown",
   "metadata": {},
   "source": [
    "## Import"
   ]
  },
  {
   "cell_type": "code",
   "execution_count": 1,
   "metadata": {
    "tags": []
   },
   "outputs": [],
   "source": [
    "import pandas as pd\n",
    "import numpy as np\n",
    "import seaborn as sns\n",
    "import plotly_express as px"
   ]
  },
  {
   "cell_type": "code",
   "execution_count": 2,
   "metadata": {
    "tags": []
   },
   "outputs": [],
   "source": [
    "sns.set()"
   ]
  },
  {
   "cell_type": "markdown",
   "metadata": {},
   "source": [
    "## Config\n",
    "\n",
    "Change this to match the location of your data files."
   ]
  },
  {
   "cell_type": "code",
   "execution_count": 3,
   "metadata": {
    "tags": []
   },
   "outputs": [],
   "source": [
    "import configparser\n",
    "config = configparser.ConfigParser()\n",
    "config.read(\"../../../env.ini\")\n",
    "data_home = config['DEFAULT']['data_home'] \n",
    "output_dir = config['DEFAULT']['output_dir']\n",
    "data_prefix = 'austen-melville'"
   ]
  },
  {
   "cell_type": "code",
   "execution_count": 4,
   "metadata": {
    "tags": []
   },
   "outputs": [],
   "source": [
    "OHCO = ['book_id', 'chap_id', 'para_num', 'sent_num', 'token_num']\n",
    "bags = dict(\n",
    "    SENTS = OHCO[:4],\n",
    "    PARAS = OHCO[:3],\n",
    "    CHAPS = OHCO[:2],\n",
    "    BOOKS = OHCO[:1]\n",
    ")"
   ]
  },
  {
   "cell_type": "code",
   "execution_count": 5,
   "metadata": {
    "tags": []
   },
   "outputs": [],
   "source": [
    "bag = 'CHAPS'\n",
    "# bag = 'BOOKS'"
   ]
  },
  {
   "cell_type": "markdown",
   "metadata": {},
   "source": [
    "# Prepare the data"
   ]
  },
  {
   "cell_type": "markdown",
   "metadata": {},
   "source": [
    "## Import tables"
   ]
  },
  {
   "cell_type": "code",
   "execution_count": 6,
   "metadata": {
    "tags": []
   },
   "outputs": [],
   "source": [
    "LIB = pd.read_csv(f\"{output_dir}/{data_prefix}-LIB.csv\").set_index('book_id')\n",
    "TOKEN = pd.read_csv(f'{output_dir}/{data_prefix}-CORPUS.csv').set_index(OHCO).dropna()\n",
    "VOCAB = pd.read_csv(f'{output_dir}/{data_prefix}-VOCAB_RANKED.csv').set_index('term_str').dropna()\n",
    "# POS_GROUP = pd.read_csv(f'{output_dir}/{data_prefix}-POS_GROUP.csv').set_index('pos_group')"
   ]
  },
  {
   "cell_type": "code",
   "execution_count": 7,
   "metadata": {
    "tags": []
   },
   "outputs": [
    {
     "data": {
      "text/plain": [
       "book_id\n",
       "105       83613\n",
       "121       77586\n",
       "141      160366\n",
       "158      160884\n",
       "161      119858\n",
       "946       23115\n",
       "1212      33241\n",
       "1342     122089\n",
       "1900     108015\n",
       "2701     215461\n",
       "4045     102347\n",
       "8118     119230\n",
       "10712    143251\n",
       "13720     96874\n",
       "13721    102078\n",
       "15422     65510\n",
       "15859     75232\n",
       "21816     95169\n",
       "34970    155024\n",
       "Name: count, dtype: int64"
      ]
     },
     "execution_count": 7,
     "metadata": {},
     "output_type": "execute_result"
    }
   ],
   "source": [
    "TOKEN.reset_index().book_id.value_counts().sort_index()"
   ]
  },
  {
   "cell_type": "markdown",
   "metadata": {},
   "source": [
    "# Create BOW from TOKEN\n",
    "\n",
    "We can create a BOW with a **split-apply-combine** pattern that counts instances of words for each bag.\n",
    "\n",
    "We group by `bag + ['term_str']`.\n"
   ]
  },
  {
   "cell_type": "code",
   "execution_count": 8,
   "metadata": {
    "tags": []
   },
   "outputs": [],
   "source": [
    "BOW = TOKEN.groupby(bags[bag]+['term_str']).term_str.count().to_frame('n') "
   ]
  },
  {
   "cell_type": "code",
   "execution_count": 9,
   "metadata": {
    "tags": []
   },
   "outputs": [
    {
     "data": {
      "text/html": [
       "<div>\n",
       "<style scoped>\n",
       "    .dataframe tbody tr th:only-of-type {\n",
       "        vertical-align: middle;\n",
       "    }\n",
       "\n",
       "    .dataframe tbody tr th {\n",
       "        vertical-align: top;\n",
       "    }\n",
       "\n",
       "    .dataframe thead th {\n",
       "        text-align: right;\n",
       "    }\n",
       "</style>\n",
       "<table border=\"1\" class=\"dataframe\">\n",
       "  <thead>\n",
       "    <tr style=\"text-align: right;\">\n",
       "      <th></th>\n",
       "      <th></th>\n",
       "      <th></th>\n",
       "      <th>n</th>\n",
       "    </tr>\n",
       "    <tr>\n",
       "      <th>book_id</th>\n",
       "      <th>chap_id</th>\n",
       "      <th>term_str</th>\n",
       "      <th></th>\n",
       "    </tr>\n",
       "  </thead>\n",
       "  <tbody>\n",
       "    <tr>\n",
       "      <th rowspan=\"5\" valign=\"top\">105</th>\n",
       "      <th rowspan=\"5\" valign=\"top\">1</th>\n",
       "      <th>1</th>\n",
       "      <td>2</td>\n",
       "    </tr>\n",
       "    <tr>\n",
       "      <th>15</th>\n",
       "      <td>1</td>\n",
       "    </tr>\n",
       "    <tr>\n",
       "      <th>16</th>\n",
       "      <td>1</td>\n",
       "    </tr>\n",
       "    <tr>\n",
       "      <th>1760</th>\n",
       "      <td>1</td>\n",
       "    </tr>\n",
       "    <tr>\n",
       "      <th>1784</th>\n",
       "      <td>1</td>\n",
       "    </tr>\n",
       "  </tbody>\n",
       "</table>\n",
       "</div>"
      ],
      "text/plain": [
       "                          n\n",
       "book_id chap_id term_str   \n",
       "105     1       1         2\n",
       "                15        1\n",
       "                16        1\n",
       "                1760      1\n",
       "                1784      1"
      ]
     },
     "execution_count": 9,
     "metadata": {},
     "output_type": "execute_result"
    }
   ],
   "source": [
    "BOW.head()"
   ]
  },
  {
   "cell_type": "markdown",
   "metadata": {
    "toc-hr-collapsed": false
   },
   "source": [
    "# Document-Term Count Matrix\n",
    "\n",
    "We create a document-term count matrix simply bu **unstacking** the BOW, which converts it from a narrow to a wide representation. \n",
    "\n",
    "Note, these operations are slower than using `groupby()`."
   ]
  },
  {
   "cell_type": "code",
   "execution_count": 10,
   "metadata": {
    "tags": []
   },
   "outputs": [],
   "source": [
    "DTCM = BOW.n.unstack(fill_value=0)"
   ]
  },
  {
   "cell_type": "code",
   "execution_count": 11,
   "metadata": {
    "tags": []
   },
   "outputs": [
    {
     "data": {
      "text/html": [
       "<div>\n",
       "<style scoped>\n",
       "    .dataframe tbody tr th:only-of-type {\n",
       "        vertical-align: middle;\n",
       "    }\n",
       "\n",
       "    .dataframe tbody tr th {\n",
       "        vertical-align: top;\n",
       "    }\n",
       "\n",
       "    .dataframe thead th {\n",
       "        text-align: right;\n",
       "    }\n",
       "</style>\n",
       "<table border=\"1\" class=\"dataframe\">\n",
       "  <thead>\n",
       "    <tr style=\"text-align: right;\">\n",
       "      <th></th>\n",
       "      <th>term_str</th>\n",
       "      <th>0</th>\n",
       "      <th>1</th>\n",
       "      <th>10</th>\n",
       "      <th>100</th>\n",
       "      <th>1000</th>\n",
       "      <th>10000</th>\n",
       "      <th>10000000</th>\n",
       "      <th>10440</th>\n",
       "      <th>10800</th>\n",
       "      <th>10th</th>\n",
       "      <th>...</th>\n",
       "      <th>zoroaster</th>\n",
       "      <th>zozo</th>\n",
       "      <th>zuma</th>\n",
       "      <th>zur</th>\n",
       "      <th>à</th>\n",
       "      <th>æneas</th>\n",
       "      <th>æniad</th>\n",
       "      <th>æson</th>\n",
       "      <th>æsops</th>\n",
       "      <th>ł20000</th>\n",
       "    </tr>\n",
       "    <tr>\n",
       "      <th>book_id</th>\n",
       "      <th>chap_id</th>\n",
       "      <th></th>\n",
       "      <th></th>\n",
       "      <th></th>\n",
       "      <th></th>\n",
       "      <th></th>\n",
       "      <th></th>\n",
       "      <th></th>\n",
       "      <th></th>\n",
       "      <th></th>\n",
       "      <th></th>\n",
       "      <th></th>\n",
       "      <th></th>\n",
       "      <th></th>\n",
       "      <th></th>\n",
       "      <th></th>\n",
       "      <th></th>\n",
       "      <th></th>\n",
       "      <th></th>\n",
       "      <th></th>\n",
       "      <th></th>\n",
       "      <th></th>\n",
       "    </tr>\n",
       "  </thead>\n",
       "  <tbody>\n",
       "    <tr>\n",
       "      <th rowspan=\"10\" valign=\"top\">105</th>\n",
       "      <th>1</th>\n",
       "      <td>0</td>\n",
       "      <td>2</td>\n",
       "      <td>0</td>\n",
       "      <td>0</td>\n",
       "      <td>0</td>\n",
       "      <td>0</td>\n",
       "      <td>0</td>\n",
       "      <td>0</td>\n",
       "      <td>0</td>\n",
       "      <td>0</td>\n",
       "      <td>...</td>\n",
       "      <td>0</td>\n",
       "      <td>0</td>\n",
       "      <td>0</td>\n",
       "      <td>0</td>\n",
       "      <td>0</td>\n",
       "      <td>0</td>\n",
       "      <td>0</td>\n",
       "      <td>0</td>\n",
       "      <td>0</td>\n",
       "      <td>0</td>\n",
       "    </tr>\n",
       "    <tr>\n",
       "      <th>2</th>\n",
       "      <td>0</td>\n",
       "      <td>0</td>\n",
       "      <td>0</td>\n",
       "      <td>0</td>\n",
       "      <td>0</td>\n",
       "      <td>0</td>\n",
       "      <td>0</td>\n",
       "      <td>0</td>\n",
       "      <td>0</td>\n",
       "      <td>0</td>\n",
       "      <td>...</td>\n",
       "      <td>0</td>\n",
       "      <td>0</td>\n",
       "      <td>0</td>\n",
       "      <td>0</td>\n",
       "      <td>0</td>\n",
       "      <td>0</td>\n",
       "      <td>0</td>\n",
       "      <td>0</td>\n",
       "      <td>0</td>\n",
       "      <td>0</td>\n",
       "    </tr>\n",
       "    <tr>\n",
       "      <th>3</th>\n",
       "      <td>0</td>\n",
       "      <td>0</td>\n",
       "      <td>0</td>\n",
       "      <td>0</td>\n",
       "      <td>0</td>\n",
       "      <td>0</td>\n",
       "      <td>0</td>\n",
       "      <td>0</td>\n",
       "      <td>0</td>\n",
       "      <td>0</td>\n",
       "      <td>...</td>\n",
       "      <td>0</td>\n",
       "      <td>0</td>\n",
       "      <td>0</td>\n",
       "      <td>0</td>\n",
       "      <td>0</td>\n",
       "      <td>0</td>\n",
       "      <td>0</td>\n",
       "      <td>0</td>\n",
       "      <td>0</td>\n",
       "      <td>0</td>\n",
       "    </tr>\n",
       "    <tr>\n",
       "      <th>4</th>\n",
       "      <td>0</td>\n",
       "      <td>0</td>\n",
       "      <td>0</td>\n",
       "      <td>0</td>\n",
       "      <td>0</td>\n",
       "      <td>0</td>\n",
       "      <td>0</td>\n",
       "      <td>0</td>\n",
       "      <td>0</td>\n",
       "      <td>0</td>\n",
       "      <td>...</td>\n",
       "      <td>0</td>\n",
       "      <td>0</td>\n",
       "      <td>0</td>\n",
       "      <td>0</td>\n",
       "      <td>0</td>\n",
       "      <td>0</td>\n",
       "      <td>0</td>\n",
       "      <td>0</td>\n",
       "      <td>0</td>\n",
       "      <td>0</td>\n",
       "    </tr>\n",
       "    <tr>\n",
       "      <th>5</th>\n",
       "      <td>0</td>\n",
       "      <td>0</td>\n",
       "      <td>0</td>\n",
       "      <td>0</td>\n",
       "      <td>0</td>\n",
       "      <td>0</td>\n",
       "      <td>0</td>\n",
       "      <td>0</td>\n",
       "      <td>0</td>\n",
       "      <td>0</td>\n",
       "      <td>...</td>\n",
       "      <td>0</td>\n",
       "      <td>0</td>\n",
       "      <td>0</td>\n",
       "      <td>0</td>\n",
       "      <td>0</td>\n",
       "      <td>0</td>\n",
       "      <td>0</td>\n",
       "      <td>0</td>\n",
       "      <td>0</td>\n",
       "      <td>0</td>\n",
       "    </tr>\n",
       "    <tr>\n",
       "      <th>6</th>\n",
       "      <td>0</td>\n",
       "      <td>0</td>\n",
       "      <td>0</td>\n",
       "      <td>0</td>\n",
       "      <td>0</td>\n",
       "      <td>0</td>\n",
       "      <td>0</td>\n",
       "      <td>0</td>\n",
       "      <td>0</td>\n",
       "      <td>0</td>\n",
       "      <td>...</td>\n",
       "      <td>0</td>\n",
       "      <td>0</td>\n",
       "      <td>0</td>\n",
       "      <td>0</td>\n",
       "      <td>0</td>\n",
       "      <td>0</td>\n",
       "      <td>0</td>\n",
       "      <td>0</td>\n",
       "      <td>0</td>\n",
       "      <td>0</td>\n",
       "    </tr>\n",
       "    <tr>\n",
       "      <th>7</th>\n",
       "      <td>0</td>\n",
       "      <td>0</td>\n",
       "      <td>0</td>\n",
       "      <td>0</td>\n",
       "      <td>0</td>\n",
       "      <td>0</td>\n",
       "      <td>0</td>\n",
       "      <td>0</td>\n",
       "      <td>0</td>\n",
       "      <td>0</td>\n",
       "      <td>...</td>\n",
       "      <td>0</td>\n",
       "      <td>0</td>\n",
       "      <td>0</td>\n",
       "      <td>0</td>\n",
       "      <td>0</td>\n",
       "      <td>0</td>\n",
       "      <td>0</td>\n",
       "      <td>0</td>\n",
       "      <td>0</td>\n",
       "      <td>0</td>\n",
       "    </tr>\n",
       "    <tr>\n",
       "      <th>8</th>\n",
       "      <td>0</td>\n",
       "      <td>0</td>\n",
       "      <td>0</td>\n",
       "      <td>0</td>\n",
       "      <td>0</td>\n",
       "      <td>0</td>\n",
       "      <td>0</td>\n",
       "      <td>0</td>\n",
       "      <td>0</td>\n",
       "      <td>0</td>\n",
       "      <td>...</td>\n",
       "      <td>0</td>\n",
       "      <td>0</td>\n",
       "      <td>0</td>\n",
       "      <td>0</td>\n",
       "      <td>0</td>\n",
       "      <td>0</td>\n",
       "      <td>0</td>\n",
       "      <td>0</td>\n",
       "      <td>0</td>\n",
       "      <td>0</td>\n",
       "    </tr>\n",
       "    <tr>\n",
       "      <th>9</th>\n",
       "      <td>0</td>\n",
       "      <td>0</td>\n",
       "      <td>0</td>\n",
       "      <td>0</td>\n",
       "      <td>0</td>\n",
       "      <td>0</td>\n",
       "      <td>0</td>\n",
       "      <td>0</td>\n",
       "      <td>0</td>\n",
       "      <td>0</td>\n",
       "      <td>...</td>\n",
       "      <td>0</td>\n",
       "      <td>0</td>\n",
       "      <td>0</td>\n",
       "      <td>0</td>\n",
       "      <td>0</td>\n",
       "      <td>0</td>\n",
       "      <td>0</td>\n",
       "      <td>0</td>\n",
       "      <td>0</td>\n",
       "      <td>0</td>\n",
       "    </tr>\n",
       "    <tr>\n",
       "      <th>10</th>\n",
       "      <td>0</td>\n",
       "      <td>0</td>\n",
       "      <td>0</td>\n",
       "      <td>0</td>\n",
       "      <td>0</td>\n",
       "      <td>0</td>\n",
       "      <td>0</td>\n",
       "      <td>0</td>\n",
       "      <td>0</td>\n",
       "      <td>0</td>\n",
       "      <td>...</td>\n",
       "      <td>0</td>\n",
       "      <td>0</td>\n",
       "      <td>0</td>\n",
       "      <td>0</td>\n",
       "      <td>0</td>\n",
       "      <td>0</td>\n",
       "      <td>0</td>\n",
       "      <td>0</td>\n",
       "      <td>0</td>\n",
       "      <td>0</td>\n",
       "    </tr>\n",
       "  </tbody>\n",
       "</table>\n",
       "<p>10 rows × 40281 columns</p>\n",
       "</div>"
      ],
      "text/plain": [
       "term_str         0  1  10  100  1000  10000  10000000  10440  10800  10th  \\\n",
       "book_id chap_id                                                             \n",
       "105     1        0  2   0    0     0      0         0      0      0     0   \n",
       "        2        0  0   0    0     0      0         0      0      0     0   \n",
       "        3        0  0   0    0     0      0         0      0      0     0   \n",
       "        4        0  0   0    0     0      0         0      0      0     0   \n",
       "        5        0  0   0    0     0      0         0      0      0     0   \n",
       "        6        0  0   0    0     0      0         0      0      0     0   \n",
       "        7        0  0   0    0     0      0         0      0      0     0   \n",
       "        8        0  0   0    0     0      0         0      0      0     0   \n",
       "        9        0  0   0    0     0      0         0      0      0     0   \n",
       "        10       0  0   0    0     0      0         0      0      0     0   \n",
       "\n",
       "term_str         ...  zoroaster  zozo  zuma  zur  à  æneas  æniad  æson  \\\n",
       "book_id chap_id  ...                                                      \n",
       "105     1        ...          0     0     0    0  0      0      0     0   \n",
       "        2        ...          0     0     0    0  0      0      0     0   \n",
       "        3        ...          0     0     0    0  0      0      0     0   \n",
       "        4        ...          0     0     0    0  0      0      0     0   \n",
       "        5        ...          0     0     0    0  0      0      0     0   \n",
       "        6        ...          0     0     0    0  0      0      0     0   \n",
       "        7        ...          0     0     0    0  0      0      0     0   \n",
       "        8        ...          0     0     0    0  0      0      0     0   \n",
       "        9        ...          0     0     0    0  0      0      0     0   \n",
       "        10       ...          0     0     0    0  0      0      0     0   \n",
       "\n",
       "term_str         æsops  ł20000  \n",
       "book_id chap_id                 \n",
       "105     1            0       0  \n",
       "        2            0       0  \n",
       "        3            0       0  \n",
       "        4            0       0  \n",
       "        5            0       0  \n",
       "        6            0       0  \n",
       "        7            0       0  \n",
       "        8            0       0  \n",
       "        9            0       0  \n",
       "        10           0       0  \n",
       "\n",
       "[10 rows x 40281 columns]"
      ]
     },
     "execution_count": 11,
     "metadata": {},
     "output_type": "execute_result"
    }
   ],
   "source": [
    "DTCM.head(10)"
   ]
  },
  {
   "cell_type": "code",
   "execution_count": 12,
   "metadata": {
    "tags": []
   },
   "outputs": [
    {
     "data": {
      "text/plain": [
       "term_str\n",
       "0          2\n",
       "1         23\n",
       "10         6\n",
       "100        2\n",
       "1000       2\n",
       "          ..\n",
       "æneas      1\n",
       "æniad      1\n",
       "æson       2\n",
       "æsops      1\n",
       "ł20000     1\n",
       "Length: 40281, dtype: int64"
      ]
     },
     "execution_count": 12,
     "metadata": {},
     "output_type": "execute_result"
    }
   ],
   "source": [
    "DTCM.sum()"
   ]
  },
  {
   "cell_type": "markdown",
   "metadata": {},
   "source": [
    "## Interlude: Types and Tokens by DOC\n",
    "\n",
    "DOC is a table of bags.\n",
    "\n",
    "We call TYPE/TOKEN ratio PKR.\n",
    "\n",
    "PKR varies by bag."
   ]
  },
  {
   "cell_type": "code",
   "execution_count": 13,
   "metadata": {
    "tags": []
   },
   "outputs": [],
   "source": [
    "DOC = DTCM.sum(1).to_frame('n_tokens')\n",
    "DOC['n_types'] = DTCM.astype('bool').sum(1)\n",
    "DOC['pkr'] = DOC.n_types / DOC.n_tokens\n",
    "DOC = DOC.join(LIB[['author','title']])"
   ]
  },
  {
   "cell_type": "code",
   "execution_count": 14,
   "metadata": {
    "tags": []
   },
   "outputs": [
    {
     "data": {
      "text/html": [
       "<style type=\"text/css\">\n",
       "#T_ff1c8_row0_col0, #T_ff1c8_row0_col1, #T_ff1c8_row19_col2 {\n",
       "  background-color: #081d58;\n",
       "  color: #f1f1f1;\n",
       "}\n",
       "#T_ff1c8_row0_col2, #T_ff1c8_row19_col0, #T_ff1c8_row19_col1 {\n",
       "  background-color: #ffffd9;\n",
       "  color: #000000;\n",
       "}\n",
       "#T_ff1c8_row1_col0, #T_ff1c8_row6_col1, #T_ff1c8_row7_col1 {\n",
       "  background-color: #f8fcc9;\n",
       "  color: #000000;\n",
       "}\n",
       "#T_ff1c8_row1_col1 {\n",
       "  background-color: #f5fbc2;\n",
       "  color: #000000;\n",
       "}\n",
       "#T_ff1c8_row1_col2 {\n",
       "  background-color: #1f7bb6;\n",
       "  color: #f1f1f1;\n",
       "}\n",
       "#T_ff1c8_row2_col0, #T_ff1c8_row8_col0, #T_ff1c8_row9_col1 {\n",
       "  background-color: #f9fdcb;\n",
       "  color: #000000;\n",
       "}\n",
       "#T_ff1c8_row2_col1, #T_ff1c8_row14_col0 {\n",
       "  background-color: #f6fbc5;\n",
       "  color: #000000;\n",
       "}\n",
       "#T_ff1c8_row2_col2 {\n",
       "  background-color: #2072b1;\n",
       "  color: #f1f1f1;\n",
       "}\n",
       "#T_ff1c8_row3_col0 {\n",
       "  background-color: #f4fbc1;\n",
       "  color: #000000;\n",
       "}\n",
       "#T_ff1c8_row3_col1 {\n",
       "  background-color: #eef8b3;\n",
       "  color: #000000;\n",
       "}\n",
       "#T_ff1c8_row3_col2 {\n",
       "  background-color: #2163aa;\n",
       "  color: #f1f1f1;\n",
       "}\n",
       "#T_ff1c8_row4_col0, #T_ff1c8_row4_col1, #T_ff1c8_row11_col0 {\n",
       "  background-color: #feffd6;\n",
       "  color: #000000;\n",
       "}\n",
       "#T_ff1c8_row4_col2 {\n",
       "  background-color: #24439b;\n",
       "  color: #f1f1f1;\n",
       "}\n",
       "#T_ff1c8_row5_col0, #T_ff1c8_row15_col0, #T_ff1c8_row18_col1 {\n",
       "  background-color: #fcfed3;\n",
       "  color: #000000;\n",
       "}\n",
       "#T_ff1c8_row5_col1, #T_ff1c8_row6_col0, #T_ff1c8_row7_col0 {\n",
       "  background-color: #fafdcf;\n",
       "  color: #000000;\n",
       "}\n",
       "#T_ff1c8_row5_col2 {\n",
       "  background-color: #253896;\n",
       "  color: #f1f1f1;\n",
       "}\n",
       "#T_ff1c8_row6_col2 {\n",
       "  background-color: #21308b;\n",
       "  color: #f1f1f1;\n",
       "}\n",
       "#T_ff1c8_row7_col2, #T_ff1c8_row8_col2 {\n",
       "  background-color: #1d2e83;\n",
       "  color: #f1f1f1;\n",
       "}\n",
       "#T_ff1c8_row8_col1 {\n",
       "  background-color: #f4fbc0;\n",
       "  color: #000000;\n",
       "}\n",
       "#T_ff1c8_row9_col0, #T_ff1c8_row10_col1 {\n",
       "  background-color: #fcfed1;\n",
       "  color: #000000;\n",
       "}\n",
       "#T_ff1c8_row9_col2 {\n",
       "  background-color: #192b7c;\n",
       "  color: #f1f1f1;\n",
       "}\n",
       "#T_ff1c8_row10_col0, #T_ff1c8_row18_col0 {\n",
       "  background-color: #fdfed5;\n",
       "  color: #000000;\n",
       "}\n",
       "#T_ff1c8_row10_col2 {\n",
       "  background-color: #182a7a;\n",
       "  color: #f1f1f1;\n",
       "}\n",
       "#T_ff1c8_row11_col1, #T_ff1c8_row12_col0, #T_ff1c8_row13_col0 {\n",
       "  background-color: #fdfed4;\n",
       "  color: #000000;\n",
       "}\n",
       "#T_ff1c8_row11_col2 {\n",
       "  background-color: #172976;\n",
       "  color: #f1f1f1;\n",
       "}\n",
       "#T_ff1c8_row12_col1, #T_ff1c8_row13_col1 {\n",
       "  background-color: #fbfdd0;\n",
       "  color: #000000;\n",
       "}\n",
       "#T_ff1c8_row12_col2 {\n",
       "  background-color: #12256d;\n",
       "  color: #f1f1f1;\n",
       "}\n",
       "#T_ff1c8_row13_col2 {\n",
       "  background-color: #11246b;\n",
       "  color: #f1f1f1;\n",
       "}\n",
       "#T_ff1c8_row14_col1 {\n",
       "  background-color: #eff9b5;\n",
       "  color: #000000;\n",
       "}\n",
       "#T_ff1c8_row14_col2, #T_ff1c8_row15_col2 {\n",
       "  background-color: #102369;\n",
       "  color: #f1f1f1;\n",
       "}\n",
       "#T_ff1c8_row15_col1 {\n",
       "  background-color: #f9fdcc;\n",
       "  color: #000000;\n",
       "}\n",
       "#T_ff1c8_row16_col0, #T_ff1c8_row17_col0 {\n",
       "  background-color: #fafdce;\n",
       "  color: #000000;\n",
       "}\n",
       "#T_ff1c8_row16_col1, #T_ff1c8_row17_col1 {\n",
       "  background-color: #f5fbc4;\n",
       "  color: #000000;\n",
       "}\n",
       "#T_ff1c8_row16_col2 {\n",
       "  background-color: #0d2161;\n",
       "  color: #f1f1f1;\n",
       "}\n",
       "#T_ff1c8_row17_col2 {\n",
       "  background-color: #0b1f5e;\n",
       "  color: #f1f1f1;\n",
       "}\n",
       "#T_ff1c8_row18_col2 {\n",
       "  background-color: #091e5a;\n",
       "  color: #f1f1f1;\n",
       "}\n",
       "</style>\n",
       "<table id=\"T_ff1c8\">\n",
       "  <thead>\n",
       "    <tr>\n",
       "      <th class=\"blank\" >&nbsp;</th>\n",
       "      <th class=\"blank level0\" >&nbsp;</th>\n",
       "      <th id=\"T_ff1c8_level0_col0\" class=\"col_heading level0 col0\" >n_tokens</th>\n",
       "      <th id=\"T_ff1c8_level0_col1\" class=\"col_heading level0 col1\" >n_types</th>\n",
       "      <th id=\"T_ff1c8_level0_col2\" class=\"col_heading level0 col2\" >pkr</th>\n",
       "      <th id=\"T_ff1c8_level0_col3\" class=\"col_heading level0 col3\" >author</th>\n",
       "      <th id=\"T_ff1c8_level0_col4\" class=\"col_heading level0 col4\" >title</th>\n",
       "    </tr>\n",
       "    <tr>\n",
       "      <th class=\"index_name level0\" >book_id</th>\n",
       "      <th class=\"index_name level1\" >chap_id</th>\n",
       "      <th class=\"blank col0\" >&nbsp;</th>\n",
       "      <th class=\"blank col1\" >&nbsp;</th>\n",
       "      <th class=\"blank col2\" >&nbsp;</th>\n",
       "      <th class=\"blank col3\" >&nbsp;</th>\n",
       "      <th class=\"blank col4\" >&nbsp;</th>\n",
       "    </tr>\n",
       "  </thead>\n",
       "  <tbody>\n",
       "    <tr>\n",
       "      <th id=\"T_ff1c8_level0_row0\" class=\"row_heading level0 row0\" >15859</th>\n",
       "      <th id=\"T_ff1c8_level1_row0\" class=\"row_heading level1 row0\" >1</th>\n",
       "      <td id=\"T_ff1c8_row0_col0\" class=\"data row0 col0\" >75232</td>\n",
       "      <td id=\"T_ff1c8_row0_col1\" class=\"data row0 col1\" >9993</td>\n",
       "      <td id=\"T_ff1c8_row0_col2\" class=\"data row0 col2\" >0.132829</td>\n",
       "      <td id=\"T_ff1c8_row0_col3\" class=\"data row0 col3\" >MELVILLE, HERMAN</td>\n",
       "      <td id=\"T_ff1c8_row0_col4\" class=\"data row0 col4\" >THE PIAZZA TALES</td>\n",
       "    </tr>\n",
       "    <tr>\n",
       "      <th id=\"T_ff1c8_level0_row1\" class=\"row_heading level0 row1\" >105</th>\n",
       "      <th id=\"T_ff1c8_level1_row1\" class=\"row_heading level1 row1\" >21</th>\n",
       "      <td id=\"T_ff1c8_row1_col0\" class=\"data row1 col0\" >7000</td>\n",
       "      <td id=\"T_ff1c8_row1_col1\" class=\"data row1 col1\" >1434</td>\n",
       "      <td id=\"T_ff1c8_row1_col2\" class=\"data row1 col2\" >0.204857</td>\n",
       "      <td id=\"T_ff1c8_row1_col3\" class=\"data row1 col3\" >AUSTEN, JANE</td>\n",
       "      <td id=\"T_ff1c8_row1_col4\" class=\"data row1 col4\" >PERSUASION</td>\n",
       "    </tr>\n",
       "    <tr>\n",
       "      <th id=\"T_ff1c8_level0_row2\" class=\"row_heading level0 row2\" >158</th>\n",
       "      <th id=\"T_ff1c8_level1_row2\" class=\"row_heading level1 row2\" >26</th>\n",
       "      <td id=\"T_ff1c8_row2_col0\" class=\"data row2 col0\" >6523</td>\n",
       "      <td id=\"T_ff1c8_row2_col1\" class=\"data row2 col1\" >1351</td>\n",
       "      <td id=\"T_ff1c8_row2_col2\" class=\"data row2 col2\" >0.207113</td>\n",
       "      <td id=\"T_ff1c8_row2_col3\" class=\"data row2 col3\" >AUSTEN, JANE</td>\n",
       "      <td id=\"T_ff1c8_row2_col4\" class=\"data row2 col4\" >EMMA</td>\n",
       "    </tr>\n",
       "    <tr>\n",
       "      <th id=\"T_ff1c8_level0_row3\" class=\"row_heading level0 row3\" >1900</th>\n",
       "      <th id=\"T_ff1c8_level1_row3\" class=\"row_heading level1 row3\" >34</th>\n",
       "      <td id=\"T_ff1c8_row3_col0\" class=\"data row3 col0\" >8827</td>\n",
       "      <td id=\"T_ff1c8_row3_col1\" class=\"data row3 col1\" >1862</td>\n",
       "      <td id=\"T_ff1c8_row3_col2\" class=\"data row3 col2\" >0.210944</td>\n",
       "      <td id=\"T_ff1c8_row3_col3\" class=\"data row3 col3\" >MELVILLE, HERMAN</td>\n",
       "      <td id=\"T_ff1c8_row3_col4\" class=\"data row3 col4\" >TYPEE A ROMANCE OF THE SOUTH SEAS</td>\n",
       "    </tr>\n",
       "    <tr>\n",
       "      <th id=\"T_ff1c8_level0_row4\" class=\"row_heading level0 row4\" rowspan=\"2\">158</th>\n",
       "      <th id=\"T_ff1c8_level1_row4\" class=\"row_heading level1 row4\" >21</th>\n",
       "      <td id=\"T_ff1c8_row4_col0\" class=\"data row4 col0\" >3967</td>\n",
       "      <td id=\"T_ff1c8_row4_col1\" class=\"data row4 col1\" >876</td>\n",
       "      <td id=\"T_ff1c8_row4_col2\" class=\"data row4 col2\" >0.220822</td>\n",
       "      <td id=\"T_ff1c8_row4_col3\" class=\"data row4 col3\" >AUSTEN, JANE</td>\n",
       "      <td id=\"T_ff1c8_row4_col4\" class=\"data row4 col4\" >EMMA</td>\n",
       "    </tr>\n",
       "    <tr>\n",
       "      <th id=\"T_ff1c8_level1_row5\" class=\"row_heading level1 row5\" >9</th>\n",
       "      <td id=\"T_ff1c8_row5_col0\" class=\"data row5 col0\" >4778</td>\n",
       "      <td id=\"T_ff1c8_row5_col1\" class=\"data row5 col1\" >1071</td>\n",
       "      <td id=\"T_ff1c8_row5_col2\" class=\"data row5 col2\" >0.224152</td>\n",
       "      <td id=\"T_ff1c8_row5_col3\" class=\"data row5 col3\" >AUSTEN, JANE</td>\n",
       "      <td id=\"T_ff1c8_row5_col4\" class=\"data row5 col4\" >EMMA</td>\n",
       "    </tr>\n",
       "    <tr>\n",
       "      <th id=\"T_ff1c8_level0_row6\" class=\"row_heading level0 row6\" >105</th>\n",
       "      <th id=\"T_ff1c8_level1_row6\" class=\"row_heading level1 row6\" >12</th>\n",
       "      <td id=\"T_ff1c8_row6_col0\" class=\"data row6 col0\" >5553</td>\n",
       "      <td id=\"T_ff1c8_row6_col1\" class=\"data row6 col1\" >1264</td>\n",
       "      <td id=\"T_ff1c8_row6_col2\" class=\"data row6 col2\" >0.227625</td>\n",
       "      <td id=\"T_ff1c8_row6_col3\" class=\"data row6 col3\" >AUSTEN, JANE</td>\n",
       "      <td id=\"T_ff1c8_row6_col4\" class=\"data row6 col4\" >PERSUASION</td>\n",
       "    </tr>\n",
       "    <tr>\n",
       "      <th id=\"T_ff1c8_level0_row7\" class=\"row_heading level0 row7\" >161</th>\n",
       "      <th id=\"T_ff1c8_level1_row7\" class=\"row_heading level1 row7\" >44</th>\n",
       "      <td id=\"T_ff1c8_row7_col0\" class=\"data row7 col0\" >5520</td>\n",
       "      <td id=\"T_ff1c8_row7_col1\" class=\"data row7 col1\" >1265</td>\n",
       "      <td id=\"T_ff1c8_row7_col2\" class=\"data row7 col2\" >0.229167</td>\n",
       "      <td id=\"T_ff1c8_row7_col3\" class=\"data row7 col3\" >AUSTEN, JANE</td>\n",
       "      <td id=\"T_ff1c8_row7_col4\" class=\"data row7 col4\" >SENSE AND SENSIBILITY</td>\n",
       "    </tr>\n",
       "    <tr>\n",
       "      <th id=\"T_ff1c8_level0_row8\" class=\"row_heading level0 row8\" >105</th>\n",
       "      <th id=\"T_ff1c8_level1_row8\" class=\"row_heading level1 row8\" >23</th>\n",
       "      <td id=\"T_ff1c8_row8_col0\" class=\"data row8 col0\" >6588</td>\n",
       "      <td id=\"T_ff1c8_row8_col1\" class=\"data row8 col1\" >1511</td>\n",
       "      <td id=\"T_ff1c8_row8_col2\" class=\"data row8 col2\" >0.229356</td>\n",
       "      <td id=\"T_ff1c8_row8_col3\" class=\"data row8 col3\" >AUSTEN, JANE</td>\n",
       "      <td id=\"T_ff1c8_row8_col4\" class=\"data row8 col4\" >PERSUASION</td>\n",
       "    </tr>\n",
       "    <tr>\n",
       "      <th id=\"T_ff1c8_level0_row9\" class=\"row_heading level0 row9\" >141</th>\n",
       "      <th id=\"T_ff1c8_level1_row9\" class=\"row_heading level1 row9\" >32</th>\n",
       "      <td id=\"T_ff1c8_row9_col0\" class=\"data row9 col0\" >5141</td>\n",
       "      <td id=\"T_ff1c8_row9_col1\" class=\"data row9 col1\" >1188</td>\n",
       "      <td id=\"T_ff1c8_row9_col2\" class=\"data row9 col2\" >0.231083</td>\n",
       "      <td id=\"T_ff1c8_row9_col3\" class=\"data row9 col3\" >AUSTEN, JANE</td>\n",
       "      <td id=\"T_ff1c8_row9_col4\" class=\"data row9 col4\" >MANSFIELD PARK</td>\n",
       "    </tr>\n",
       "    <tr>\n",
       "      <th id=\"T_ff1c8_level0_row10\" class=\"row_heading level0 row10\" >158</th>\n",
       "      <th id=\"T_ff1c8_level1_row10\" class=\"row_heading level1 row10\" >8</th>\n",
       "      <td id=\"T_ff1c8_row10_col0\" class=\"data row10 col0\" >4314</td>\n",
       "      <td id=\"T_ff1c8_row10_col1\" class=\"data row10 col1\" >998</td>\n",
       "      <td id=\"T_ff1c8_row10_col2\" class=\"data row10 col2\" >0.231340</td>\n",
       "      <td id=\"T_ff1c8_row10_col3\" class=\"data row10 col3\" >AUSTEN, JANE</td>\n",
       "      <td id=\"T_ff1c8_row10_col4\" class=\"data row10 col4\" >EMMA</td>\n",
       "    </tr>\n",
       "    <tr>\n",
       "      <th id=\"T_ff1c8_level0_row11\" class=\"row_heading level0 row11\" >34970</th>\n",
       "      <th id=\"T_ff1c8_level1_row11\" class=\"row_heading level1 row11\" >23</th>\n",
       "      <td id=\"T_ff1c8_row11_col0\" class=\"data row11 col0\" >3976</td>\n",
       "      <td id=\"T_ff1c8_row11_col1\" class=\"data row11 col1\" >923</td>\n",
       "      <td id=\"T_ff1c8_row11_col2\" class=\"data row11 col2\" >0.232143</td>\n",
       "      <td id=\"T_ff1c8_row11_col3\" class=\"data row11 col3\" >MELVILLE, HERMAN</td>\n",
       "      <td id=\"T_ff1c8_row11_col4\" class=\"data row11 col4\" >PIERRE OR THE AMBIGUITIES</td>\n",
       "    </tr>\n",
       "    <tr>\n",
       "      <th id=\"T_ff1c8_level0_row12\" class=\"row_heading level0 row12\" >158</th>\n",
       "      <th id=\"T_ff1c8_level1_row12\" class=\"row_heading level1 row12\" >38</th>\n",
       "      <td id=\"T_ff1c8_row12_col0\" class=\"data row12 col0\" >4489</td>\n",
       "      <td id=\"T_ff1c8_row12_col1\" class=\"data row12 col1\" >1052</td>\n",
       "      <td id=\"T_ff1c8_row12_col2\" class=\"data row12 col2\" >0.234351</td>\n",
       "      <td id=\"T_ff1c8_row12_col3\" class=\"data row12 col3\" >AUSTEN, JANE</td>\n",
       "      <td id=\"T_ff1c8_row12_col4\" class=\"data row12 col4\" >EMMA</td>\n",
       "    </tr>\n",
       "    <tr>\n",
       "      <th id=\"T_ff1c8_level0_row13\" class=\"row_heading level0 row13\" >161</th>\n",
       "      <th id=\"T_ff1c8_level1_row13\" class=\"row_heading level1 row13\" >37</th>\n",
       "      <td id=\"T_ff1c8_row13_col0\" class=\"data row13 col0\" >4500</td>\n",
       "      <td id=\"T_ff1c8_row13_col1\" class=\"data row13 col1\" >1055</td>\n",
       "      <td id=\"T_ff1c8_row13_col2\" class=\"data row13 col2\" >0.234444</td>\n",
       "      <td id=\"T_ff1c8_row13_col3\" class=\"data row13 col3\" >AUSTEN, JANE</td>\n",
       "      <td id=\"T_ff1c8_row13_col4\" class=\"data row13 col4\" >SENSE AND SENSIBILITY</td>\n",
       "    </tr>\n",
       "    <tr>\n",
       "      <th id=\"T_ff1c8_level0_row14\" class=\"row_heading level0 row14\" >1212</th>\n",
       "      <th id=\"T_ff1c8_level1_row14\" class=\"row_heading level1 row14\" >9</th>\n",
       "      <td id=\"T_ff1c8_row14_col0\" class=\"data row14 col0\" >7822</td>\n",
       "      <td id=\"T_ff1c8_row14_col1\" class=\"data row14 col1\" >1837</td>\n",
       "      <td id=\"T_ff1c8_row14_col2\" class=\"data row14 col2\" >0.234850</td>\n",
       "      <td id=\"T_ff1c8_row14_col3\" class=\"data row14 col3\" >AUSTEN, JANE</td>\n",
       "      <td id=\"T_ff1c8_row14_col4\" class=\"data row14 col4\" >LOVE AND FREINDSHIP SIC</td>\n",
       "    </tr>\n",
       "    <tr>\n",
       "      <th id=\"T_ff1c8_level0_row15\" class=\"row_heading level0 row15\" >1342</th>\n",
       "      <th id=\"T_ff1c8_level1_row15\" class=\"row_heading level1 row15\" >43</th>\n",
       "      <td id=\"T_ff1c8_row15_col0\" class=\"data row15 col0\" >4875</td>\n",
       "      <td id=\"T_ff1c8_row15_col1\" class=\"data row15 col1\" >1146</td>\n",
       "      <td id=\"T_ff1c8_row15_col2\" class=\"data row15 col2\" >0.235077</td>\n",
       "      <td id=\"T_ff1c8_row15_col3\" class=\"data row15 col3\" >AUSTEN, JANE</td>\n",
       "      <td id=\"T_ff1c8_row15_col4\" class=\"data row15 col4\" >PRIDE AND PREJUDICE</td>\n",
       "    </tr>\n",
       "    <tr>\n",
       "      <th id=\"T_ff1c8_level0_row16\" class=\"row_heading level0 row16\" >21816</th>\n",
       "      <th id=\"T_ff1c8_level1_row16\" class=\"row_heading level1 row16\" >85</th>\n",
       "      <td id=\"T_ff1c8_row16_col0\" class=\"data row16 col0\" >5872</td>\n",
       "      <td id=\"T_ff1c8_row16_col1\" class=\"data row16 col1\" >1389</td>\n",
       "      <td id=\"T_ff1c8_row16_col2\" class=\"data row16 col2\" >0.236546</td>\n",
       "      <td id=\"T_ff1c8_row16_col3\" class=\"data row16 col3\" >MELVILLE, HERMAN</td>\n",
       "      <td id=\"T_ff1c8_row16_col4\" class=\"data row16 col4\" >THE CONFIDENCE MAN HIS MASQUERADE</td>\n",
       "    </tr>\n",
       "    <tr>\n",
       "      <th id=\"T_ff1c8_level0_row17\" class=\"row_heading level0 row17\" rowspan=\"2\">105</th>\n",
       "      <th id=\"T_ff1c8_level1_row17\" class=\"row_heading level1 row17\" >22</th>\n",
       "      <td id=\"T_ff1c8_row17_col0\" class=\"data row17 col0\" >5904</td>\n",
       "      <td id=\"T_ff1c8_row17_col1\" class=\"data row17 col1\" >1402</td>\n",
       "      <td id=\"T_ff1c8_row17_col2\" class=\"data row17 col2\" >0.237466</td>\n",
       "      <td id=\"T_ff1c8_row17_col3\" class=\"data row17 col3\" >AUSTEN, JANE</td>\n",
       "      <td id=\"T_ff1c8_row17_col4\" class=\"data row17 col4\" >PERSUASION</td>\n",
       "    </tr>\n",
       "    <tr>\n",
       "      <th id=\"T_ff1c8_level1_row18\" class=\"row_heading level1 row18\" >18</th>\n",
       "      <td id=\"T_ff1c8_row18_col0\" class=\"data row18 col0\" >4133</td>\n",
       "      <td id=\"T_ff1c8_row18_col1\" class=\"data row18 col1\" >985</td>\n",
       "      <td id=\"T_ff1c8_row18_col2\" class=\"data row18 col2\" >0.238326</td>\n",
       "      <td id=\"T_ff1c8_row18_col3\" class=\"data row18 col3\" >AUSTEN, JANE</td>\n",
       "      <td id=\"T_ff1c8_row18_col4\" class=\"data row18 col4\" >PERSUASION</td>\n",
       "    </tr>\n",
       "    <tr>\n",
       "      <th id=\"T_ff1c8_level0_row19\" class=\"row_heading level0 row19\" >158</th>\n",
       "      <th id=\"T_ff1c8_level1_row19\" class=\"row_heading level1 row19\" >27</th>\n",
       "      <td id=\"T_ff1c8_row19_col0\" class=\"data row19 col0\" >3218</td>\n",
       "      <td id=\"T_ff1c8_row19_col1\" class=\"data row19 col1\" >769</td>\n",
       "      <td id=\"T_ff1c8_row19_col2\" class=\"data row19 col2\" >0.238968</td>\n",
       "      <td id=\"T_ff1c8_row19_col3\" class=\"data row19 col3\" >AUSTEN, JANE</td>\n",
       "      <td id=\"T_ff1c8_row19_col4\" class=\"data row19 col4\" >EMMA</td>\n",
       "    </tr>\n",
       "  </tbody>\n",
       "</table>\n"
      ],
      "text/plain": [
       "<pandas.io.formats.style.Styler at 0x1106ee710>"
      ]
     },
     "execution_count": 14,
     "metadata": {},
     "output_type": "execute_result"
    }
   ],
   "source": [
    "DOC.sort_values('pkr').head(20).style.background_gradient(cmap='YlGnBu')"
   ]
  },
  {
   "cell_type": "code",
   "execution_count": 15,
   "metadata": {
    "tags": []
   },
   "outputs": [
    {
     "name": "stdout",
     "output_type": "stream",
     "text": [
      "CHAPS\n"
     ]
    },
    {
     "data": {
      "image/png": "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",
      "text/plain": [
       "<Figure size 640x480 with 1 Axes>"
      ]
     },
     "metadata": {},
     "output_type": "display_data"
    }
   ],
   "source": [
    "print(bag)\n",
    "if bag == 'CHAPS':\n",
    "    DOC.loc[105, 'pkr'].plot(title=\"PKR by Chapter in Persuasion\", label='title');"
   ]
  },
  {
   "cell_type": "markdown",
   "metadata": {
    "tags": []
   },
   "source": [
    "# Compute TFIDF"
   ]
  },
  {
   "cell_type": "code",
   "execution_count": 16,
   "metadata": {
    "tags": []
   },
   "outputs": [],
   "source": [
    "tf_method = 'sum'         # sum, max, log, double_norm, raw, binary\n",
    "tf_norm_k = .5            # only used for double_norm\n",
    "idf_method = 'standard'   # standard, max, smooth\n",
    "gradient_cmap = 'YlGnBu'  # YlGn, GnBu, YlGnBu; For tables; see https://matplotlib.org/3.1.0/tutorials/colors/colormaps.html "
   ]
  },
  {
   "cell_type": "markdown",
   "metadata": {},
   "source": [
    "## Compute TF"
   ]
  },
  {
   "cell_type": "code",
   "execution_count": 17,
   "metadata": {
    "tags": []
   },
   "outputs": [],
   "source": [
    "# We could do all this directly in the BOW table\n",
    "# BOW.groupby(['book_id','chap_num']).apply(lambda x: x.n / x.n.sum())"
   ]
  },
  {
   "cell_type": "code",
   "execution_count": 18,
   "metadata": {
    "tags": []
   },
   "outputs": [
    {
     "name": "stdout",
     "output_type": "stream",
     "text": [
      "TF method: sum\n"
     ]
    }
   ],
   "source": [
    "print('TF method:', tf_method)\n",
    "\n",
    "if tf_method == 'sum':\n",
    "    TF = DTCM.T / DTCM.T.sum()\n",
    "\n",
    "elif tf_method == 'max':\n",
    "    TF = DTCM.T / DTCM.T.max()\n",
    "    \n",
    "elif tf_method == 'log':\n",
    "    TF = np.log2(1 + DTCM.T)\n",
    "    \n",
    "elif tf_method == 'raw':\n",
    "    TF = DTCM.T\n",
    "    \n",
    "elif tf_method == 'double_norm':\n",
    "    TF = DTCM.T / DTCM.T.max()\n",
    "    \n",
    "elif tf_method == 'binary':\n",
    "    TF = DTCM.T.astype('bool').astype('int')\n",
    "    \n",
    "TF = TF.T"
   ]
  },
  {
   "cell_type": "code",
   "execution_count": 19,
   "metadata": {
    "tags": []
   },
   "outputs": [
    {
     "data": {
      "text/html": [
       "<div>\n",
       "<style scoped>\n",
       "    .dataframe tbody tr th:only-of-type {\n",
       "        vertical-align: middle;\n",
       "    }\n",
       "\n",
       "    .dataframe tbody tr th {\n",
       "        vertical-align: top;\n",
       "    }\n",
       "\n",
       "    .dataframe thead th {\n",
       "        text-align: right;\n",
       "    }\n",
       "</style>\n",
       "<table border=\"1\" class=\"dataframe\">\n",
       "  <thead>\n",
       "    <tr style=\"text-align: right;\">\n",
       "      <th></th>\n",
       "      <th>term_str</th>\n",
       "      <th>0</th>\n",
       "      <th>1</th>\n",
       "      <th>10</th>\n",
       "      <th>100</th>\n",
       "      <th>1000</th>\n",
       "      <th>10000</th>\n",
       "      <th>10000000</th>\n",
       "      <th>10440</th>\n",
       "      <th>10800</th>\n",
       "      <th>10th</th>\n",
       "      <th>...</th>\n",
       "      <th>zoroaster</th>\n",
       "      <th>zozo</th>\n",
       "      <th>zuma</th>\n",
       "      <th>zur</th>\n",
       "      <th>à</th>\n",
       "      <th>æneas</th>\n",
       "      <th>æniad</th>\n",
       "      <th>æson</th>\n",
       "      <th>æsops</th>\n",
       "      <th>ł20000</th>\n",
       "    </tr>\n",
       "    <tr>\n",
       "      <th>book_id</th>\n",
       "      <th>chap_id</th>\n",
       "      <th></th>\n",
       "      <th></th>\n",
       "      <th></th>\n",
       "      <th></th>\n",
       "      <th></th>\n",
       "      <th></th>\n",
       "      <th></th>\n",
       "      <th></th>\n",
       "      <th></th>\n",
       "      <th></th>\n",
       "      <th></th>\n",
       "      <th></th>\n",
       "      <th></th>\n",
       "      <th></th>\n",
       "      <th></th>\n",
       "      <th></th>\n",
       "      <th></th>\n",
       "      <th></th>\n",
       "      <th></th>\n",
       "      <th></th>\n",
       "      <th></th>\n",
       "    </tr>\n",
       "  </thead>\n",
       "  <tbody>\n",
       "    <tr>\n",
       "      <th rowspan=\"5\" valign=\"top\">105</th>\n",
       "      <th>1</th>\n",
       "      <td>0.0</td>\n",
       "      <td>0.000762</td>\n",
       "      <td>0.0</td>\n",
       "      <td>0.0</td>\n",
       "      <td>0.0</td>\n",
       "      <td>0.0</td>\n",
       "      <td>0.0</td>\n",
       "      <td>0.0</td>\n",
       "      <td>0.0</td>\n",
       "      <td>0.0</td>\n",
       "      <td>...</td>\n",
       "      <td>0.0</td>\n",
       "      <td>0.0</td>\n",
       "      <td>0.0</td>\n",
       "      <td>0.0</td>\n",
       "      <td>0.0</td>\n",
       "      <td>0.0</td>\n",
       "      <td>0.0</td>\n",
       "      <td>0.0</td>\n",
       "      <td>0.0</td>\n",
       "      <td>0.0</td>\n",
       "    </tr>\n",
       "    <tr>\n",
       "      <th>2</th>\n",
       "      <td>0.0</td>\n",
       "      <td>0.000000</td>\n",
       "      <td>0.0</td>\n",
       "      <td>0.0</td>\n",
       "      <td>0.0</td>\n",
       "      <td>0.0</td>\n",
       "      <td>0.0</td>\n",
       "      <td>0.0</td>\n",
       "      <td>0.0</td>\n",
       "      <td>0.0</td>\n",
       "      <td>...</td>\n",
       "      <td>0.0</td>\n",
       "      <td>0.0</td>\n",
       "      <td>0.0</td>\n",
       "      <td>0.0</td>\n",
       "      <td>0.0</td>\n",
       "      <td>0.0</td>\n",
       "      <td>0.0</td>\n",
       "      <td>0.0</td>\n",
       "      <td>0.0</td>\n",
       "      <td>0.0</td>\n",
       "    </tr>\n",
       "    <tr>\n",
       "      <th>3</th>\n",
       "      <td>0.0</td>\n",
       "      <td>0.000000</td>\n",
       "      <td>0.0</td>\n",
       "      <td>0.0</td>\n",
       "      <td>0.0</td>\n",
       "      <td>0.0</td>\n",
       "      <td>0.0</td>\n",
       "      <td>0.0</td>\n",
       "      <td>0.0</td>\n",
       "      <td>0.0</td>\n",
       "      <td>...</td>\n",
       "      <td>0.0</td>\n",
       "      <td>0.0</td>\n",
       "      <td>0.0</td>\n",
       "      <td>0.0</td>\n",
       "      <td>0.0</td>\n",
       "      <td>0.0</td>\n",
       "      <td>0.0</td>\n",
       "      <td>0.0</td>\n",
       "      <td>0.0</td>\n",
       "      <td>0.0</td>\n",
       "    </tr>\n",
       "    <tr>\n",
       "      <th>4</th>\n",
       "      <td>0.0</td>\n",
       "      <td>0.000000</td>\n",
       "      <td>0.0</td>\n",
       "      <td>0.0</td>\n",
       "      <td>0.0</td>\n",
       "      <td>0.0</td>\n",
       "      <td>0.0</td>\n",
       "      <td>0.0</td>\n",
       "      <td>0.0</td>\n",
       "      <td>0.0</td>\n",
       "      <td>...</td>\n",
       "      <td>0.0</td>\n",
       "      <td>0.0</td>\n",
       "      <td>0.0</td>\n",
       "      <td>0.0</td>\n",
       "      <td>0.0</td>\n",
       "      <td>0.0</td>\n",
       "      <td>0.0</td>\n",
       "      <td>0.0</td>\n",
       "      <td>0.0</td>\n",
       "      <td>0.0</td>\n",
       "    </tr>\n",
       "    <tr>\n",
       "      <th>5</th>\n",
       "      <td>0.0</td>\n",
       "      <td>0.000000</td>\n",
       "      <td>0.0</td>\n",
       "      <td>0.0</td>\n",
       "      <td>0.0</td>\n",
       "      <td>0.0</td>\n",
       "      <td>0.0</td>\n",
       "      <td>0.0</td>\n",
       "      <td>0.0</td>\n",
       "      <td>0.0</td>\n",
       "      <td>...</td>\n",
       "      <td>0.0</td>\n",
       "      <td>0.0</td>\n",
       "      <td>0.0</td>\n",
       "      <td>0.0</td>\n",
       "      <td>0.0</td>\n",
       "      <td>0.0</td>\n",
       "      <td>0.0</td>\n",
       "      <td>0.0</td>\n",
       "      <td>0.0</td>\n",
       "      <td>0.0</td>\n",
       "    </tr>\n",
       "  </tbody>\n",
       "</table>\n",
       "<p>5 rows × 40281 columns</p>\n",
       "</div>"
      ],
      "text/plain": [
       "term_str           0         1   10  100  1000  10000  10000000  10440  10800  \\\n",
       "book_id chap_id                                                                 \n",
       "105     1        0.0  0.000762  0.0  0.0   0.0    0.0       0.0    0.0    0.0   \n",
       "        2        0.0  0.000000  0.0  0.0   0.0    0.0       0.0    0.0    0.0   \n",
       "        3        0.0  0.000000  0.0  0.0   0.0    0.0       0.0    0.0    0.0   \n",
       "        4        0.0  0.000000  0.0  0.0   0.0    0.0       0.0    0.0    0.0   \n",
       "        5        0.0  0.000000  0.0  0.0   0.0    0.0       0.0    0.0    0.0   \n",
       "\n",
       "term_str         10th  ...  zoroaster  zozo  zuma  zur    à  æneas  æniad  \\\n",
       "book_id chap_id        ...                                                  \n",
       "105     1         0.0  ...        0.0   0.0   0.0  0.0  0.0    0.0    0.0   \n",
       "        2         0.0  ...        0.0   0.0   0.0  0.0  0.0    0.0    0.0   \n",
       "        3         0.0  ...        0.0   0.0   0.0  0.0  0.0    0.0    0.0   \n",
       "        4         0.0  ...        0.0   0.0   0.0  0.0  0.0    0.0    0.0   \n",
       "        5         0.0  ...        0.0   0.0   0.0  0.0  0.0    0.0    0.0   \n",
       "\n",
       "term_str         æson  æsops  ł20000  \n",
       "book_id chap_id                       \n",
       "105     1         0.0    0.0     0.0  \n",
       "        2         0.0    0.0     0.0  \n",
       "        3         0.0    0.0     0.0  \n",
       "        4         0.0    0.0     0.0  \n",
       "        5         0.0    0.0     0.0  \n",
       "\n",
       "[5 rows x 40281 columns]"
      ]
     },
     "execution_count": 19,
     "metadata": {},
     "output_type": "execute_result"
    }
   ],
   "source": [
    "TF.head()"
   ]
  },
  {
   "cell_type": "markdown",
   "metadata": {},
   "source": [
    "## Compute DF"
   ]
  },
  {
   "cell_type": "code",
   "execution_count": 20,
   "metadata": {
    "tags": []
   },
   "outputs": [],
   "source": [
    "DF = DTCM.astype('bool').sum() "
   ]
  },
  {
   "cell_type": "code",
   "execution_count": 21,
   "metadata": {
    "tags": []
   },
   "outputs": [
    {
     "data": {
      "text/plain": [
       "term_str\n",
       "0          1\n",
       "1         12\n",
       "10         5\n",
       "100        2\n",
       "1000       2\n",
       "          ..\n",
       "æneas      1\n",
       "æniad      1\n",
       "æson       1\n",
       "æsops      1\n",
       "ł20000     1\n",
       "Length: 40281, dtype: int64"
      ]
     },
     "execution_count": 21,
     "metadata": {},
     "output_type": "execute_result"
    }
   ],
   "source": [
    "DF"
   ]
  },
  {
   "cell_type": "markdown",
   "metadata": {},
   "source": [
    "## Compute IDF"
   ]
  },
  {
   "cell_type": "code",
   "execution_count": 22,
   "metadata": {
    "tags": []
   },
   "outputs": [],
   "source": [
    "N = DTCM.shape[0]"
   ]
  },
  {
   "cell_type": "code",
   "execution_count": 23,
   "metadata": {
    "tags": []
   },
   "outputs": [
    {
     "name": "stdout",
     "output_type": "stream",
     "text": [
      "IDF method: standard\n"
     ]
    }
   ],
   "source": [
    "print('IDF method:', idf_method)\n",
    "\n",
    "if idf_method == 'standard':\n",
    "    IDF = np.log2(N / DF)\n",
    "\n",
    "elif idf_method == 'max':\n",
    "    IDF = np.log2(DF.max() / DF) \n",
    "\n",
    "elif idf_method == 'smooth':\n",
    "    IDF = np.log2((1 + N) / (1 + DF)) + 1"
   ]
  },
  {
   "cell_type": "code",
   "execution_count": 24,
   "metadata": {
    "tags": []
   },
   "outputs": [
    {
     "data": {
      "text/plain": [
       "term_str\n",
       "0         10.210671\n",
       "1          6.625709\n",
       "10         7.888743\n",
       "100        9.210671\n",
       "1000       9.210671\n",
       "            ...    \n",
       "æneas     10.210671\n",
       "æniad     10.210671\n",
       "æson      10.210671\n",
       "æsops     10.210671\n",
       "ł20000    10.210671\n",
       "Length: 40281, dtype: float64"
      ]
     },
     "execution_count": 24,
     "metadata": {},
     "output_type": "execute_result"
    }
   ],
   "source": [
    "IDF"
   ]
  },
  {
   "cell_type": "markdown",
   "metadata": {},
   "source": [
    "## Compute TFIDF"
   ]
  },
  {
   "cell_type": "code",
   "execution_count": 25,
   "metadata": {
    "tags": []
   },
   "outputs": [],
   "source": [
    "TFIDF = TF * IDF"
   ]
  },
  {
   "cell_type": "code",
   "execution_count": 26,
   "metadata": {
    "tags": []
   },
   "outputs": [
    {
     "data": {
      "text/html": [
       "<div>\n",
       "<style scoped>\n",
       "    .dataframe tbody tr th:only-of-type {\n",
       "        vertical-align: middle;\n",
       "    }\n",
       "\n",
       "    .dataframe tbody tr th {\n",
       "        vertical-align: top;\n",
       "    }\n",
       "\n",
       "    .dataframe thead th {\n",
       "        text-align: right;\n",
       "    }\n",
       "</style>\n",
       "<table border=\"1\" class=\"dataframe\">\n",
       "  <thead>\n",
       "    <tr style=\"text-align: right;\">\n",
       "      <th></th>\n",
       "      <th>term_str</th>\n",
       "      <th>0</th>\n",
       "      <th>1</th>\n",
       "      <th>10</th>\n",
       "      <th>100</th>\n",
       "      <th>1000</th>\n",
       "      <th>10000</th>\n",
       "      <th>10000000</th>\n",
       "      <th>10440</th>\n",
       "      <th>10800</th>\n",
       "      <th>10th</th>\n",
       "      <th>...</th>\n",
       "      <th>zoroaster</th>\n",
       "      <th>zozo</th>\n",
       "      <th>zuma</th>\n",
       "      <th>zur</th>\n",
       "      <th>à</th>\n",
       "      <th>æneas</th>\n",
       "      <th>æniad</th>\n",
       "      <th>æson</th>\n",
       "      <th>æsops</th>\n",
       "      <th>ł20000</th>\n",
       "    </tr>\n",
       "    <tr>\n",
       "      <th>book_id</th>\n",
       "      <th>chap_id</th>\n",
       "      <th></th>\n",
       "      <th></th>\n",
       "      <th></th>\n",
       "      <th></th>\n",
       "      <th></th>\n",
       "      <th></th>\n",
       "      <th></th>\n",
       "      <th></th>\n",
       "      <th></th>\n",
       "      <th></th>\n",
       "      <th></th>\n",
       "      <th></th>\n",
       "      <th></th>\n",
       "      <th></th>\n",
       "      <th></th>\n",
       "      <th></th>\n",
       "      <th></th>\n",
       "      <th></th>\n",
       "      <th></th>\n",
       "      <th></th>\n",
       "      <th></th>\n",
       "    </tr>\n",
       "  </thead>\n",
       "  <tbody>\n",
       "    <tr>\n",
       "      <th rowspan=\"5\" valign=\"top\">105</th>\n",
       "      <th>1</th>\n",
       "      <td>0.0</td>\n",
       "      <td>0.005048</td>\n",
       "      <td>0.0</td>\n",
       "      <td>0.0</td>\n",
       "      <td>0.0</td>\n",
       "      <td>0.0</td>\n",
       "      <td>0.0</td>\n",
       "      <td>0.0</td>\n",
       "      <td>0.0</td>\n",
       "      <td>0.0</td>\n",
       "      <td>...</td>\n",
       "      <td>0.0</td>\n",
       "      <td>0.0</td>\n",
       "      <td>0.0</td>\n",
       "      <td>0.0</td>\n",
       "      <td>0.0</td>\n",
       "      <td>0.0</td>\n",
       "      <td>0.0</td>\n",
       "      <td>0.0</td>\n",
       "      <td>0.0</td>\n",
       "      <td>0.0</td>\n",
       "    </tr>\n",
       "    <tr>\n",
       "      <th>2</th>\n",
       "      <td>0.0</td>\n",
       "      <td>0.000000</td>\n",
       "      <td>0.0</td>\n",
       "      <td>0.0</td>\n",
       "      <td>0.0</td>\n",
       "      <td>0.0</td>\n",
       "      <td>0.0</td>\n",
       "      <td>0.0</td>\n",
       "      <td>0.0</td>\n",
       "      <td>0.0</td>\n",
       "      <td>...</td>\n",
       "      <td>0.0</td>\n",
       "      <td>0.0</td>\n",
       "      <td>0.0</td>\n",
       "      <td>0.0</td>\n",
       "      <td>0.0</td>\n",
       "      <td>0.0</td>\n",
       "      <td>0.0</td>\n",
       "      <td>0.0</td>\n",
       "      <td>0.0</td>\n",
       "      <td>0.0</td>\n",
       "    </tr>\n",
       "    <tr>\n",
       "      <th>3</th>\n",
       "      <td>0.0</td>\n",
       "      <td>0.000000</td>\n",
       "      <td>0.0</td>\n",
       "      <td>0.0</td>\n",
       "      <td>0.0</td>\n",
       "      <td>0.0</td>\n",
       "      <td>0.0</td>\n",
       "      <td>0.0</td>\n",
       "      <td>0.0</td>\n",
       "      <td>0.0</td>\n",
       "      <td>...</td>\n",
       "      <td>0.0</td>\n",
       "      <td>0.0</td>\n",
       "      <td>0.0</td>\n",
       "      <td>0.0</td>\n",
       "      <td>0.0</td>\n",
       "      <td>0.0</td>\n",
       "      <td>0.0</td>\n",
       "      <td>0.0</td>\n",
       "      <td>0.0</td>\n",
       "      <td>0.0</td>\n",
       "    </tr>\n",
       "    <tr>\n",
       "      <th>4</th>\n",
       "      <td>0.0</td>\n",
       "      <td>0.000000</td>\n",
       "      <td>0.0</td>\n",
       "      <td>0.0</td>\n",
       "      <td>0.0</td>\n",
       "      <td>0.0</td>\n",
       "      <td>0.0</td>\n",
       "      <td>0.0</td>\n",
       "      <td>0.0</td>\n",
       "      <td>0.0</td>\n",
       "      <td>...</td>\n",
       "      <td>0.0</td>\n",
       "      <td>0.0</td>\n",
       "      <td>0.0</td>\n",
       "      <td>0.0</td>\n",
       "      <td>0.0</td>\n",
       "      <td>0.0</td>\n",
       "      <td>0.0</td>\n",
       "      <td>0.0</td>\n",
       "      <td>0.0</td>\n",
       "      <td>0.0</td>\n",
       "    </tr>\n",
       "    <tr>\n",
       "      <th>5</th>\n",
       "      <td>0.0</td>\n",
       "      <td>0.000000</td>\n",
       "      <td>0.0</td>\n",
       "      <td>0.0</td>\n",
       "      <td>0.0</td>\n",
       "      <td>0.0</td>\n",
       "      <td>0.0</td>\n",
       "      <td>0.0</td>\n",
       "      <td>0.0</td>\n",
       "      <td>0.0</td>\n",
       "      <td>...</td>\n",
       "      <td>0.0</td>\n",
       "      <td>0.0</td>\n",
       "      <td>0.0</td>\n",
       "      <td>0.0</td>\n",
       "      <td>0.0</td>\n",
       "      <td>0.0</td>\n",
       "      <td>0.0</td>\n",
       "      <td>0.0</td>\n",
       "      <td>0.0</td>\n",
       "      <td>0.0</td>\n",
       "    </tr>\n",
       "  </tbody>\n",
       "</table>\n",
       "<p>5 rows × 40281 columns</p>\n",
       "</div>"
      ],
      "text/plain": [
       "term_str           0         1   10  100  1000  10000  10000000  10440  10800  \\\n",
       "book_id chap_id                                                                 \n",
       "105     1        0.0  0.005048  0.0  0.0   0.0    0.0       0.0    0.0    0.0   \n",
       "        2        0.0  0.000000  0.0  0.0   0.0    0.0       0.0    0.0    0.0   \n",
       "        3        0.0  0.000000  0.0  0.0   0.0    0.0       0.0    0.0    0.0   \n",
       "        4        0.0  0.000000  0.0  0.0   0.0    0.0       0.0    0.0    0.0   \n",
       "        5        0.0  0.000000  0.0  0.0   0.0    0.0       0.0    0.0    0.0   \n",
       "\n",
       "term_str         10th  ...  zoroaster  zozo  zuma  zur    à  æneas  æniad  \\\n",
       "book_id chap_id        ...                                                  \n",
       "105     1         0.0  ...        0.0   0.0   0.0  0.0  0.0    0.0    0.0   \n",
       "        2         0.0  ...        0.0   0.0   0.0  0.0  0.0    0.0    0.0   \n",
       "        3         0.0  ...        0.0   0.0   0.0  0.0  0.0    0.0    0.0   \n",
       "        4         0.0  ...        0.0   0.0   0.0  0.0  0.0    0.0    0.0   \n",
       "        5         0.0  ...        0.0   0.0   0.0  0.0  0.0    0.0    0.0   \n",
       "\n",
       "term_str         æson  æsops  ł20000  \n",
       "book_id chap_id                       \n",
       "105     1         0.0    0.0     0.0  \n",
       "        2         0.0    0.0     0.0  \n",
       "        3         0.0    0.0     0.0  \n",
       "        4         0.0    0.0     0.0  \n",
       "        5         0.0    0.0     0.0  \n",
       "\n",
       "[5 rows x 40281 columns]"
      ]
     },
     "execution_count": 26,
     "metadata": {},
     "output_type": "execute_result"
    }
   ],
   "source": [
    "TFIDF.head()"
   ]
  },
  {
   "cell_type": "markdown",
   "metadata": {},
   "source": [
    "## Move things to their places"
   ]
  },
  {
   "cell_type": "code",
   "execution_count": 27,
   "metadata": {
    "tags": []
   },
   "outputs": [],
   "source": [
    "VOCAB['df'] = DF\n",
    "VOCAB['idf'] = IDF"
   ]
  },
  {
   "cell_type": "code",
   "execution_count": 28,
   "metadata": {
    "tags": []
   },
   "outputs": [],
   "source": [
    "BOW['tf'] = TF.stack()\n",
    "BOW['tfidf'] = TFIDF.stack()"
   ]
  },
  {
   "cell_type": "markdown",
   "metadata": {},
   "source": [
    "# Apply"
   ]
  },
  {
   "cell_type": "code",
   "execution_count": 29,
   "metadata": {
    "tags": []
   },
   "outputs": [],
   "source": [
    "def top_books_for_term(term_str):\n",
    "    X = BOW.join(LIB).query(f\"term_str == '{term_str}'\").groupby(['author','title'])\\\n",
    "        .agg({'tfidf':'mean', 'n':'sum', 'tf':'sum'})\n",
    "    return px.scatter(X.reset_index(), 'n','tfidf', color='author', size='tf',\n",
    "                      hover_name='title', \n",
    "                      height=500, width=600, title=f\"{term_str}\")"
   ]
  },
  {
   "cell_type": "code",
   "execution_count": 30,
   "metadata": {
    "tags": []
   },
   "outputs": [
    {
     "data": {
      "application/vnd.plotly.v1+json": {
       "config": {
        "plotlyServerURL": "https://plot.ly"
       },
       "data": [
        {
         "hovertemplate": "<b>%{hovertext}</b><br><br>author=AUSTEN, JANE<br>n=%{x}<br>tfidf=%{y}<br>tf=%{marker.size}<extra></extra>",
         "hovertext": [
          "EMMA",
          "MANSFIELD PARK",
          "PERSUASION"
         ],
         "legendgroup": "AUSTEN, JANE",
         "marker": {
          "color": "#636efa",
          "size": [
           0.0002092925910422771,
           0.0013391539183691269,
           0.0020469996004926433
          ],
          "sizemode": "area",
          "sizeref": 0.0006237731662835044,
          "symbol": "circle"
         },
         "mode": "markers",
         "name": "AUSTEN, JANE",
         "orientation": "v",
         "showlegend": true,
         "type": "scatter",
         "x": [
          1,
          4,
          6
         ],
         "xaxis": "x",
         "y": [
          0.000375223697969804,
          0.001200430179823507,
          0.001834949713256711
         ],
         "yaxis": "y"
        },
        {
         "hovertemplate": "<b>%{hovertext}</b><br><br>author=MELVILLE, HERMAN<br>n=%{x}<br>tfidf=%{y}<br>tf=%{marker.size}<extra></extra>",
         "hovertext": [
          "ISRAEL POTTER HIS FIFTY YEARS OF EXILE",
          "MARDI AND A VOYAGE THITHER VOL I",
          "MARDI AND A VOYAGE THITHER VOL II",
          "MOBY DICK OR THE WHALE",
          "OMOO ADVENTURES IN THE SOUTH SEAS",
          "PIERRE OR THE AMBIGUITIES",
          "REDBURN HIS FIRST VOYAGE BEING THE SAILOR BOY CONFESSIONS AND REMINISCENCES OF THE SON OF A GENTLEMAN IN THE MERCHANT NAVY",
          "THE CONFIDENCE MAN HIS MASQUERADE",
          "THE PIAZZA TALES",
          "TYPEE A ROMANCE OF THE SOUTH SEAS",
          "WHITE JACKET OR THE WORLD ON A MAN OF WAR"
         ],
         "legendgroup": "MELVILLE, HERMAN",
         "marker": {
          "color": "#EF553B",
          "size": [
           0.02724755854670926,
           0.06223885184207063,
           0.004597846816202041,
           0.24950926651340177,
           0.09769787629324536,
           0.003140548493701538,
           0.10772728864426323,
           0.0031391944140159327,
           0.0016881114419396,
           0.015617247486124416,
           0.14838322969010118
          ],
          "sizemode": "area",
          "sizeref": 0.0006237731662835044,
          "symbol": "circle"
         },
         "mode": "markers",
         "name": "MELVILLE, HERMAN",
         "orientation": "v",
         "showlegend": true,
         "type": "scatter",
         "x": [
          77,
          65,
          6,
          437,
          130,
          6,
          196,
          7,
          127,
          48,
          254
         ],
         "xaxis": "x",
         "y": [
          0.00325666240027253,
          0.004132703165613499,
          0.001648621268896733,
          0.004915658362529516,
          0.003574583513511147,
          0.0011260868945161563,
          0.0036440662541085,
          0.0011256013706049197,
          0.0030264779783903775,
          0.0019999210963364804,
          0.003694781223352304
         ],
         "yaxis": "y"
        }
       ],
       "layout": {
        "height": 500,
        "legend": {
         "itemsizing": "constant",
         "title": {
          "text": "author"
         },
         "tracegroupgap": 0
        },
        "template": {
         "data": {
          "bar": [
           {
            "error_x": {
             "color": "#2a3f5f"
            },
            "error_y": {
             "color": "#2a3f5f"
            },
            "marker": {
             "line": {
              "color": "#E5ECF6",
              "width": 0.5
             },
             "pattern": {
              "fillmode": "overlay",
              "size": 10,
              "solidity": 0.2
             }
            },
            "type": "bar"
           }
          ],
          "barpolar": [
           {
            "marker": {
             "line": {
              "color": "#E5ECF6",
              "width": 0.5
             },
             "pattern": {
              "fillmode": "overlay",
              "size": 10,
              "solidity": 0.2
             }
            },
            "type": "barpolar"
           }
          ],
          "carpet": [
           {
            "aaxis": {
             "endlinecolor": "#2a3f5f",
             "gridcolor": "white",
             "linecolor": "white",
             "minorgridcolor": "white",
             "startlinecolor": "#2a3f5f"
            },
            "baxis": {
             "endlinecolor": "#2a3f5f",
             "gridcolor": "white",
             "linecolor": "white",
             "minorgridcolor": "white",
             "startlinecolor": "#2a3f5f"
            },
            "type": "carpet"
           }
          ],
          "choropleth": [
           {
            "colorbar": {
             "outlinewidth": 0,
             "ticks": ""
            },
            "type": "choropleth"
           }
          ],
          "contour": [
           {
            "colorbar": {
             "outlinewidth": 0,
             "ticks": ""
            },
            "colorscale": [
             [
              0,
              "#0d0887"
             ],
             [
              0.1111111111111111,
              "#46039f"
             ],
             [
              0.2222222222222222,
              "#7201a8"
             ],
             [
              0.3333333333333333,
              "#9c179e"
             ],
             [
              0.4444444444444444,
              "#bd3786"
             ],
             [
              0.5555555555555556,
              "#d8576b"
             ],
             [
              0.6666666666666666,
              "#ed7953"
             ],
             [
              0.7777777777777778,
              "#fb9f3a"
             ],
             [
              0.8888888888888888,
              "#fdca26"
             ],
             [
              1,
              "#f0f921"
             ]
            ],
            "type": "contour"
           }
          ],
          "contourcarpet": [
           {
            "colorbar": {
             "outlinewidth": 0,
             "ticks": ""
            },
            "type": "contourcarpet"
           }
          ],
          "heatmap": [
           {
            "colorbar": {
             "outlinewidth": 0,
             "ticks": ""
            },
            "colorscale": [
             [
              0,
              "#0d0887"
             ],
             [
              0.1111111111111111,
              "#46039f"
             ],
             [
              0.2222222222222222,
              "#7201a8"
             ],
             [
              0.3333333333333333,
              "#9c179e"
             ],
             [
              0.4444444444444444,
              "#bd3786"
             ],
             [
              0.5555555555555556,
              "#d8576b"
             ],
             [
              0.6666666666666666,
              "#ed7953"
             ],
             [
              0.7777777777777778,
              "#fb9f3a"
             ],
             [
              0.8888888888888888,
              "#fdca26"
             ],
             [
              1,
              "#f0f921"
             ]
            ],
            "type": "heatmap"
           }
          ],
          "heatmapgl": [
           {
            "colorbar": {
             "outlinewidth": 0,
             "ticks": ""
            },
            "colorscale": [
             [
              0,
              "#0d0887"
             ],
             [
              0.1111111111111111,
              "#46039f"
             ],
             [
              0.2222222222222222,
              "#7201a8"
             ],
             [
              0.3333333333333333,
              "#9c179e"
             ],
             [
              0.4444444444444444,
              "#bd3786"
             ],
             [
              0.5555555555555556,
              "#d8576b"
             ],
             [
              0.6666666666666666,
              "#ed7953"
             ],
             [
              0.7777777777777778,
              "#fb9f3a"
             ],
             [
              0.8888888888888888,
              "#fdca26"
             ],
             [
              1,
              "#f0f921"
             ]
            ],
            "type": "heatmapgl"
           }
          ],
          "histogram": [
           {
            "marker": {
             "pattern": {
              "fillmode": "overlay",
              "size": 10,
              "solidity": 0.2
             }
            },
            "type": "histogram"
           }
          ],
          "histogram2d": [
           {
            "colorbar": {
             "outlinewidth": 0,
             "ticks": ""
            },
            "colorscale": [
             [
              0,
              "#0d0887"
             ],
             [
              0.1111111111111111,
              "#46039f"
             ],
             [
              0.2222222222222222,
              "#7201a8"
             ],
             [
              0.3333333333333333,
              "#9c179e"
             ],
             [
              0.4444444444444444,
              "#bd3786"
             ],
             [
              0.5555555555555556,
              "#d8576b"
             ],
             [
              0.6666666666666666,
              "#ed7953"
             ],
             [
              0.7777777777777778,
              "#fb9f3a"
             ],
             [
              0.8888888888888888,
              "#fdca26"
             ],
             [
              1,
              "#f0f921"
             ]
            ],
            "type": "histogram2d"
           }
          ],
          "histogram2dcontour": [
           {
            "colorbar": {
             "outlinewidth": 0,
             "ticks": ""
            },
            "colorscale": [
             [
              0,
              "#0d0887"
             ],
             [
              0.1111111111111111,
              "#46039f"
             ],
             [
              0.2222222222222222,
              "#7201a8"
             ],
             [
              0.3333333333333333,
              "#9c179e"
             ],
             [
              0.4444444444444444,
              "#bd3786"
             ],
             [
              0.5555555555555556,
              "#d8576b"
             ],
             [
              0.6666666666666666,
              "#ed7953"
             ],
             [
              0.7777777777777778,
              "#fb9f3a"
             ],
             [
              0.8888888888888888,
              "#fdca26"
             ],
             [
              1,
              "#f0f921"
             ]
            ],
            "type": "histogram2dcontour"
           }
          ],
          "mesh3d": [
           {
            "colorbar": {
             "outlinewidth": 0,
             "ticks": ""
            },
            "type": "mesh3d"
           }
          ],
          "parcoords": [
           {
            "line": {
             "colorbar": {
              "outlinewidth": 0,
              "ticks": ""
             }
            },
            "type": "parcoords"
           }
          ],
          "pie": [
           {
            "automargin": true,
            "type": "pie"
           }
          ],
          "scatter": [
           {
            "fillpattern": {
             "fillmode": "overlay",
             "size": 10,
             "solidity": 0.2
            },
            "type": "scatter"
           }
          ],
          "scatter3d": [
           {
            "line": {
             "colorbar": {
              "outlinewidth": 0,
              "ticks": ""
             }
            },
            "marker": {
             "colorbar": {
              "outlinewidth": 0,
              "ticks": ""
             }
            },
            "type": "scatter3d"
           }
          ],
          "scattercarpet": [
           {
            "marker": {
             "colorbar": {
              "outlinewidth": 0,
              "ticks": ""
             }
            },
            "type": "scattercarpet"
           }
          ],
          "scattergeo": [
           {
            "marker": {
             "colorbar": {
              "outlinewidth": 0,
              "ticks": ""
             }
            },
            "type": "scattergeo"
           }
          ],
          "scattergl": [
           {
            "marker": {
             "colorbar": {
              "outlinewidth": 0,
              "ticks": ""
             }
            },
            "type": "scattergl"
           }
          ],
          "scattermapbox": [
           {
            "marker": {
             "colorbar": {
              "outlinewidth": 0,
              "ticks": ""
             }
            },
            "type": "scattermapbox"
           }
          ],
          "scatterpolar": [
           {
            "marker": {
             "colorbar": {
              "outlinewidth": 0,
              "ticks": ""
             }
            },
            "type": "scatterpolar"
           }
          ],
          "scatterpolargl": [
           {
            "marker": {
             "colorbar": {
              "outlinewidth": 0,
              "ticks": ""
             }
            },
            "type": "scatterpolargl"
           }
          ],
          "scatterternary": [
           {
            "marker": {
             "colorbar": {
              "outlinewidth": 0,
              "ticks": ""
             }
            },
            "type": "scatterternary"
           }
          ],
          "surface": [
           {
            "colorbar": {
             "outlinewidth": 0,
             "ticks": ""
            },
            "colorscale": [
             [
              0,
              "#0d0887"
             ],
             [
              0.1111111111111111,
              "#46039f"
             ],
             [
              0.2222222222222222,
              "#7201a8"
             ],
             [
              0.3333333333333333,
              "#9c179e"
             ],
             [
              0.4444444444444444,
              "#bd3786"
             ],
             [
              0.5555555555555556,
              "#d8576b"
             ],
             [
              0.6666666666666666,
              "#ed7953"
             ],
             [
              0.7777777777777778,
              "#fb9f3a"
             ],
             [
              0.8888888888888888,
              "#fdca26"
             ],
             [
              1,
              "#f0f921"
             ]
            ],
            "type": "surface"
           }
          ],
          "table": [
           {
            "cells": {
             "fill": {
              "color": "#EBF0F8"
             },
             "line": {
              "color": "white"
             }
            },
            "header": {
             "fill": {
              "color": "#C8D4E3"
             },
             "line": {
              "color": "white"
             }
            },
            "type": "table"
           }
          ]
         },
         "layout": {
          "annotationdefaults": {
           "arrowcolor": "#2a3f5f",
           "arrowhead": 0,
           "arrowwidth": 1
          },
          "autotypenumbers": "strict",
          "coloraxis": {
           "colorbar": {
            "outlinewidth": 0,
            "ticks": ""
           }
          },
          "colorscale": {
           "diverging": [
            [
             0,
             "#8e0152"
            ],
            [
             0.1,
             "#c51b7d"
            ],
            [
             0.2,
             "#de77ae"
            ],
            [
             0.3,
             "#f1b6da"
            ],
            [
             0.4,
             "#fde0ef"
            ],
            [
             0.5,
             "#f7f7f7"
            ],
            [
             0.6,
             "#e6f5d0"
            ],
            [
             0.7,
             "#b8e186"
            ],
            [
             0.8,
             "#7fbc41"
            ],
            [
             0.9,
             "#4d9221"
            ],
            [
             1,
             "#276419"
            ]
           ],
           "sequential": [
            [
             0,
             "#0d0887"
            ],
            [
             0.1111111111111111,
             "#46039f"
            ],
            [
             0.2222222222222222,
             "#7201a8"
            ],
            [
             0.3333333333333333,
             "#9c179e"
            ],
            [
             0.4444444444444444,
             "#bd3786"
            ],
            [
             0.5555555555555556,
             "#d8576b"
            ],
            [
             0.6666666666666666,
             "#ed7953"
            ],
            [
             0.7777777777777778,
             "#fb9f3a"
            ],
            [
             0.8888888888888888,
             "#fdca26"
            ],
            [
             1,
             "#f0f921"
            ]
           ],
           "sequentialminus": [
            [
             0,
             "#0d0887"
            ],
            [
             0.1111111111111111,
             "#46039f"
            ],
            [
             0.2222222222222222,
             "#7201a8"
            ],
            [
             0.3333333333333333,
             "#9c179e"
            ],
            [
             0.4444444444444444,
             "#bd3786"
            ],
            [
             0.5555555555555556,
             "#d8576b"
            ],
            [
             0.6666666666666666,
             "#ed7953"
            ],
            [
             0.7777777777777778,
             "#fb9f3a"
            ],
            [
             0.8888888888888888,
             "#fdca26"
            ],
            [
             1,
             "#f0f921"
            ]
           ]
          },
          "colorway": [
           "#636efa",
           "#EF553B",
           "#00cc96",
           "#ab63fa",
           "#FFA15A",
           "#19d3f3",
           "#FF6692",
           "#B6E880",
           "#FF97FF",
           "#FECB52"
          ],
          "font": {
           "color": "#2a3f5f"
          },
          "geo": {
           "bgcolor": "white",
           "lakecolor": "white",
           "landcolor": "#E5ECF6",
           "showlakes": true,
           "showland": true,
           "subunitcolor": "white"
          },
          "hoverlabel": {
           "align": "left"
          },
          "hovermode": "closest",
          "mapbox": {
           "style": "light"
          },
          "paper_bgcolor": "white",
          "plot_bgcolor": "#E5ECF6",
          "polar": {
           "angularaxis": {
            "gridcolor": "white",
            "linecolor": "white",
            "ticks": ""
           },
           "bgcolor": "#E5ECF6",
           "radialaxis": {
            "gridcolor": "white",
            "linecolor": "white",
            "ticks": ""
           }
          },
          "scene": {
           "xaxis": {
            "backgroundcolor": "#E5ECF6",
            "gridcolor": "white",
            "gridwidth": 2,
            "linecolor": "white",
            "showbackground": true,
            "ticks": "",
            "zerolinecolor": "white"
           },
           "yaxis": {
            "backgroundcolor": "#E5ECF6",
            "gridcolor": "white",
            "gridwidth": 2,
            "linecolor": "white",
            "showbackground": true,
            "ticks": "",
            "zerolinecolor": "white"
           },
           "zaxis": {
            "backgroundcolor": "#E5ECF6",
            "gridcolor": "white",
            "gridwidth": 2,
            "linecolor": "white",
            "showbackground": true,
            "ticks": "",
            "zerolinecolor": "white"
           }
          },
          "shapedefaults": {
           "line": {
            "color": "#2a3f5f"
           }
          },
          "ternary": {
           "aaxis": {
            "gridcolor": "white",
            "linecolor": "white",
            "ticks": ""
           },
           "baxis": {
            "gridcolor": "white",
            "linecolor": "white",
            "ticks": ""
           },
           "bgcolor": "#E5ECF6",
           "caxis": {
            "gridcolor": "white",
            "linecolor": "white",
            "ticks": ""
           }
          },
          "title": {
           "x": 0.05
          },
          "xaxis": {
           "automargin": true,
           "gridcolor": "white",
           "linecolor": "white",
           "ticks": "",
           "title": {
            "standoff": 15
           },
           "zerolinecolor": "white",
           "zerolinewidth": 2
          },
          "yaxis": {
           "automargin": true,
           "gridcolor": "white",
           "linecolor": "white",
           "ticks": "",
           "title": {
            "standoff": 15
           },
           "zerolinecolor": "white",
           "zerolinewidth": 2
          }
         }
        },
        "title": {
         "text": "ship"
        },
        "width": 600,
        "xaxis": {
         "anchor": "y",
         "domain": [
          0,
          1
         ],
         "title": {
          "text": "n"
         }
        },
        "yaxis": {
         "anchor": "x",
         "domain": [
          0,
          1
         ],
         "title": {
          "text": "tfidf"
         }
        }
       }
      }
     },
     "metadata": {},
     "output_type": "display_data"
    }
   ],
   "source": [
    "top_books_for_term('ship')"
   ]
  },
  {
   "cell_type": "code",
   "execution_count": 31,
   "metadata": {
    "tags": []
   },
   "outputs": [
    {
     "data": {
      "application/vnd.plotly.v1+json": {
       "config": {
        "plotlyServerURL": "https://plot.ly"
       },
       "data": [
        {
         "hovertemplate": "<b>%{hovertext}</b><br><br>author=AUSTEN, JANE<br>n=%{x}<br>tfidf=%{y}<br>tf=%{marker.size}<extra></extra>",
         "hovertext": [
          "EMMA",
          "LADY SUSAN",
          "LOVE AND FREINDSHIP SIC",
          "MANSFIELD PARK",
          "NORTHANGER ABBEY",
          "PERSUASION",
          "PRIDE AND PREJUDICE",
          "SENSE AND SENSIBILITY"
         ],
         "legendgroup": "AUSTEN, JANE",
         "marker": {
          "color": "#636efa",
          "size": [
           0.0061927122664241305,
           0.00043554006968641115,
           0.00040941658137154553,
           0.004787599678665748,
           0.003539249377266309,
           0.0012807524224607491,
           0.007055846529813818,
           0.010822510890427246
          ],
          "sizemode": "area",
          "sizeref": 0.0000559456440572141,
          "symbol": "circle"
         },
         "mode": "markers",
         "name": "AUSTEN, JANE",
         "orientation": "v",
         "showlegend": true,
         "type": "scatter",
         "x": [
          18,
          1,
          2,
          17,
          8,
          5,
          12,
          24
         ],
         "xaxis": "x",
         "y": [
          0.0015402663623502943,
          0.00140827152451468,
          0.0013238040615294595,
          0.0014072894295236752,
          0.0022887557141408814,
          0.0010352934735736797,
          0.002281431363235266,
          0.0024995295613611476
         ],
         "yaxis": "y"
        },
        {
         "hovertemplate": "<b>%{hovertext}</b><br><br>author=MELVILLE, HERMAN<br>n=%{x}<br>tfidf=%{y}<br>tf=%{marker.size}<extra></extra>",
         "hovertext": [
          "ISRAEL POTTER HIS FIFTY YEARS OF EXILE",
          "MARDI AND A VOYAGE THITHER VOL I",
          "MARDI AND A VOYAGE THITHER VOL II",
          "MOBY DICK OR THE WHALE",
          "OMOO ADVENTURES IN THE SOUTH SEAS",
          "PIERRE OR THE AMBIGUITIES",
          "REDBURN HIS FIRST VOYAGE BEING THE SAILOR BOY CONFESSIONS AND REMINISCENCES OF THE SON OF A GENTLEMAN IN THE MERCHANT NAVY",
          "THE CONFIDENCE MAN HIS MASQUERADE",
          "THE PIAZZA TALES",
          "TYPEE A ROMANCE OF THE SOUTH SEAS",
          "WHITE JACKET OR THE WORLD ON A MAN OF WAR"
         ],
         "legendgroup": "MELVILLE, HERMAN",
         "marker": {
          "color": "#EF553B",
          "size": [
           0.0006289308176100629,
           0.007393151259686775,
           0.004586521716951839,
           0.010371430083779479,
           0.0008278145695364238,
           0.02237825762288564,
           0.0035578450721175277,
           0.0011788957574226054,
           0.000053168864313058275,
           0.0022249024876433493,
           0.004220558768884479
          ],
          "sizemode": "area",
          "sizeref": 0.0000559456440572141,
          "symbol": "circle"
         },
         "mode": "markers",
         "name": "MELVILLE, HERMAN",
         "orientation": "v",
         "showlegend": true,
         "type": "scatter",
         "x": [
          1,
          6,
          8,
          17,
          1,
          34,
          6,
          3,
          4,
          6,
          5
         ],
         "xaxis": "x",
         "y": [
          0.002033579509613651,
          0.0039841586419909454,
          0.002966003993709227,
          0.0023953495034989727,
          0.002676648526726577,
          0.003808298220988506,
          0.0019173176218150983,
          0.0012706104758204901,
          0.00017191574969617742,
          0.001198996769086388,
          0.0027293437024245343
         ],
         "yaxis": "y"
        }
       ],
       "layout": {
        "height": 500,
        "legend": {
         "itemsizing": "constant",
         "title": {
          "text": "author"
         },
         "tracegroupgap": 0
        },
        "template": {
         "data": {
          "bar": [
           {
            "error_x": {
             "color": "#2a3f5f"
            },
            "error_y": {
             "color": "#2a3f5f"
            },
            "marker": {
             "line": {
              "color": "#E5ECF6",
              "width": 0.5
             },
             "pattern": {
              "fillmode": "overlay",
              "size": 10,
              "solidity": 0.2
             }
            },
            "type": "bar"
           }
          ],
          "barpolar": [
           {
            "marker": {
             "line": {
              "color": "#E5ECF6",
              "width": 0.5
             },
             "pattern": {
              "fillmode": "overlay",
              "size": 10,
              "solidity": 0.2
             }
            },
            "type": "barpolar"
           }
          ],
          "carpet": [
           {
            "aaxis": {
             "endlinecolor": "#2a3f5f",
             "gridcolor": "white",
             "linecolor": "white",
             "minorgridcolor": "white",
             "startlinecolor": "#2a3f5f"
            },
            "baxis": {
             "endlinecolor": "#2a3f5f",
             "gridcolor": "white",
             "linecolor": "white",
             "minorgridcolor": "white",
             "startlinecolor": "#2a3f5f"
            },
            "type": "carpet"
           }
          ],
          "choropleth": [
           {
            "colorbar": {
             "outlinewidth": 0,
             "ticks": ""
            },
            "type": "choropleth"
           }
          ],
          "contour": [
           {
            "colorbar": {
             "outlinewidth": 0,
             "ticks": ""
            },
            "colorscale": [
             [
              0,
              "#0d0887"
             ],
             [
              0.1111111111111111,
              "#46039f"
             ],
             [
              0.2222222222222222,
              "#7201a8"
             ],
             [
              0.3333333333333333,
              "#9c179e"
             ],
             [
              0.4444444444444444,
              "#bd3786"
             ],
             [
              0.5555555555555556,
              "#d8576b"
             ],
             [
              0.6666666666666666,
              "#ed7953"
             ],
             [
              0.7777777777777778,
              "#fb9f3a"
             ],
             [
              0.8888888888888888,
              "#fdca26"
             ],
             [
              1,
              "#f0f921"
             ]
            ],
            "type": "contour"
           }
          ],
          "contourcarpet": [
           {
            "colorbar": {
             "outlinewidth": 0,
             "ticks": ""
            },
            "type": "contourcarpet"
           }
          ],
          "heatmap": [
           {
            "colorbar": {
             "outlinewidth": 0,
             "ticks": ""
            },
            "colorscale": [
             [
              0,
              "#0d0887"
             ],
             [
              0.1111111111111111,
              "#46039f"
             ],
             [
              0.2222222222222222,
              "#7201a8"
             ],
             [
              0.3333333333333333,
              "#9c179e"
             ],
             [
              0.4444444444444444,
              "#bd3786"
             ],
             [
              0.5555555555555556,
              "#d8576b"
             ],
             [
              0.6666666666666666,
              "#ed7953"
             ],
             [
              0.7777777777777778,
              "#fb9f3a"
             ],
             [
              0.8888888888888888,
              "#fdca26"
             ],
             [
              1,
              "#f0f921"
             ]
            ],
            "type": "heatmap"
           }
          ],
          "heatmapgl": [
           {
            "colorbar": {
             "outlinewidth": 0,
             "ticks": ""
            },
            "colorscale": [
             [
              0,
              "#0d0887"
             ],
             [
              0.1111111111111111,
              "#46039f"
             ],
             [
              0.2222222222222222,
              "#7201a8"
             ],
             [
              0.3333333333333333,
              "#9c179e"
             ],
             [
              0.4444444444444444,
              "#bd3786"
             ],
             [
              0.5555555555555556,
              "#d8576b"
             ],
             [
              0.6666666666666666,
              "#ed7953"
             ],
             [
              0.7777777777777778,
              "#fb9f3a"
             ],
             [
              0.8888888888888888,
              "#fdca26"
             ],
             [
              1,
              "#f0f921"
             ]
            ],
            "type": "heatmapgl"
           }
          ],
          "histogram": [
           {
            "marker": {
             "pattern": {
              "fillmode": "overlay",
              "size": 10,
              "solidity": 0.2
             }
            },
            "type": "histogram"
           }
          ],
          "histogram2d": [
           {
            "colorbar": {
             "outlinewidth": 0,
             "ticks": ""
            },
            "colorscale": [
             [
              0,
              "#0d0887"
             ],
             [
              0.1111111111111111,
              "#46039f"
             ],
             [
              0.2222222222222222,
              "#7201a8"
             ],
             [
              0.3333333333333333,
              "#9c179e"
             ],
             [
              0.4444444444444444,
              "#bd3786"
             ],
             [
              0.5555555555555556,
              "#d8576b"
             ],
             [
              0.6666666666666666,
              "#ed7953"
             ],
             [
              0.7777777777777778,
              "#fb9f3a"
             ],
             [
              0.8888888888888888,
              "#fdca26"
             ],
             [
              1,
              "#f0f921"
             ]
            ],
            "type": "histogram2d"
           }
          ],
          "histogram2dcontour": [
           {
            "colorbar": {
             "outlinewidth": 0,
             "ticks": ""
            },
            "colorscale": [
             [
              0,
              "#0d0887"
             ],
             [
              0.1111111111111111,
              "#46039f"
             ],
             [
              0.2222222222222222,
              "#7201a8"
             ],
             [
              0.3333333333333333,
              "#9c179e"
             ],
             [
              0.4444444444444444,
              "#bd3786"
             ],
             [
              0.5555555555555556,
              "#d8576b"
             ],
             [
              0.6666666666666666,
              "#ed7953"
             ],
             [
              0.7777777777777778,
              "#fb9f3a"
             ],
             [
              0.8888888888888888,
              "#fdca26"
             ],
             [
              1,
              "#f0f921"
             ]
            ],
            "type": "histogram2dcontour"
           }
          ],
          "mesh3d": [
           {
            "colorbar": {
             "outlinewidth": 0,
             "ticks": ""
            },
            "type": "mesh3d"
           }
          ],
          "parcoords": [
           {
            "line": {
             "colorbar": {
              "outlinewidth": 0,
              "ticks": ""
             }
            },
            "type": "parcoords"
           }
          ],
          "pie": [
           {
            "automargin": true,
            "type": "pie"
           }
          ],
          "scatter": [
           {
            "fillpattern": {
             "fillmode": "overlay",
             "size": 10,
             "solidity": 0.2
            },
            "type": "scatter"
           }
          ],
          "scatter3d": [
           {
            "line": {
             "colorbar": {
              "outlinewidth": 0,
              "ticks": ""
             }
            },
            "marker": {
             "colorbar": {
              "outlinewidth": 0,
              "ticks": ""
             }
            },
            "type": "scatter3d"
           }
          ],
          "scattercarpet": [
           {
            "marker": {
             "colorbar": {
              "outlinewidth": 0,
              "ticks": ""
             }
            },
            "type": "scattercarpet"
           }
          ],
          "scattergeo": [
           {
            "marker": {
             "colorbar": {
              "outlinewidth": 0,
              "ticks": ""
             }
            },
            "type": "scattergeo"
           }
          ],
          "scattergl": [
           {
            "marker": {
             "colorbar": {
              "outlinewidth": 0,
              "ticks": ""
             }
            },
            "type": "scattergl"
           }
          ],
          "scattermapbox": [
           {
            "marker": {
             "colorbar": {
              "outlinewidth": 0,
              "ticks": ""
             }
            },
            "type": "scattermapbox"
           }
          ],
          "scatterpolar": [
           {
            "marker": {
             "colorbar": {
              "outlinewidth": 0,
              "ticks": ""
             }
            },
            "type": "scatterpolar"
           }
          ],
          "scatterpolargl": [
           {
            "marker": {
             "colorbar": {
              "outlinewidth": 0,
              "ticks": ""
             }
            },
            "type": "scatterpolargl"
           }
          ],
          "scatterternary": [
           {
            "marker": {
             "colorbar": {
              "outlinewidth": 0,
              "ticks": ""
             }
            },
            "type": "scatterternary"
           }
          ],
          "surface": [
           {
            "colorbar": {
             "outlinewidth": 0,
             "ticks": ""
            },
            "colorscale": [
             [
              0,
              "#0d0887"
             ],
             [
              0.1111111111111111,
              "#46039f"
             ],
             [
              0.2222222222222222,
              "#7201a8"
             ],
             [
              0.3333333333333333,
              "#9c179e"
             ],
             [
              0.4444444444444444,
              "#bd3786"
             ],
             [
              0.5555555555555556,
              "#d8576b"
             ],
             [
              0.6666666666666666,
              "#ed7953"
             ],
             [
              0.7777777777777778,
              "#fb9f3a"
             ],
             [
              0.8888888888888888,
              "#fdca26"
             ],
             [
              1,
              "#f0f921"
             ]
            ],
            "type": "surface"
           }
          ],
          "table": [
           {
            "cells": {
             "fill": {
              "color": "#EBF0F8"
             },
             "line": {
              "color": "white"
             }
            },
            "header": {
             "fill": {
              "color": "#C8D4E3"
             },
             "line": {
              "color": "white"
             }
            },
            "type": "table"
           }
          ]
         },
         "layout": {
          "annotationdefaults": {
           "arrowcolor": "#2a3f5f",
           "arrowhead": 0,
           "arrowwidth": 1
          },
          "autotypenumbers": "strict",
          "coloraxis": {
           "colorbar": {
            "outlinewidth": 0,
            "ticks": ""
           }
          },
          "colorscale": {
           "diverging": [
            [
             0,
             "#8e0152"
            ],
            [
             0.1,
             "#c51b7d"
            ],
            [
             0.2,
             "#de77ae"
            ],
            [
             0.3,
             "#f1b6da"
            ],
            [
             0.4,
             "#fde0ef"
            ],
            [
             0.5,
             "#f7f7f7"
            ],
            [
             0.6,
             "#e6f5d0"
            ],
            [
             0.7,
             "#b8e186"
            ],
            [
             0.8,
             "#7fbc41"
            ],
            [
             0.9,
             "#4d9221"
            ],
            [
             1,
             "#276419"
            ]
           ],
           "sequential": [
            [
             0,
             "#0d0887"
            ],
            [
             0.1111111111111111,
             "#46039f"
            ],
            [
             0.2222222222222222,
             "#7201a8"
            ],
            [
             0.3333333333333333,
             "#9c179e"
            ],
            [
             0.4444444444444444,
             "#bd3786"
            ],
            [
             0.5555555555555556,
             "#d8576b"
            ],
            [
             0.6666666666666666,
             "#ed7953"
            ],
            [
             0.7777777777777778,
             "#fb9f3a"
            ],
            [
             0.8888888888888888,
             "#fdca26"
            ],
            [
             1,
             "#f0f921"
            ]
           ],
           "sequentialminus": [
            [
             0,
             "#0d0887"
            ],
            [
             0.1111111111111111,
             "#46039f"
            ],
            [
             0.2222222222222222,
             "#7201a8"
            ],
            [
             0.3333333333333333,
             "#9c179e"
            ],
            [
             0.4444444444444444,
             "#bd3786"
            ],
            [
             0.5555555555555556,
             "#d8576b"
            ],
            [
             0.6666666666666666,
             "#ed7953"
            ],
            [
             0.7777777777777778,
             "#fb9f3a"
            ],
            [
             0.8888888888888888,
             "#fdca26"
            ],
            [
             1,
             "#f0f921"
            ]
           ]
          },
          "colorway": [
           "#636efa",
           "#EF553B",
           "#00cc96",
           "#ab63fa",
           "#FFA15A",
           "#19d3f3",
           "#FF6692",
           "#B6E880",
           "#FF97FF",
           "#FECB52"
          ],
          "font": {
           "color": "#2a3f5f"
          },
          "geo": {
           "bgcolor": "white",
           "lakecolor": "white",
           "landcolor": "#E5ECF6",
           "showlakes": true,
           "showland": true,
           "subunitcolor": "white"
          },
          "hoverlabel": {
           "align": "left"
          },
          "hovermode": "closest",
          "mapbox": {
           "style": "light"
          },
          "paper_bgcolor": "white",
          "plot_bgcolor": "#E5ECF6",
          "polar": {
           "angularaxis": {
            "gridcolor": "white",
            "linecolor": "white",
            "ticks": ""
           },
           "bgcolor": "#E5ECF6",
           "radialaxis": {
            "gridcolor": "white",
            "linecolor": "white",
            "ticks": ""
           }
          },
          "scene": {
           "xaxis": {
            "backgroundcolor": "#E5ECF6",
            "gridcolor": "white",
            "gridwidth": 2,
            "linecolor": "white",
            "showbackground": true,
            "ticks": "",
            "zerolinecolor": "white"
           },
           "yaxis": {
            "backgroundcolor": "#E5ECF6",
            "gridcolor": "white",
            "gridwidth": 2,
            "linecolor": "white",
            "showbackground": true,
            "ticks": "",
            "zerolinecolor": "white"
           },
           "zaxis": {
            "backgroundcolor": "#E5ECF6",
            "gridcolor": "white",
            "gridwidth": 2,
            "linecolor": "white",
            "showbackground": true,
            "ticks": "",
            "zerolinecolor": "white"
           }
          },
          "shapedefaults": {
           "line": {
            "color": "#2a3f5f"
           }
          },
          "ternary": {
           "aaxis": {
            "gridcolor": "white",
            "linecolor": "white",
            "ticks": ""
           },
           "baxis": {
            "gridcolor": "white",
            "linecolor": "white",
            "ticks": ""
           },
           "bgcolor": "#E5ECF6",
           "caxis": {
            "gridcolor": "white",
            "linecolor": "white",
            "ticks": ""
           }
          },
          "title": {
           "x": 0.05
          },
          "xaxis": {
           "automargin": true,
           "gridcolor": "white",
           "linecolor": "white",
           "ticks": "",
           "title": {
            "standoff": 15
           },
           "zerolinecolor": "white",
           "zerolinewidth": 2
          },
          "yaxis": {
           "automargin": true,
           "gridcolor": "white",
           "linecolor": "white",
           "ticks": "",
           "title": {
            "standoff": 15
           },
           "zerolinecolor": "white",
           "zerolinewidth": 2
          }
         }
        },
        "title": {
         "text": "joy"
        },
        "width": 600,
        "xaxis": {
         "anchor": "y",
         "domain": [
          0,
          1
         ],
         "title": {
          "text": "n"
         }
        },
        "yaxis": {
         "anchor": "x",
         "domain": [
          0,
          1
         ],
         "title": {
          "text": "tfidf"
         }
        }
       }
      }
     },
     "metadata": {},
     "output_type": "display_data"
    }
   ],
   "source": [
    "top_books_for_term('joy')"
   ]
  },
  {
   "cell_type": "code",
   "execution_count": 32,
   "metadata": {
    "tags": []
   },
   "outputs": [
    {
     "data": {
      "application/vnd.plotly.v1+json": {
       "config": {
        "plotlyServerURL": "https://plot.ly"
       },
       "data": [
        {
         "hovertemplate": "<b>%{hovertext}</b><br><br>author=AUSTEN, JANE<br>n=%{x}<br>tfidf=%{y}<br>tf=%{marker.size}<extra></extra>",
         "hovertext": [
          "EMMA",
          "LADY SUSAN",
          "LOVE AND FREINDSHIP SIC",
          "MANSFIELD PARK",
          "NORTHANGER ABBEY",
          "PERSUASION",
          "PRIDE AND PREJUDICE",
          "SENSE AND SENSIBILITY"
         ],
         "legendgroup": "AUSTEN, JANE",
         "marker": {
          "color": "#636efa",
          "size": [
           0.002881602598548072,
           0.006058432368373116,
           0.008720902834180644,
           0.004325528445037347,
           0.004378530809386715,
           0.0018834965629335966,
           0.003868170149227735,
           0.002846579033614559
          ],
          "sizemode": "area",
          "sizeref": 0.00004818833060289416,
          "symbol": "circle"
         },
         "mode": "markers",
         "name": "AUSTEN, JANE",
         "orientation": "v",
         "showlegend": true,
         "type": "scatter",
         "x": [
          10,
          3,
          16,
          15,
          10,
          6,
          5,
          8
         ],
         "xaxis": "x",
         "y": [
          0.0014848563305170535,
          0.006243679582827232,
          0.005392535856685535,
          0.00111444726932185,
          0.0016921545307698755,
          0.0009705438898438747,
          0.0023918677487972484,
          0.0014668090945328116
         ],
         "yaxis": "y"
        },
        {
         "hovertemplate": "<b>%{hovertext}</b><br><br>author=MELVILLE, HERMAN<br>n=%{x}<br>tfidf=%{y}<br>tf=%{marker.size}<extra></extra>",
         "hovertext": [
          "ISRAEL POTTER HIS FIFTY YEARS OF EXILE",
          "MOBY DICK OR THE WHALE",
          "OMOO ADVENTURES IN THE SOUTH SEAS",
          "PIERRE OR THE AMBIGUITIES",
          "REDBURN HIS FIRST VOYAGE BEING THE SAILOR BOY CONFESSIONS AND REMINISCENCES OF THE SON OF A GENTLEMAN IN THE MERCHANT NAVY",
          "THE CONFIDENCE MAN HIS MASQUERADE",
          "THE PIAZZA TALES",
          "TYPEE A ROMANCE OF THE SOUTH SEAS",
          "WHITE JACKET OR THE WORLD ON A MAN OF WAR"
         ],
         "legendgroup": "MELVILLE, HERMAN",
         "marker": {
          "color": "#EF553B",
          "size": [
           0.013702963015875369,
           0.01405926873970731,
           0.005310949393470758,
           0.006855813490871725,
           0.019275332241157666,
           0.0023517073805771633,
           0.000026584432156529137,
           0.0015487043562268784,
           0.016684852741996253
          ],
          "sizemode": "area",
          "sizeref": 0.00004818833060289416,
          "symbol": "circle"
         },
         "mode": "markers",
         "name": "MELVILLE, HERMAN",
         "orientation": "v",
         "showlegend": true,
         "type": "scatter",
         "x": [
          32,
          19,
          7,
          10,
          44,
          5,
          2,
          4,
          22
         ],
         "xaxis": "x",
         "y": [
          0.0028243910372950983,
          0.0027167166719718992,
          0.0032840046015745034,
          0.007065442034161378,
          0.0027088240079439405,
          0.0014541689794421212,
          0.0000821918936373382,
          0.001197044034768101,
          0.0030344155465084426
         ],
         "yaxis": "y"
        }
       ],
       "layout": {
        "height": 500,
        "legend": {
         "itemsizing": "constant",
         "title": {
          "text": "author"
         },
         "tracegroupgap": 0
        },
        "template": {
         "data": {
          "bar": [
           {
            "error_x": {
             "color": "#2a3f5f"
            },
            "error_y": {
             "color": "#2a3f5f"
            },
            "marker": {
             "line": {
              "color": "#E5ECF6",
              "width": 0.5
             },
             "pattern": {
              "fillmode": "overlay",
              "size": 10,
              "solidity": 0.2
             }
            },
            "type": "bar"
           }
          ],
          "barpolar": [
           {
            "marker": {
             "line": {
              "color": "#E5ECF6",
              "width": 0.5
             },
             "pattern": {
              "fillmode": "overlay",
              "size": 10,
              "solidity": 0.2
             }
            },
            "type": "barpolar"
           }
          ],
          "carpet": [
           {
            "aaxis": {
             "endlinecolor": "#2a3f5f",
             "gridcolor": "white",
             "linecolor": "white",
             "minorgridcolor": "white",
             "startlinecolor": "#2a3f5f"
            },
            "baxis": {
             "endlinecolor": "#2a3f5f",
             "gridcolor": "white",
             "linecolor": "white",
             "minorgridcolor": "white",
             "startlinecolor": "#2a3f5f"
            },
            "type": "carpet"
           }
          ],
          "choropleth": [
           {
            "colorbar": {
             "outlinewidth": 0,
             "ticks": ""
            },
            "type": "choropleth"
           }
          ],
          "contour": [
           {
            "colorbar": {
             "outlinewidth": 0,
             "ticks": ""
            },
            "colorscale": [
             [
              0,
              "#0d0887"
             ],
             [
              0.1111111111111111,
              "#46039f"
             ],
             [
              0.2222222222222222,
              "#7201a8"
             ],
             [
              0.3333333333333333,
              "#9c179e"
             ],
             [
              0.4444444444444444,
              "#bd3786"
             ],
             [
              0.5555555555555556,
              "#d8576b"
             ],
             [
              0.6666666666666666,
              "#ed7953"
             ],
             [
              0.7777777777777778,
              "#fb9f3a"
             ],
             [
              0.8888888888888888,
              "#fdca26"
             ],
             [
              1,
              "#f0f921"
             ]
            ],
            "type": "contour"
           }
          ],
          "contourcarpet": [
           {
            "colorbar": {
             "outlinewidth": 0,
             "ticks": ""
            },
            "type": "contourcarpet"
           }
          ],
          "heatmap": [
           {
            "colorbar": {
             "outlinewidth": 0,
             "ticks": ""
            },
            "colorscale": [
             [
              0,
              "#0d0887"
             ],
             [
              0.1111111111111111,
              "#46039f"
             ],
             [
              0.2222222222222222,
              "#7201a8"
             ],
             [
              0.3333333333333333,
              "#9c179e"
             ],
             [
              0.4444444444444444,
              "#bd3786"
             ],
             [
              0.5555555555555556,
              "#d8576b"
             ],
             [
              0.6666666666666666,
              "#ed7953"
             ],
             [
              0.7777777777777778,
              "#fb9f3a"
             ],
             [
              0.8888888888888888,
              "#fdca26"
             ],
             [
              1,
              "#f0f921"
             ]
            ],
            "type": "heatmap"
           }
          ],
          "heatmapgl": [
           {
            "colorbar": {
             "outlinewidth": 0,
             "ticks": ""
            },
            "colorscale": [
             [
              0,
              "#0d0887"
             ],
             [
              0.1111111111111111,
              "#46039f"
             ],
             [
              0.2222222222222222,
              "#7201a8"
             ],
             [
              0.3333333333333333,
              "#9c179e"
             ],
             [
              0.4444444444444444,
              "#bd3786"
             ],
             [
              0.5555555555555556,
              "#d8576b"
             ],
             [
              0.6666666666666666,
              "#ed7953"
             ],
             [
              0.7777777777777778,
              "#fb9f3a"
             ],
             [
              0.8888888888888888,
              "#fdca26"
             ],
             [
              1,
              "#f0f921"
             ]
            ],
            "type": "heatmapgl"
           }
          ],
          "histogram": [
           {
            "marker": {
             "pattern": {
              "fillmode": "overlay",
              "size": 10,
              "solidity": 0.2
             }
            },
            "type": "histogram"
           }
          ],
          "histogram2d": [
           {
            "colorbar": {
             "outlinewidth": 0,
             "ticks": ""
            },
            "colorscale": [
             [
              0,
              "#0d0887"
             ],
             [
              0.1111111111111111,
              "#46039f"
             ],
             [
              0.2222222222222222,
              "#7201a8"
             ],
             [
              0.3333333333333333,
              "#9c179e"
             ],
             [
              0.4444444444444444,
              "#bd3786"
             ],
             [
              0.5555555555555556,
              "#d8576b"
             ],
             [
              0.6666666666666666,
              "#ed7953"
             ],
             [
              0.7777777777777778,
              "#fb9f3a"
             ],
             [
              0.8888888888888888,
              "#fdca26"
             ],
             [
              1,
              "#f0f921"
             ]
            ],
            "type": "histogram2d"
           }
          ],
          "histogram2dcontour": [
           {
            "colorbar": {
             "outlinewidth": 0,
             "ticks": ""
            },
            "colorscale": [
             [
              0,
              "#0d0887"
             ],
             [
              0.1111111111111111,
              "#46039f"
             ],
             [
              0.2222222222222222,
              "#7201a8"
             ],
             [
              0.3333333333333333,
              "#9c179e"
             ],
             [
              0.4444444444444444,
              "#bd3786"
             ],
             [
              0.5555555555555556,
              "#d8576b"
             ],
             [
              0.6666666666666666,
              "#ed7953"
             ],
             [
              0.7777777777777778,
              "#fb9f3a"
             ],
             [
              0.8888888888888888,
              "#fdca26"
             ],
             [
              1,
              "#f0f921"
             ]
            ],
            "type": "histogram2dcontour"
           }
          ],
          "mesh3d": [
           {
            "colorbar": {
             "outlinewidth": 0,
             "ticks": ""
            },
            "type": "mesh3d"
           }
          ],
          "parcoords": [
           {
            "line": {
             "colorbar": {
              "outlinewidth": 0,
              "ticks": ""
             }
            },
            "type": "parcoords"
           }
          ],
          "pie": [
           {
            "automargin": true,
            "type": "pie"
           }
          ],
          "scatter": [
           {
            "fillpattern": {
             "fillmode": "overlay",
             "size": 10,
             "solidity": 0.2
            },
            "type": "scatter"
           }
          ],
          "scatter3d": [
           {
            "line": {
             "colorbar": {
              "outlinewidth": 0,
              "ticks": ""
             }
            },
            "marker": {
             "colorbar": {
              "outlinewidth": 0,
              "ticks": ""
             }
            },
            "type": "scatter3d"
           }
          ],
          "scattercarpet": [
           {
            "marker": {
             "colorbar": {
              "outlinewidth": 0,
              "ticks": ""
             }
            },
            "type": "scattercarpet"
           }
          ],
          "scattergeo": [
           {
            "marker": {
             "colorbar": {
              "outlinewidth": 0,
              "ticks": ""
             }
            },
            "type": "scattergeo"
           }
          ],
          "scattergl": [
           {
            "marker": {
             "colorbar": {
              "outlinewidth": 0,
              "ticks": ""
             }
            },
            "type": "scattergl"
           }
          ],
          "scattermapbox": [
           {
            "marker": {
             "colorbar": {
              "outlinewidth": 0,
              "ticks": ""
             }
            },
            "type": "scattermapbox"
           }
          ],
          "scatterpolar": [
           {
            "marker": {
             "colorbar": {
              "outlinewidth": 0,
              "ticks": ""
             }
            },
            "type": "scatterpolar"
           }
          ],
          "scatterpolargl": [
           {
            "marker": {
             "colorbar": {
              "outlinewidth": 0,
              "ticks": ""
             }
            },
            "type": "scatterpolargl"
           }
          ],
          "scatterternary": [
           {
            "marker": {
             "colorbar": {
              "outlinewidth": 0,
              "ticks": ""
             }
            },
            "type": "scatterternary"
           }
          ],
          "surface": [
           {
            "colorbar": {
             "outlinewidth": 0,
             "ticks": ""
            },
            "colorscale": [
             [
              0,
              "#0d0887"
             ],
             [
              0.1111111111111111,
              "#46039f"
             ],
             [
              0.2222222222222222,
              "#7201a8"
             ],
             [
              0.3333333333333333,
              "#9c179e"
             ],
             [
              0.4444444444444444,
              "#bd3786"
             ],
             [
              0.5555555555555556,
              "#d8576b"
             ],
             [
              0.6666666666666666,
              "#ed7953"
             ],
             [
              0.7777777777777778,
              "#fb9f3a"
             ],
             [
              0.8888888888888888,
              "#fdca26"
             ],
             [
              1,
              "#f0f921"
             ]
            ],
            "type": "surface"
           }
          ],
          "table": [
           {
            "cells": {
             "fill": {
              "color": "#EBF0F8"
             },
             "line": {
              "color": "white"
             }
            },
            "header": {
             "fill": {
              "color": "#C8D4E3"
             },
             "line": {
              "color": "white"
             }
            },
            "type": "table"
           }
          ]
         },
         "layout": {
          "annotationdefaults": {
           "arrowcolor": "#2a3f5f",
           "arrowhead": 0,
           "arrowwidth": 1
          },
          "autotypenumbers": "strict",
          "coloraxis": {
           "colorbar": {
            "outlinewidth": 0,
            "ticks": ""
           }
          },
          "colorscale": {
           "diverging": [
            [
             0,
             "#8e0152"
            ],
            [
             0.1,
             "#c51b7d"
            ],
            [
             0.2,
             "#de77ae"
            ],
            [
             0.3,
             "#f1b6da"
            ],
            [
             0.4,
             "#fde0ef"
            ],
            [
             0.5,
             "#f7f7f7"
            ],
            [
             0.6,
             "#e6f5d0"
            ],
            [
             0.7,
             "#b8e186"
            ],
            [
             0.8,
             "#7fbc41"
            ],
            [
             0.9,
             "#4d9221"
            ],
            [
             1,
             "#276419"
            ]
           ],
           "sequential": [
            [
             0,
             "#0d0887"
            ],
            [
             0.1111111111111111,
             "#46039f"
            ],
            [
             0.2222222222222222,
             "#7201a8"
            ],
            [
             0.3333333333333333,
             "#9c179e"
            ],
            [
             0.4444444444444444,
             "#bd3786"
            ],
            [
             0.5555555555555556,
             "#d8576b"
            ],
            [
             0.6666666666666666,
             "#ed7953"
            ],
            [
             0.7777777777777778,
             "#fb9f3a"
            ],
            [
             0.8888888888888888,
             "#fdca26"
            ],
            [
             1,
             "#f0f921"
            ]
           ],
           "sequentialminus": [
            [
             0,
             "#0d0887"
            ],
            [
             0.1111111111111111,
             "#46039f"
            ],
            [
             0.2222222222222222,
             "#7201a8"
            ],
            [
             0.3333333333333333,
             "#9c179e"
            ],
            [
             0.4444444444444444,
             "#bd3786"
            ],
            [
             0.5555555555555556,
             "#d8576b"
            ],
            [
             0.6666666666666666,
             "#ed7953"
            ],
            [
             0.7777777777777778,
             "#fb9f3a"
            ],
            [
             0.8888888888888888,
             "#fdca26"
            ],
            [
             1,
             "#f0f921"
            ]
           ]
          },
          "colorway": [
           "#636efa",
           "#EF553B",
           "#00cc96",
           "#ab63fa",
           "#FFA15A",
           "#19d3f3",
           "#FF6692",
           "#B6E880",
           "#FF97FF",
           "#FECB52"
          ],
          "font": {
           "color": "#2a3f5f"
          },
          "geo": {
           "bgcolor": "white",
           "lakecolor": "white",
           "landcolor": "#E5ECF6",
           "showlakes": true,
           "showland": true,
           "subunitcolor": "white"
          },
          "hoverlabel": {
           "align": "left"
          },
          "hovermode": "closest",
          "mapbox": {
           "style": "light"
          },
          "paper_bgcolor": "white",
          "plot_bgcolor": "#E5ECF6",
          "polar": {
           "angularaxis": {
            "gridcolor": "white",
            "linecolor": "white",
            "ticks": ""
           },
           "bgcolor": "#E5ECF6",
           "radialaxis": {
            "gridcolor": "white",
            "linecolor": "white",
            "ticks": ""
           }
          },
          "scene": {
           "xaxis": {
            "backgroundcolor": "#E5ECF6",
            "gridcolor": "white",
            "gridwidth": 2,
            "linecolor": "white",
            "showbackground": true,
            "ticks": "",
            "zerolinecolor": "white"
           },
           "yaxis": {
            "backgroundcolor": "#E5ECF6",
            "gridcolor": "white",
            "gridwidth": 2,
            "linecolor": "white",
            "showbackground": true,
            "ticks": "",
            "zerolinecolor": "white"
           },
           "zaxis": {
            "backgroundcolor": "#E5ECF6",
            "gridcolor": "white",
            "gridwidth": 2,
            "linecolor": "white",
            "showbackground": true,
            "ticks": "",
            "zerolinecolor": "white"
           }
          },
          "shapedefaults": {
           "line": {
            "color": "#2a3f5f"
           }
          },
          "ternary": {
           "aaxis": {
            "gridcolor": "white",
            "linecolor": "white",
            "ticks": ""
           },
           "baxis": {
            "gridcolor": "white",
            "linecolor": "white",
            "ticks": ""
           },
           "bgcolor": "#E5ECF6",
           "caxis": {
            "gridcolor": "white",
            "linecolor": "white",
            "ticks": ""
           }
          },
          "title": {
           "x": 0.05
          },
          "xaxis": {
           "automargin": true,
           "gridcolor": "white",
           "linecolor": "white",
           "ticks": "",
           "title": {
            "standoff": 15
           },
           "zerolinecolor": "white",
           "zerolinewidth": 2
          },
          "yaxis": {
           "automargin": true,
           "gridcolor": "white",
           "linecolor": "white",
           "ticks": "",
           "title": {
            "standoff": 15
           },
           "zerolinecolor": "white",
           "zerolinewidth": 2
          }
         }
        },
        "title": {
         "text": "england"
        },
        "width": 600,
        "xaxis": {
         "anchor": "y",
         "domain": [
          0,
          1
         ],
         "title": {
          "text": "n"
         }
        },
        "yaxis": {
         "anchor": "x",
         "domain": [
          0,
          1
         ],
         "title": {
          "text": "tfidf"
         }
        }
       }
      }
     },
     "metadata": {},
     "output_type": "display_data"
    }
   ],
   "source": [
    "top_books_for_term('england')"
   ]
  },
  {
   "cell_type": "code",
   "execution_count": 33,
   "metadata": {
    "tags": []
   },
   "outputs": [
    {
     "data": {
      "application/vnd.plotly.v1+json": {
       "config": {
        "plotlyServerURL": "https://plot.ly"
       },
       "data": [
        {
         "hovertemplate": "<b>%{hovertext}</b><br><br>author=AUSTEN, JANE<br>n=%{x}<br>tfidf=%{y}<br>tf=%{marker.size}<extra></extra>",
         "hovertext": [
          "LOVE AND FREINDSHIP SIC",
          "MANSFIELD PARK"
         ],
         "legendgroup": "AUSTEN, JANE",
         "marker": {
          "color": "#636efa",
          "size": [
           0.0008012820512820513,
           0.00044169611307420494
          ],
          "sizemode": "area",
          "sizeref": 0.000042454962034189376,
          "symbol": "circle"
         },
         "mode": "markers",
         "name": "AUSTEN, JANE",
         "orientation": "v",
         "showlegend": true,
         "type": "scatter",
         "x": [
          1,
          1
         ],
         "xaxis": "x",
         "y": [
          0.00317527550508176,
          0.001750328546970864
         ],
         "yaxis": "y"
        },
        {
         "hovertemplate": "<b>%{hovertext}</b><br><br>author=MELVILLE, HERMAN<br>n=%{x}<br>tfidf=%{y}<br>tf=%{marker.size}<extra></extra>",
         "hovertext": [
          "ISRAEL POTTER HIS FIFTY YEARS OF EXILE",
          "MARDI AND A VOYAGE THITHER VOL I",
          "MOBY DICK OR THE WHALE",
          "OMOO ADVENTURES IN THE SOUTH SEAS",
          "PIERRE OR THE AMBIGUITIES",
          "REDBURN HIS FIRST VOYAGE BEING THE SAILOR BOY CONFESSIONS AND REMINISCENCES OF THE SON OF A GENTLEMAN IN THE MERCHANT NAVY",
          "THE CONFIDENCE MAN HIS MASQUERADE",
          "THE PIAZZA TALES",
          "TYPEE A ROMANCE OF THE SOUTH SEAS",
          "WHITE JACKET OR THE WORLD ON A MAN OF WAR"
         ],
         "legendgroup": "MELVILLE, HERMAN",
         "marker": {
          "color": "#EF553B",
          "size": [
           0.005836386507645558,
           0.0032031219443842095,
           0.00817077858481124,
           0.0010705933567530903,
           0.007175231923866967,
           0.01698198481367575,
           0.0006129329414169101,
           0.000053168864313058275,
           0.0014160511309273221,
           0.01110905588925475
          ],
          "sizemode": "area",
          "sizeref": 0.000042454962034189376,
          "symbol": "circle"
         },
         "mode": "markers",
         "name": "MELVILLE, HERMAN",
         "orientation": "v",
         "showlegend": true,
         "type": "scatter",
         "x": [
          14,
          4,
          12,
          2,
          13,
          39,
          2,
          4,
          3,
          18
         ],
         "xaxis": "x",
         "y": [
          0.00210255496587854,
          0.004231050574313905,
          0.002943518402368325,
          0.0021212436096392394,
          0.0035542007546971303,
          0.0033647627773677863,
          0.0012144481160066287,
          0.00021069458902286454,
          0.0028057239412655546,
          0.003144453049004937
         ],
         "yaxis": "y"
        }
       ],
       "layout": {
        "height": 500,
        "legend": {
         "itemsizing": "constant",
         "title": {
          "text": "author"
         },
         "tracegroupgap": 0
        },
        "template": {
         "data": {
          "bar": [
           {
            "error_x": {
             "color": "#2a3f5f"
            },
            "error_y": {
             "color": "#2a3f5f"
            },
            "marker": {
             "line": {
              "color": "#E5ECF6",
              "width": 0.5
             },
             "pattern": {
              "fillmode": "overlay",
              "size": 10,
              "solidity": 0.2
             }
            },
            "type": "bar"
           }
          ],
          "barpolar": [
           {
            "marker": {
             "line": {
              "color": "#E5ECF6",
              "width": 0.5
             },
             "pattern": {
              "fillmode": "overlay",
              "size": 10,
              "solidity": 0.2
             }
            },
            "type": "barpolar"
           }
          ],
          "carpet": [
           {
            "aaxis": {
             "endlinecolor": "#2a3f5f",
             "gridcolor": "white",
             "linecolor": "white",
             "minorgridcolor": "white",
             "startlinecolor": "#2a3f5f"
            },
            "baxis": {
             "endlinecolor": "#2a3f5f",
             "gridcolor": "white",
             "linecolor": "white",
             "minorgridcolor": "white",
             "startlinecolor": "#2a3f5f"
            },
            "type": "carpet"
           }
          ],
          "choropleth": [
           {
            "colorbar": {
             "outlinewidth": 0,
             "ticks": ""
            },
            "type": "choropleth"
           }
          ],
          "contour": [
           {
            "colorbar": {
             "outlinewidth": 0,
             "ticks": ""
            },
            "colorscale": [
             [
              0,
              "#0d0887"
             ],
             [
              0.1111111111111111,
              "#46039f"
             ],
             [
              0.2222222222222222,
              "#7201a8"
             ],
             [
              0.3333333333333333,
              "#9c179e"
             ],
             [
              0.4444444444444444,
              "#bd3786"
             ],
             [
              0.5555555555555556,
              "#d8576b"
             ],
             [
              0.6666666666666666,
              "#ed7953"
             ],
             [
              0.7777777777777778,
              "#fb9f3a"
             ],
             [
              0.8888888888888888,
              "#fdca26"
             ],
             [
              1,
              "#f0f921"
             ]
            ],
            "type": "contour"
           }
          ],
          "contourcarpet": [
           {
            "colorbar": {
             "outlinewidth": 0,
             "ticks": ""
            },
            "type": "contourcarpet"
           }
          ],
          "heatmap": [
           {
            "colorbar": {
             "outlinewidth": 0,
             "ticks": ""
            },
            "colorscale": [
             [
              0,
              "#0d0887"
             ],
             [
              0.1111111111111111,
              "#46039f"
             ],
             [
              0.2222222222222222,
              "#7201a8"
             ],
             [
              0.3333333333333333,
              "#9c179e"
             ],
             [
              0.4444444444444444,
              "#bd3786"
             ],
             [
              0.5555555555555556,
              "#d8576b"
             ],
             [
              0.6666666666666666,
              "#ed7953"
             ],
             [
              0.7777777777777778,
              "#fb9f3a"
             ],
             [
              0.8888888888888888,
              "#fdca26"
             ],
             [
              1,
              "#f0f921"
             ]
            ],
            "type": "heatmap"
           }
          ],
          "heatmapgl": [
           {
            "colorbar": {
             "outlinewidth": 0,
             "ticks": ""
            },
            "colorscale": [
             [
              0,
              "#0d0887"
             ],
             [
              0.1111111111111111,
              "#46039f"
             ],
             [
              0.2222222222222222,
              "#7201a8"
             ],
             [
              0.3333333333333333,
              "#9c179e"
             ],
             [
              0.4444444444444444,
              "#bd3786"
             ],
             [
              0.5555555555555556,
              "#d8576b"
             ],
             [
              0.6666666666666666,
              "#ed7953"
             ],
             [
              0.7777777777777778,
              "#fb9f3a"
             ],
             [
              0.8888888888888888,
              "#fdca26"
             ],
             [
              1,
              "#f0f921"
             ]
            ],
            "type": "heatmapgl"
           }
          ],
          "histogram": [
           {
            "marker": {
             "pattern": {
              "fillmode": "overlay",
              "size": 10,
              "solidity": 0.2
             }
            },
            "type": "histogram"
           }
          ],
          "histogram2d": [
           {
            "colorbar": {
             "outlinewidth": 0,
             "ticks": ""
            },
            "colorscale": [
             [
              0,
              "#0d0887"
             ],
             [
              0.1111111111111111,
              "#46039f"
             ],
             [
              0.2222222222222222,
              "#7201a8"
             ],
             [
              0.3333333333333333,
              "#9c179e"
             ],
             [
              0.4444444444444444,
              "#bd3786"
             ],
             [
              0.5555555555555556,
              "#d8576b"
             ],
             [
              0.6666666666666666,
              "#ed7953"
             ],
             [
              0.7777777777777778,
              "#fb9f3a"
             ],
             [
              0.8888888888888888,
              "#fdca26"
             ],
             [
              1,
              "#f0f921"
             ]
            ],
            "type": "histogram2d"
           }
          ],
          "histogram2dcontour": [
           {
            "colorbar": {
             "outlinewidth": 0,
             "ticks": ""
            },
            "colorscale": [
             [
              0,
              "#0d0887"
             ],
             [
              0.1111111111111111,
              "#46039f"
             ],
             [
              0.2222222222222222,
              "#7201a8"
             ],
             [
              0.3333333333333333,
              "#9c179e"
             ],
             [
              0.4444444444444444,
              "#bd3786"
             ],
             [
              0.5555555555555556,
              "#d8576b"
             ],
             [
              0.6666666666666666,
              "#ed7953"
             ],
             [
              0.7777777777777778,
              "#fb9f3a"
             ],
             [
              0.8888888888888888,
              "#fdca26"
             ],
             [
              1,
              "#f0f921"
             ]
            ],
            "type": "histogram2dcontour"
           }
          ],
          "mesh3d": [
           {
            "colorbar": {
             "outlinewidth": 0,
             "ticks": ""
            },
            "type": "mesh3d"
           }
          ],
          "parcoords": [
           {
            "line": {
             "colorbar": {
              "outlinewidth": 0,
              "ticks": ""
             }
            },
            "type": "parcoords"
           }
          ],
          "pie": [
           {
            "automargin": true,
            "type": "pie"
           }
          ],
          "scatter": [
           {
            "fillpattern": {
             "fillmode": "overlay",
             "size": 10,
             "solidity": 0.2
            },
            "type": "scatter"
           }
          ],
          "scatter3d": [
           {
            "line": {
             "colorbar": {
              "outlinewidth": 0,
              "ticks": ""
             }
            },
            "marker": {
             "colorbar": {
              "outlinewidth": 0,
              "ticks": ""
             }
            },
            "type": "scatter3d"
           }
          ],
          "scattercarpet": [
           {
            "marker": {
             "colorbar": {
              "outlinewidth": 0,
              "ticks": ""
             }
            },
            "type": "scattercarpet"
           }
          ],
          "scattergeo": [
           {
            "marker": {
             "colorbar": {
              "outlinewidth": 0,
              "ticks": ""
             }
            },
            "type": "scattergeo"
           }
          ],
          "scattergl": [
           {
            "marker": {
             "colorbar": {
              "outlinewidth": 0,
              "ticks": ""
             }
            },
            "type": "scattergl"
           }
          ],
          "scattermapbox": [
           {
            "marker": {
             "colorbar": {
              "outlinewidth": 0,
              "ticks": ""
             }
            },
            "type": "scattermapbox"
           }
          ],
          "scatterpolar": [
           {
            "marker": {
             "colorbar": {
              "outlinewidth": 0,
              "ticks": ""
             }
            },
            "type": "scatterpolar"
           }
          ],
          "scatterpolargl": [
           {
            "marker": {
             "colorbar": {
              "outlinewidth": 0,
              "ticks": ""
             }
            },
            "type": "scatterpolargl"
           }
          ],
          "scatterternary": [
           {
            "marker": {
             "colorbar": {
              "outlinewidth": 0,
              "ticks": ""
             }
            },
            "type": "scatterternary"
           }
          ],
          "surface": [
           {
            "colorbar": {
             "outlinewidth": 0,
             "ticks": ""
            },
            "colorscale": [
             [
              0,
              "#0d0887"
             ],
             [
              0.1111111111111111,
              "#46039f"
             ],
             [
              0.2222222222222222,
              "#7201a8"
             ],
             [
              0.3333333333333333,
              "#9c179e"
             ],
             [
              0.4444444444444444,
              "#bd3786"
             ],
             [
              0.5555555555555556,
              "#d8576b"
             ],
             [
              0.6666666666666666,
              "#ed7953"
             ],
             [
              0.7777777777777778,
              "#fb9f3a"
             ],
             [
              0.8888888888888888,
              "#fdca26"
             ],
             [
              1,
              "#f0f921"
             ]
            ],
            "type": "surface"
           }
          ],
          "table": [
           {
            "cells": {
             "fill": {
              "color": "#EBF0F8"
             },
             "line": {
              "color": "white"
             }
            },
            "header": {
             "fill": {
              "color": "#C8D4E3"
             },
             "line": {
              "color": "white"
             }
            },
            "type": "table"
           }
          ]
         },
         "layout": {
          "annotationdefaults": {
           "arrowcolor": "#2a3f5f",
           "arrowhead": 0,
           "arrowwidth": 1
          },
          "autotypenumbers": "strict",
          "coloraxis": {
           "colorbar": {
            "outlinewidth": 0,
            "ticks": ""
           }
          },
          "colorscale": {
           "diverging": [
            [
             0,
             "#8e0152"
            ],
            [
             0.1,
             "#c51b7d"
            ],
            [
             0.2,
             "#de77ae"
            ],
            [
             0.3,
             "#f1b6da"
            ],
            [
             0.4,
             "#fde0ef"
            ],
            [
             0.5,
             "#f7f7f7"
            ],
            [
             0.6,
             "#e6f5d0"
            ],
            [
             0.7,
             "#b8e186"
            ],
            [
             0.8,
             "#7fbc41"
            ],
            [
             0.9,
             "#4d9221"
            ],
            [
             1,
             "#276419"
            ]
           ],
           "sequential": [
            [
             0,
             "#0d0887"
            ],
            [
             0.1111111111111111,
             "#46039f"
            ],
            [
             0.2222222222222222,
             "#7201a8"
            ],
            [
             0.3333333333333333,
             "#9c179e"
            ],
            [
             0.4444444444444444,
             "#bd3786"
            ],
            [
             0.5555555555555556,
             "#d8576b"
            ],
            [
             0.6666666666666666,
             "#ed7953"
            ],
            [
             0.7777777777777778,
             "#fb9f3a"
            ],
            [
             0.8888888888888888,
             "#fdca26"
            ],
            [
             1,
             "#f0f921"
            ]
           ],
           "sequentialminus": [
            [
             0,
             "#0d0887"
            ],
            [
             0.1111111111111111,
             "#46039f"
            ],
            [
             0.2222222222222222,
             "#7201a8"
            ],
            [
             0.3333333333333333,
             "#9c179e"
            ],
            [
             0.4444444444444444,
             "#bd3786"
            ],
            [
             0.5555555555555556,
             "#d8576b"
            ],
            [
             0.6666666666666666,
             "#ed7953"
            ],
            [
             0.7777777777777778,
             "#fb9f3a"
            ],
            [
             0.8888888888888888,
             "#fdca26"
            ],
            [
             1,
             "#f0f921"
            ]
           ]
          },
          "colorway": [
           "#636efa",
           "#EF553B",
           "#00cc96",
           "#ab63fa",
           "#FFA15A",
           "#19d3f3",
           "#FF6692",
           "#B6E880",
           "#FF97FF",
           "#FECB52"
          ],
          "font": {
           "color": "#2a3f5f"
          },
          "geo": {
           "bgcolor": "white",
           "lakecolor": "white",
           "landcolor": "#E5ECF6",
           "showlakes": true,
           "showland": true,
           "subunitcolor": "white"
          },
          "hoverlabel": {
           "align": "left"
          },
          "hovermode": "closest",
          "mapbox": {
           "style": "light"
          },
          "paper_bgcolor": "white",
          "plot_bgcolor": "#E5ECF6",
          "polar": {
           "angularaxis": {
            "gridcolor": "white",
            "linecolor": "white",
            "ticks": ""
           },
           "bgcolor": "#E5ECF6",
           "radialaxis": {
            "gridcolor": "white",
            "linecolor": "white",
            "ticks": ""
           }
          },
          "scene": {
           "xaxis": {
            "backgroundcolor": "#E5ECF6",
            "gridcolor": "white",
            "gridwidth": 2,
            "linecolor": "white",
            "showbackground": true,
            "ticks": "",
            "zerolinecolor": "white"
           },
           "yaxis": {
            "backgroundcolor": "#E5ECF6",
            "gridcolor": "white",
            "gridwidth": 2,
            "linecolor": "white",
            "showbackground": true,
            "ticks": "",
            "zerolinecolor": "white"
           },
           "zaxis": {
            "backgroundcolor": "#E5ECF6",
            "gridcolor": "white",
            "gridwidth": 2,
            "linecolor": "white",
            "showbackground": true,
            "ticks": "",
            "zerolinecolor": "white"
           }
          },
          "shapedefaults": {
           "line": {
            "color": "#2a3f5f"
           }
          },
          "ternary": {
           "aaxis": {
            "gridcolor": "white",
            "linecolor": "white",
            "ticks": ""
           },
           "baxis": {
            "gridcolor": "white",
            "linecolor": "white",
            "ticks": ""
           },
           "bgcolor": "#E5ECF6",
           "caxis": {
            "gridcolor": "white",
            "linecolor": "white",
            "ticks": ""
           }
          },
          "title": {
           "x": 0.05
          },
          "xaxis": {
           "automargin": true,
           "gridcolor": "white",
           "linecolor": "white",
           "ticks": "",
           "title": {
            "standoff": 15
           },
           "zerolinecolor": "white",
           "zerolinewidth": 2
          },
          "yaxis": {
           "automargin": true,
           "gridcolor": "white",
           "linecolor": "white",
           "ticks": "",
           "title": {
            "standoff": 15
           },
           "zerolinecolor": "white",
           "zerolinewidth": 2
          }
         }
        },
        "title": {
         "text": "america"
        },
        "width": 600,
        "xaxis": {
         "anchor": "y",
         "domain": [
          0,
          1
         ],
         "title": {
          "text": "n"
         }
        },
        "yaxis": {
         "anchor": "x",
         "domain": [
          0,
          1
         ],
         "title": {
          "text": "tfidf"
         }
        }
       }
      }
     },
     "metadata": {},
     "output_type": "display_data"
    }
   ],
   "source": [
    "top_books_for_term('america')"
   ]
  },
  {
   "cell_type": "code",
   "execution_count": 34,
   "metadata": {
    "tags": []
   },
   "outputs": [
    {
     "data": {
      "application/vnd.plotly.v1+json": {
       "config": {
        "plotlyServerURL": "https://plot.ly"
       },
       "data": [
        {
         "hovertemplate": "<b>%{hovertext}</b><br><br>author=AUSTEN, JANE<br>n=%{x}<br>tfidf=%{y}<br>tf=%{marker.size}<extra></extra>",
         "hovertext": [
          "EMMA",
          "LOVE AND FREINDSHIP SIC",
          "NORTHANGER ABBEY",
          "PERSUASION",
          "PRIDE AND PREJUDICE",
          "SENSE AND SENSIBILITY"
         ],
         "legendgroup": "AUSTEN, JANE",
         "marker": {
          "color": "#636efa",
          "size": [
           0.0010687312311894964,
           0.0002081165452653486,
           0.002609564520935593,
           0.12834396982890248,
           0.0023171005560892145,
           0.0021719433750012427
          ],
          "sizemode": "area",
          "sizeref": 0.0003208599245722562,
          "symbol": "circle"
         },
         "mode": "markers",
         "name": "AUSTEN, JANE",
         "orientation": "v",
         "showlegend": true,
         "type": "scatter",
         "x": [
          3,
          1,
          7,
          447,
          4,
          6
         ],
         "xaxis": "x",
         "y": [
          0.002672478923621212,
          0.0010408362077329182,
          0.004350333665754296,
          0.026744840387346022,
          0.003862774986103401,
          0.0027155905636486234
         ],
         "yaxis": "y"
        }
       ],
       "layout": {
        "height": 500,
        "legend": {
         "itemsizing": "constant",
         "title": {
          "text": "author"
         },
         "tracegroupgap": 0
        },
        "template": {
         "data": {
          "bar": [
           {
            "error_x": {
             "color": "#2a3f5f"
            },
            "error_y": {
             "color": "#2a3f5f"
            },
            "marker": {
             "line": {
              "color": "#E5ECF6",
              "width": 0.5
             },
             "pattern": {
              "fillmode": "overlay",
              "size": 10,
              "solidity": 0.2
             }
            },
            "type": "bar"
           }
          ],
          "barpolar": [
           {
            "marker": {
             "line": {
              "color": "#E5ECF6",
              "width": 0.5
             },
             "pattern": {
              "fillmode": "overlay",
              "size": 10,
              "solidity": 0.2
             }
            },
            "type": "barpolar"
           }
          ],
          "carpet": [
           {
            "aaxis": {
             "endlinecolor": "#2a3f5f",
             "gridcolor": "white",
             "linecolor": "white",
             "minorgridcolor": "white",
             "startlinecolor": "#2a3f5f"
            },
            "baxis": {
             "endlinecolor": "#2a3f5f",
             "gridcolor": "white",
             "linecolor": "white",
             "minorgridcolor": "white",
             "startlinecolor": "#2a3f5f"
            },
            "type": "carpet"
           }
          ],
          "choropleth": [
           {
            "colorbar": {
             "outlinewidth": 0,
             "ticks": ""
            },
            "type": "choropleth"
           }
          ],
          "contour": [
           {
            "colorbar": {
             "outlinewidth": 0,
             "ticks": ""
            },
            "colorscale": [
             [
              0,
              "#0d0887"
             ],
             [
              0.1111111111111111,
              "#46039f"
             ],
             [
              0.2222222222222222,
              "#7201a8"
             ],
             [
              0.3333333333333333,
              "#9c179e"
             ],
             [
              0.4444444444444444,
              "#bd3786"
             ],
             [
              0.5555555555555556,
              "#d8576b"
             ],
             [
              0.6666666666666666,
              "#ed7953"
             ],
             [
              0.7777777777777778,
              "#fb9f3a"
             ],
             [
              0.8888888888888888,
              "#fdca26"
             ],
             [
              1,
              "#f0f921"
             ]
            ],
            "type": "contour"
           }
          ],
          "contourcarpet": [
           {
            "colorbar": {
             "outlinewidth": 0,
             "ticks": ""
            },
            "type": "contourcarpet"
           }
          ],
          "heatmap": [
           {
            "colorbar": {
             "outlinewidth": 0,
             "ticks": ""
            },
            "colorscale": [
             [
              0,
              "#0d0887"
             ],
             [
              0.1111111111111111,
              "#46039f"
             ],
             [
              0.2222222222222222,
              "#7201a8"
             ],
             [
              0.3333333333333333,
              "#9c179e"
             ],
             [
              0.4444444444444444,
              "#bd3786"
             ],
             [
              0.5555555555555556,
              "#d8576b"
             ],
             [
              0.6666666666666666,
              "#ed7953"
             ],
             [
              0.7777777777777778,
              "#fb9f3a"
             ],
             [
              0.8888888888888888,
              "#fdca26"
             ],
             [
              1,
              "#f0f921"
             ]
            ],
            "type": "heatmap"
           }
          ],
          "heatmapgl": [
           {
            "colorbar": {
             "outlinewidth": 0,
             "ticks": ""
            },
            "colorscale": [
             [
              0,
              "#0d0887"
             ],
             [
              0.1111111111111111,
              "#46039f"
             ],
             [
              0.2222222222222222,
              "#7201a8"
             ],
             [
              0.3333333333333333,
              "#9c179e"
             ],
             [
              0.4444444444444444,
              "#bd3786"
             ],
             [
              0.5555555555555556,
              "#d8576b"
             ],
             [
              0.6666666666666666,
              "#ed7953"
             ],
             [
              0.7777777777777778,
              "#fb9f3a"
             ],
             [
              0.8888888888888888,
              "#fdca26"
             ],
             [
              1,
              "#f0f921"
             ]
            ],
            "type": "heatmapgl"
           }
          ],
          "histogram": [
           {
            "marker": {
             "pattern": {
              "fillmode": "overlay",
              "size": 10,
              "solidity": 0.2
             }
            },
            "type": "histogram"
           }
          ],
          "histogram2d": [
           {
            "colorbar": {
             "outlinewidth": 0,
             "ticks": ""
            },
            "colorscale": [
             [
              0,
              "#0d0887"
             ],
             [
              0.1111111111111111,
              "#46039f"
             ],
             [
              0.2222222222222222,
              "#7201a8"
             ],
             [
              0.3333333333333333,
              "#9c179e"
             ],
             [
              0.4444444444444444,
              "#bd3786"
             ],
             [
              0.5555555555555556,
              "#d8576b"
             ],
             [
              0.6666666666666666,
              "#ed7953"
             ],
             [
              0.7777777777777778,
              "#fb9f3a"
             ],
             [
              0.8888888888888888,
              "#fdca26"
             ],
             [
              1,
              "#f0f921"
             ]
            ],
            "type": "histogram2d"
           }
          ],
          "histogram2dcontour": [
           {
            "colorbar": {
             "outlinewidth": 0,
             "ticks": ""
            },
            "colorscale": [
             [
              0,
              "#0d0887"
             ],
             [
              0.1111111111111111,
              "#46039f"
             ],
             [
              0.2222222222222222,
              "#7201a8"
             ],
             [
              0.3333333333333333,
              "#9c179e"
             ],
             [
              0.4444444444444444,
              "#bd3786"
             ],
             [
              0.5555555555555556,
              "#d8576b"
             ],
             [
              0.6666666666666666,
              "#ed7953"
             ],
             [
              0.7777777777777778,
              "#fb9f3a"
             ],
             [
              0.8888888888888888,
              "#fdca26"
             ],
             [
              1,
              "#f0f921"
             ]
            ],
            "type": "histogram2dcontour"
           }
          ],
          "mesh3d": [
           {
            "colorbar": {
             "outlinewidth": 0,
             "ticks": ""
            },
            "type": "mesh3d"
           }
          ],
          "parcoords": [
           {
            "line": {
             "colorbar": {
              "outlinewidth": 0,
              "ticks": ""
             }
            },
            "type": "parcoords"
           }
          ],
          "pie": [
           {
            "automargin": true,
            "type": "pie"
           }
          ],
          "scatter": [
           {
            "fillpattern": {
             "fillmode": "overlay",
             "size": 10,
             "solidity": 0.2
            },
            "type": "scatter"
           }
          ],
          "scatter3d": [
           {
            "line": {
             "colorbar": {
              "outlinewidth": 0,
              "ticks": ""
             }
            },
            "marker": {
             "colorbar": {
              "outlinewidth": 0,
              "ticks": ""
             }
            },
            "type": "scatter3d"
           }
          ],
          "scattercarpet": [
           {
            "marker": {
             "colorbar": {
              "outlinewidth": 0,
              "ticks": ""
             }
            },
            "type": "scattercarpet"
           }
          ],
          "scattergeo": [
           {
            "marker": {
             "colorbar": {
              "outlinewidth": 0,
              "ticks": ""
             }
            },
            "type": "scattergeo"
           }
          ],
          "scattergl": [
           {
            "marker": {
             "colorbar": {
              "outlinewidth": 0,
              "ticks": ""
             }
            },
            "type": "scattergl"
           }
          ],
          "scattermapbox": [
           {
            "marker": {
             "colorbar": {
              "outlinewidth": 0,
              "ticks": ""
             }
            },
            "type": "scattermapbox"
           }
          ],
          "scatterpolar": [
           {
            "marker": {
             "colorbar": {
              "outlinewidth": 0,
              "ticks": ""
             }
            },
            "type": "scatterpolar"
           }
          ],
          "scatterpolargl": [
           {
            "marker": {
             "colorbar": {
              "outlinewidth": 0,
              "ticks": ""
             }
            },
            "type": "scatterpolargl"
           }
          ],
          "scatterternary": [
           {
            "marker": {
             "colorbar": {
              "outlinewidth": 0,
              "ticks": ""
             }
            },
            "type": "scatterternary"
           }
          ],
          "surface": [
           {
            "colorbar": {
             "outlinewidth": 0,
             "ticks": ""
            },
            "colorscale": [
             [
              0,
              "#0d0887"
             ],
             [
              0.1111111111111111,
              "#46039f"
             ],
             [
              0.2222222222222222,
              "#7201a8"
             ],
             [
              0.3333333333333333,
              "#9c179e"
             ],
             [
              0.4444444444444444,
              "#bd3786"
             ],
             [
              0.5555555555555556,
              "#d8576b"
             ],
             [
              0.6666666666666666,
              "#ed7953"
             ],
             [
              0.7777777777777778,
              "#fb9f3a"
             ],
             [
              0.8888888888888888,
              "#fdca26"
             ],
             [
              1,
              "#f0f921"
             ]
            ],
            "type": "surface"
           }
          ],
          "table": [
           {
            "cells": {
             "fill": {
              "color": "#EBF0F8"
             },
             "line": {
              "color": "white"
             }
            },
            "header": {
             "fill": {
              "color": "#C8D4E3"
             },
             "line": {
              "color": "white"
             }
            },
            "type": "table"
           }
          ]
         },
         "layout": {
          "annotationdefaults": {
           "arrowcolor": "#2a3f5f",
           "arrowhead": 0,
           "arrowwidth": 1
          },
          "autotypenumbers": "strict",
          "coloraxis": {
           "colorbar": {
            "outlinewidth": 0,
            "ticks": ""
           }
          },
          "colorscale": {
           "diverging": [
            [
             0,
             "#8e0152"
            ],
            [
             0.1,
             "#c51b7d"
            ],
            [
             0.2,
             "#de77ae"
            ],
            [
             0.3,
             "#f1b6da"
            ],
            [
             0.4,
             "#fde0ef"
            ],
            [
             0.5,
             "#f7f7f7"
            ],
            [
             0.6,
             "#e6f5d0"
            ],
            [
             0.7,
             "#b8e186"
            ],
            [
             0.8,
             "#7fbc41"
            ],
            [
             0.9,
             "#4d9221"
            ],
            [
             1,
             "#276419"
            ]
           ],
           "sequential": [
            [
             0,
             "#0d0887"
            ],
            [
             0.1111111111111111,
             "#46039f"
            ],
            [
             0.2222222222222222,
             "#7201a8"
            ],
            [
             0.3333333333333333,
             "#9c179e"
            ],
            [
             0.4444444444444444,
             "#bd3786"
            ],
            [
             0.5555555555555556,
             "#d8576b"
            ],
            [
             0.6666666666666666,
             "#ed7953"
            ],
            [
             0.7777777777777778,
             "#fb9f3a"
            ],
            [
             0.8888888888888888,
             "#fdca26"
            ],
            [
             1,
             "#f0f921"
            ]
           ],
           "sequentialminus": [
            [
             0,
             "#0d0887"
            ],
            [
             0.1111111111111111,
             "#46039f"
            ],
            [
             0.2222222222222222,
             "#7201a8"
            ],
            [
             0.3333333333333333,
             "#9c179e"
            ],
            [
             0.4444444444444444,
             "#bd3786"
            ],
            [
             0.5555555555555556,
             "#d8576b"
            ],
            [
             0.6666666666666666,
             "#ed7953"
            ],
            [
             0.7777777777777778,
             "#fb9f3a"
            ],
            [
             0.8888888888888888,
             "#fdca26"
            ],
            [
             1,
             "#f0f921"
            ]
           ]
          },
          "colorway": [
           "#636efa",
           "#EF553B",
           "#00cc96",
           "#ab63fa",
           "#FFA15A",
           "#19d3f3",
           "#FF6692",
           "#B6E880",
           "#FF97FF",
           "#FECB52"
          ],
          "font": {
           "color": "#2a3f5f"
          },
          "geo": {
           "bgcolor": "white",
           "lakecolor": "white",
           "landcolor": "#E5ECF6",
           "showlakes": true,
           "showland": true,
           "subunitcolor": "white"
          },
          "hoverlabel": {
           "align": "left"
          },
          "hovermode": "closest",
          "mapbox": {
           "style": "light"
          },
          "paper_bgcolor": "white",
          "plot_bgcolor": "#E5ECF6",
          "polar": {
           "angularaxis": {
            "gridcolor": "white",
            "linecolor": "white",
            "ticks": ""
           },
           "bgcolor": "#E5ECF6",
           "radialaxis": {
            "gridcolor": "white",
            "linecolor": "white",
            "ticks": ""
           }
          },
          "scene": {
           "xaxis": {
            "backgroundcolor": "#E5ECF6",
            "gridcolor": "white",
            "gridwidth": 2,
            "linecolor": "white",
            "showbackground": true,
            "ticks": "",
            "zerolinecolor": "white"
           },
           "yaxis": {
            "backgroundcolor": "#E5ECF6",
            "gridcolor": "white",
            "gridwidth": 2,
            "linecolor": "white",
            "showbackground": true,
            "ticks": "",
            "zerolinecolor": "white"
           },
           "zaxis": {
            "backgroundcolor": "#E5ECF6",
            "gridcolor": "white",
            "gridwidth": 2,
            "linecolor": "white",
            "showbackground": true,
            "ticks": "",
            "zerolinecolor": "white"
           }
          },
          "shapedefaults": {
           "line": {
            "color": "#2a3f5f"
           }
          },
          "ternary": {
           "aaxis": {
            "gridcolor": "white",
            "linecolor": "white",
            "ticks": ""
           },
           "baxis": {
            "gridcolor": "white",
            "linecolor": "white",
            "ticks": ""
           },
           "bgcolor": "#E5ECF6",
           "caxis": {
            "gridcolor": "white",
            "linecolor": "white",
            "ticks": ""
           }
          },
          "title": {
           "x": 0.05
          },
          "xaxis": {
           "automargin": true,
           "gridcolor": "white",
           "linecolor": "white",
           "ticks": "",
           "title": {
            "standoff": 15
           },
           "zerolinecolor": "white",
           "zerolinewidth": 2
          },
          "yaxis": {
           "automargin": true,
           "gridcolor": "white",
           "linecolor": "white",
           "ticks": "",
           "title": {
            "standoff": 15
           },
           "zerolinecolor": "white",
           "zerolinewidth": 2
          }
         }
        },
        "title": {
         "text": "anne"
        },
        "width": 600,
        "xaxis": {
         "anchor": "y",
         "domain": [
          0,
          1
         ],
         "title": {
          "text": "n"
         }
        },
        "yaxis": {
         "anchor": "x",
         "domain": [
          0,
          1
         ],
         "title": {
          "text": "tfidf"
         }
        }
       }
      }
     },
     "metadata": {},
     "output_type": "display_data"
    }
   ],
   "source": [
    "top_books_for_term('anne')"
   ]
  },
  {
   "cell_type": "code",
   "execution_count": 35,
   "metadata": {
    "tags": []
   },
   "outputs": [
    {
     "data": {
      "application/vnd.plotly.v1+json": {
       "config": {
        "plotlyServerURL": "https://plot.ly"
       },
       "data": [
        {
         "hovertemplate": "<b>%{hovertext}</b><br><br>author=MELVILLE, HERMAN<br>n=%{x}<br>tfidf=%{y}<br>tf=%{marker.size}<extra></extra>",
         "hovertext": [
          "ISRAEL POTTER HIS FIFTY YEARS OF EXILE",
          "MARDI AND A VOYAGE THITHER VOL I",
          "MARDI AND A VOYAGE THITHER VOL II",
          "MOBY DICK OR THE WHALE",
          "OMOO ADVENTURES IN THE SOUTH SEAS",
          "REDBURN HIS FIRST VOYAGE BEING THE SAILOR BOY CONFESSIONS AND REMINISCENCES OF THE SON OF A GENTLEMAN IN THE MERCHANT NAVY",
          "THE PIAZZA TALES",
          "TYPEE A ROMANCE OF THE SOUTH SEAS",
          "WHITE JACKET OR THE WORLD ON A MAN OF WAR"
         ],
         "legendgroup": "MELVILLE, HERMAN",
         "marker": {
          "color": "#636efa",
          "size": [
           0.0014536550312209224,
           0.030188165295129778,
           0.0021880083497836356,
           0.6450979105657182,
           0.006732026374502697,
           0.004890249308807473,
           0.00014621437686091024,
           0.0032384461470025667,
           0.0008352320843462321
          ],
          "sizemode": "area",
          "sizeref": 0.0016127447764142954,
          "symbol": "circle"
         },
         "mode": "markers",
         "name": "MELVILLE, HERMAN",
         "orientation": "v",
         "showlegend": true,
         "type": "scatter",
         "x": [
          4,
          38,
          5,
          1096,
          11,
          8,
          11,
          12,
          2
         ],
         "xaxis": "x",
         "y": [
          0.0010630830452800217,
          0.0049060282153292455,
          0.0032002566353483046,
          0.01731270642505023,
          0.002813284128786082,
          0.002861059063246473,
          0.0004277164022511312,
          0.0011841658158192085,
          0.0012216393142417137
         ],
         "yaxis": "y"
        }
       ],
       "layout": {
        "height": 500,
        "legend": {
         "itemsizing": "constant",
         "title": {
          "text": "author"
         },
         "tracegroupgap": 0
        },
        "template": {
         "data": {
          "bar": [
           {
            "error_x": {
             "color": "#2a3f5f"
            },
            "error_y": {
             "color": "#2a3f5f"
            },
            "marker": {
             "line": {
              "color": "#E5ECF6",
              "width": 0.5
             },
             "pattern": {
              "fillmode": "overlay",
              "size": 10,
              "solidity": 0.2
             }
            },
            "type": "bar"
           }
          ],
          "barpolar": [
           {
            "marker": {
             "line": {
              "color": "#E5ECF6",
              "width": 0.5
             },
             "pattern": {
              "fillmode": "overlay",
              "size": 10,
              "solidity": 0.2
             }
            },
            "type": "barpolar"
           }
          ],
          "carpet": [
           {
            "aaxis": {
             "endlinecolor": "#2a3f5f",
             "gridcolor": "white",
             "linecolor": "white",
             "minorgridcolor": "white",
             "startlinecolor": "#2a3f5f"
            },
            "baxis": {
             "endlinecolor": "#2a3f5f",
             "gridcolor": "white",
             "linecolor": "white",
             "minorgridcolor": "white",
             "startlinecolor": "#2a3f5f"
            },
            "type": "carpet"
           }
          ],
          "choropleth": [
           {
            "colorbar": {
             "outlinewidth": 0,
             "ticks": ""
            },
            "type": "choropleth"
           }
          ],
          "contour": [
           {
            "colorbar": {
             "outlinewidth": 0,
             "ticks": ""
            },
            "colorscale": [
             [
              0,
              "#0d0887"
             ],
             [
              0.1111111111111111,
              "#46039f"
             ],
             [
              0.2222222222222222,
              "#7201a8"
             ],
             [
              0.3333333333333333,
              "#9c179e"
             ],
             [
              0.4444444444444444,
              "#bd3786"
             ],
             [
              0.5555555555555556,
              "#d8576b"
             ],
             [
              0.6666666666666666,
              "#ed7953"
             ],
             [
              0.7777777777777778,
              "#fb9f3a"
             ],
             [
              0.8888888888888888,
              "#fdca26"
             ],
             [
              1,
              "#f0f921"
             ]
            ],
            "type": "contour"
           }
          ],
          "contourcarpet": [
           {
            "colorbar": {
             "outlinewidth": 0,
             "ticks": ""
            },
            "type": "contourcarpet"
           }
          ],
          "heatmap": [
           {
            "colorbar": {
             "outlinewidth": 0,
             "ticks": ""
            },
            "colorscale": [
             [
              0,
              "#0d0887"
             ],
             [
              0.1111111111111111,
              "#46039f"
             ],
             [
              0.2222222222222222,
              "#7201a8"
             ],
             [
              0.3333333333333333,
              "#9c179e"
             ],
             [
              0.4444444444444444,
              "#bd3786"
             ],
             [
              0.5555555555555556,
              "#d8576b"
             ],
             [
              0.6666666666666666,
              "#ed7953"
             ],
             [
              0.7777777777777778,
              "#fb9f3a"
             ],
             [
              0.8888888888888888,
              "#fdca26"
             ],
             [
              1,
              "#f0f921"
             ]
            ],
            "type": "heatmap"
           }
          ],
          "heatmapgl": [
           {
            "colorbar": {
             "outlinewidth": 0,
             "ticks": ""
            },
            "colorscale": [
             [
              0,
              "#0d0887"
             ],
             [
              0.1111111111111111,
              "#46039f"
             ],
             [
              0.2222222222222222,
              "#7201a8"
             ],
             [
              0.3333333333333333,
              "#9c179e"
             ],
             [
              0.4444444444444444,
              "#bd3786"
             ],
             [
              0.5555555555555556,
              "#d8576b"
             ],
             [
              0.6666666666666666,
              "#ed7953"
             ],
             [
              0.7777777777777778,
              "#fb9f3a"
             ],
             [
              0.8888888888888888,
              "#fdca26"
             ],
             [
              1,
              "#f0f921"
             ]
            ],
            "type": "heatmapgl"
           }
          ],
          "histogram": [
           {
            "marker": {
             "pattern": {
              "fillmode": "overlay",
              "size": 10,
              "solidity": 0.2
             }
            },
            "type": "histogram"
           }
          ],
          "histogram2d": [
           {
            "colorbar": {
             "outlinewidth": 0,
             "ticks": ""
            },
            "colorscale": [
             [
              0,
              "#0d0887"
             ],
             [
              0.1111111111111111,
              "#46039f"
             ],
             [
              0.2222222222222222,
              "#7201a8"
             ],
             [
              0.3333333333333333,
              "#9c179e"
             ],
             [
              0.4444444444444444,
              "#bd3786"
             ],
             [
              0.5555555555555556,
              "#d8576b"
             ],
             [
              0.6666666666666666,
              "#ed7953"
             ],
             [
              0.7777777777777778,
              "#fb9f3a"
             ],
             [
              0.8888888888888888,
              "#fdca26"
             ],
             [
              1,
              "#f0f921"
             ]
            ],
            "type": "histogram2d"
           }
          ],
          "histogram2dcontour": [
           {
            "colorbar": {
             "outlinewidth": 0,
             "ticks": ""
            },
            "colorscale": [
             [
              0,
              "#0d0887"
             ],
             [
              0.1111111111111111,
              "#46039f"
             ],
             [
              0.2222222222222222,
              "#7201a8"
             ],
             [
              0.3333333333333333,
              "#9c179e"
             ],
             [
              0.4444444444444444,
              "#bd3786"
             ],
             [
              0.5555555555555556,
              "#d8576b"
             ],
             [
              0.6666666666666666,
              "#ed7953"
             ],
             [
              0.7777777777777778,
              "#fb9f3a"
             ],
             [
              0.8888888888888888,
              "#fdca26"
             ],
             [
              1,
              "#f0f921"
             ]
            ],
            "type": "histogram2dcontour"
           }
          ],
          "mesh3d": [
           {
            "colorbar": {
             "outlinewidth": 0,
             "ticks": ""
            },
            "type": "mesh3d"
           }
          ],
          "parcoords": [
           {
            "line": {
             "colorbar": {
              "outlinewidth": 0,
              "ticks": ""
             }
            },
            "type": "parcoords"
           }
          ],
          "pie": [
           {
            "automargin": true,
            "type": "pie"
           }
          ],
          "scatter": [
           {
            "fillpattern": {
             "fillmode": "overlay",
             "size": 10,
             "solidity": 0.2
            },
            "type": "scatter"
           }
          ],
          "scatter3d": [
           {
            "line": {
             "colorbar": {
              "outlinewidth": 0,
              "ticks": ""
             }
            },
            "marker": {
             "colorbar": {
              "outlinewidth": 0,
              "ticks": ""
             }
            },
            "type": "scatter3d"
           }
          ],
          "scattercarpet": [
           {
            "marker": {
             "colorbar": {
              "outlinewidth": 0,
              "ticks": ""
             }
            },
            "type": "scattercarpet"
           }
          ],
          "scattergeo": [
           {
            "marker": {
             "colorbar": {
              "outlinewidth": 0,
              "ticks": ""
             }
            },
            "type": "scattergeo"
           }
          ],
          "scattergl": [
           {
            "marker": {
             "colorbar": {
              "outlinewidth": 0,
              "ticks": ""
             }
            },
            "type": "scattergl"
           }
          ],
          "scattermapbox": [
           {
            "marker": {
             "colorbar": {
              "outlinewidth": 0,
              "ticks": ""
             }
            },
            "type": "scattermapbox"
           }
          ],
          "scatterpolar": [
           {
            "marker": {
             "colorbar": {
              "outlinewidth": 0,
              "ticks": ""
             }
            },
            "type": "scatterpolar"
           }
          ],
          "scatterpolargl": [
           {
            "marker": {
             "colorbar": {
              "outlinewidth": 0,
              "ticks": ""
             }
            },
            "type": "scatterpolargl"
           }
          ],
          "scatterternary": [
           {
            "marker": {
             "colorbar": {
              "outlinewidth": 0,
              "ticks": ""
             }
            },
            "type": "scatterternary"
           }
          ],
          "surface": [
           {
            "colorbar": {
             "outlinewidth": 0,
             "ticks": ""
            },
            "colorscale": [
             [
              0,
              "#0d0887"
             ],
             [
              0.1111111111111111,
              "#46039f"
             ],
             [
              0.2222222222222222,
              "#7201a8"
             ],
             [
              0.3333333333333333,
              "#9c179e"
             ],
             [
              0.4444444444444444,
              "#bd3786"
             ],
             [
              0.5555555555555556,
              "#d8576b"
             ],
             [
              0.6666666666666666,
              "#ed7953"
             ],
             [
              0.7777777777777778,
              "#fb9f3a"
             ],
             [
              0.8888888888888888,
              "#fdca26"
             ],
             [
              1,
              "#f0f921"
             ]
            ],
            "type": "surface"
           }
          ],
          "table": [
           {
            "cells": {
             "fill": {
              "color": "#EBF0F8"
             },
             "line": {
              "color": "white"
             }
            },
            "header": {
             "fill": {
              "color": "#C8D4E3"
             },
             "line": {
              "color": "white"
             }
            },
            "type": "table"
           }
          ]
         },
         "layout": {
          "annotationdefaults": {
           "arrowcolor": "#2a3f5f",
           "arrowhead": 0,
           "arrowwidth": 1
          },
          "autotypenumbers": "strict",
          "coloraxis": {
           "colorbar": {
            "outlinewidth": 0,
            "ticks": ""
           }
          },
          "colorscale": {
           "diverging": [
            [
             0,
             "#8e0152"
            ],
            [
             0.1,
             "#c51b7d"
            ],
            [
             0.2,
             "#de77ae"
            ],
            [
             0.3,
             "#f1b6da"
            ],
            [
             0.4,
             "#fde0ef"
            ],
            [
             0.5,
             "#f7f7f7"
            ],
            [
             0.6,
             "#e6f5d0"
            ],
            [
             0.7,
             "#b8e186"
            ],
            [
             0.8,
             "#7fbc41"
            ],
            [
             0.9,
             "#4d9221"
            ],
            [
             1,
             "#276419"
            ]
           ],
           "sequential": [
            [
             0,
             "#0d0887"
            ],
            [
             0.1111111111111111,
             "#46039f"
            ],
            [
             0.2222222222222222,
             "#7201a8"
            ],
            [
             0.3333333333333333,
             "#9c179e"
            ],
            [
             0.4444444444444444,
             "#bd3786"
            ],
            [
             0.5555555555555556,
             "#d8576b"
            ],
            [
             0.6666666666666666,
             "#ed7953"
            ],
            [
             0.7777777777777778,
             "#fb9f3a"
            ],
            [
             0.8888888888888888,
             "#fdca26"
            ],
            [
             1,
             "#f0f921"
            ]
           ],
           "sequentialminus": [
            [
             0,
             "#0d0887"
            ],
            [
             0.1111111111111111,
             "#46039f"
            ],
            [
             0.2222222222222222,
             "#7201a8"
            ],
            [
             0.3333333333333333,
             "#9c179e"
            ],
            [
             0.4444444444444444,
             "#bd3786"
            ],
            [
             0.5555555555555556,
             "#d8576b"
            ],
            [
             0.6666666666666666,
             "#ed7953"
            ],
            [
             0.7777777777777778,
             "#fb9f3a"
            ],
            [
             0.8888888888888888,
             "#fdca26"
            ],
            [
             1,
             "#f0f921"
            ]
           ]
          },
          "colorway": [
           "#636efa",
           "#EF553B",
           "#00cc96",
           "#ab63fa",
           "#FFA15A",
           "#19d3f3",
           "#FF6692",
           "#B6E880",
           "#FF97FF",
           "#FECB52"
          ],
          "font": {
           "color": "#2a3f5f"
          },
          "geo": {
           "bgcolor": "white",
           "lakecolor": "white",
           "landcolor": "#E5ECF6",
           "showlakes": true,
           "showland": true,
           "subunitcolor": "white"
          },
          "hoverlabel": {
           "align": "left"
          },
          "hovermode": "closest",
          "mapbox": {
           "style": "light"
          },
          "paper_bgcolor": "white",
          "plot_bgcolor": "#E5ECF6",
          "polar": {
           "angularaxis": {
            "gridcolor": "white",
            "linecolor": "white",
            "ticks": ""
           },
           "bgcolor": "#E5ECF6",
           "radialaxis": {
            "gridcolor": "white",
            "linecolor": "white",
            "ticks": ""
           }
          },
          "scene": {
           "xaxis": {
            "backgroundcolor": "#E5ECF6",
            "gridcolor": "white",
            "gridwidth": 2,
            "linecolor": "white",
            "showbackground": true,
            "ticks": "",
            "zerolinecolor": "white"
           },
           "yaxis": {
            "backgroundcolor": "#E5ECF6",
            "gridcolor": "white",
            "gridwidth": 2,
            "linecolor": "white",
            "showbackground": true,
            "ticks": "",
            "zerolinecolor": "white"
           },
           "zaxis": {
            "backgroundcolor": "#E5ECF6",
            "gridcolor": "white",
            "gridwidth": 2,
            "linecolor": "white",
            "showbackground": true,
            "ticks": "",
            "zerolinecolor": "white"
           }
          },
          "shapedefaults": {
           "line": {
            "color": "#2a3f5f"
           }
          },
          "ternary": {
           "aaxis": {
            "gridcolor": "white",
            "linecolor": "white",
            "ticks": ""
           },
           "baxis": {
            "gridcolor": "white",
            "linecolor": "white",
            "ticks": ""
           },
           "bgcolor": "#E5ECF6",
           "caxis": {
            "gridcolor": "white",
            "linecolor": "white",
            "ticks": ""
           }
          },
          "title": {
           "x": 0.05
          },
          "xaxis": {
           "automargin": true,
           "gridcolor": "white",
           "linecolor": "white",
           "ticks": "",
           "title": {
            "standoff": 15
           },
           "zerolinecolor": "white",
           "zerolinewidth": 2
          },
          "yaxis": {
           "automargin": true,
           "gridcolor": "white",
           "linecolor": "white",
           "ticks": "",
           "title": {
            "standoff": 15
           },
           "zerolinecolor": "white",
           "zerolinewidth": 2
          }
         }
        },
        "title": {
         "text": "whale"
        },
        "width": 600,
        "xaxis": {
         "anchor": "y",
         "domain": [
          0,
          1
         ],
         "title": {
          "text": "n"
         }
        },
        "yaxis": {
         "anchor": "x",
         "domain": [
          0,
          1
         ],
         "title": {
          "text": "tfidf"
         }
        }
       }
      }
     },
     "metadata": {},
     "output_type": "display_data"
    }
   ],
   "source": [
    "top_books_for_term('whale')"
   ]
  },
  {
   "cell_type": "markdown",
   "metadata": {},
   "source": [
    "# Save"
   ]
  },
  {
   "cell_type": "code",
   "execution_count": 36,
   "metadata": {
    "tags": []
   },
   "outputs": [],
   "source": [
    "save_path = f\"{output_dir}/{data_prefix}\"\n",
    "LIB.to_csv(f'{save_path}-LIB.csv')\n",
    "VOCAB.to_csv(f'{save_path}-VOCAB-{bag}.csv')\n",
    "BOW.to_csv(f'{save_path}-BOW-{bag}.csv')\n",
    "DTCM.to_csv(f'{save_path}-DTCM-{bag}.csv')\n",
    "DOC.to_csv(f'{save_path}-DOC-{bag}.csv')\n",
    "TFIDF.to_csv(f\"{save_path}-TFIDF-{bag}.csv\")"
   ]
  },
  {
   "cell_type": "code",
   "execution_count": null,
   "metadata": {},
   "outputs": [],
   "source": []
  }
 ],
 "metadata": {
  "kernelspec": {
<<<<<<< HEAD
   "display_name": "Python 3 (ipykernel)",
=======
   "display_name": "base",
>>>>>>> e3979fa0be8fa5d46bbc51abd269ffffb93cd2ff
   "language": "python",
   "name": "python3"
  },
  "language_info": {
   "codemirror_mode": {
    "name": "ipython",
    "version": 3
   },
   "file_extension": ".py",
   "mimetype": "text/x-python",
   "name": "python",
   "nbconvert_exporter": "python",
   "pygments_lexer": "ipython3",
   "version": "3.11.5"
  },
  "latex_envs": {
   "LaTeX_envs_menu_present": true,
   "autoclose": false,
   "autocomplete": true,
   "bibliofile": "biblio.bib",
   "cite_by": "apalike",
   "current_citInitial": 1,
   "eqLabelWithNumbers": true,
   "eqNumInitial": 1,
   "hotkeys": {
    "equation": "Ctrl-E",
    "itemize": "Ctrl-I"
   },
   "labels_anchors": false,
   "latex_user_defs": false,
   "report_style_numbering": false,
   "user_envs_cfg": false
  },
  "toc": {
   "base_numbering": 1,
   "nav_menu": {},
   "number_sections": true,
   "sideBar": true,
   "skip_h1_title": true,
   "title_cell": "Table of Contents",
   "title_sidebar": "Contents",
   "toc_cell": false,
   "toc_position": {
    "height": "calc(100% - 180px)",
    "left": "10px",
    "top": "150px",
    "width": "235.517px"
   },
   "toc_section_display": true,
   "toc_window_display": true
  },
  "toc-autonumbering": false,
  "toc-showcode": false,
  "toc-showmarkdowntxt": false,
  "varInspector": {
   "cols": {
    "lenName": 16,
    "lenType": 16,
    "lenVar": 40
   },
   "kernels_config": {
    "python": {
     "delete_cmd_postfix": "",
     "delete_cmd_prefix": "del ",
     "library": "var_list.py",
     "varRefreshCmd": "print(var_dic_list())"
    },
    "r": {
     "delete_cmd_postfix": ") ",
     "delete_cmd_prefix": "rm(",
     "library": "var_list.r",
     "varRefreshCmd": "cat(var_dic_list()) "
    }
   },
   "types_to_exclude": [
    "module",
    "function",
    "builtin_function_or_method",
    "instance",
    "_Feature"
   ],
   "window_display": false
  },
  "widgets": {
   "application/vnd.jupyter.widget-state+json": {
    "state": {},
    "version_major": 2,
    "version_minor": 0
   }
  }
 },
 "nbformat": 4,
 "nbformat_minor": 4
}
