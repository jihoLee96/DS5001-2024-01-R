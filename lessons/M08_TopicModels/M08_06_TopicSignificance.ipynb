{
 "cells": [
  {
   "cell_type": "markdown",
   "id": "01b15f46-a963-41df-918f-2d28ba2bf627",
   "metadata": {},
   "source": [
    "# Topic Term Significance\n",
    "\n",
    "```yaml\n",
    "Course:    DS 5001 \n",
    "Module:    08 Lab\n",
    "Topic:     LDA Topic Significance\n",
    "Author:    R.C. Alvarado\n",
    "Date:      05 March 2024\n",
    "```\n",
    "\n",
    "**Purpose:** To explore term significance within topics as defined by various authors."
   ]
  },
  {
   "cell_type": "markdown",
   "id": "a51059c6-192b-4144-92b1-34429a72007c",
   "metadata": {},
   "source": [
    "# Set Up"
   ]
  },
  {
   "cell_type": "markdown",
   "id": "090f671b-3226-4d3e-b693-8bed61b7fcc6",
   "metadata": {
    "tags": []
   },
   "source": [
    "## Config"
   ]
  },
  {
   "cell_type": "code",
   "execution_count": 1,
   "id": "dfd1a939",
   "metadata": {
    "tags": []
   },
   "outputs": [],
   "source": [
    "import configparser\n",
    "config = configparser.ConfigParser()\n",
    "config.read('../../../env.ini')\n",
    "data_home = config['DEFAULT']['data_home']\n",
    "output_dir = config['DEFAULT']['output_dir']\n",
    "local_lib = config['DEFAULT']['local_lib']"
   ]
  },
  {
   "cell_type": "markdown",
   "id": "94c4de45-a051-4ab7-833f-04fdb8ab4339",
   "metadata": {},
   "source": [
    "## Imports"
   ]
  },
  {
   "cell_type": "code",
   "execution_count": 2,
   "id": "4c635ce4-b9d6-44a3-95c2-20652ae84c45",
   "metadata": {
    "tags": []
   },
   "outputs": [],
   "source": [
    "import pandas as pd\n",
    "import numpy as np\n",
    "import plotly_express as px"
   ]
  },
  {
   "cell_type": "code",
   "execution_count": 3,
   "id": "3bf6b8cd-2108-479d-affb-4f5c5e5ac40b",
   "metadata": {
    "tags": []
   },
   "outputs": [],
   "source": [
    "import sys; sys.path.append(local_lib)\n",
    "from hac import HAC"
   ]
  },
  {
   "cell_type": "code",
   "execution_count": 4,
   "id": "99dfd55a-39e9-4cbc-b742-43b94abba488",
   "metadata": {
    "tags": []
   },
   "outputs": [],
   "source": [
    "data_prefix = 'austen-melville'\n",
    "colors = \"YlGnBu\"\n",
    "n_topics = 40\n",
    "OHCO = ['book_id','chap_num']"
   ]
  },
  {
   "cell_type": "markdown",
   "id": "1b8608ca-8525-4585-82b9-c9efe8cb8f45",
   "metadata": {
    "tags": []
   },
   "source": [
    "# Get the Data"
   ]
  },
  {
   "cell_type": "code",
   "execution_count": 5,
   "id": "47bcbd8d-7d83-415e-942d-2f052e35bdbb",
   "metadata": {
    "tags": []
   },
   "outputs": [],
   "source": [
    "TOPICS = pd.read_csv(f\"{output_dir}/{data_prefix}-LDA_TOPICS-{n_topics}.csv\").set_index('topic_id')\n",
    "PHI = pd.read_csv(f\"{output_dir}/{data_prefix}-LDA_PHI-{n_topics}.csv\").set_index('topic_id')"
   ]
  },
  {
   "cell_type": "markdown",
   "id": "f33f38fd-3809-4e3c-bcc6-73dab0ed30e4",
   "metadata": {},
   "source": [
    "# Define Label Function"
   ]
  },
  {
   "cell_type": "code",
   "execution_count": 6,
   "id": "cd91c348-103b-422a-be1c-a00d42855ca4",
   "metadata": {
    "tags": []
   },
   "outputs": [],
   "source": [
    "LABELS = pd.DataFrame({'default':None}, index=PHI.index)\n",
    "def extract_label(phi, label, n_terms=7):\n",
    "    LABELS[label] = LABELS.apply(lambda x: ', '.join(phi.loc[x.name].sort_values(ascending=False).head(n_terms).index), axis=1)"
   ]
  },
  {
   "cell_type": "markdown",
   "id": "2f876a3c-24fa-47d7-ba0c-7797779541b5",
   "metadata": {
    "tags": []
   },
   "source": [
    "# Default"
   ]
  },
  {
   "cell_type": "code",
   "execution_count": 7,
   "id": "ab00b210-07a7-440f-9752-a569a6c85660",
   "metadata": {
    "jp-MarkdownHeadingCollapsed": true,
    "tags": []
   },
   "outputs": [],
   "source": [
    "extract_label(PHI, 'default')"
   ]
  },
  {
   "cell_type": "markdown",
   "id": "2872646f-6906-43d3-9c5e-9d8bf85d0d0e",
   "metadata": {},
   "source": [
    "# Relevance\n",
    "\n",
    "Sievert, Carson, and Kenneth Shirley. 2014. “LDAvis: A Method for Visualizing and Interpreting Topics.” In _Proceedings of the Workshop on Interactive Language Learning, Visualization, and Interfaces_, 63–70. https://aclanthology.org/W14-3110.pdf\n",
    "\n",
    "![image-3.png](images/topic-relevance.png)"
   ]
  },
  {
   "cell_type": "code",
   "execution_count": 8,
   "id": "ea5e3a6a",
   "metadata": {
    "tags": []
   },
   "outputs": [],
   "source": [
    "λ = .5\n",
    "PW = PHI.sum() / PHI.sum().sum()\n",
    "PHI_REL = λ * np.log(PHI) + (1 - λ) * np.log(PHI/PW)"
   ]
  },
  {
   "cell_type": "code",
   "execution_count": 9,
   "id": "31266152-e2a4-40e0-a3b8-f0a1867a4d8b",
   "metadata": {
    "tags": []
   },
   "outputs": [],
   "source": [
    "extract_label(PHI_REL, 'rel')"
   ]
  },
  {
   "attachments": {
    "2ff9ee60-b0df-4e3a-90c5-bf323fe15ddb.png": {
     "image/png": "[encoded data removed]"
    },
    "820349f2-c7ec-4f2f-97a0-505b251a33b3.png": {
     "image/png": "[encoded data removed]"
    }
   },
   "cell_type": "markdown",
   "id": "bc394b7e",
   "metadata": {},
   "source": [
    "# Saliency\n",
    "\n",
    "Chuang, Jason, Christopher D. Manning, and Jeffrey Heer. 2012. “Termite: Visualization Techniques for Assessing Textual Topic Models.” In _Proceedings of the International Working Conference on Advanced Visual Interfaces_, 74–77. AVI ’12. New York, NY, USA: Association for Computing Machinery. https://doi.org/10.1145/2254556.2254572.\n",
    "\n",
    "![image.png](attachment:820349f2-c7ec-4f2f-97a0-505b251a33b3.png)\n",
    "\n",
    "![image.png](attachment:2ff9ee60-b0df-4e3a-90c5-bf323fe15ddb.png)\n"
   ]
  },
  {
   "cell_type": "code",
   "execution_count": 10,
   "id": "c4d816c8-a253-49b0-a313-84ae8769532e",
   "metadata": {
    "tags": []
   },
   "outputs": [],
   "source": [
    "PTw = (PHI / PHI.sum()).T\n",
    "PT = (PHI.T.sum() / PHI.T.sum().sum())\n",
    "PHI_DST = PTw * np.log(PTw/PT)\n",
    "PHI_SAL = PHI_DST.T * PW"
   ]
  },
  {
   "cell_type": "code",
   "execution_count": 11,
   "id": "ffe39dee-9831-467c-9397-e9204408fb45",
   "metadata": {
    "tags": []
   },
   "outputs": [],
   "source": [
    "extract_label(PHI_SAL, 'sal')"
   ]
  },
  {
   "cell_type": "markdown",
   "id": "3e331c97",
   "metadata": {},
   "source": [
    "# TFIDF\n",
    "\n",
    "We treat topics as documents."
   ]
  },
  {
   "cell_type": "code",
   "execution_count": 12,
   "id": "188d0215-af6d-47e1-8cd9-465cec991285",
   "metadata": {
    "tags": []
   },
   "outputs": [],
   "source": [
    "TF = (PHI.T / PHI.T.sum()).T\n",
    "DF = PHI.sum() / PHI.sum().sum()\n",
    "PHI_TFIDF = TF * -np.log2(DF)"
   ]
  },
  {
   "cell_type": "code",
   "execution_count": 13,
   "id": "fe0d5c0b-013e-4956-8cce-9e1d819d6004",
   "metadata": {
    "tags": []
   },
   "outputs": [],
   "source": [
    "extract_label(PHI_TFIDF, 'tfidf')"
   ]
  },
  {
   "cell_type": "markdown",
   "id": "375c60df",
   "metadata": {},
   "source": [
    "# Compare"
   ]
  },
  {
   "cell_type": "code",
   "execution_count": 14,
   "id": "caf835ef-c5ea-440d-8d1d-ff68ed123486",
   "metadata": {
    "tags": []
   },
   "outputs": [
    {
     "data": {
      "text/plain": [
       "array(['time, day, house, thing, room, sister, man',\n",
       "       'pleasure, sister, house, party, family, room, home',\n",
       "       'pleasure, sister, house, family, party, room, home',\n",
       "       'time, house, day, sister, room, pleasure, thing'], dtype=object)"
      ]
     },
     "execution_count": 14,
     "metadata": {},
     "output_type": "execute_result"
    }
   ],
   "source": [
    "LABELS.loc['T38'].values"
   ]
  },
  {
   "cell_type": "code",
   "execution_count": 15,
   "id": "fa2e9a62-6219-4e53-9dff-237869163fa4",
   "metadata": {
    "tags": []
   },
   "outputs": [
    {
     "data": {
      "text/plain": [
       "array(['time, feelings, heart, mind, moment, letter, happiness',\n",
       "       'feelings, happiness, letter, affection, engagement, heart, mind',\n",
       "       'feelings, happiness, letter, heart, affection, mind, moment',\n",
       "       'time, feelings, heart, mind, letter, moment, happiness'],\n",
       "      dtype=object)"
      ]
     },
     "execution_count": 15,
     "metadata": {},
     "output_type": "execute_result"
    }
   ],
   "source": [
    "LABELS.loc['T20'].values"
   ]
  },
  {
   "cell_type": "code",
   "execution_count": 16,
   "id": "f303071c-154e-4779-baaa-22218b25417c",
   "metadata": {
    "tags": []
   },
   "outputs": [
    {
     "data": {
      "text/plain": [
       "array(['law, man, court, punishment, laws, code, time',\n",
       "       'code, punishment, court, laws, flogging, law, lash',\n",
       "       'law, court, punishment, laws, code, flogging, cases',\n",
       "       'law, court, punishment, laws, man, code, flogging'], dtype=object)"
      ]
     },
     "execution_count": 16,
     "metadata": {},
     "output_type": "execute_result"
    }
   ],
   "source": [
    "LABELS.loc['T32'].values"
   ]
  },
  {
   "cell_type": "code",
   "execution_count": 17,
   "id": "2caaddb8-a7e4-400d-8791-9f368ff1da86",
   "metadata": {
    "tags": []
   },
   "outputs": [
    {
     "data": {
      "text/plain": [
       "array([['valley, natives, time, island, house, place, islanders',\n",
       "        'valley, natives, islanders, island, fruit, tappa, savages',\n",
       "        'valley, natives, island, islanders, fruit, savages, tappa',\n",
       "        'valley, natives, island, islanders, fruit, house, time']],\n",
       "      dtype=object)"
      ]
     },
     "execution_count": 17,
     "metadata": {},
     "output_type": "execute_result"
    }
   ],
   "source": [
    "LABELS.sample().values"
   ]
  },
  {
   "cell_type": "code",
   "execution_count": 18,
   "id": "79b2e8b2-2240-4fee-bcd2-fc90be9fd472",
   "metadata": {
    "tags": []
   },
   "outputs": [
    {
     "data": {
      "text/html": [
       "<div>\n",
       "<style scoped>\n",
       "    .dataframe tbody tr th:only-of-type {\n",
       "        vertical-align: middle;\n",
       "    }\n",
       "\n",
       "    .dataframe tbody tr th {\n",
       "        vertical-align: top;\n",
       "    }\n",
       "\n",
       "    .dataframe thead th {\n",
       "        text-align: right;\n",
       "    }\n",
       "</style>\n",
       "<table border=\"1\" class=\"dataframe\">\n",
       "  <thead>\n",
       "    <tr style=\"text-align: right;\">\n",
       "      <th></th>\n",
       "      <th>default</th>\n",
       "      <th>rel</th>\n",
       "      <th>sal</th>\n",
       "      <th>tfidf</th>\n",
       "    </tr>\n",
       "    <tr>\n",
       "      <th>topic_id</th>\n",
       "      <th></th>\n",
       "      <th></th>\n",
       "      <th></th>\n",
       "      <th></th>\n",
       "    </tr>\n",
       "  </thead>\n",
       "  <tbody>\n",
       "    <tr>\n",
       "      <th>T00</th>\n",
       "      <td>passengers, emigrants, steerage, cabin, mess, ...</td>\n",
       "      <td>passengers, emigrants, steerage, organ, steera...</td>\n",
       "      <td>passengers, emigrants, steerage, mess, cook, c...</td>\n",
       "      <td>passengers, emigrants, steerage, mess, cook, c...</td>\n",
       "    </tr>\n",
       "    <tr>\n",
       "      <th>T01</th>\n",
       "      <td>lord, man, men, things, wine, ha, day</td>\n",
       "      <td>lord, ha, wine, yoomy, philosopher, puff, mortals</td>\n",
       "      <td>lord, ha, wine, philosopher, yoomy, ah, mortals</td>\n",
       "      <td>lord, man, wine, ha, men, things, ah</td>\n",
       "    </tr>\n",
       "    <tr>\n",
       "      <th>T02</th>\n",
       "      <td>sea, air, fish, round, day, trees, groves</td>\n",
       "      <td>yillah, glen, fish, lagoon, arbor, flowers, ma...</td>\n",
       "      <td>fish, air, yillah, sea, groves, flowers, glen</td>\n",
       "      <td>sea, fish, air, yillah, round, groves, flowers</td>\n",
       "    </tr>\n",
       "    <tr>\n",
       "      <th>T03</th>\n",
       "      <td>man, way, friend, nature, sort, stranger, conf...</td>\n",
       "      <td>cosmopolitan, man, stranger, confidence, natur...</td>\n",
       "      <td>man, cosmopolitan, nature, stranger, confidenc...</td>\n",
       "      <td>man, friend, nature, way, stranger, confidence...</td>\n",
       "    </tr>\n",
       "    <tr>\n",
       "      <th>T04</th>\n",
       "      <td>sir, herb, confidence, man, herb doctor, ugh, ...</td>\n",
       "      <td>sir, herb, herb doctor, ugh, medicine, sir sir...</td>\n",
       "      <td>sir, herb, herb doctor, ugh, confidence, docto...</td>\n",
       "      <td>sir, herb, herb doctor, ugh, confidence, docto...</td>\n",
       "    </tr>\n",
       "    <tr>\n",
       "      <th>T05</th>\n",
       "      <td>father, mother, family, years, brother, time, ...</td>\n",
       "      <td>father, mother, aunt, marriage, child, daughte...</td>\n",
       "      <td>father, mother, aunt, child, marriage, family,...</td>\n",
       "      <td>father, mother, family, aunt, child, years, ma...</td>\n",
       "    </tr>\n",
       "    <tr>\n",
       "      <th>T06</th>\n",
       "      <td>landlord, abbey, gallery, generals, harpooneer...</td>\n",
       "      <td>abbey, landlord, generals, gallery, tomahawk, ...</td>\n",
       "      <td>abbey, landlord, generals, gallery, harpooneer...</td>\n",
       "      <td>landlord, abbey, gallery, generals, harpooneer...</td>\n",
       "    </tr>\n",
       "    <tr>\n",
       "      <th>T07</th>\n",
       "      <td>doctor, day, country, village, horse, morning,...</td>\n",
       "      <td>doctor, cocoa, village, cocoa nut, nut, road, ...</td>\n",
       "      <td>doctor, village, road, horse, country, cocoa, nut</td>\n",
       "      <td>doctor, village, country, horse, road, day, cocoa</td>\n",
       "    </tr>\n",
       "    <tr>\n",
       "      <th>T08</th>\n",
       "      <td>room, door, house, moment, time, bed, night</td>\n",
       "      <td>room, door, bed, coach, inn, window, street</td>\n",
       "      <td>room, door, bed, house, moment, street, window</td>\n",
       "      <td>room, door, house, moment, bed, night, time</td>\n",
       "    </tr>\n",
       "    <tr>\n",
       "      <th>T09</th>\n",
       "      <td>gods, god, image, lord, idols, images, wine</td>\n",
       "      <td>gods, idols, image, images, god, deity, demi</td>\n",
       "      <td>gods, god, image, idols, images, deity, idol</td>\n",
       "      <td>gods, god, image, idols, images, lord, deity</td>\n",
       "    </tr>\n",
       "    <tr>\n",
       "      <th>T10</th>\n",
       "      <td>valley, natives, time, island, house, place, i...</td>\n",
       "      <td>valley, natives, islanders, island, fruit, tap...</td>\n",
       "      <td>valley, natives, island, islanders, fruit, sav...</td>\n",
       "      <td>valley, natives, island, islanders, fruit, hou...</td>\n",
       "    </tr>\n",
       "    <tr>\n",
       "      <th>T11</th>\n",
       "      <td>whiteness, teeth, kings, royal, milk, bull, lord</td>\n",
       "      <td>whiteness, item, bull, issue, milk, crimson, t...</td>\n",
       "      <td>whiteness, teeth, kings, royal, bull, item, milk</td>\n",
       "      <td>whiteness, teeth, kings, royal, bull, milk, item</td>\n",
       "    </tr>\n",
       "    <tr>\n",
       "      <th>T12</th>\n",
       "      <td>sea, time, land, water, ship, air, day</td>\n",
       "      <td>sea, islands, isle, tower, isles, tortoises, land</td>\n",
       "      <td>sea, islands, land, isle, isles, tower, shore</td>\n",
       "      <td>sea, land, time, islands, isle, water, shore</td>\n",
       "    </tr>\n",
       "    <tr>\n",
       "      <th>T13</th>\n",
       "      <td>man, canoe, time, face, cook, island, head</td>\n",
       "      <td>canoe, whale whale, queen, dat, cook, priest, ...</td>\n",
       "      <td>canoe, cook, queen, strangers, face, priest, c...</td>\n",
       "      <td>canoe, man, face, cook, time, queen, island</td>\n",
       "    </tr>\n",
       "    <tr>\n",
       "      <th>T14</th>\n",
       "      <td>men, time, world, things, years, people, land</td>\n",
       "      <td>dock, docks, gees, gee, nations, men, ale</td>\n",
       "      <td>men, dock, nations, years, docks, land, people</td>\n",
       "      <td>men, world, years, things, people, time, land</td>\n",
       "    </tr>\n",
       "    <tr>\n",
       "      <th>T15</th>\n",
       "      <td>captain, ship, cabin, voyage, dollars, ships, man</td>\n",
       "      <td>captain, cabin, dollars, owners, voyage, portr...</td>\n",
       "      <td>captain, cabin, dollars, ship, voyage, portrai...</td>\n",
       "      <td>captain, cabin, ship, dollars, voyage, ships, ...</td>\n",
       "    </tr>\n",
       "    <tr>\n",
       "      <th>T16</th>\n",
       "      <td>thing, oh, body, way, day, world, sort</td>\n",
       "      <td>thing, oh, body, emma, apples, sort thing, pia...</td>\n",
       "      <td>thing, oh, body, emma, way, instrument, news</td>\n",
       "      <td>thing, oh, body, way, day, sort, world</td>\n",
       "    </tr>\n",
       "    <tr>\n",
       "      <th>T17</th>\n",
       "      <td>kings, house, king, heart, mind, time, life</td>\n",
       "      <td>kings, sire, king, woes, graves, freedom, moons</td>\n",
       "      <td>kings, king, sire, memory, house, grief, freedom</td>\n",
       "      <td>kings, king, house, sire, heart, mind, thoughts</td>\n",
       "    </tr>\n",
       "    <tr>\n",
       "      <th>T18</th>\n",
       "      <td>boy, mother, room, door, man, guide, eyes</td>\n",
       "      <td>boy, guide, mother, chamber, porter, door, shriek</td>\n",
       "      <td>boy, mother, guide, door, room, chamber, lady</td>\n",
       "      <td>boy, mother, room, door, guide, man, chamber</td>\n",
       "    </tr>\n",
       "    <tr>\n",
       "      <th>T19</th>\n",
       "      <td>world, things, soul, man, heart, life, love</td>\n",
       "      <td>soul, faith, things, world, conceit, mysteries...</td>\n",
       "      <td>soul, world, things, heart, faith, love, life</td>\n",
       "      <td>soul, world, things, heart, life, man, love</td>\n",
       "    </tr>\n",
       "    <tr>\n",
       "      <th>T20</th>\n",
       "      <td>time, feelings, heart, mind, moment, letter, h...</td>\n",
       "      <td>feelings, happiness, letter, affection, engage...</td>\n",
       "      <td>feelings, happiness, letter, heart, affection,...</td>\n",
       "      <td>time, feelings, heart, mind, letter, moment, h...</td>\n",
       "    </tr>\n",
       "    <tr>\n",
       "      <th>T21</th>\n",
       "      <td>man, barber, gentleman, men, sort, world, time</td>\n",
       "      <td>barber, man, clergyman, genius, gentleman, ten...</td>\n",
       "      <td>man, barber, gentleman, clergyman, genius, sor...</td>\n",
       "      <td>man, barber, gentleman, sort, world, men, genius</td>\n",
       "    </tr>\n",
       "    <tr>\n",
       "      <th>T22</th>\n",
       "      <td>reign, time, men, head, day, sailor, sea</td>\n",
       "      <td>reign, bricks, brains, man thing, institutions...</td>\n",
       "      <td>reign, bricks, brains, watches, man thing, abs...</td>\n",
       "      <td>reign, bricks, brains, watches, man thing, sai...</td>\n",
       "    </tr>\n",
       "    <tr>\n",
       "      <th>T23</th>\n",
       "      <td>oh, ball, sir, evening, way, yes, room</td>\n",
       "      <td>ball, partner, dance, dances, play, dancing, n...</td>\n",
       "      <td>ball, oh, partner, evening, sir, play, dance</td>\n",
       "      <td>ball, oh, evening, sir, partner, yes, play</td>\n",
       "    </tr>\n",
       "    <tr>\n",
       "      <th>T24</th>\n",
       "      <td>man, day, time, consul, boat, way, ships</td>\n",
       "      <td>tailor, consul, beggars, doctors, wives, potat...</td>\n",
       "      <td>consul, tailor, beggars, wives, doctors, stock...</td>\n",
       "      <td>man, consul, tailor, day, beggars, wives, doctors</td>\n",
       "    </tr>\n",
       "    <tr>\n",
       "      <th>T25</th>\n",
       "      <td>whale, boat, whales, ship, boats, head, sea</td>\n",
       "      <td>whale, whales, boat, boats, harpoon, line, fis...</td>\n",
       "      <td>whale, whales, boat, boats, ship, line, head</td>\n",
       "      <td>whale, whales, boat, boats, ship, head, sea</td>\n",
       "    </tr>\n",
       "    <tr>\n",
       "      <th>T26</th>\n",
       "      <td>isle, lord, king, minstrel, spears, land, royal</td>\n",
       "      <td>minstrel, isle, spears, games, throne, damsels...</td>\n",
       "      <td>isle, minstrel, spears, king, lord, throne, games</td>\n",
       "      <td>isle, minstrel, king, spears, lord, land, throne</td>\n",
       "    </tr>\n",
       "    <tr>\n",
       "      <th>T27</th>\n",
       "      <td>skeleton, lord, feet, bones, sea, things, skull</td>\n",
       "      <td>skeleton, ribs, skull, spine, bones, eternity,...</td>\n",
       "      <td>skeleton, skull, bones, ribs, lord, brain, spine</td>\n",
       "      <td>skeleton, bones, skull, ribs, lord, feet, brain</td>\n",
       "    </tr>\n",
       "    <tr>\n",
       "      <th>T28</th>\n",
       "      <td>book, thing, volume, paper, books, reading, work</td>\n",
       "      <td>book, charade, volume, reading, pages, pamphle...</td>\n",
       "      <td>book, volume, reading, paper, books, charade, ...</td>\n",
       "      <td>book, volume, paper, books, reading, work, thing</td>\n",
       "    </tr>\n",
       "    <tr>\n",
       "      <th>T29</th>\n",
       "      <td>man, men, war, gun, guns, deck, jacket</td>\n",
       "      <td>guns, gun, war, man war, wars, man wars, jacket</td>\n",
       "      <td>war, gun, guns, man, man war, men, jacket</td>\n",
       "      <td>man, war, men, gun, guns, man war, jacket</td>\n",
       "    </tr>\n",
       "    <tr>\n",
       "      <th>T30</th>\n",
       "      <td>sea, ship, deck, night, man, sail, wind</td>\n",
       "      <td>sail, sea, wind, sails, helm, breeze, deck</td>\n",
       "      <td>sea, sail, deck, wind, ship, night, sails</td>\n",
       "      <td>sea, ship, deck, sail, night, wind, man</td>\n",
       "    </tr>\n",
       "    <tr>\n",
       "      <th>T31</th>\n",
       "      <td>friendship, jacket, auction, need, loan, frien...</td>\n",
       "      <td>auction, loan, bags, goods, thumb, need, frien...</td>\n",
       "      <td>auction, loan, friendship, bags, need, jacket,...</td>\n",
       "      <td>auction, friendship, loan, jacket, need, bags,...</td>\n",
       "    </tr>\n",
       "    <tr>\n",
       "      <th>T32</th>\n",
       "      <td>law, man, court, punishment, laws, code, time</td>\n",
       "      <td>code, punishment, court, laws, flogging, law, ...</td>\n",
       "      <td>law, court, punishment, laws, code, flogging, ...</td>\n",
       "      <td>law, court, punishment, laws, man, code, flogging</td>\n",
       "    </tr>\n",
       "    <tr>\n",
       "      <th>T33</th>\n",
       "      <td>guitar, head, mystery, oil, girl, whale, sounds</td>\n",
       "      <td>guitar, lightnings, mystery, oil, melody, soun...</td>\n",
       "      <td>guitar, mystery, head, oil, lightnings, sounds...</td>\n",
       "      <td>guitar, head, mystery, oil, girl, sounds, ligh...</td>\n",
       "    </tr>\n",
       "    <tr>\n",
       "      <th>T34</th>\n",
       "      <td>man, deck, men, ship, sailors, time, captain</td>\n",
       "      <td>deck, mate, sailors, officers, ship, captain, ...</td>\n",
       "      <td>deck, sailors, ship, mate, captain, men, officers</td>\n",
       "      <td>deck, ship, men, sailors, man, mate, captain</td>\n",
       "    </tr>\n",
       "    <tr>\n",
       "      <th>T35</th>\n",
       "      <td>wife, chimney, table, time, cock, man, house</td>\n",
       "      <td>chimney, cock, wife, crow, bug, tick, table</td>\n",
       "      <td>chimney, wife, cock, table, crow, bug, tick</td>\n",
       "      <td>chimney, wife, cock, table, house, sort, room</td>\n",
       "    </tr>\n",
       "    <tr>\n",
       "      <th>T36</th>\n",
       "      <td>boots, glass, place, sailors, jacket, friend, ...</td>\n",
       "      <td>boots, pantaloons, glass, heels, shirt, boot, ...</td>\n",
       "      <td>boots, glass, jacket, pair, pantaloons, sailor...</td>\n",
       "      <td>boots, glass, jacket, sailors, place, pair, sa...</td>\n",
       "    </tr>\n",
       "    <tr>\n",
       "      <th>T37</th>\n",
       "      <td>thou, thee, art, brother, oh, face, eyes</td>\n",
       "      <td>thou, thee, pierre, art, hast, thy, didst</td>\n",
       "      <td>thou, thee, art, pierre, brother, hast, oh</td>\n",
       "      <td>thou, thee, art, brother, pierre, oh, face</td>\n",
       "    </tr>\n",
       "    <tr>\n",
       "      <th>T38</th>\n",
       "      <td>time, day, house, thing, room, sister, man</td>\n",
       "      <td>pleasure, sister, house, party, family, room, ...</td>\n",
       "      <td>pleasure, sister, house, family, party, room, ...</td>\n",
       "      <td>time, house, day, sister, room, pleasure, thing</td>\n",
       "    </tr>\n",
       "    <tr>\n",
       "      <th>T39</th>\n",
       "      <td>box, gentlemen, man, uncle, leg, operation, water</td>\n",
       "      <td>box, breaker, surgeons, amputation, blacksmith...</td>\n",
       "      <td>box, gentlemen, patient, operation, leg, surge...</td>\n",
       "      <td>box, gentlemen, operation, leg, uncle, patient...</td>\n",
       "    </tr>\n",
       "  </tbody>\n",
       "</table>\n",
       "</div>"
      ],
      "text/plain": [
       "                                                    default  \\\n",
       "topic_id                                                      \n",
       "T00       passengers, emigrants, steerage, cabin, mess, ...   \n",
       "T01                   lord, man, men, things, wine, ha, day   \n",
       "T02               sea, air, fish, round, day, trees, groves   \n",
       "T03       man, way, friend, nature, sort, stranger, conf...   \n",
       "T04       sir, herb, confidence, man, herb doctor, ugh, ...   \n",
       "T05       father, mother, family, years, brother, time, ...   \n",
       "T06       landlord, abbey, gallery, generals, harpooneer...   \n",
       "T07       doctor, day, country, village, horse, morning,...   \n",
       "T08             room, door, house, moment, time, bed, night   \n",
       "T09             gods, god, image, lord, idols, images, wine   \n",
       "T10       valley, natives, time, island, house, place, i...   \n",
       "T11        whiteness, teeth, kings, royal, milk, bull, lord   \n",
       "T12                  sea, time, land, water, ship, air, day   \n",
       "T13              man, canoe, time, face, cook, island, head   \n",
       "T14           men, time, world, things, years, people, land   \n",
       "T15       captain, ship, cabin, voyage, dollars, ships, man   \n",
       "T16                  thing, oh, body, way, day, world, sort   \n",
       "T17             kings, house, king, heart, mind, time, life   \n",
       "T18               boy, mother, room, door, man, guide, eyes   \n",
       "T19             world, things, soul, man, heart, life, love   \n",
       "T20       time, feelings, heart, mind, moment, letter, h...   \n",
       "T21          man, barber, gentleman, men, sort, world, time   \n",
       "T22                reign, time, men, head, day, sailor, sea   \n",
       "T23                  oh, ball, sir, evening, way, yes, room   \n",
       "T24                man, day, time, consul, boat, way, ships   \n",
       "T25             whale, boat, whales, ship, boats, head, sea   \n",
       "T26         isle, lord, king, minstrel, spears, land, royal   \n",
       "T27         skeleton, lord, feet, bones, sea, things, skull   \n",
       "T28        book, thing, volume, paper, books, reading, work   \n",
       "T29                  man, men, war, gun, guns, deck, jacket   \n",
       "T30                 sea, ship, deck, night, man, sail, wind   \n",
       "T31       friendship, jacket, auction, need, loan, frien...   \n",
       "T32           law, man, court, punishment, laws, code, time   \n",
       "T33         guitar, head, mystery, oil, girl, whale, sounds   \n",
       "T34            man, deck, men, ship, sailors, time, captain   \n",
       "T35            wife, chimney, table, time, cock, man, house   \n",
       "T36       boots, glass, place, sailors, jacket, friend, ...   \n",
       "T37                thou, thee, art, brother, oh, face, eyes   \n",
       "T38              time, day, house, thing, room, sister, man   \n",
       "T39       box, gentlemen, man, uncle, leg, operation, water   \n",
       "\n",
       "                                                        rel  \\\n",
       "topic_id                                                      \n",
       "T00       passengers, emigrants, steerage, organ, steera...   \n",
       "T01       lord, ha, wine, yoomy, philosopher, puff, mortals   \n",
       "T02       yillah, glen, fish, lagoon, arbor, flowers, ma...   \n",
       "T03       cosmopolitan, man, stranger, confidence, natur...   \n",
       "T04       sir, herb, herb doctor, ugh, medicine, sir sir...   \n",
       "T05       father, mother, aunt, marriage, child, daughte...   \n",
       "T06       abbey, landlord, generals, gallery, tomahawk, ...   \n",
       "T07       doctor, cocoa, village, cocoa nut, nut, road, ...   \n",
       "T08             room, door, bed, coach, inn, window, street   \n",
       "T09            gods, idols, image, images, god, deity, demi   \n",
       "T10       valley, natives, islanders, island, fruit, tap...   \n",
       "T11       whiteness, item, bull, issue, milk, crimson, t...   \n",
       "T12       sea, islands, isle, tower, isles, tortoises, land   \n",
       "T13       canoe, whale whale, queen, dat, cook, priest, ...   \n",
       "T14               dock, docks, gees, gee, nations, men, ale   \n",
       "T15       captain, cabin, dollars, owners, voyage, portr...   \n",
       "T16       thing, oh, body, emma, apples, sort thing, pia...   \n",
       "T17         kings, sire, king, woes, graves, freedom, moons   \n",
       "T18       boy, guide, mother, chamber, porter, door, shriek   \n",
       "T19       soul, faith, things, world, conceit, mysteries...   \n",
       "T20       feelings, happiness, letter, affection, engage...   \n",
       "T21       barber, man, clergyman, genius, gentleman, ten...   \n",
       "T22       reign, bricks, brains, man thing, institutions...   \n",
       "T23       ball, partner, dance, dances, play, dancing, n...   \n",
       "T24       tailor, consul, beggars, doctors, wives, potat...   \n",
       "T25       whale, whales, boat, boats, harpoon, line, fis...   \n",
       "T26       minstrel, isle, spears, games, throne, damsels...   \n",
       "T27       skeleton, ribs, skull, spine, bones, eternity,...   \n",
       "T28       book, charade, volume, reading, pages, pamphle...   \n",
       "T29         guns, gun, war, man war, wars, man wars, jacket   \n",
       "T30              sail, sea, wind, sails, helm, breeze, deck   \n",
       "T31       auction, loan, bags, goods, thumb, need, frien...   \n",
       "T32       code, punishment, court, laws, flogging, law, ...   \n",
       "T33       guitar, lightnings, mystery, oil, melody, soun...   \n",
       "T34       deck, mate, sailors, officers, ship, captain, ...   \n",
       "T35             chimney, cock, wife, crow, bug, tick, table   \n",
       "T36       boots, pantaloons, glass, heels, shirt, boot, ...   \n",
       "T37               thou, thee, pierre, art, hast, thy, didst   \n",
       "T38       pleasure, sister, house, party, family, room, ...   \n",
       "T39       box, breaker, surgeons, amputation, blacksmith...   \n",
       "\n",
       "                                                        sal  \\\n",
       "topic_id                                                      \n",
       "T00       passengers, emigrants, steerage, mess, cook, c...   \n",
       "T01         lord, ha, wine, philosopher, yoomy, ah, mortals   \n",
       "T02           fish, air, yillah, sea, groves, flowers, glen   \n",
       "T03       man, cosmopolitan, nature, stranger, confidenc...   \n",
       "T04       sir, herb, herb doctor, ugh, confidence, docto...   \n",
       "T05       father, mother, aunt, child, marriage, family,...   \n",
       "T06       abbey, landlord, generals, gallery, harpooneer...   \n",
       "T07       doctor, village, road, horse, country, cocoa, nut   \n",
       "T08          room, door, bed, house, moment, street, window   \n",
       "T09            gods, god, image, idols, images, deity, idol   \n",
       "T10       valley, natives, island, islanders, fruit, sav...   \n",
       "T11        whiteness, teeth, kings, royal, bull, item, milk   \n",
       "T12           sea, islands, land, isle, isles, tower, shore   \n",
       "T13       canoe, cook, queen, strangers, face, priest, c...   \n",
       "T14          men, dock, nations, years, docks, land, people   \n",
       "T15       captain, cabin, dollars, ship, voyage, portrai...   \n",
       "T16            thing, oh, body, emma, way, instrument, news   \n",
       "T17        kings, king, sire, memory, house, grief, freedom   \n",
       "T18           boy, mother, guide, door, room, chamber, lady   \n",
       "T19           soul, world, things, heart, faith, love, life   \n",
       "T20       feelings, happiness, letter, heart, affection,...   \n",
       "T21       man, barber, gentleman, clergyman, genius, sor...   \n",
       "T22       reign, bricks, brains, watches, man thing, abs...   \n",
       "T23            ball, oh, partner, evening, sir, play, dance   \n",
       "T24       consul, tailor, beggars, wives, doctors, stock...   \n",
       "T25            whale, whales, boat, boats, ship, line, head   \n",
       "T26       isle, minstrel, spears, king, lord, throne, games   \n",
       "T27        skeleton, skull, bones, ribs, lord, brain, spine   \n",
       "T28       book, volume, reading, paper, books, charade, ...   \n",
       "T29               war, gun, guns, man, man war, men, jacket   \n",
       "T30               sea, sail, deck, wind, ship, night, sails   \n",
       "T31       auction, loan, friendship, bags, need, jacket,...   \n",
       "T32       law, court, punishment, laws, code, flogging, ...   \n",
       "T33       guitar, mystery, head, oil, lightnings, sounds...   \n",
       "T34       deck, sailors, ship, mate, captain, men, officers   \n",
       "T35             chimney, wife, cock, table, crow, bug, tick   \n",
       "T36       boots, glass, jacket, pair, pantaloons, sailor...   \n",
       "T37              thou, thee, art, pierre, brother, hast, oh   \n",
       "T38       pleasure, sister, house, family, party, room, ...   \n",
       "T39       box, gentlemen, patient, operation, leg, surge...   \n",
       "\n",
       "                                                      tfidf  \n",
       "topic_id                                                     \n",
       "T00       passengers, emigrants, steerage, mess, cook, c...  \n",
       "T01                    lord, man, wine, ha, men, things, ah  \n",
       "T02          sea, fish, air, yillah, round, groves, flowers  \n",
       "T03       man, friend, nature, way, stranger, confidence...  \n",
       "T04       sir, herb, herb doctor, ugh, confidence, docto...  \n",
       "T05       father, mother, family, aunt, child, years, ma...  \n",
       "T06       landlord, abbey, gallery, generals, harpooneer...  \n",
       "T07       doctor, village, country, horse, road, day, cocoa  \n",
       "T08             room, door, house, moment, bed, night, time  \n",
       "T09            gods, god, image, idols, images, lord, deity  \n",
       "T10       valley, natives, island, islanders, fruit, hou...  \n",
       "T11        whiteness, teeth, kings, royal, bull, milk, item  \n",
       "T12            sea, land, time, islands, isle, water, shore  \n",
       "T13             canoe, man, face, cook, time, queen, island  \n",
       "T14           men, world, years, things, people, time, land  \n",
       "T15       captain, cabin, ship, dollars, voyage, ships, ...  \n",
       "T16                  thing, oh, body, way, day, sort, world  \n",
       "T17         kings, king, house, sire, heart, mind, thoughts  \n",
       "T18            boy, mother, room, door, guide, man, chamber  \n",
       "T19             soul, world, things, heart, life, man, love  \n",
       "T20       time, feelings, heart, mind, letter, moment, h...  \n",
       "T21        man, barber, gentleman, sort, world, men, genius  \n",
       "T22       reign, bricks, brains, watches, man thing, sai...  \n",
       "T23              ball, oh, evening, sir, partner, yes, play  \n",
       "T24       man, consul, tailor, day, beggars, wives, doctors  \n",
       "T25             whale, whales, boat, boats, ship, head, sea  \n",
       "T26        isle, minstrel, king, spears, lord, land, throne  \n",
       "T27         skeleton, bones, skull, ribs, lord, feet, brain  \n",
       "T28        book, volume, paper, books, reading, work, thing  \n",
       "T29               man, war, men, gun, guns, man war, jacket  \n",
       "T30                 sea, ship, deck, sail, night, wind, man  \n",
       "T31       auction, friendship, loan, jacket, need, bags,...  \n",
       "T32       law, court, punishment, laws, man, code, flogging  \n",
       "T33       guitar, head, mystery, oil, girl, sounds, ligh...  \n",
       "T34            deck, ship, men, sailors, man, mate, captain  \n",
       "T35           chimney, wife, cock, table, house, sort, room  \n",
       "T36       boots, glass, jacket, sailors, place, pair, sa...  \n",
       "T37              thou, thee, art, brother, pierre, oh, face  \n",
       "T38         time, house, day, sister, room, pleasure, thing  \n",
       "T39       box, gentlemen, operation, leg, uncle, patient...  "
      ]
     },
     "execution_count": 18,
     "metadata": {},
     "output_type": "execute_result"
    }
   ],
   "source": [
    "LABELS"
   ]
  }
 ],
 "metadata": {
  "kernelspec": {
   "display_name": "Python 3 (ipykernel)",
   "language": "python",
   "name": "python3"
  },
  "language_info": {
   "codemirror_mode": {
    "name": "ipython",
    "version": 3
   },
   "file_extension": ".py",
   "mimetype": "text/x-python",
   "name": "python",
   "nbconvert_exporter": "python",
   "pygments_lexer": "ipython3",
   "version": "3.11.5"
  },
  "widgets": {
   "application/vnd.jupyter.widget-state+json": {
    "state": {},
    "version_major": 2,
    "version_minor": 0
   }
  }
 },
 "nbformat": 4,
 "nbformat_minor": 5
}
