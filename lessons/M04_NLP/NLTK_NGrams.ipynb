{
 "cells": [
  {
   "cell_type": "markdown",
   "id": "797e6c57-9536-4dc2-973c-d95e054c712e",
   "metadata": {},
   "source": [
    "# Using NLTK for NGram Models\n",
    "\n",
    "```yaml\n",
    "Course:   DS 5001\n",
    "Module:   04 Lab\n",
    "Topic:    NLTK and NGrams\n",
    "Author:   R.C. Alvarado\n",
    "Date:     5 February 2022 (revised)\n",
    "```\n",
    "\n",
    "**Purpose**:  \n",
    "\n",
    "Demonstrate the tools provide by NLTK to create ngram model.s"
   ]
  },
  {
   "cell_type": "markdown",
   "id": "e1e243e1-271e-4c00-a59d-af3629ba10e1",
   "metadata": {
    "tags": [],
    "toc-hr-collapsed": true
   },
   "source": [
    "# Set Up"
   ]
  },
  {
   "cell_type": "code",
   "execution_count": 1,
   "id": "f75e640c-5103-42a2-8ec4-ac8caec1cc39",
   "metadata": {
    "tags": []
   },
   "outputs": [],
   "source": [
    "import pandas as pd\n",
    "import numpy as np"
   ]
  },
  {
   "cell_type": "code",
   "execution_count": 2,
   "id": "f22da6d0-e677-4714-8c1e-7d0d9dcac6b4",
   "metadata": {
    "tags": []
   },
   "outputs": [],
   "source": [
    "import nltk\n",
    "from nltk.lm import MLE\n",
    "from nltk.lm import Vocabulary\n",
    "from nltk.lm import NgramCounter\n",
    "from nltk.lm.preprocessing import padded_everygram_pipeline\n",
    "from collections import Counter"
   ]
  },
  {
   "cell_type": "markdown",
   "id": "daf47172-719a-4fae-8c93-3db30c3eaa0c",
   "metadata": {},
   "source": [
    "# Configs"
   ]
  },
  {
   "cell_type": "code",
   "execution_count": 3,
   "id": "64e92049-45a1-4d2a-9996-deb9ca534949",
   "metadata": {
    "tags": []
   },
   "outputs": [],
   "source": [
    "import configparser\n",
    "\n",
    "config = configparser.ConfigParser()\n",
    "config.read(\"../../../env.ini\")\n",
    "data_dir = config['DEFAULT']['data_home']\n",
    "output_dir = config['DEFAULT']['output_dir']"
   ]
  },
  {
   "cell_type": "markdown",
   "id": "0438e349-055a-4d67-af59-0b6b9c79ff89",
   "metadata": {},
   "source": [
    "# Pipeline"
   ]
  },
  {
   "cell_type": "code",
   "execution_count": 4,
   "id": "e73fe511-39d1-4663-a866-fc5cd6b10c9c",
   "metadata": {
    "tags": []
   },
   "outputs": [],
   "source": [
    "ngram_order = 3 # 3 means trigrams\n",
    "pads = [\"<s>\", \"</s>\"]\n",
    "widx = [f\"w{i}\" for i in range(ngram_order)]\n",
    "ohco = ['sent_num', 'token_num']"
   ]
  },
  {
   "cell_type": "code",
   "execution_count": 5,
   "id": "fe69272d-e099-47f1-9eb7-40d61e0ec291",
   "metadata": {
    "tags": []
   },
   "outputs": [],
   "source": [
    "train_file = f\"{output_dir}/austen-combo-TOKENS.csv\"\n",
    "train_ohco = \"book_id  chap_num  para_num  sent_num  token_num\".split()\n",
    "train_df = pd.read_csv(train_file).set_index(train_ohco)"
   ]
  },
  {
   "cell_type": "code",
   "execution_count": 6,
   "id": "7d1ce842-92d8-4433-9be5-86f288fce4d4",
   "metadata": {
    "tags": []
   },
   "outputs": [],
   "source": [
    "test_file = f\"{data_dir}/misc/test_sentences.txt\""
   ]
  },
  {
   "cell_type": "code",
   "execution_count": 7,
   "id": "89ca256a-c763-4930-b662-8498c3f05a04",
   "metadata": {
    "tags": []
   },
   "outputs": [],
   "source": [
    "train_tokens = train_df.groupby(train_ohco[:4]).term_str.apply(list).values.tolist()"
   ]
  },
  {
   "cell_type": "code",
   "execution_count": 8,
   "id": "7351062c-9796-4a31-a4a1-fc132b2cfa25",
   "metadata": {
    "tags": []
   },
   "outputs": [],
   "source": [
    "ngram_args = dict(pad_right=True, pad_left=True, left_pad_symbol=pads[0], right_pad_symbol=pads[1])\n",
    "train_ngrams = [[] for i in range(ngram_order)]\n",
    "for j in range(ngram_order):\n",
    "    train_ngrams[j] = [nltk.ngrams(sent, n=j+1, **ngram_args) for sent in train_tokens]\n",
    "\n",
    "ng_cols = ['sent_num', 'token_num', 'word_pos', 'token']\n",
    "ng_data = [[] for n in range(ngram_order)]\n",
    "ng_df = [None for n in range(ngram_order)]\n",
    "for n in range(ngram_order):\n",
    "    for i, z in enumerate(train_ngrams[n]):\n",
    "        for j, x in enumerate(list(z)):\n",
    "            for k, token in enumerate(list(x)):\n",
    "                ng_data[n].append((i, j, f\"w{k}\", token))\n",
    "    ng_df[n] = pd.DataFrame(ng_data[n], columns=ng_cols).set_index(ng_cols[:-1]).unstack()\n",
    "    ng_df[n].columns = ng_df[n].columns.droplevel(0)"
   ]
  },
  {
   "cell_type": "code",
   "execution_count": 9,
   "id": "8cfa1702-d99a-4658-a396-f6eec23e37e8",
   "metadata": {
    "tags": []
   },
   "outputs": [
    {
     "data": {
      "text/html": [
       "<div>\n",
       "<style scoped>\n",
       "    .dataframe tbody tr th:only-of-type {\n",
       "        vertical-align: middle;\n",
       "    }\n",
       "\n",
       "    .dataframe tbody tr th {\n",
       "        vertical-align: top;\n",
       "    }\n",
       "\n",
       "    .dataframe thead th {\n",
       "        text-align: right;\n",
       "    }\n",
       "</style>\n",
       "<table border=\"1\" class=\"dataframe\">\n",
       "  <thead>\n",
       "    <tr style=\"text-align: right;\">\n",
       "      <th>word_pos</th>\n",
       "      <th>w0</th>\n",
       "      <th>w1</th>\n",
       "      <th>w2</th>\n",
       "    </tr>\n",
       "    <tr>\n",
       "      <th>token_num</th>\n",
       "      <th></th>\n",
       "      <th></th>\n",
       "      <th></th>\n",
       "    </tr>\n",
       "  </thead>\n",
       "  <tbody>\n",
       "    <tr>\n",
       "      <th>0</th>\n",
       "      <td>&lt;s&gt;</td>\n",
       "      <td>&lt;s&gt;</td>\n",
       "      <td>this</td>\n",
       "    </tr>\n",
       "    <tr>\n",
       "      <th>1</th>\n",
       "      <td>&lt;s&gt;</td>\n",
       "      <td>this</td>\n",
       "      <td>was</td>\n",
       "    </tr>\n",
       "    <tr>\n",
       "      <th>2</th>\n",
       "      <td>this</td>\n",
       "      <td>was</td>\n",
       "      <td>the</td>\n",
       "    </tr>\n",
       "    <tr>\n",
       "      <th>3</th>\n",
       "      <td>was</td>\n",
       "      <td>the</td>\n",
       "      <td>page</td>\n",
       "    </tr>\n",
       "    <tr>\n",
       "      <th>4</th>\n",
       "      <td>the</td>\n",
       "      <td>page</td>\n",
       "      <td>at</td>\n",
       "    </tr>\n",
       "    <tr>\n",
       "      <th>5</th>\n",
       "      <td>page</td>\n",
       "      <td>at</td>\n",
       "      <td>which</td>\n",
       "    </tr>\n",
       "    <tr>\n",
       "      <th>6</th>\n",
       "      <td>at</td>\n",
       "      <td>which</td>\n",
       "      <td>the</td>\n",
       "    </tr>\n",
       "    <tr>\n",
       "      <th>7</th>\n",
       "      <td>which</td>\n",
       "      <td>the</td>\n",
       "      <td>favourite</td>\n",
       "    </tr>\n",
       "    <tr>\n",
       "      <th>8</th>\n",
       "      <td>the</td>\n",
       "      <td>favourite</td>\n",
       "      <td>volume</td>\n",
       "    </tr>\n",
       "    <tr>\n",
       "      <th>9</th>\n",
       "      <td>favourite</td>\n",
       "      <td>volume</td>\n",
       "      <td>always</td>\n",
       "    </tr>\n",
       "    <tr>\n",
       "      <th>10</th>\n",
       "      <td>volume</td>\n",
       "      <td>always</td>\n",
       "      <td>opened</td>\n",
       "    </tr>\n",
       "    <tr>\n",
       "      <th>11</th>\n",
       "      <td>always</td>\n",
       "      <td>opened</td>\n",
       "      <td>&lt;/s&gt;</td>\n",
       "    </tr>\n",
       "    <tr>\n",
       "      <th>12</th>\n",
       "      <td>opened</td>\n",
       "      <td>&lt;/s&gt;</td>\n",
       "      <td>&lt;/s&gt;</td>\n",
       "    </tr>\n",
       "  </tbody>\n",
       "</table>\n",
       "</div>"
      ],
      "text/plain": [
       "word_pos          w0         w1         w2\n",
       "token_num                                 \n",
       "0                <s>        <s>       this\n",
       "1                <s>       this        was\n",
       "2               this        was        the\n",
       "3                was        the       page\n",
       "4                the       page         at\n",
       "5               page         at      which\n",
       "6                 at      which        the\n",
       "7              which        the  favourite\n",
       "8                the  favourite     volume\n",
       "9          favourite     volume     always\n",
       "10            volume     always     opened\n",
       "11            always     opened       </s>\n",
       "12            opened       </s>       </s>"
      ]
     },
     "execution_count": 9,
     "metadata": {},
     "output_type": "execute_result"
    }
   ],
   "source": [
    "ng_df[2].loc[5]"
   ]
  },
  {
   "cell_type": "code",
   "execution_count": 10,
   "id": "e700d17c-66ca-4eec-a796-cb32e86e05d9",
   "metadata": {
    "tags": []
   },
   "outputs": [
    {
     "ename": "NameError",
     "evalue": "name 'K' is not defined",
     "output_type": "error",
     "traceback": [
      "\u001b[0;31m---------------------------------------------------------------------------\u001b[0m",
      "\u001b[0;31mNameError\u001b[0m                                 Traceback (most recent call last)",
      "Cell \u001b[0;32mIn[10], line 8\u001b[0m\n\u001b[1;32m      6\u001b[0m     V \u001b[38;5;241m=\u001b[39m \u001b[38;5;28mlen\u001b[39m(ng_counts[\u001b[38;5;241m0\u001b[39m])\n\u001b[1;32m      7\u001b[0m ng_counts[n][\u001b[38;5;124m'\u001b[39m\u001b[38;5;124mmle\u001b[39m\u001b[38;5;124m'\u001b[39m] \u001b[38;5;241m=\u001b[39m ng_counts[n]\u001b[38;5;241m.\u001b[39mn \u001b[38;5;241m/\u001b[39m ng_counts[n]\u001b[38;5;241m.\u001b[39mn\u001b[38;5;241m.\u001b[39msum()\n\u001b[0;32m----> 8\u001b[0m ng_counts[n][\u001b[38;5;124m'\u001b[39m\u001b[38;5;124mp\u001b[39m\u001b[38;5;124m'\u001b[39m] \u001b[38;5;241m=\u001b[39m (ng_counts[n]\u001b[38;5;241m.\u001b[39mn \u001b[38;5;241m+\u001b[39m k) \u001b[38;5;241m/\u001b[39m (ng_counts[n]\u001b[38;5;241m.\u001b[39mn\u001b[38;5;241m.\u001b[39msum() \u001b[38;5;241m+\u001b[39m \u001b[43mK\u001b[49m)\n\u001b[1;32m      9\u001b[0m \u001b[38;5;28;01mif\u001b[39;00m n \u001b[38;5;241m>\u001b[39m \u001b[38;5;241m0\u001b[39m:\n\u001b[1;32m     10\u001b[0m     ng_counts[n][\u001b[38;5;124m'\u001b[39m\u001b[38;5;124mcp\u001b[39m\u001b[38;5;124m'\u001b[39m] \u001b[38;5;241m=\u001b[39m (ng_counts[n]\u001b[38;5;241m.\u001b[39mn \u001b[38;5;241m+\u001b[39m k) \u001b[38;5;241m/\u001b[39m (ng_counts[n\u001b[38;5;241m-\u001b[39m\u001b[38;5;241m1\u001b[39m]\u001b[38;5;241m.\u001b[39mn \u001b[38;5;241m+\u001b[39m V \u001b[38;5;241m*\u001b[39m k)\n",
      "\u001b[0;31mNameError\u001b[0m: name 'K' is not defined"
     ]
    }
   ],
   "source": [
    "ng_counts = []\n",
    "k = .01\n",
    "for n in range(ngram_order):\n",
    "    ng_counts.append(ng_df[n].value_counts().to_frame('n'))\n",
    "    if n == 0:\n",
    "        V = len(ng_counts[0])\n",
    "    ng_counts[n]['mle'] = ng_counts[n].n / ng_counts[n].n.sum()\n",
    "    ng_counts[n]['p'] = (ng_counts[n].n + k) / (ng_counts[n].n.sum() + K)\n",
    "    if n > 0:\n",
    "        ng_counts[n]['cp'] = (ng_counts[n].n + k) / (ng_counts[n-1].n + V * k)\n",
    "        ng_counts[n]['ci'] = -np.log2(ng_counts[n].cp)\n",
    "    ng_counts[n] = ng_counts[n].sort_index()"
   ]
  },
  {
   "cell_type": "code",
   "execution_count": null,
   "id": "be0fd225-6e1d-4ff6-8884-aeb090ab9260",
   "metadata": {
    "tags": []
   },
   "outputs": [],
   "source": [
    "i_max = np.log2(V) # For unfound combos when the model is applied"
   ]
  },
  {
   "cell_type": "code",
   "execution_count": null,
   "id": "389fd78c-67a2-46db-87a9-a86d5e91fc45",
   "metadata": {
    "tags": []
   },
   "outputs": [],
   "source": [
    "ng_counts[2]"
   ]
  }
 ],
 "metadata": {
  "kernelspec": {
   "display_name": "Python [conda env:ds5001]",
   "language": "python",
   "name": "conda-env-ds5001-py"
  },
  "language_info": {
   "codemirror_mode": {
    "name": "ipython",
    "version": 3
   },
   "file_extension": ".py",
   "mimetype": "text/x-python",
   "name": "python",
   "nbconvert_exporter": "python",
   "pygments_lexer": "ipython3",
   "version": "3.11.5"
  }
 },
 "nbformat": 4,
 "nbformat_minor": 5
}
