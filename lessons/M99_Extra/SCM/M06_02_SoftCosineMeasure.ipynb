{
 "cells": [
  {
   "cell_type": "markdown",
   "metadata": {},
   "source": [
    "# Soft Cosine Measure\n",
    "\n",
    "This is a measure of similarity that uses word embeddings, which are not yet covered.\n",
    "\n",
    "https://radimrehurek.com/gensim/auto_examples/tutorials/run_scm.html\n",
    "\n",
    "> This method was perhaps first introduced in the article “Soft Measure and Soft Cosine Measure: Measure of Features in Vector Space Model” by Grigori Sidorov, Alexander Gelbukh, Helena Gomez-Adorno, and David Pinto.\n",
    "\n",
    "References:\n",
    "- Grigori Sidorov et al. Soft Similarity and Soft Cosine Measure: Similarity of Features in Vector Space Model, 2014.\n",
    "- Delphine Charlet and Geraldine Damnati, SimBow at SemEval-2017 Task 3: Soft-Cosine Semantic Similarity between Questions for Community Question Answering, 2017.\n",
    "- Vít Novotný. Implementation Notes for the Soft Cosine Measure, 2018.\n",
    "- Tomáš Mikolov et al. Efficient Estimation of Word Representations in Vector Space, 2013."
   ]
  },
  {
   "cell_type": "markdown",
   "metadata": {},
   "source": []
  }
 ],
 "metadata": {
  "kernelspec": {
   "display_name": "Python [conda env:ds5001]",
   "language": "python",
   "name": "conda-env-ds5001-py"
  },
  "language_info": {
   "codemirror_mode": {
    "name": "ipython",
    "version": 3
   },
   "file_extension": ".py",
   "mimetype": "text/x-python",
   "name": "python",
   "nbconvert_exporter": "python",
   "pygments_lexer": "ipython3",
   "version": "3.11.5"
  }
 },
 "nbformat": 4,
 "nbformat_minor": 4
}
