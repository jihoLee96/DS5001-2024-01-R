{
 "cells": [
  {
   "cell_type": "markdown",
   "id": "52cf7a57-4a42-4a29-b2e9-3edbbb797729",
   "metadata": {},
   "source": [
    "# Entropy and Term Length\n",
    "\n",
    "```yaml\n",
    "Course:  DS 5001\n",
    "module:  03 \n",
    "topic:   Entropy and Term Length\n",
    "author:  R.C. Alvarado\n",
    "date:    12 Dec 2021\n",
    "purpose: This notebook describes the relationship between term length and entropy.\n",
    "```"
   ]
  },
  {
   "cell_type": "markdown",
   "id": "91126fe9-96ef-4664-84c6-bec1f3ab94c0",
   "metadata": {},
   "source": [
    "# Set Up"
   ]
  },
  {
   "cell_type": "markdown",
   "id": "ffb1a6b2-95a0-4edb-8fea-91391b30bd48",
   "metadata": {},
   "source": [
    "## Libraries"
   ]
  },
  {
   "cell_type": "code",
   "execution_count": 1,
   "id": "bb5a3268-8681-4b06-a83b-3316af29abea",
   "metadata": {
    "tags": []
   },
   "outputs": [
    {
     "ename": "ModuleNotFoundError",
     "evalue": "No module named 'plotly_express'",
     "output_type": "error",
     "traceback": [
      "\u001b[0;31m---------------------------------------------------------------------------\u001b[0m",
      "\u001b[0;31mModuleNotFoundError\u001b[0m                       Traceback (most recent call last)",
      "Cell \u001b[0;32mIn[1], line 5\u001b[0m\n\u001b[1;32m      3\u001b[0m \u001b[38;5;28;01mimport\u001b[39;00m \u001b[38;5;21;01mseaborn\u001b[39;00m \u001b[38;5;28;01mas\u001b[39;00m \u001b[38;5;21;01msns\u001b[39;00m\n\u001b[1;32m      4\u001b[0m \u001b[38;5;28;01mimport\u001b[39;00m \u001b[38;5;21;01mmatplotlib\u001b[39;00m\u001b[38;5;21;01m.\u001b[39;00m\u001b[38;5;21;01mpyplot\u001b[39;00m \u001b[38;5;28;01mas\u001b[39;00m \u001b[38;5;21;01mplt\u001b[39;00m\n\u001b[0;32m----> 5\u001b[0m \u001b[38;5;28;01mimport\u001b[39;00m \u001b[38;5;21;01mplotly_express\u001b[39;00m \u001b[38;5;28;01mas\u001b[39;00m \u001b[38;5;21;01mpx\u001b[39;00m\n",
      "\u001b[0;31mModuleNotFoundError\u001b[0m: No module named 'plotly_express'"
     ]
    }
   ],
   "source": [
    "import pandas as pd\n",
    "import numpy as np\n",
    "import seaborn as sns\n",
    "import matplotlib.pyplot as plt\n",
    "import plotly_express as px"
   ]
  },
  {
   "cell_type": "code",
   "execution_count": null,
   "id": "5bd6ff29-2a08-4c6d-872d-5c8c80ceda69",
   "metadata": {},
   "outputs": [],
   "source": [
    "sns.set()"
   ]
  },
  {
   "cell_type": "markdown",
   "id": "ce1e331d-27e7-4ecc-ae40-4308f341294d",
   "metadata": {},
   "source": [
    "## Config"
   ]
  },
  {
   "cell_type": "code",
   "execution_count": null,
   "id": "3f4a10ec-d111-4ecc-8483-ff251afcd9ea",
   "metadata": {
    "tags": []
   },
   "outputs": [],
   "source": [
    "import configparser\n",
    "config = configparser.ConfigParser()\n",
    "config.read(\"../../../env.ini\")\n",
    "data_dir = config['DEFAULT']['data_home']\n",
    "output_dir = config['DEFAULT']['output_dir']"
   ]
  },
  {
   "cell_type": "code",
   "execution_count": null,
   "id": "8895b5b8-c2c1-4c94-bbce-e9b8b45a7280",
   "metadata": {
    "tags": []
   },
   "outputs": [],
   "source": [
    "OHCO = ['book_id', 'chap_num', 'para_num', 'sent_num', 'token_num']"
   ]
  },
  {
   "cell_type": "markdown",
   "id": "49c4925a-49b1-43b7-bfea-9a8ed0300dca",
   "metadata": {},
   "source": [
    "## Import Data"
   ]
  },
  {
   "cell_type": "code",
   "execution_count": null,
   "id": "6c116c6a-bae8-4141-8ff3-ad92963dd81c",
   "metadata": {
    "tags": []
   },
   "outputs": [],
   "source": [
    "K = pd.read_csv(f\"{output_dir}/austen-combo-TOKENS.csv\").set_index(OHCO)\n",
    "V = pd.read_csv(f\"{output_dir}/austen-combo-VOCAB.csv\").set_index('term_str')\n",
    "\n",
    "# Add some features for this analysis\n",
    "V['s'] = 1 / V.p"
   ]
  },
  {
   "cell_type": "code",
   "execution_count": null,
   "id": "ace36585",
   "metadata": {
    "scrolled": true
   },
   "outputs": [],
   "source": [
    "K.head()"
   ]
  },
  {
   "cell_type": "code",
   "execution_count": null,
   "id": "6a28e569",
   "metadata": {
    "scrolled": true
   },
   "outputs": [],
   "source": [
    "V.head()"
   ]
  },
  {
   "cell_type": "markdown",
   "id": "650e3467-bf2a-490b-a6d6-5d2b7f3a3ad6",
   "metadata": {},
   "source": [
    "# Vocab $V$"
   ]
  },
  {
   "cell_type": "markdown",
   "id": "13230fb2-dc73-4125-a4ae-fe38d13b8a86",
   "metadata": {},
   "source": [
    "## Corpus frequency of terms\n",
    "\n",
    "Some words are very high frequency, but the vast majority have very low frequencies. We will explore the significane of this difference in the next module. NB: By \"frequency\" we mean relative frequency, which we use to estimate $p$."
   ]
  },
  {
   "cell_type": "code",
   "execution_count": null,
   "id": "e9075b30-a07e-4ac1-a2a0-879527c2be21",
   "metadata": {},
   "outputs": [],
   "source": [
    "V.p.sort_values(ascending=False).plot(style='.-', rot=45);"
   ]
  },
  {
   "cell_type": "markdown",
   "id": "e399e512-d0a1-4ea6-9453-b5a28abb57b3",
   "metadata": {
    "tags": []
   },
   "source": [
    "## Frequency of frequencies\n",
    "\n",
    "The same data, but looked at in terms of the distribition of probabilities. This is so that it can be compared to the following graphs of $s$, $i$, and $h$."
   ]
  },
  {
   "cell_type": "code",
   "execution_count": null,
   "id": "f29c1114-efec-4ae4-ab59-817722c4e5f0",
   "metadata": {},
   "outputs": [],
   "source": [
    "V.p.round(4).value_counts().sort_index().plot(style='.-');"
   ]
  },
  {
   "cell_type": "markdown",
   "id": "c706e308-0c5a-45e2-b930-4bfee7f84c28",
   "metadata": {},
   "source": [
    "# Chismus Structure of $p$, $s$, $i$, and $h$"
   ]
  },
  {
   "cell_type": "code",
   "execution_count": null,
   "id": "854c199f-f54d-4474-b599-2d326c9377c7",
   "metadata": {},
   "outputs": [],
   "source": [
    "fig, axes = plt.subplots(ncols=2, nrows=2, figsize=(10,5), sharey='row')\n",
    "fig.tight_layout(pad=2)\n",
    "V.p.value_counts().sort_index().plot(style='.-', ax=axes[0,0], title=\"A1: $p$\") \n",
    "V.s.value_counts().sort_index().plot(style='.-', ax=axes[0,1], title=\"B1: $s$\")\n",
    "V.i.value_counts().sort_index().plot(style='.-', ax=axes[1,1], title=\"B2: $i$\") \n",
    "V.h.value_counts().sort_index().plot(style='.-', ax=axes[1,0], title=\"A2: $h$\");"
   ]
  },
  {
   "cell_type": "markdown",
   "id": "73e35cb0-1fe7-4ecb-a8ee-b41d0a932e36",
   "metadata": {},
   "source": [
    "Note the range of $i$: it is one the same order as the range of `n_chars`."
   ]
  },
  {
   "cell_type": "markdown",
   "id": "962ef467-a80f-4039-9227-a2f0e95b1c4f",
   "metadata": {},
   "source": [
    "# Compare $L$ to $p$, $s$, $i$, and $h$\n",
    "\n",
    "Now let's look at how these four features relate to term length $L$, the number of characters in a term (`n_chars`)"
   ]
  },
  {
   "cell_type": "markdown",
   "id": "6c1adbc0-98b6-42ec-bba8-213bc7dea2ed",
   "metadata": {},
   "source": [
    "## Create a dataframe for $L$"
   ]
  },
  {
   "cell_type": "code",
   "execution_count": null,
   "id": "4d7bf3d2-e501-48e1-8227-e995a50be5b0",
   "metadata": {},
   "outputs": [],
   "source": [
    "VG = V.groupby('n_chars')\n",
    "\n",
    "# Distribution of L over the vocabulary (terms)\n",
    "L = VG.n.count().to_frame('v_n')\n",
    "L['v_p'] = L.v_n / L.v_n.sum()\n",
    "L['v_s'] = 1 / L.v_p\n",
    "L['v_i'] = np.log2(L.v_s)\n",
    "L['v_h'] = L.v_p * L.v_i\n",
    "\n",
    "# Distribution of L over the corpus (tokens)\n",
    "L['k_n'] = VG.n.sum()\n",
    "L['k_p'] = L.k_n / L.k_n.sum()\n",
    "L['k_s'] = 1 / L.k_p\n",
    "L['k_i'] = np.log2(L.k_s)\n",
    "L['k_h'] = L.k_p * L.k_i\n",
    "\n",
    "# Aggregate probability features over tokens\n",
    "for func in ['sum','mean']:\n",
    "    for x in 'psih':\n",
    "        L[f\"k{func}_{x}\"] = VG[x].agg(func)    \n",
    "        \n",
    "# L.index.name = 'n_chars'        \n",
    "L.columns = pd.Index([tuple(col.split('_')) for col in L.columns])\n",
    "L.T.index.names = ['pop','stat']\n",
    "Lnorm = (L - L.mean()) / L.std()"
   ]
  },
  {
   "cell_type": "markdown",
   "id": "a655fe56-5b16-4a49-a865-b9f6253375db",
   "metadata": {},
   "source": [
    "## $L$ distributions\n",
    "\n",
    "Compare corpus and vocab frequencies. Why are the distributions different?"
   ]
  },
  {
   "cell_type": "code",
   "execution_count": null,
   "id": "3e410c7b-c883-488e-bd51-9ee31db41d13",
   "metadata": {},
   "outputs": [],
   "source": [
    "fig, axes = plt.subplots(nrows=2, ncols=2, sharex=True, sharey='row', figsize=(10,5))\n",
    "L.v.p.plot.bar( ax=axes[0,0], title='L over Vocab')\n",
    "L.k.p.plot.bar( ax=axes[0,1], title='L over Corpus')\n",
    "Lnorm.v.p.plot.bar( ax=axes[1,0], rot=0)\n",
    "Lnorm.k.p.plot.bar( ax=axes[1,1], rot=0);"
   ]
  },
  {
   "cell_type": "code",
   "execution_count": null,
   "id": "b9386b6c-0e4a-4697-b173-677206517998",
   "metadata": {},
   "outputs": [],
   "source": [
    "L.style.background_gradient()"
   ]
  },
  {
   "cell_type": "code",
   "execution_count": null,
   "id": "09aea77e-6c6c-4c60-b3b3-b464daa43c2d",
   "metadata": {},
   "outputs": [],
   "source": [
    "Lnorm.v.plot(figsize=(20,5))"
   ]
  },
  {
   "cell_type": "code",
   "execution_count": null,
   "id": "09beb943-ca0d-412f-9164-6e2241f3eff9",
   "metadata": {},
   "outputs": [],
   "source": [
    "Lnorm.ksum.plot(figsize=(20,5));"
   ]
  },
  {
   "cell_type": "markdown",
   "id": "f111aee6-8bae-4689-a3d5-f4f26ee63b70",
   "metadata": {},
   "source": [
    "**NOTE:** Notice how easy it is to combare features in the shaded table vs the chart."
   ]
  },
  {
   "cell_type": "markdown",
   "id": "f733fc19-1c08-4465-8e41-671d508007ca",
   "metadata": {},
   "source": [
    "## Plot All"
   ]
  },
  {
   "cell_type": "code",
   "execution_count": null,
   "id": "8ae5aa8a-4e7a-41b3-a209-545e310abaef",
   "metadata": {
    "tags": []
   },
   "outputs": [],
   "source": [
    "fig, axes = plt.subplots(ncols=4, nrows=6, figsize=(20,20), sharex=True)\n",
    "fig.tight_layout(pad=2.5)\n",
    "for i, x in enumerate(list(\"psih\")):\n",
    "    \n",
    "#     ax = axes[0, i]\n",
    "    \n",
    "#     # Counts \n",
    "#     V[x].value_counts().plot(style='*-', ax=ax)\n",
    "#     ax.set_title(f\"${x}$\")    \n",
    "\n",
    "    ax = axes[0, i]\n",
    "    \n",
    "    # Means and points\n",
    "    V.plot('n_chars', x, style='.', ax=ax, legend=False)\n",
    "    L.kmean[x].plot(ax=ax);\n",
    "    ax.set_title(f'corpus mean {x}')\n",
    "\n",
    "    ax = axes[1, i]\n",
    "    \n",
    "    # Variances \n",
    "    sns.boxplot(data=V.reset_index(), x='n_chars', y=x, ax=ax)\n",
    "    ax.set_title(f'corpus variance {x}')\n",
    "\n",
    "    ax = axes[2, i]\n",
    "\n",
    "    # Ksum\n",
    "    L.ksum[x].plot(ax=ax)\n",
    "    ax.set_title(f'corpus sum {x}')\n",
    "    \n",
    "    ax = axes[3, i]\n",
    "    \n",
    "    # Kmean\n",
    "    L.kmean[x].plot(ax=ax)\n",
    "    ax.set_title(f\"corpus mean {x}\")\n",
    "\n",
    "    ax = axes[4, i]\n",
    "    \n",
    "    # K\n",
    "    L.k[x].plot(ax=ax)\n",
    "    ax.set_title(f\"corpus {x}\")\n",
    "\n",
    "    ax = axes[5, i]\n",
    "    \n",
    "    # V\n",
    "    L.v[x].plot(ax=ax)\n",
    "    ax.set_title(f\"vocab {x}\")\n"
   ]
  },
  {
   "cell_type": "code",
   "execution_count": null,
   "id": "00eac2ff-0799-4062-a03f-f7662d87bd77",
   "metadata": {},
   "outputs": [],
   "source": [
    "def plot_chiasmus(df, kind='bar'):\n",
    "    fig, axes = plt.subplots(ncols=2, nrows=2, figsize=(10,6), sharex=True)\n",
    "    fig.tight_layout()\n",
    "    df.p.plot(kind=kind, ax=axes[0,0], title='P')\n",
    "    df.s.plot(kind=kind, ax=axes[0,1], title='S')\n",
    "    df.i.plot(kind=kind, ax=axes[1,1], title='I', rot=0)\n",
    "    df.h.plot(kind=kind, ax=axes[1,0], title='H', rot=0)"
   ]
  },
  {
   "cell_type": "code",
   "execution_count": null,
   "id": "49d08bd7-80f5-44d1-b7bb-0cfe59bbaaa8",
   "metadata": {},
   "outputs": [],
   "source": [
    "# plot_chiasmus(Lnorm.v, 'bar')"
   ]
  },
  {
   "cell_type": "code",
   "execution_count": null,
   "id": "652c766c-51ae-4e1a-a508-0cbeae214c45",
   "metadata": {},
   "outputs": [],
   "source": [
    "# plot_chiasmus(Lnorm.k, 'bar')"
   ]
  },
  {
   "cell_type": "code",
   "execution_count": null,
   "id": "d825de25-8ecf-435c-815e-b731deaf19e0",
   "metadata": {},
   "outputs": [],
   "source": [
    "# plot_chiasmus(Lnorm.ksum, 'bar')"
   ]
  },
  {
   "cell_type": "code",
   "execution_count": null,
   "id": "a5d15a7d-71e9-4d7c-9436-523371a4052a",
   "metadata": {},
   "outputs": [],
   "source": [
    "# plot_chiasmus(Lnorm.kmean, 'bar')"
   ]
  },
  {
   "cell_type": "markdown",
   "id": "9776229a-ae61-484d-8975-709596d495ac",
   "metadata": {},
   "source": [
    "# Conclusions\n",
    "\n",
    "* All high frequency, low information terms are short.\n",
    "* Average term length increase with information.\n",
    "* Information and term length in fact have the same scale! They are weakly correlated; $0.3$ \n",
    "  * Characters as units of information.\n",
    "* $s$ or $i$ can be used to cull significant terms.\n",
    "* The bulk of surprise is in the seven letter words. \n",
    "  * Does this mean that the vocabulary frequency of character length is short cut to computing the entropy of character length types?"
   ]
  },
  {
   "cell_type": "markdown",
   "id": "aaf0865e-9680-4afc-b884-fc197c1cdac9",
   "metadata": {},
   "source": [
    "# Explore Term Length Vector Space \n",
    "\n",
    "Can we learn anything about the structure of our corpus from distribution of term lengths? If information is related to length, there must be something to observe."
   ]
  },
  {
   "cell_type": "code",
   "execution_count": null,
   "id": "0ceeb635-9f6d-40dc-b2c5-023f8412521b",
   "metadata": {},
   "outputs": [],
   "source": [
    "local_lib = config['DEFAULT']['local_lib']\n",
    "import sys; sys.path.append(local_lib)\n",
    "from hac import HAC"
   ]
  },
  {
   "cell_type": "code",
   "execution_count": null,
   "id": "7e0d43ce-f809-4d3f-a019-0a89b2bf596b",
   "metadata": {},
   "outputs": [],
   "source": [
    "K['n_chars'] = K.term_str.str.len()"
   ]
  },
  {
   "cell_type": "code",
   "execution_count": null,
   "id": "261ca467-f278-4692-b9c1-16b45d7a06cf",
   "metadata": {},
   "outputs": [],
   "source": [
    "T1 = K.groupby(OHCO[:2]+['n_chars']).n_chars.count().unstack(fill_value=0)\n",
    "\n",
    "T2 = (T1.T / T1.T.sum()).T\n",
    "\n",
    "T3 = T2.corr().stack().sort_values().to_frame('c')\n",
    "T3.index.names = ['x','y']\n",
    "T3 = T3[T3.apply(lambda x: x.name[0] > x.name[1], 1)]\n",
    "T3 = T3.sort_values('c', ascending=False)"
   ]
  },
  {
   "cell_type": "markdown",
   "id": "09bf79bd-590e-41b0-ba2a-d5d6102251db",
   "metadata": {},
   "source": [
    "## Book 1 (SS)"
   ]
  },
  {
   "cell_type": "code",
   "execution_count": null,
   "id": "b9203323-34c7-4081-9a94-daa797bb49cc",
   "metadata": {},
   "outputs": [],
   "source": [
    "T1.loc[1, 5:].style.background_gradient(axis=1)"
   ]
  },
  {
   "cell_type": "code",
   "execution_count": null,
   "id": "e9306161-5394-4f58-9e13-1f866a6d8dc4",
   "metadata": {},
   "outputs": [],
   "source": [
    "sns.boxplot(data=T2.loc[1]);"
   ]
  },
  {
   "cell_type": "code",
   "execution_count": null,
   "id": "46d79f23-4ad3-438f-929f-5fb201d53f77",
   "metadata": {},
   "outputs": [],
   "source": [
    "T2.loc[1, 1:].plot(figsize=(20,10), style='.-');"
   ]
  },
  {
   "cell_type": "code",
   "execution_count": null,
   "id": "48eef809-eb13-413f-9971-be482d610cd8",
   "metadata": {},
   "outputs": [],
   "source": [
    "HAC(T2.loc[1]).plot()"
   ]
  },
  {
   "cell_type": "markdown",
   "id": "f9daf34c-9e4e-4d0a-854e-08eab732200b",
   "metadata": {},
   "source": [
    "## Book 2 (P)"
   ]
  },
  {
   "cell_type": "code",
   "execution_count": null,
   "id": "cca0c65d-d051-478d-80db-bae332cd3d21",
   "metadata": {},
   "outputs": [],
   "source": [
    "T1.loc[2, 5:].style.background_gradient(axis=1)"
   ]
  },
  {
   "cell_type": "code",
   "execution_count": null,
   "id": "37c816b8-3f13-4448-9f1b-f6d4cd7fa822",
   "metadata": {},
   "outputs": [],
   "source": [
    "sns.boxplot(data=T2.loc[2]);"
   ]
  },
  {
   "cell_type": "code",
   "execution_count": null,
   "id": "600c0502-ba96-4fb8-9bcf-01053516903e",
   "metadata": {},
   "outputs": [],
   "source": [
    "# sns.relplot?"
   ]
  },
  {
   "cell_type": "code",
   "execution_count": null,
   "id": "591a05fe-8a97-4d00-b1e2-5ce45683e18d",
   "metadata": {},
   "outputs": [],
   "source": [
    "sns.relplot(data=T2.loc[2], kind='line', aspect=2.5);"
   ]
  },
  {
   "cell_type": "code",
   "execution_count": null,
   "id": "8bde0df4-a568-44af-a80e-34cbea631e7a",
   "metadata": {},
   "outputs": [],
   "source": [
    "HAC(T2.loc[2]).plot()"
   ]
  },
  {
   "cell_type": "code",
   "execution_count": null,
   "id": "83546a62-244f-4ec5-b7a4-afbcfd9161af",
   "metadata": {},
   "outputs": [],
   "source": []
  }
 ],
 "metadata": {
  "kernelspec": {
   "display_name": "Python 3 (ipykernel)",
   "language": "python",
   "name": "python3"
  },
  "language_info": {
   "codemirror_mode": {
    "name": "ipython",
    "version": 3
   },
   "file_extension": ".py",
   "mimetype": "text/x-python",
   "name": "python",
   "nbconvert_exporter": "python",
   "pygments_lexer": "ipython3",
   "version": "3.11.5"
  },
  "latex_envs": {
   "LaTeX_envs_menu_present": true,
   "autoclose": false,
   "autocomplete": true,
   "bibliofile": "biblio.bib",
   "cite_by": "apalike",
   "current_citInitial": 1,
   "eqLabelWithNumbers": true,
   "eqNumInitial": 1,
   "hotkeys": {
    "equation": "Ctrl-E",
    "itemize": "Ctrl-I"
   },
   "labels_anchors": false,
   "latex_user_defs": false,
   "report_style_numbering": false,
   "user_envs_cfg": false
  },
  "toc": {
   "base_numbering": 1,
   "nav_menu": {},
   "number_sections": true,
   "sideBar": true,
   "skip_h1_title": false,
   "title_cell": "Table of Contents",
   "title_sidebar": "Contents",
   "toc_cell": false,
   "toc_position": {},
   "toc_section_display": true,
   "toc_window_display": false
  },
  "toc-autonumbering": true,
  "toc-showtags": false,
  "varInspector": {
   "cols": {
    "lenName": 16,
    "lenType": 16,
    "lenVar": 40
   },
   "kernels_config": {
    "python": {
     "delete_cmd_postfix": "",
     "delete_cmd_prefix": "del ",
     "library": "var_list.py",
     "varRefreshCmd": "print(var_dic_list())"
    },
    "r": {
     "delete_cmd_postfix": ") ",
     "delete_cmd_prefix": "rm(",
     "library": "var_list.r",
     "varRefreshCmd": "cat(var_dic_list()) "
    }
   },
   "types_to_exclude": [
    "module",
    "function",
    "builtin_function_or_method",
    "instance",
    "_Feature"
   ],
   "window_display": false
  },
  "widgets": {
   "application/vnd.jupyter.widget-state+json": {
    "state": {},
    "version_major": 2,
    "version_minor": 0
   }
  }
 },
 "nbformat": 4,
 "nbformat_minor": 5
}
