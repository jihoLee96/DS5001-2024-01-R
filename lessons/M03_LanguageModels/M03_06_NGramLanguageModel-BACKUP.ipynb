{
 "cells": [
  {
   "cell_type": "markdown",
   "id": "6084ed44-0d7d-4833-a10a-1aac3f73cb13",
   "metadata": {},
   "source": [
    "# How to Create an N-Gram Model from Scratch\n",
    "\n",
    "```yaml\n",
    "Course:  DS 5001\n",
    "Module:  M03 Language Models\n",
    "Topic:   How to Create an N-Gram Model from Scratch\n",
    "Author:  R.C. Alvarado\n",
    "Date:    6 February 2023\n",
    "```\n",
    "\n",
    "**Purpose**: To demonstrate how a simple ngram language models are created from data and applied to the prediction of sentences. No effort is made to define classes or functions; instead the code is meant to show the logic as clearly as possible."
   ]
  },
  {
   "cell_type": "markdown",
   "id": "7064e7a6-4935-4cca-8731-17a230108473",
   "metadata": {},
   "source": [
    "## Pattern\n",
    "\n",
    "1. Import corpus &rarr; `TOKEN`, `VOCAB`.\n",
    "2. Extract ngrams from training tokens &rarr; `NGRAM`.\n",
    "3. Count ngrams and convert to models &rarr; `MODEL`.\n",
    "4. Convert test sentences into tokens &rarr; `TEST_SENT`, `TEST_TOKEN`.\n",
    "5. Extract ngrams from test tokens &rarr; `TEST_NGRAM`.\n",
    "6. Test model by joining model information `M.i` to `TEST_NGRAM` and then summing i per sentence &rarr; `TEST_NGRAM'`, `TEST_SENT'`.\n",
    "7. Compute model perplexity by exponentiating mean information. "
   ]
  },
  {
   "cell_type": "markdown",
   "id": "1093194b-7f8f-439d-89f0-20ada46cb636",
   "metadata": {},
   "source": [
    "# Set Up Environment"
   ]
  },
  {
   "cell_type": "code",
   "execution_count": 1,
   "id": "7a30beeb-1f4a-46bb-b42a-c637ae0d43ab",
   "metadata": {
    "tags": []
   },
   "outputs": [],
   "source": [
    "import pandas as pd\n",
    "import numpy as np"
   ]
  },
  {
   "cell_type": "code",
   "execution_count": 2,
   "id": "7e9cdf92-7839-447d-a670-5aa81ecf4ebd",
   "metadata": {
    "tags": []
   },
   "outputs": [],
   "source": [
    "import configparser\n",
    "config = configparser.ConfigParser()\n",
    "config.read(\"../../../env.ini\")\n",
    "data_dir = config['DEFAULT']['data_home']\n",
    "output_dir = config['DEFAULT']['output_dir']"
   ]
  },
  {
   "cell_type": "code",
   "execution_count": 3,
   "id": "d7c65a42-eb56-4b5f-99d0-003d74180ab5",
   "metadata": {
    "tags": []
   },
   "outputs": [
    {
     "data": {
      "text/plain": [
       "'/Users/rca2t1/Dropbox/Courses/DS/DS5001/DS5001_2024_01_R/output'"
      ]
     },
     "execution_count": 3,
     "metadata": {},
     "output_type": "execute_result"
    }
   ],
   "source": [
    "output_dir"
   ]
  },
  {
   "cell_type": "code",
   "execution_count": 4,
   "id": "c2e9deb6-44a2-45e8-8cf3-b8fe2ebef346",
   "metadata": {},
   "outputs": [],
   "source": [
    "ngrams = 3\n",
    "widx = [f\"w{i}\" for i in range(ngrams)]"
   ]
  },
  {
   "cell_type": "code",
   "execution_count": 5,
   "id": "6d4526cb-55c5-44c5-8a02-2a861ba920a5",
   "metadata": {},
   "outputs": [
    {
     "data": {
      "text/plain": [
       "['w0', 'w1', 'w2']"
      ]
     },
     "execution_count": 5,
     "metadata": {},
     "output_type": "execute_result"
    }
   ],
   "source": [
    "widx"
   ]
  },
  {
   "cell_type": "markdown",
   "id": "28b14de0-7bc9-4273-9f36-3850c8428ac9",
   "metadata": {},
   "source": [
    "# Get Some Training Data"
   ]
  },
  {
   "cell_type": "code",
   "execution_count": 6,
   "id": "5b8ac85f-7751-4b83-9232-2a9c0f4a7473",
   "metadata": {
    "tags": []
   },
   "outputs": [],
   "source": [
    "data_dir = output_dir\n",
    "OHCO = ['book_id','chap_num','para_num','sent_num','token_num']"
   ]
  },
  {
   "cell_type": "code",
   "execution_count": 7,
   "id": "f1664d12-1b33-46d0-a6f5-e49d89043050",
   "metadata": {
    "tags": []
   },
   "outputs": [],
   "source": [
    "TOKEN = pd.read_csv(data_dir + \"/austen-combo-TOKENS.csv\").set_index(OHCO)\n",
    "VOCAB = pd.read_csv(data_dir + \"/austen-combo-VOCAB.csv\").set_index('term_str')"
   ]
  },
  {
   "cell_type": "code",
   "execution_count": 8,
   "id": "c9a5ff15-aa00-42ff-8c17-a5eb973367f8",
   "metadata": {
    "tags": []
   },
   "outputs": [
    {
     "data": {
      "text/html": [
       "<div>\n",
       "<style scoped>\n",
       "    .dataframe tbody tr th:only-of-type {\n",
       "        vertical-align: middle;\n",
       "    }\n",
       "\n",
       "    .dataframe tbody tr th {\n",
       "        vertical-align: top;\n",
       "    }\n",
       "\n",
       "    .dataframe thead th {\n",
       "        text-align: right;\n",
       "    }\n",
       "</style>\n",
       "<table border=\"1\" class=\"dataframe\">\n",
       "  <thead>\n",
       "    <tr style=\"text-align: right;\">\n",
       "      <th></th>\n",
       "      <th></th>\n",
       "      <th></th>\n",
       "      <th></th>\n",
       "      <th></th>\n",
       "      <th>token_str</th>\n",
       "      <th>term_str</th>\n",
       "    </tr>\n",
       "    <tr>\n",
       "      <th>book_id</th>\n",
       "      <th>chap_num</th>\n",
       "      <th>para_num</th>\n",
       "      <th>sent_num</th>\n",
       "      <th>token_num</th>\n",
       "      <th></th>\n",
       "      <th></th>\n",
       "    </tr>\n",
       "  </thead>\n",
       "  <tbody>\n",
       "    <tr>\n",
       "      <th rowspan=\"5\" valign=\"top\">1</th>\n",
       "      <th rowspan=\"5\" valign=\"top\">1</th>\n",
       "      <th rowspan=\"5\" valign=\"top\">0</th>\n",
       "      <th rowspan=\"5\" valign=\"top\">0</th>\n",
       "      <th>0</th>\n",
       "      <td>Sir</td>\n",
       "      <td>sir</td>\n",
       "    </tr>\n",
       "    <tr>\n",
       "      <th>1</th>\n",
       "      <td>Walter</td>\n",
       "      <td>walter</td>\n",
       "    </tr>\n",
       "    <tr>\n",
       "      <th>2</th>\n",
       "      <td>Elliot</td>\n",
       "      <td>elliot</td>\n",
       "    </tr>\n",
       "    <tr>\n",
       "      <th>3</th>\n",
       "      <td>of</td>\n",
       "      <td>of</td>\n",
       "    </tr>\n",
       "    <tr>\n",
       "      <th>4</th>\n",
       "      <td>Kellynch</td>\n",
       "      <td>kellynch</td>\n",
       "    </tr>\n",
       "  </tbody>\n",
       "</table>\n",
       "</div>"
      ],
      "text/plain": [
       "                                             token_str  term_str\n",
       "book_id chap_num para_num sent_num token_num                    \n",
       "1       1        0        0        0               Sir       sir\n",
       "                                   1            Walter    walter\n",
       "                                   2            Elliot    elliot\n",
       "                                   3                of        of\n",
       "                                   4          Kellynch  kellynch"
      ]
     },
     "execution_count": 8,
     "metadata": {},
     "output_type": "execute_result"
    }
   ],
   "source": [
    "TOKEN.head()"
   ]
  },
  {
   "cell_type": "code",
   "execution_count": 9,
   "id": "b70dc8b4-997f-4cf9-a56a-3d78d85ab18b",
   "metadata": {
    "tags": []
   },
   "outputs": [
    {
     "data": {
      "text/html": [
       "<div>\n",
       "<style scoped>\n",
       "    .dataframe tbody tr th:only-of-type {\n",
       "        vertical-align: middle;\n",
       "    }\n",
       "\n",
       "    .dataframe tbody tr th {\n",
       "        vertical-align: top;\n",
       "    }\n",
       "\n",
       "    .dataframe thead th {\n",
       "        text-align: right;\n",
       "    }\n",
       "</style>\n",
       "<table border=\"1\" class=\"dataframe\">\n",
       "  <thead>\n",
       "    <tr style=\"text-align: right;\">\n",
       "      <th></th>\n",
       "      <th>n</th>\n",
       "    </tr>\n",
       "    <tr>\n",
       "      <th>term_str</th>\n",
       "      <th></th>\n",
       "    </tr>\n",
       "  </thead>\n",
       "  <tbody>\n",
       "    <tr>\n",
       "      <th>1</th>\n",
       "      <td>3</td>\n",
       "    </tr>\n",
       "    <tr>\n",
       "      <th>15</th>\n",
       "      <td>1</td>\n",
       "    </tr>\n",
       "    <tr>\n",
       "      <th>16</th>\n",
       "      <td>1</td>\n",
       "    </tr>\n",
       "    <tr>\n",
       "      <th>1760</th>\n",
       "      <td>1</td>\n",
       "    </tr>\n",
       "    <tr>\n",
       "      <th>1784</th>\n",
       "      <td>1</td>\n",
       "    </tr>\n",
       "  </tbody>\n",
       "</table>\n",
       "</div>"
      ],
      "text/plain": [
       "          n\n",
       "term_str   \n",
       "1         3\n",
       "15        1\n",
       "16        1\n",
       "1760      1\n",
       "1784      1"
      ]
     },
     "execution_count": 9,
     "metadata": {},
     "output_type": "execute_result"
    }
   ],
   "source": [
    "VOCAB.head()"
   ]
  },
  {
   "cell_type": "markdown",
   "id": "52ac4329-9fe0-40fd-a27f-d1a548e7be41",
   "metadata": {
    "tags": []
   },
   "source": [
    "# Select OOV terms"
   ]
  },
  {
   "cell_type": "markdown",
   "id": "3423825c-a5fd-4adb-8da3-96db5c2240a4",
   "metadata": {},
   "source": [
    "For our OOV terms, we select very short words that appear only once.\n",
    "\n",
    "This is just one way to handle OOV terms."
   ]
  },
  {
   "cell_type": "code",
   "execution_count": 10,
   "id": "9abac515-50f7-443f-a035-47847197796f",
   "metadata": {},
   "outputs": [],
   "source": [
    "VOCAB['n_chars'] = VOCAB.index.str.len()\n",
    "VOCAB['modified_term_str'] = VOCAB.index\n",
    "VOCAB.loc[(VOCAB.n == 1) & (VOCAB.n_chars < 3), 'modified_term_str'] = \"<UNK>\""
   ]
  },
  {
   "cell_type": "code",
   "execution_count": 11,
   "id": "ee702343-5577-4d22-a91f-b2009e1a94e1",
   "metadata": {
    "tags": []
   },
   "outputs": [
    {
     "data": {
      "text/html": [
       "<div>\n",
       "<style scoped>\n",
       "    .dataframe tbody tr th:only-of-type {\n",
       "        vertical-align: middle;\n",
       "    }\n",
       "\n",
       "    .dataframe tbody tr th {\n",
       "        vertical-align: top;\n",
       "    }\n",
       "\n",
       "    .dataframe thead th {\n",
       "        text-align: right;\n",
       "    }\n",
       "</style>\n",
       "<table border=\"1\" class=\"dataframe\">\n",
       "  <thead>\n",
       "    <tr style=\"text-align: right;\">\n",
       "      <th></th>\n",
       "      <th>n</th>\n",
       "      <th>n_chars</th>\n",
       "      <th>modified_term_str</th>\n",
       "    </tr>\n",
       "    <tr>\n",
       "      <th>term_str</th>\n",
       "      <th></th>\n",
       "      <th></th>\n",
       "      <th></th>\n",
       "    </tr>\n",
       "  </thead>\n",
       "  <tbody>\n",
       "    <tr>\n",
       "      <th>1</th>\n",
       "      <td>3</td>\n",
       "      <td>1</td>\n",
       "      <td>1</td>\n",
       "    </tr>\n",
       "    <tr>\n",
       "      <th>15</th>\n",
       "      <td>1</td>\n",
       "      <td>2</td>\n",
       "      <td>&lt;UNK&gt;</td>\n",
       "    </tr>\n",
       "    <tr>\n",
       "      <th>16</th>\n",
       "      <td>1</td>\n",
       "      <td>2</td>\n",
       "      <td>&lt;UNK&gt;</td>\n",
       "    </tr>\n",
       "    <tr>\n",
       "      <th>1760</th>\n",
       "      <td>1</td>\n",
       "      <td>4</td>\n",
       "      <td>1760</td>\n",
       "    </tr>\n",
       "    <tr>\n",
       "      <th>1784</th>\n",
       "      <td>1</td>\n",
       "      <td>4</td>\n",
       "      <td>1784</td>\n",
       "    </tr>\n",
       "    <tr>\n",
       "      <th>...</th>\n",
       "      <td>...</td>\n",
       "      <td>...</td>\n",
       "      <td>...</td>\n",
       "    </tr>\n",
       "    <tr>\n",
       "      <th>youthful</th>\n",
       "      <td>3</td>\n",
       "      <td>8</td>\n",
       "      <td>youthful</td>\n",
       "    </tr>\n",
       "    <tr>\n",
       "      <th>z</th>\n",
       "      <td>1</td>\n",
       "      <td>1</td>\n",
       "      <td>&lt;UNK&gt;</td>\n",
       "    </tr>\n",
       "    <tr>\n",
       "      <th>zeal</th>\n",
       "      <td>7</td>\n",
       "      <td>4</td>\n",
       "      <td>zeal</td>\n",
       "    </tr>\n",
       "    <tr>\n",
       "      <th>zealous</th>\n",
       "      <td>4</td>\n",
       "      <td>7</td>\n",
       "      <td>zealous</td>\n",
       "    </tr>\n",
       "    <tr>\n",
       "      <th>zealously</th>\n",
       "      <td>2</td>\n",
       "      <td>9</td>\n",
       "      <td>zealously</td>\n",
       "    </tr>\n",
       "  </tbody>\n",
       "</table>\n",
       "<p>8238 rows × 3 columns</p>\n",
       "</div>"
      ],
      "text/plain": [
       "           n  n_chars modified_term_str\n",
       "term_str                               \n",
       "1          3        1                 1\n",
       "15         1        2             <UNK>\n",
       "16         1        2             <UNK>\n",
       "1760       1        4              1760\n",
       "1784       1        4              1784\n",
       "...       ..      ...               ...\n",
       "youthful   3        8          youthful\n",
       "z          1        1             <UNK>\n",
       "zeal       7        4              zeal\n",
       "zealous    4        7           zealous\n",
       "zealously  2        9         zealously\n",
       "\n",
       "[8238 rows x 3 columns]"
      ]
     },
     "execution_count": 11,
     "metadata": {},
     "output_type": "execute_result"
    }
   ],
   "source": [
    "VOCAB"
   ]
  },
  {
   "cell_type": "markdown",
   "id": "982e3bfe-115d-4147-9fb8-81606c5cf906",
   "metadata": {},
   "source": [
    "We apply the modified term list to our tokens."
   ]
  },
  {
   "cell_type": "code",
   "execution_count": 12,
   "id": "96bd3bfe-3722-4115-a76f-4c3dded097f7",
   "metadata": {},
   "outputs": [],
   "source": [
    "TOKEN['modified_term_str'] = TOKEN.term_str.map(VOCAB.modified_term_str)"
   ]
  },
  {
   "cell_type": "code",
   "execution_count": 13,
   "id": "413e1543-255a-40a9-a755-2267af3e6a76",
   "metadata": {},
   "outputs": [
    {
     "data": {
      "text/html": [
       "<div>\n",
       "<style scoped>\n",
       "    .dataframe tbody tr th:only-of-type {\n",
       "        vertical-align: middle;\n",
       "    }\n",
       "\n",
       "    .dataframe tbody tr th {\n",
       "        vertical-align: top;\n",
       "    }\n",
       "\n",
       "    .dataframe thead th {\n",
       "        text-align: right;\n",
       "    }\n",
       "</style>\n",
       "<table border=\"1\" class=\"dataframe\">\n",
       "  <thead>\n",
       "    <tr style=\"text-align: right;\">\n",
       "      <th></th>\n",
       "      <th></th>\n",
       "      <th></th>\n",
       "      <th></th>\n",
       "      <th></th>\n",
       "      <th>token_str</th>\n",
       "      <th>term_str</th>\n",
       "      <th>modified_term_str</th>\n",
       "    </tr>\n",
       "    <tr>\n",
       "      <th>book_id</th>\n",
       "      <th>chap_num</th>\n",
       "      <th>para_num</th>\n",
       "      <th>sent_num</th>\n",
       "      <th>token_num</th>\n",
       "      <th></th>\n",
       "      <th></th>\n",
       "      <th></th>\n",
       "    </tr>\n",
       "  </thead>\n",
       "  <tbody>\n",
       "    <tr>\n",
       "      <th>1</th>\n",
       "      <th>22</th>\n",
       "      <th>41</th>\n",
       "      <th>2</th>\n",
       "      <th>1</th>\n",
       "      <td>n</td>\n",
       "      <td>n</td>\n",
       "      <td>&lt;UNK&gt;</td>\n",
       "    </tr>\n",
       "    <tr>\n",
       "      <th>2</th>\n",
       "      <th>39</th>\n",
       "      <th>19</th>\n",
       "      <th>13</th>\n",
       "      <th>11</th>\n",
       "      <td>L</td>\n",
       "      <td>l</td>\n",
       "      <td>&lt;UNK&gt;</td>\n",
       "    </tr>\n",
       "    <tr>\n",
       "      <th rowspan=\"2\" valign=\"top\">1</th>\n",
       "      <th rowspan=\"2\" valign=\"top\">1</th>\n",
       "      <th>2</th>\n",
       "      <th>4</th>\n",
       "      <th>3</th>\n",
       "      <td>20</td>\n",
       "      <td>20</td>\n",
       "      <td>&lt;UNK&gt;</td>\n",
       "    </tr>\n",
       "    <tr>\n",
       "      <th>18</th>\n",
       "      <th>1</th>\n",
       "      <th>8</th>\n",
       "      <td>Z</td>\n",
       "      <td>z</td>\n",
       "      <td>&lt;UNK&gt;</td>\n",
       "    </tr>\n",
       "    <tr>\n",
       "      <th>2</th>\n",
       "      <th>25</th>\n",
       "      <th>2</th>\n",
       "      <th>2</th>\n",
       "      <th>23</th>\n",
       "      <td>ve</td>\n",
       "      <td>ve</td>\n",
       "      <td>&lt;UNK&gt;</td>\n",
       "    </tr>\n",
       "  </tbody>\n",
       "</table>\n",
       "</div>"
      ],
      "text/plain": [
       "                                             token_str term_str  \\\n",
       "book_id chap_num para_num sent_num token_num                      \n",
       "1       22       41       2        1                 n        n   \n",
       "2       39       19       13       11                L        l   \n",
       "1       1        2        4        3                20       20   \n",
       "                 18       1        8                 Z        z   \n",
       "2       25       2        2        23               ve       ve   \n",
       "\n",
       "                                             modified_term_str  \n",
       "book_id chap_num para_num sent_num token_num                    \n",
       "1       22       41       2        1                     <UNK>  \n",
       "2       39       19       13       11                    <UNK>  \n",
       "1       1        2        4        3                     <UNK>  \n",
       "                 18       1        8                     <UNK>  \n",
       "2       25       2        2        23                    <UNK>  "
      ]
     },
     "execution_count": 13,
     "metadata": {},
     "output_type": "execute_result"
    }
   ],
   "source": [
    "TOKEN[TOKEN.modified_term_str == '<UNK>'].sample(5)"
   ]
  },
  {
   "attachments": {
    "d20d4544-c1fc-4846-8955-0f5d1363ff33.png": {
     "image/png": "[encoded data removed]"
    }
   },
   "cell_type": "markdown",
   "id": "c87c66a7-39f9-4a03-9af5-cd4942aaab41",
   "metadata": {},
   "source": [
    "# Generate NGram Models\n",
    "\n",
    "Here, we want to take our list of modified tokens and add sentence boundary symbols `<s>` and `</s>` before and after each sentence.\n",
    "\n",
    "Then we want to bind offset versions of the this token list into a dataframe with as many columns as our ngram is wide.\n",
    "\n",
    "So, for example, for a trigram table representing the novle _Emma_, we want something like this:\n",
    "\n",
    "![image.png](attachment:d20d4544-c1fc-4846-8955-0f5d1363ff33.png)\n",
    "\n",
    "Note how each succussive column is the same data but shifted up one row.\n",
    "\n",
    "Note also that this table contains all the data required to count instances of trigrams and all lower-order n-grams, i.e. bigram and unigram."
   ]
  },
  {
   "cell_type": "markdown",
   "id": "ac376c01-46e4-462f-9c1d-ed71e0ebcda4",
   "metadata": {},
   "source": [
    "## Prepare tokens for ngram binding"
   ]
  },
  {
   "cell_type": "markdown",
   "id": "d604dbb5-8014-46e0-9106-f049477f4fe9",
   "metadata": {},
   "source": [
    "We assign an absolute sentence number to each inital token and then label all the tokens in a given sentence by their sentence number.\n",
    "\n",
    "We must do this because the current `sent_num` index column refers to the order of the sentence within the paragraph.\n",
    "\n",
    "We want the order of the sentence within the corpus."
   ]
  },
  {
   "cell_type": "code",
   "execution_count": 14,
   "id": "fa48efa0-5cd5-48c3-b2ed-b3d80808e8f0",
   "metadata": {
    "tags": []
   },
   "outputs": [],
   "source": [
    "def token_to_padded(token, grouper=['sent_num'], term_str='term_str'):\n",
    "    ohco = token.index.names # We preserve these since they get lost in the shuffle\n",
    "    padded = token.groupby(grouper)\\\n",
    "        .apply(lambda x: '<s> ' + ' '.join(x[term_str]) + ' </s>')\\\n",
    "        .apply(lambda x: pd.Series(x.split()))\\\n",
    "        .stack().to_frame('term_str')\n",
    "    padded.index.names = ohco\n",
    "    return padded"
   ]
  },
  {
   "cell_type": "code",
   "execution_count": 15,
   "id": "2929b899-ad94-46a9-af75-daf699b16ec7",
   "metadata": {
    "tags": []
   },
   "outputs": [],
   "source": [
    "PADDED = token_to_padded(TOKEN, grouper=OHCO[:4], term_str='modified_term_str')"
   ]
  },
  {
   "cell_type": "code",
   "execution_count": 16,
   "id": "8833ebce-125a-49f3-9b55-c17654408502",
   "metadata": {
    "tags": []
   },
   "outputs": [
    {
     "data": {
      "text/html": [
       "<div>\n",
       "<style scoped>\n",
       "    .dataframe tbody tr th:only-of-type {\n",
       "        vertical-align: middle;\n",
       "    }\n",
       "\n",
       "    .dataframe tbody tr th {\n",
       "        vertical-align: top;\n",
       "    }\n",
       "\n",
       "    .dataframe thead th {\n",
       "        text-align: right;\n",
       "    }\n",
       "</style>\n",
       "<table border=\"1\" class=\"dataframe\">\n",
       "  <thead>\n",
       "    <tr style=\"text-align: right;\">\n",
       "      <th></th>\n",
       "      <th></th>\n",
       "      <th></th>\n",
       "      <th></th>\n",
       "      <th></th>\n",
       "      <th>term_str</th>\n",
       "    </tr>\n",
       "    <tr>\n",
       "      <th>book_id</th>\n",
       "      <th>chap_num</th>\n",
       "      <th>para_num</th>\n",
       "      <th>sent_num</th>\n",
       "      <th>token_num</th>\n",
       "      <th></th>\n",
       "    </tr>\n",
       "  </thead>\n",
       "  <tbody>\n",
       "    <tr>\n",
       "      <th rowspan=\"5\" valign=\"top\">1</th>\n",
       "      <th rowspan=\"5\" valign=\"top\">1</th>\n",
       "      <th rowspan=\"5\" valign=\"top\">0</th>\n",
       "      <th rowspan=\"5\" valign=\"top\">0</th>\n",
       "      <th>0</th>\n",
       "      <td>&lt;s&gt;</td>\n",
       "    </tr>\n",
       "    <tr>\n",
       "      <th>1</th>\n",
       "      <td>sir</td>\n",
       "    </tr>\n",
       "    <tr>\n",
       "      <th>2</th>\n",
       "      <td>walter</td>\n",
       "    </tr>\n",
       "    <tr>\n",
       "      <th>3</th>\n",
       "      <td>elliot</td>\n",
       "    </tr>\n",
       "    <tr>\n",
       "      <th>4</th>\n",
       "      <td>of</td>\n",
       "    </tr>\n",
       "  </tbody>\n",
       "</table>\n",
       "</div>"
      ],
      "text/plain": [
       "                                             term_str\n",
       "book_id chap_num para_num sent_num token_num         \n",
       "1       1        0        0        0              <s>\n",
       "                                   1              sir\n",
       "                                   2           walter\n",
       "                                   3           elliot\n",
       "                                   4               of"
      ]
     },
     "execution_count": 16,
     "metadata": {},
     "output_type": "execute_result"
    }
   ],
   "source": [
    "PADDED.head()"
   ]
  },
  {
   "cell_type": "markdown",
   "id": "a9bf28ae-6b78-4050-b8a0-976b233176ad",
   "metadata": {},
   "source": [
    "## Bind modified token sequence into an ngram table "
   ]
  },
  {
   "cell_type": "markdown",
   "id": "592df0b2-88b7-453a-a2cc-dc3337832d67",
   "metadata": {},
   "source": [
    "Next, we choose the maximum ngram length for our models."
   ]
  },
  {
   "cell_type": "markdown",
   "id": "63d7e56f-cad9-411a-a229-8d7ebffec058",
   "metadata": {},
   "source": [
    "Now we concatenate a set of offset versions of our token list. \n",
    "\n",
    "We use the `df.shift()` method to offset our token list for each position in the resulting ngram list.\n",
    "\n",
    "Then we use the `pd.concat()` method to bind our offset token lists."
   ]
  },
  {
   "cell_type": "code",
   "execution_count": 17,
   "id": "3405f122-ea40-41a7-9c19-c9411632b294",
   "metadata": {
    "tags": []
   },
   "outputs": [],
   "source": [
    "# T = PADDED.groupby(OHCO[:4]).apply(lambda x: pd.concat([x.shift(0-i) for i in range(ngrams)], axis=1)).reset_index(drop=True)\n",
    "# T.index = PADDED.index\n",
    "# T.columns = widx"
   ]
  },
  {
   "cell_type": "code",
   "execution_count": 18,
   "id": "beafde61-29b2-4926-af8a-46b6557a52b2",
   "metadata": {
    "tags": []
   },
   "outputs": [],
   "source": [
    "# T.loc[(1,1,0,2)]"
   ]
  },
  {
   "cell_type": "code",
   "execution_count": 19,
   "id": "a88efecb-2d3a-4155-ac7b-53fa2afa6ae5",
   "metadata": {
    "tags": []
   },
   "outputs": [],
   "source": [
    "def padded_to_ngrams(padded, grouper=['sent_num'], n=2):\n",
    "    \n",
    "    ohco = padded.index.names\n",
    "    ngrams = padded.groupby(grouper).apply(lambda x: pd.concat([x.shift(0-i) for i in range(n)], axis=1)).reset_index(drop=True)\n",
    "    ngrams.index = padded.index\n",
    "    ngrams.columns = widx\n",
    "\n",
    "    # ngrams = pd.concat([padded.shift(0-i) for i in range(n)], axis=1)\n",
    "    # ngrams.index.name = 'ngram_num'\n",
    "    # ngrams.columns = widx\n",
    "    # ngrams = ngrams.fillna('<EOF>')\n",
    "    \n",
    "    return ngrams"
   ]
  },
  {
   "cell_type": "code",
   "execution_count": 20,
   "id": "f43f1fa7-4172-42af-8ef8-0704e446c956",
   "metadata": {
    "tags": []
   },
   "outputs": [],
   "source": [
    "NGRAMS = padded_to_ngrams(PADDED, OHCO[:4], ngrams)"
   ]
  },
  {
   "cell_type": "code",
   "execution_count": 21,
   "id": "0760dbe7-7286-4d76-9a8e-3db0ab6c9463",
   "metadata": {
    "tags": []
   },
   "outputs": [
    {
     "data": {
      "text/html": [
       "<div>\n",
       "<style scoped>\n",
       "    .dataframe tbody tr th:only-of-type {\n",
       "        vertical-align: middle;\n",
       "    }\n",
       "\n",
       "    .dataframe tbody tr th {\n",
       "        vertical-align: top;\n",
       "    }\n",
       "\n",
       "    .dataframe thead th {\n",
       "        text-align: right;\n",
       "    }\n",
       "</style>\n",
       "<table border=\"1\" class=\"dataframe\">\n",
       "  <thead>\n",
       "    <tr style=\"text-align: right;\">\n",
       "      <th></th>\n",
       "      <th></th>\n",
       "      <th></th>\n",
       "      <th></th>\n",
       "      <th></th>\n",
       "      <th>w0</th>\n",
       "      <th>w1</th>\n",
       "      <th>w2</th>\n",
       "    </tr>\n",
       "    <tr>\n",
       "      <th>book_id</th>\n",
       "      <th>chap_num</th>\n",
       "      <th>para_num</th>\n",
       "      <th>sent_num</th>\n",
       "      <th>token_num</th>\n",
       "      <th></th>\n",
       "      <th></th>\n",
       "      <th></th>\n",
       "    </tr>\n",
       "  </thead>\n",
       "  <tbody>\n",
       "    <tr>\n",
       "      <th rowspan=\"5\" valign=\"top\">1</th>\n",
       "      <th rowspan=\"5\" valign=\"top\">1</th>\n",
       "      <th rowspan=\"5\" valign=\"top\">0</th>\n",
       "      <th rowspan=\"5\" valign=\"top\">0</th>\n",
       "      <th>0</th>\n",
       "      <td>&lt;s&gt;</td>\n",
       "      <td>sir</td>\n",
       "      <td>walter</td>\n",
       "    </tr>\n",
       "    <tr>\n",
       "      <th>1</th>\n",
       "      <td>sir</td>\n",
       "      <td>walter</td>\n",
       "      <td>elliot</td>\n",
       "    </tr>\n",
       "    <tr>\n",
       "      <th>2</th>\n",
       "      <td>walter</td>\n",
       "      <td>elliot</td>\n",
       "      <td>of</td>\n",
       "    </tr>\n",
       "    <tr>\n",
       "      <th>3</th>\n",
       "      <td>elliot</td>\n",
       "      <td>of</td>\n",
       "      <td>kellynch</td>\n",
       "    </tr>\n",
       "    <tr>\n",
       "      <th>4</th>\n",
       "      <td>of</td>\n",
       "      <td>kellynch</td>\n",
       "      <td>hall</td>\n",
       "    </tr>\n",
       "    <tr>\n",
       "      <th>...</th>\n",
       "      <th>...</th>\n",
       "      <th>...</th>\n",
       "      <th>...</th>\n",
       "      <th>...</th>\n",
       "      <td>...</td>\n",
       "      <td>...</td>\n",
       "      <td>...</td>\n",
       "    </tr>\n",
       "    <tr>\n",
       "      <th rowspan=\"5\" valign=\"top\">2</th>\n",
       "      <th rowspan=\"5\" valign=\"top\">50</th>\n",
       "      <th rowspan=\"5\" valign=\"top\">23</th>\n",
       "      <th rowspan=\"5\" valign=\"top\">0</th>\n",
       "      <th>10</th>\n",
       "      <td>sensibility</td>\n",
       "      <td>by</td>\n",
       "      <td>jane</td>\n",
       "    </tr>\n",
       "    <tr>\n",
       "      <th>11</th>\n",
       "      <td>by</td>\n",
       "      <td>jane</td>\n",
       "      <td>austen</td>\n",
       "    </tr>\n",
       "    <tr>\n",
       "      <th>12</th>\n",
       "      <td>jane</td>\n",
       "      <td>austen</td>\n",
       "      <td>&lt;/s&gt;</td>\n",
       "    </tr>\n",
       "    <tr>\n",
       "      <th>13</th>\n",
       "      <td>austen</td>\n",
       "      <td>&lt;/s&gt;</td>\n",
       "      <td>None</td>\n",
       "    </tr>\n",
       "    <tr>\n",
       "      <th>14</th>\n",
       "      <td>&lt;/s&gt;</td>\n",
       "      <td>None</td>\n",
       "      <td>None</td>\n",
       "    </tr>\n",
       "  </tbody>\n",
       "</table>\n",
       "<p>232051 rows × 3 columns</p>\n",
       "</div>"
      ],
      "text/plain": [
       "                                                       w0        w1        w2\n",
       "book_id chap_num para_num sent_num token_num                                 \n",
       "1       1        0        0        0                  <s>       sir    walter\n",
       "                                   1                  sir    walter    elliot\n",
       "                                   2               walter    elliot        of\n",
       "                                   3               elliot        of  kellynch\n",
       "                                   4                   of  kellynch      hall\n",
       "...                                                   ...       ...       ...\n",
       "2       50       23       0        10         sensibility        by      jane\n",
       "                                   11                  by      jane    austen\n",
       "                                   12                jane    austen      </s>\n",
       "                                   13              austen      </s>      None\n",
       "                                   14                </s>      None      None\n",
       "\n",
       "[232051 rows x 3 columns]"
      ]
     },
     "execution_count": 21,
     "metadata": {},
     "output_type": "execute_result"
    }
   ],
   "source": [
    "NGRAMS"
   ]
  },
  {
   "cell_type": "markdown",
   "id": "f52f42cb-4d6c-4110-8109-498e617008fc",
   "metadata": {},
   "source": [
    "## Generate models"
   ]
  },
  {
   "cell_type": "markdown",
   "id": "d686a4c8-61af-430b-bdf1-720ef2ab6096",
   "metadata": {},
   "source": [
    "Next we create a list of models. \n",
    "\n",
    "Since the model index will be zero-based (given Python), the trigram model will be `M[2]`, for example. \n",
    "\n",
    "We can use the maximum ngram table to derive all of the lower order models.\n",
    "\n",
    "For each model, we will compute the relevant probabilities and information for each ngram."
   ]
  },
  {
   "cell_type": "code",
   "execution_count": 100,
   "id": "819d2cf9-0af7-4eca-b800-eb6d7c6f7ada",
   "metadata": {
    "tags": []
   },
   "outputs": [],
   "source": [
    "def ngrams_to_models(ngrams, k=.01):\n",
    "    global widx\n",
    "    n = len(ngrams.columns)\n",
    "    model = [None for i in range(n)]\n",
    "    for i in range(n):\n",
    "        if i == 0:\n",
    "            model[i] = ngrams.value_counts('w0').to_frame('n')\n",
    "            model[i]['p'] = model[i].n / model[i].n.sum()\n",
    "            model[i]['i'] = np.log2(1/model[i].p)\n",
    "        else:\n",
    "            model[i] = ngrams.value_counts(widx[:i+1]).to_frame('n')    \n",
    "            model[i]['cp'] = model[i].n / model[i-1].n\n",
    "            model[i]['i'] = np.log2(1/model[i].cp)\n",
    "        model[i] = model[i].sort_index()\n",
    "    return model"
   ]
  },
  {
   "cell_type": "code",
   "execution_count": 101,
   "id": "74621eeb-8e2b-4d0e-aa9d-c0743764d3a7",
   "metadata": {
    "tags": []
   },
   "outputs": [],
   "source": [
    "M = ngrams_to_models(NGRAMS)"
   ]
  },
  {
   "cell_type": "code",
   "execution_count": 105,
   "id": "1ed11ca9-65d4-4d0b-86ad-a49c583856f5",
   "metadata": {
    "tags": []
   },
   "outputs": [
    {
     "data": {
      "text/html": [
       "<div>\n",
       "<style scoped>\n",
       "    .dataframe tbody tr th:only-of-type {\n",
       "        vertical-align: middle;\n",
       "    }\n",
       "\n",
       "    .dataframe tbody tr th {\n",
       "        vertical-align: top;\n",
       "    }\n",
       "\n",
       "    .dataframe thead th {\n",
       "        text-align: right;\n",
       "    }\n",
       "</style>\n",
       "<table border=\"1\" class=\"dataframe\">\n",
       "  <thead>\n",
       "    <tr style=\"text-align: right;\">\n",
       "      <th></th>\n",
       "      <th></th>\n",
       "      <th>n</th>\n",
       "      <th>cp</th>\n",
       "      <th>i</th>\n",
       "    </tr>\n",
       "    <tr>\n",
       "      <th>w0</th>\n",
       "      <th>w1</th>\n",
       "      <th></th>\n",
       "      <th></th>\n",
       "      <th></th>\n",
       "    </tr>\n",
       "  </thead>\n",
       "  <tbody>\n",
       "    <tr>\n",
       "      <th rowspan=\"3\" valign=\"top\">1</th>\n",
       "      <th>1760</th>\n",
       "      <td>1</td>\n",
       "      <td>0.333333</td>\n",
       "      <td>1.584963</td>\n",
       "    </tr>\n",
       "    <tr>\n",
       "      <th>1785</th>\n",
       "      <td>1</td>\n",
       "      <td>0.333333</td>\n",
       "      <td>1.584963</td>\n",
       "    </tr>\n",
       "    <tr>\n",
       "      <th>ends</th>\n",
       "      <td>1</td>\n",
       "      <td>0.333333</td>\n",
       "      <td>1.584963</td>\n",
       "    </tr>\n",
       "    <tr>\n",
       "      <th>1760</th>\n",
       "      <th>married</th>\n",
       "      <td>1</td>\n",
       "      <td>1.000000</td>\n",
       "      <td>0.000000</td>\n",
       "    </tr>\n",
       "    <tr>\n",
       "      <th>1784</th>\n",
       "      <th>elizabeth</th>\n",
       "      <td>1</td>\n",
       "      <td>1.000000</td>\n",
       "      <td>0.000000</td>\n",
       "    </tr>\n",
       "    <tr>\n",
       "      <th>...</th>\n",
       "      <th>...</th>\n",
       "      <td>...</td>\n",
       "      <td>...</td>\n",
       "      <td>...</td>\n",
       "    </tr>\n",
       "    <tr>\n",
       "      <th rowspan=\"3\" valign=\"top\">zealous</th>\n",
       "      <th>attention</th>\n",
       "      <td>1</td>\n",
       "      <td>0.250000</td>\n",
       "      <td>2.000000</td>\n",
       "    </tr>\n",
       "    <tr>\n",
       "      <th>officer</th>\n",
       "      <td>1</td>\n",
       "      <td>0.250000</td>\n",
       "      <td>2.000000</td>\n",
       "    </tr>\n",
       "    <tr>\n",
       "      <th>on</th>\n",
       "      <td>1</td>\n",
       "      <td>0.250000</td>\n",
       "      <td>2.000000</td>\n",
       "    </tr>\n",
       "    <tr>\n",
       "      <th rowspan=\"2\" valign=\"top\">zealously</th>\n",
       "      <th>active</th>\n",
       "      <td>1</td>\n",
       "      <td>0.500000</td>\n",
       "      <td>1.000000</td>\n",
       "    </tr>\n",
       "    <tr>\n",
       "      <th>discharging</th>\n",
       "      <td>1</td>\n",
       "      <td>0.500000</td>\n",
       "      <td>1.000000</td>\n",
       "    </tr>\n",
       "  </tbody>\n",
       "</table>\n",
       "<p>78270 rows × 3 columns</p>\n",
       "</div>"
      ],
      "text/plain": [
       "                       n        cp         i\n",
       "w0        w1                                \n",
       "1         1760         1  0.333333  1.584963\n",
       "          1785         1  0.333333  1.584963\n",
       "          ends         1  0.333333  1.584963\n",
       "1760      married      1  1.000000  0.000000\n",
       "1784      elizabeth    1  1.000000  0.000000\n",
       "...                   ..       ...       ...\n",
       "zealous   attention    1  0.250000  2.000000\n",
       "          officer      1  0.250000  2.000000\n",
       "          on           1  0.250000  2.000000\n",
       "zealously active       1  0.500000  1.000000\n",
       "          discharging  1  0.500000  1.000000\n",
       "\n",
       "[78270 rows x 3 columns]"
      ]
     },
     "execution_count": 105,
     "metadata": {},
     "output_type": "execute_result"
    }
   ],
   "source": [
    "M[1]"
   ]
  },
  {
   "cell_type": "markdown",
   "id": "b7d10ee8-af3e-493b-851c-f7729e327ff5",
   "metadata": {},
   "source": [
    "# Test Models"
   ]
  },
  {
   "cell_type": "markdown",
   "id": "07cf6993-119d-459b-b22b-9f9af539da90",
   "metadata": {},
   "source": [
    "## Generate Training Data"
   ]
  },
  {
   "cell_type": "markdown",
   "id": "90529475-1f98-49d0-a034-4932e4b36e51",
   "metadata": {},
   "source": [
    "Import and pad the test sentences."
   ]
  },
  {
   "cell_type": "code",
   "execution_count": 57,
   "id": "9c6239a5-c32a-40bd-8f6b-c94f12727b43",
   "metadata": {
    "tags": []
   },
   "outputs": [],
   "source": [
    "def sentence_to_token(sent_list, file=True):\n",
    "    \n",
    "    # Convert list of sentences to dataframe\n",
    "    if file:\n",
    "        S = pd.read_csv(\"test_sentences.txt\", header=None, names=['sent_str'])\n",
    "    else:\n",
    "        S = pd.DataFrame(sent_list, columns=['sent_str'])\n",
    "    S.index.name = 'sent_num'\n",
    "    \n",
    "    # Convert dataframe of sentences to TOKEN with normalized terms\n",
    "    K = S.sent_str.apply(lambda x: pd.Series(x.split())).stack().to_frame('token_str')\n",
    "    K['term_str'] = K.token_str.str.replace(r\"[\\W_]+\", \"\", regex=True).str.lower()\n",
    "    K.index.names = ['sent_num', 'token_num']\n",
    "    \n",
    "    return S, K"
   ]
  },
  {
   "cell_type": "code",
   "execution_count": 58,
   "id": "9be15a8c-cf9d-45d7-bc19-298296b6e0bf",
   "metadata": {
    "tags": []
   },
   "outputs": [],
   "source": [
    "TEST_SENTS, TEST_TOKENS = sentence_to_token(\"test_sentences.txt\")"
   ]
  },
  {
   "cell_type": "code",
   "execution_count": 59,
   "id": "3f5e5867-44e3-4760-b892-4de33f742417",
   "metadata": {},
   "outputs": [
    {
     "data": {
      "text/html": [
       "<div>\n",
       "<style scoped>\n",
       "    .dataframe tbody tr th:only-of-type {\n",
       "        vertical-align: middle;\n",
       "    }\n",
       "\n",
       "    .dataframe tbody tr th {\n",
       "        vertical-align: top;\n",
       "    }\n",
       "\n",
       "    .dataframe thead th {\n",
       "        text-align: right;\n",
       "    }\n",
       "</style>\n",
       "<table border=\"1\" class=\"dataframe\">\n",
       "  <thead>\n",
       "    <tr style=\"text-align: right;\">\n",
       "      <th></th>\n",
       "      <th>sent_str</th>\n",
       "    </tr>\n",
       "    <tr>\n",
       "      <th>sent_num</th>\n",
       "      <th></th>\n",
       "    </tr>\n",
       "  </thead>\n",
       "  <tbody>\n",
       "    <tr>\n",
       "      <th>0</th>\n",
       "      <td>the quick brown fox jumped over the lazy dogs</td>\n",
       "    </tr>\n",
       "    <tr>\n",
       "      <th>1</th>\n",
       "      <td>The event had every promise of happiness for h...</td>\n",
       "    </tr>\n",
       "    <tr>\n",
       "      <th>2</th>\n",
       "      <td>Mr Weston was a man of unexceptionable charact...</td>\n",
       "    </tr>\n",
       "    <tr>\n",
       "      <th>3</th>\n",
       "      <td>ChatGPT is not the singularity</td>\n",
       "    </tr>\n",
       "    <tr>\n",
       "      <th>4</th>\n",
       "      <td>but it was a black morning's work for her</td>\n",
       "    </tr>\n",
       "  </tbody>\n",
       "</table>\n",
       "</div>"
      ],
      "text/plain": [
       "                                                   sent_str\n",
       "sent_num                                                   \n",
       "0             the quick brown fox jumped over the lazy dogs\n",
       "1         The event had every promise of happiness for h...\n",
       "2         Mr Weston was a man of unexceptionable charact...\n",
       "3                            ChatGPT is not the singularity\n",
       "4                but it was a black morning's work for her "
      ]
     },
     "execution_count": 59,
     "metadata": {},
     "output_type": "execute_result"
    }
   ],
   "source": [
    "TEST_SENTS.head()"
   ]
  },
  {
   "cell_type": "code",
   "execution_count": 60,
   "id": "c7913b59-0f9f-4194-ab44-7f41de051474",
   "metadata": {
    "tags": []
   },
   "outputs": [
    {
     "data": {
      "text/html": [
       "<div>\n",
       "<style scoped>\n",
       "    .dataframe tbody tr th:only-of-type {\n",
       "        vertical-align: middle;\n",
       "    }\n",
       "\n",
       "    .dataframe tbody tr th {\n",
       "        vertical-align: top;\n",
       "    }\n",
       "\n",
       "    .dataframe thead th {\n",
       "        text-align: right;\n",
       "    }\n",
       "</style>\n",
       "<table border=\"1\" class=\"dataframe\">\n",
       "  <thead>\n",
       "    <tr style=\"text-align: right;\">\n",
       "      <th></th>\n",
       "      <th></th>\n",
       "      <th>token_str</th>\n",
       "      <th>term_str</th>\n",
       "    </tr>\n",
       "    <tr>\n",
       "      <th>sent_num</th>\n",
       "      <th>token_num</th>\n",
       "      <th></th>\n",
       "      <th></th>\n",
       "    </tr>\n",
       "  </thead>\n",
       "  <tbody>\n",
       "    <tr>\n",
       "      <th rowspan=\"5\" valign=\"top\">0</th>\n",
       "      <th>0</th>\n",
       "      <td>the</td>\n",
       "      <td>the</td>\n",
       "    </tr>\n",
       "    <tr>\n",
       "      <th>1</th>\n",
       "      <td>quick</td>\n",
       "      <td>quick</td>\n",
       "    </tr>\n",
       "    <tr>\n",
       "      <th>2</th>\n",
       "      <td>brown</td>\n",
       "      <td>brown</td>\n",
       "    </tr>\n",
       "    <tr>\n",
       "      <th>3</th>\n",
       "      <td>fox</td>\n",
       "      <td>fox</td>\n",
       "    </tr>\n",
       "    <tr>\n",
       "      <th>4</th>\n",
       "      <td>jumped</td>\n",
       "      <td>jumped</td>\n",
       "    </tr>\n",
       "  </tbody>\n",
       "</table>\n",
       "</div>"
      ],
      "text/plain": [
       "                   token_str term_str\n",
       "sent_num token_num                   \n",
       "0        0               the      the\n",
       "         1             quick    quick\n",
       "         2             brown    brown\n",
       "         3               fox      fox\n",
       "         4            jumped   jumped"
      ]
     },
     "execution_count": 60,
     "metadata": {},
     "output_type": "execute_result"
    }
   ],
   "source": [
    "TEST_TOKENS.head()"
   ]
  },
  {
   "cell_type": "markdown",
   "id": "2fce0277-a910-489c-b9e1-e82a3ae9e10d",
   "metadata": {},
   "source": [
    "## Identify OOV terms\n",
    "\n",
    "Create a Series of OOV terms from our unigram model.\n",
    "\n",
    "This could be included in our function."
   ]
  },
  {
   "cell_type": "code",
   "execution_count": 61,
   "id": "224bda1a-df70-4f50-9f30-24f0641ece1a",
   "metadata": {},
   "outputs": [],
   "source": [
    "TEST_TOKENS.loc[~TEST_TOKENS.term_str.isin(M[0].index), 'term_str'] = \"<UNK>\""
   ]
  },
  {
   "cell_type": "code",
   "execution_count": 62,
   "id": "61bb1964-eb62-4ced-864c-25c4e941de3b",
   "metadata": {},
   "outputs": [
    {
     "data": {
      "text/plain": [
       "token_str\n",
       "Weston            2\n",
       "ChatGPT           1\n",
       "Hartfield         1\n",
       "Isabella          1\n",
       "Isabella's        1\n",
       "Woodhouse         1\n",
       "childhood         1\n",
       "illnesses         1\n",
       "intellectual      1\n",
       "lazy              1\n",
       "tenderer          1\n",
       "valetudinarian    1\n",
       "Name: count, dtype: int64"
      ]
     },
     "execution_count": 62,
     "metadata": {},
     "output_type": "execute_result"
    }
   ],
   "source": [
    "TEST_TOKENS[TEST_TOKENS.term_str == '<UNK>'].value_counts('token_str')"
   ]
  },
  {
   "cell_type": "markdown",
   "id": "16cbea7a-df8b-499e-9261-5a65131c0218",
   "metadata": {
    "tags": []
   },
   "source": [
    "## Convert test tokens into ngrams\n",
    "\n",
    "Use offset and bind method using `pd.concat()` and `df.shift(0)`, as above."
   ]
  },
  {
   "cell_type": "code",
   "execution_count": 63,
   "id": "a116b0b0-ac38-44ea-9ab4-956151b6c662",
   "metadata": {
    "tags": []
   },
   "outputs": [],
   "source": [
    "TEST_PADDED = token_to_padded(TEST_TOKENS)"
   ]
  },
  {
   "cell_type": "code",
   "execution_count": 64,
   "id": "d7ac7648-1ad9-489c-8b96-05bdfbfd8139",
   "metadata": {
    "tags": []
   },
   "outputs": [
    {
     "data": {
      "text/html": [
       "<div>\n",
       "<style scoped>\n",
       "    .dataframe tbody tr th:only-of-type {\n",
       "        vertical-align: middle;\n",
       "    }\n",
       "\n",
       "    .dataframe tbody tr th {\n",
       "        vertical-align: top;\n",
       "    }\n",
       "\n",
       "    .dataframe thead th {\n",
       "        text-align: right;\n",
       "    }\n",
       "</style>\n",
       "<table border=\"1\" class=\"dataframe\">\n",
       "  <thead>\n",
       "    <tr style=\"text-align: right;\">\n",
       "      <th></th>\n",
       "      <th></th>\n",
       "      <th>term_str</th>\n",
       "    </tr>\n",
       "    <tr>\n",
       "      <th>sent_num</th>\n",
       "      <th>token_num</th>\n",
       "      <th></th>\n",
       "    </tr>\n",
       "  </thead>\n",
       "  <tbody>\n",
       "    <tr>\n",
       "      <th rowspan=\"5\" valign=\"top\">0</th>\n",
       "      <th>0</th>\n",
       "      <td>&lt;s&gt;</td>\n",
       "    </tr>\n",
       "    <tr>\n",
       "      <th>1</th>\n",
       "      <td>the</td>\n",
       "    </tr>\n",
       "    <tr>\n",
       "      <th>2</th>\n",
       "      <td>quick</td>\n",
       "    </tr>\n",
       "    <tr>\n",
       "      <th>3</th>\n",
       "      <td>brown</td>\n",
       "    </tr>\n",
       "    <tr>\n",
       "      <th>4</th>\n",
       "      <td>fox</td>\n",
       "    </tr>\n",
       "  </tbody>\n",
       "</table>\n",
       "</div>"
      ],
      "text/plain": [
       "                   term_str\n",
       "sent_num token_num         \n",
       "0        0              <s>\n",
       "         1              the\n",
       "         2            quick\n",
       "         3            brown\n",
       "         4              fox"
      ]
     },
     "execution_count": 64,
     "metadata": {},
     "output_type": "execute_result"
    }
   ],
   "source": [
    "TEST_PADDED.head()"
   ]
  },
  {
   "cell_type": "code",
   "execution_count": 65,
   "id": "6034e4b8-eca6-4c18-ae1f-968d21491318",
   "metadata": {
    "tags": []
   },
   "outputs": [],
   "source": [
    "TEST_NGRAMS = padded_to_ngrams(TEST_PADDED, 'sent_num', ngrams)"
   ]
  },
  {
   "cell_type": "code",
   "execution_count": 66,
   "id": "bd128835-1e34-4976-bfb9-e298c76b43a3",
   "metadata": {
    "tags": []
   },
   "outputs": [
    {
     "data": {
      "text/html": [
       "<div>\n",
       "<style scoped>\n",
       "    .dataframe tbody tr th:only-of-type {\n",
       "        vertical-align: middle;\n",
       "    }\n",
       "\n",
       "    .dataframe tbody tr th {\n",
       "        vertical-align: top;\n",
       "    }\n",
       "\n",
       "    .dataframe thead th {\n",
       "        text-align: right;\n",
       "    }\n",
       "</style>\n",
       "<table border=\"1\" class=\"dataframe\">\n",
       "  <thead>\n",
       "    <tr style=\"text-align: right;\">\n",
       "      <th></th>\n",
       "      <th>w0</th>\n",
       "      <th>w1</th>\n",
       "      <th>w2</th>\n",
       "    </tr>\n",
       "    <tr>\n",
       "      <th>token_num</th>\n",
       "      <th></th>\n",
       "      <th></th>\n",
       "      <th></th>\n",
       "    </tr>\n",
       "  </thead>\n",
       "  <tbody>\n",
       "    <tr>\n",
       "      <th>0</th>\n",
       "      <td>&lt;s&gt;</td>\n",
       "      <td>the</td>\n",
       "      <td>quick</td>\n",
       "    </tr>\n",
       "    <tr>\n",
       "      <th>1</th>\n",
       "      <td>the</td>\n",
       "      <td>quick</td>\n",
       "      <td>brown</td>\n",
       "    </tr>\n",
       "    <tr>\n",
       "      <th>2</th>\n",
       "      <td>quick</td>\n",
       "      <td>brown</td>\n",
       "      <td>fox</td>\n",
       "    </tr>\n",
       "    <tr>\n",
       "      <th>3</th>\n",
       "      <td>brown</td>\n",
       "      <td>fox</td>\n",
       "      <td>jumped</td>\n",
       "    </tr>\n",
       "    <tr>\n",
       "      <th>4</th>\n",
       "      <td>fox</td>\n",
       "      <td>jumped</td>\n",
       "      <td>over</td>\n",
       "    </tr>\n",
       "    <tr>\n",
       "      <th>5</th>\n",
       "      <td>jumped</td>\n",
       "      <td>over</td>\n",
       "      <td>the</td>\n",
       "    </tr>\n",
       "    <tr>\n",
       "      <th>6</th>\n",
       "      <td>over</td>\n",
       "      <td>the</td>\n",
       "      <td>&lt;UNK&gt;</td>\n",
       "    </tr>\n",
       "    <tr>\n",
       "      <th>7</th>\n",
       "      <td>the</td>\n",
       "      <td>&lt;UNK&gt;</td>\n",
       "      <td>dogs</td>\n",
       "    </tr>\n",
       "    <tr>\n",
       "      <th>8</th>\n",
       "      <td>&lt;UNK&gt;</td>\n",
       "      <td>dogs</td>\n",
       "      <td>&lt;/s&gt;</td>\n",
       "    </tr>\n",
       "    <tr>\n",
       "      <th>9</th>\n",
       "      <td>dogs</td>\n",
       "      <td>&lt;/s&gt;</td>\n",
       "      <td>None</td>\n",
       "    </tr>\n",
       "    <tr>\n",
       "      <th>10</th>\n",
       "      <td>&lt;/s&gt;</td>\n",
       "      <td>None</td>\n",
       "      <td>None</td>\n",
       "    </tr>\n",
       "  </tbody>\n",
       "</table>\n",
       "</div>"
      ],
      "text/plain": [
       "               w0      w1      w2\n",
       "token_num                        \n",
       "0             <s>     the   quick\n",
       "1             the   quick   brown\n",
       "2           quick   brown     fox\n",
       "3           brown     fox  jumped\n",
       "4             fox  jumped    over\n",
       "5          jumped    over     the\n",
       "6            over     the   <UNK>\n",
       "7             the   <UNK>    dogs\n",
       "8           <UNK>    dogs    </s>\n",
       "9            dogs    </s>    None\n",
       "10           </s>    None    None"
      ]
     },
     "execution_count": 66,
     "metadata": {},
     "output_type": "execute_result"
    }
   ],
   "source": [
    "TEST_NGRAMS.loc[0]"
   ]
  },
  {
   "cell_type": "markdown",
   "id": "f64adfc7-e5ce-454d-8441-9d7620f0918a",
   "metadata": {},
   "source": [
    "## Bind the models to test data\n",
    "\n",
    "We add our model data to the test data as a set of features."
   ]
  },
  {
   "cell_type": "code",
   "execution_count": 67,
   "id": "e48f6044-2291-4dd7-9c9c-642a357cbfba",
   "metadata": {
    "tags": []
   },
   "outputs": [],
   "source": [
    "def test_model(model, ngrams, sents):\n",
    "    \n",
    "    global widx\n",
    "    \n",
    "    assert len(model) == len(ngrams.columns)\n",
    "    \n",
    "    n = len(model)\n",
    "    ohco = ngrams.index.names\n",
    "    \n",
    "    R = []\n",
    "    for i in range(n):\n",
    "        T = ngrams.merge(M[i], on=widx[:i+1], how='left')\n",
    "        T.index = ngrams.index\n",
    "        T = T.reset_index().set_index(ohco + widx).i #.to_frame(f\"i{i}\")\n",
    "        \n",
    "        # This how we handle unseen combos\n",
    "        T[T.isna()] = T.max()\n",
    "        R.append(T.to_frame(f\"i{i}\"))\n",
    "                \n",
    "    return pd.concat(R, axis=1)"
   ]
  },
  {
   "cell_type": "code",
   "execution_count": 68,
   "id": "63044156-6994-4d09-b4c1-54840f6f8d11",
   "metadata": {
    "tags": []
   },
   "outputs": [],
   "source": [
    "R = test_model(M,TEST_NGRAMS, TEST_SENTS)"
   ]
  },
  {
   "cell_type": "code",
   "execution_count": 69,
   "id": "1c57b03c-5e4f-4c94-b2ec-3d65a0a2f546",
   "metadata": {
    "tags": []
   },
   "outputs": [
    {
     "data": {
      "text/html": [
       "<div>\n",
       "<style scoped>\n",
       "    .dataframe tbody tr th:only-of-type {\n",
       "        vertical-align: middle;\n",
       "    }\n",
       "\n",
       "    .dataframe tbody tr th {\n",
       "        vertical-align: top;\n",
       "    }\n",
       "\n",
       "    .dataframe thead th {\n",
       "        text-align: right;\n",
       "    }\n",
       "</style>\n",
       "<table border=\"1\" class=\"dataframe\">\n",
       "  <thead>\n",
       "    <tr style=\"text-align: right;\">\n",
       "      <th></th>\n",
       "      <th></th>\n",
       "      <th></th>\n",
       "      <th></th>\n",
       "      <th></th>\n",
       "      <th>i0</th>\n",
       "      <th>i1</th>\n",
       "      <th>i2</th>\n",
       "    </tr>\n",
       "    <tr>\n",
       "      <th>sent_num</th>\n",
       "      <th>token_num</th>\n",
       "      <th>w0</th>\n",
       "      <th>w1</th>\n",
       "      <th>w2</th>\n",
       "      <th></th>\n",
       "      <th></th>\n",
       "      <th></th>\n",
       "    </tr>\n",
       "  </thead>\n",
       "  <tbody>\n",
       "    <tr>\n",
       "      <th rowspan=\"5\" valign=\"top\">0</th>\n",
       "      <th>0</th>\n",
       "      <th>&lt;s&gt;</th>\n",
       "      <th>the</th>\n",
       "      <th>quick</th>\n",
       "      <td>4.104468</td>\n",
       "      <td>4.952406</td>\n",
       "      <td>28.989955</td>\n",
       "    </tr>\n",
       "    <tr>\n",
       "      <th>1</th>\n",
       "      <th>the</th>\n",
       "      <th>quick</th>\n",
       "      <th>brown</th>\n",
       "      <td>4.978319</td>\n",
       "      <td>13.237646</td>\n",
       "      <td>28.989955</td>\n",
       "    </tr>\n",
       "    <tr>\n",
       "      <th>2</th>\n",
       "      <th>quick</th>\n",
       "      <th>brown</th>\n",
       "      <th>fox</th>\n",
       "      <td>13.589751</td>\n",
       "      <td>13.237646</td>\n",
       "      <td>28.989955</td>\n",
       "    </tr>\n",
       "    <tr>\n",
       "      <th>3</th>\n",
       "      <th>brown</th>\n",
       "      <th>fox</th>\n",
       "      <th>jumped</th>\n",
       "      <td>15.834835</td>\n",
       "      <td>13.237646</td>\n",
       "      <td>28.989955</td>\n",
       "    </tr>\n",
       "    <tr>\n",
       "      <th>4</th>\n",
       "      <th>fox</th>\n",
       "      <th>jumped</th>\n",
       "      <th>over</th>\n",
       "      <td>17.824082</td>\n",
       "      <td>13.237646</td>\n",
       "      <td>28.989955</td>\n",
       "    </tr>\n",
       "    <tr>\n",
       "      <th>...</th>\n",
       "      <th>...</th>\n",
       "      <th>...</th>\n",
       "      <th>...</th>\n",
       "      <th>...</th>\n",
       "      <td>...</td>\n",
       "      <td>...</td>\n",
       "      <td>...</td>\n",
       "    </tr>\n",
       "    <tr>\n",
       "      <th rowspan=\"5\" valign=\"top\">42</th>\n",
       "      <th>11</th>\n",
       "      <th>her</th>\n",
       "      <th>pleasant</th>\n",
       "      <th>society</th>\n",
       "      <td>5.966914</td>\n",
       "      <td>13.237646</td>\n",
       "      <td>28.989955</td>\n",
       "    </tr>\n",
       "    <tr>\n",
       "      <th>12</th>\n",
       "      <th>pleasant</th>\n",
       "      <th>society</th>\n",
       "      <th>again</th>\n",
       "      <td>13.030568</td>\n",
       "      <td>13.237646</td>\n",
       "      <td>28.989955</td>\n",
       "    </tr>\n",
       "    <tr>\n",
       "      <th>13</th>\n",
       "      <th>society</th>\n",
       "      <th>again</th>\n",
       "      <th>&lt;/s&gt;</th>\n",
       "      <td>12.628594</td>\n",
       "      <td>13.237646</td>\n",
       "      <td>28.989955</td>\n",
       "    </tr>\n",
       "    <tr>\n",
       "      <th>14</th>\n",
       "      <th>again</th>\n",
       "      <th>&lt;/s&gt;</th>\n",
       "      <th>NaN</th>\n",
       "      <td>9.714265</td>\n",
       "      <td>4.951535</td>\n",
       "      <td>28.989955</td>\n",
       "    </tr>\n",
       "    <tr>\n",
       "      <th>15</th>\n",
       "      <th>&lt;/s&gt;</th>\n",
       "      <th>NaN</th>\n",
       "      <th>NaN</th>\n",
       "      <td>4.104468</td>\n",
       "      <td>13.237646</td>\n",
       "      <td>28.989955</td>\n",
       "    </tr>\n",
       "  </tbody>\n",
       "</table>\n",
       "<p>522 rows × 3 columns</p>\n",
       "</div>"
      ],
      "text/plain": [
       "                                                     i0         i1         i2\n",
       "sent_num token_num w0       w1       w2                                      \n",
       "0        0         <s>      the      quick     4.104468   4.952406  28.989955\n",
       "         1         the      quick    brown     4.978319  13.237646  28.989955\n",
       "         2         quick    brown    fox      13.589751  13.237646  28.989955\n",
       "         3         brown    fox      jumped   15.834835  13.237646  28.989955\n",
       "         4         fox      jumped   over     17.824082  13.237646  28.989955\n",
       "...                                                 ...        ...        ...\n",
       "42       11        her      pleasant society   5.966914  13.237646  28.989955\n",
       "         12        pleasant society  again    13.030568  13.237646  28.989955\n",
       "         13        society  again    </s>     12.628594  13.237646  28.989955\n",
       "         14        again    </s>     NaN       9.714265   4.951535  28.989955\n",
       "         15        </s>     NaN      NaN       4.104468  13.237646  28.989955\n",
       "\n",
       "[522 rows x 3 columns]"
      ]
     },
     "execution_count": 69,
     "metadata": {},
     "output_type": "execute_result"
    }
   ],
   "source": [
    "R"
   ]
  },
  {
   "cell_type": "code",
   "execution_count": 70,
   "id": "6f569149-1d1f-4329-9569-87da8a3d97a2",
   "metadata": {
    "tags": []
   },
   "outputs": [],
   "source": [
    "def compute_perplexity(results, test_sents, n=3):\n",
    "    for i in range(n):\n",
    "        test_sents[f\"pp{i}\"] = np.exp2(results.groupby('sent_num')[f\"i{i}\"].mean())\n",
    "    return test_sents"
   ]
  },
  {
   "cell_type": "code",
   "execution_count": 71,
   "id": "c5e85090-e177-4ee7-9af6-cadf6fee2d16",
   "metadata": {
    "tags": []
   },
   "outputs": [],
   "source": [
    "PP = compute_perplexity(R, TEST_SENTS)"
   ]
  },
  {
   "cell_type": "code",
   "execution_count": 72,
   "id": "a89d7dfe-6133-42b9-b071-3965b6dc776e",
   "metadata": {
    "tags": []
   },
   "outputs": [
    {
     "data": {
      "text/html": [
       "<div>\n",
       "<style scoped>\n",
       "    .dataframe tbody tr th:only-of-type {\n",
       "        vertical-align: middle;\n",
       "    }\n",
       "\n",
       "    .dataframe tbody tr th {\n",
       "        vertical-align: top;\n",
       "    }\n",
       "\n",
       "    .dataframe thead th {\n",
       "        text-align: right;\n",
       "    }\n",
       "</style>\n",
       "<table border=\"1\" class=\"dataframe\">\n",
       "  <thead>\n",
       "    <tr style=\"text-align: right;\">\n",
       "      <th></th>\n",
       "      <th>sent_str</th>\n",
       "      <th>pp0</th>\n",
       "      <th>pp1</th>\n",
       "      <th>pp2</th>\n",
       "    </tr>\n",
       "    <tr>\n",
       "      <th>sent_num</th>\n",
       "      <th></th>\n",
       "      <th></th>\n",
       "      <th></th>\n",
       "      <th></th>\n",
       "    </tr>\n",
       "  </thead>\n",
       "  <tbody>\n",
       "    <tr>\n",
       "      <th>28</th>\n",
       "      <td>but he was no companion for her</td>\n",
       "      <td>121.684065</td>\n",
       "      <td>143.789682</td>\n",
       "      <td>1.967799e+08</td>\n",
       "    </tr>\n",
       "    <tr>\n",
       "      <th>20</th>\n",
       "      <td>How was she to bear the change</td>\n",
       "      <td>143.174095</td>\n",
       "      <td>705.529866</td>\n",
       "      <td>3.874804e+08</td>\n",
       "    </tr>\n",
       "    <tr>\n",
       "      <th>24</th>\n",
       "      <td>and a Miss Taylor in the house</td>\n",
       "      <td>169.463176</td>\n",
       "      <td>381.865321</td>\n",
       "      <td>2.189530e+08</td>\n",
       "    </tr>\n",
       "    <tr>\n",
       "      <th>15</th>\n",
       "      <td>knowing all the ways of the family</td>\n",
       "      <td>202.585766</td>\n",
       "      <td>508.329765</td>\n",
       "      <td>3.121303e+08</td>\n",
       "    </tr>\n",
       "    <tr>\n",
       "      <th>1</th>\n",
       "      <td>The event had every promise of happiness for h...</td>\n",
       "      <td>235.702669</td>\n",
       "      <td>620.168741</td>\n",
       "      <td>4.596415e+08</td>\n",
       "    </tr>\n",
       "    <tr>\n",
       "      <th>11</th>\n",
       "      <td>but the intercourse of the last seven years</td>\n",
       "      <td>247.654829</td>\n",
       "      <td>405.330102</td>\n",
       "      <td>2.967378e+08</td>\n",
       "    </tr>\n",
       "    <tr>\n",
       "      <th>33</th>\n",
       "      <td>for having been a valetudinarian all his life</td>\n",
       "      <td>247.872617</td>\n",
       "      <td>468.541793</td>\n",
       "      <td>4.335868e+08</td>\n",
       "    </tr>\n",
       "    <tr>\n",
       "      <th>25</th>\n",
       "      <td>and with all her advantages natural and domestic</td>\n",
       "      <td>255.775900</td>\n",
       "      <td>1043.362548</td>\n",
       "      <td>2.889590e+08</td>\n",
       "    </tr>\n",
       "    <tr>\n",
       "      <th>19</th>\n",
       "      <td>and who had such an affection for her as could...</td>\n",
       "      <td>268.413488</td>\n",
       "      <td>347.574231</td>\n",
       "      <td>3.497075e+08</td>\n",
       "    </tr>\n",
       "    <tr>\n",
       "      <th>18</th>\n",
       "      <td>one to whom she could speak every thought as i...</td>\n",
       "      <td>272.946284</td>\n",
       "      <td>694.273933</td>\n",
       "      <td>5.056563e+08</td>\n",
       "    </tr>\n",
       "    <tr>\n",
       "      <th>14</th>\n",
       "      <td>She had been a friend and companion such as fe...</td>\n",
       "      <td>281.532442</td>\n",
       "      <td>558.544445</td>\n",
       "      <td>2.084412e+08</td>\n",
       "    </tr>\n",
       "    <tr>\n",
       "      <th>23</th>\n",
       "      <td>only half a mile from them</td>\n",
       "      <td>282.669982</td>\n",
       "      <td>505.571207</td>\n",
       "      <td>3.593247e+08</td>\n",
       "    </tr>\n",
       "    <tr>\n",
       "      <th>21</th>\n",
       "      <td>It was true that her friend was going only hal...</td>\n",
       "      <td>285.061645</td>\n",
       "      <td>428.986651</td>\n",
       "      <td>3.165778e+08</td>\n",
       "    </tr>\n",
       "    <tr>\n",
       "      <th>31</th>\n",
       "      <td>and Mr Woodhouse had not married early</td>\n",
       "      <td>296.222912</td>\n",
       "      <td>1121.834439</td>\n",
       "      <td>4.049272e+08</td>\n",
       "    </tr>\n",
       "    <tr>\n",
       "      <th>37</th>\n",
       "      <td>his talents could not have recommended him at ...</td>\n",
       "      <td>314.674441</td>\n",
       "      <td>529.697172</td>\n",
       "      <td>3.538456e+08</td>\n",
       "    </tr>\n",
       "    <tr>\n",
       "      <th>35</th>\n",
       "      <td>he was a much older man in ways than in years</td>\n",
       "      <td>320.822846</td>\n",
       "      <td>815.584010</td>\n",
       "      <td>3.275178e+08</td>\n",
       "    </tr>\n",
       "    <tr>\n",
       "      <th>5</th>\n",
       "      <td>The want of Miss Taylor would be felt every ho...</td>\n",
       "      <td>342.563372</td>\n",
       "      <td>539.289049</td>\n",
       "      <td>3.683143e+08</td>\n",
       "    </tr>\n",
       "    <tr>\n",
       "      <th>42</th>\n",
       "      <td>and their little children to fill the house an...</td>\n",
       "      <td>351.125799</td>\n",
       "      <td>915.925974</td>\n",
       "      <td>4.092548e+08</td>\n",
       "    </tr>\n",
       "    <tr>\n",
       "      <th>4</th>\n",
       "      <td>but it was a black morning's work for her</td>\n",
       "      <td>355.593099</td>\n",
       "      <td>374.456062</td>\n",
       "      <td>1.456331e+08</td>\n",
       "    </tr>\n",
       "    <tr>\n",
       "      <th>3</th>\n",
       "      <td>ChatGPT is not the singularity</td>\n",
       "      <td>360.228911</td>\n",
       "      <td>2157.273510</td>\n",
       "      <td>4.042466e+08</td>\n",
       "    </tr>\n",
       "    <tr>\n",
       "      <th>7</th>\n",
       "      <td>how she had taught and how she had played with...</td>\n",
       "      <td>369.322499</td>\n",
       "      <td>595.670415</td>\n",
       "      <td>4.916817e+08</td>\n",
       "    </tr>\n",
       "    <tr>\n",
       "      <th>16</th>\n",
       "      <td>interested in all its concerns</td>\n",
       "      <td>387.355146</td>\n",
       "      <td>1492.665515</td>\n",
       "      <td>5.331457e+08</td>\n",
       "    </tr>\n",
       "    <tr>\n",
       "      <th>26</th>\n",
       "      <td>she was now in great danger of suffering from ...</td>\n",
       "      <td>414.229482</td>\n",
       "      <td>1045.424794</td>\n",
       "      <td>3.159413e+08</td>\n",
       "    </tr>\n",
       "    <tr>\n",
       "      <th>27</th>\n",
       "      <td>She dearly loved her father</td>\n",
       "      <td>415.554145</td>\n",
       "      <td>593.400263</td>\n",
       "      <td>4.832251e+08</td>\n",
       "    </tr>\n",
       "    <tr>\n",
       "      <th>8</th>\n",
       "      <td>how she had devoted all her powers to attach a...</td>\n",
       "      <td>417.978057</td>\n",
       "      <td>1076.814874</td>\n",
       "      <td>5.107004e+08</td>\n",
       "    </tr>\n",
       "    <tr>\n",
       "      <th>32</th>\n",
       "      <td>was much increased by his constitution and hab...</td>\n",
       "      <td>426.474016</td>\n",
       "      <td>1413.534140</td>\n",
       "      <td>5.331456e+08</td>\n",
       "    </tr>\n",
       "    <tr>\n",
       "      <th>29</th>\n",
       "      <td>He could not meet her in conversation rational...</td>\n",
       "      <td>439.137916</td>\n",
       "      <td>1073.155781</td>\n",
       "      <td>3.312414e+08</td>\n",
       "    </tr>\n",
       "    <tr>\n",
       "      <th>22</th>\n",
       "      <td>but Emma was aware that great must be the diff...</td>\n",
       "      <td>452.540553</td>\n",
       "      <td>1220.310528</td>\n",
       "      <td>4.375207e+08</td>\n",
       "    </tr>\n",
       "    <tr>\n",
       "      <th>34</th>\n",
       "      <td>without activity of mind or body</td>\n",
       "      <td>467.092383</td>\n",
       "      <td>2652.610549</td>\n",
       "      <td>5.331457e+08</td>\n",
       "    </tr>\n",
       "    <tr>\n",
       "      <th>36</th>\n",
       "      <td>and though everywhere beloved for the friendli...</td>\n",
       "      <td>484.305559</td>\n",
       "      <td>740.274653</td>\n",
       "      <td>4.004611e+08</td>\n",
       "    </tr>\n",
       "    <tr>\n",
       "      <th>41</th>\n",
       "      <td>before Christmas brought the next visit from I...</td>\n",
       "      <td>493.141205</td>\n",
       "      <td>1232.391812</td>\n",
       "      <td>4.079063e+08</td>\n",
       "    </tr>\n",
       "    <tr>\n",
       "      <th>17</th>\n",
       "      <td>and peculiarly interested in herself in every ...</td>\n",
       "      <td>507.679927</td>\n",
       "      <td>1280.720903</td>\n",
       "      <td>5.075720e+08</td>\n",
       "    </tr>\n",
       "    <tr>\n",
       "      <th>13</th>\n",
       "      <td>on their being left to each other was yet a de...</td>\n",
       "      <td>514.215133</td>\n",
       "      <td>994.087317</td>\n",
       "      <td>4.253864e+08</td>\n",
       "    </tr>\n",
       "    <tr>\n",
       "      <th>6</th>\n",
       "      <td>She recalled her past kindness the kindness th...</td>\n",
       "      <td>524.871605</td>\n",
       "      <td>2247.129838</td>\n",
       "      <td>4.931411e+08</td>\n",
       "    </tr>\n",
       "    <tr>\n",
       "      <th>30</th>\n",
       "      <td>The evil of the actual disparity in their ages</td>\n",
       "      <td>580.848048</td>\n",
       "      <td>1125.775844</td>\n",
       "      <td>4.704408e+08</td>\n",
       "    </tr>\n",
       "    <tr>\n",
       "      <th>9</th>\n",
       "      <td>and how nursed her through the various illness...</td>\n",
       "      <td>622.336616</td>\n",
       "      <td>1504.599835</td>\n",
       "      <td>4.369085e+08</td>\n",
       "    </tr>\n",
       "    <tr>\n",
       "      <th>38</th>\n",
       "      <td>Her sister though comparatively but little rem...</td>\n",
       "      <td>625.172168</td>\n",
       "      <td>2391.146469</td>\n",
       "      <td>4.827616e+08</td>\n",
       "    </tr>\n",
       "    <tr>\n",
       "      <th>40</th>\n",
       "      <td>and many a long October and November evening m...</td>\n",
       "      <td>740.976432</td>\n",
       "      <td>1971.313832</td>\n",
       "      <td>4.770083e+08</td>\n",
       "    </tr>\n",
       "    <tr>\n",
       "      <th>10</th>\n",
       "      <td>A large debt of gratitude was owing here</td>\n",
       "      <td>753.127065</td>\n",
       "      <td>2521.554842</td>\n",
       "      <td>4.976894e+08</td>\n",
       "    </tr>\n",
       "    <tr>\n",
       "      <th>39</th>\n",
       "      <td>being settled in London only sixteen miles off...</td>\n",
       "      <td>931.711477</td>\n",
       "      <td>2445.564164</td>\n",
       "      <td>5.331457e+08</td>\n",
       "    </tr>\n",
       "    <tr>\n",
       "      <th>12</th>\n",
       "      <td>the equal footing and perfect unreserve which ...</td>\n",
       "      <td>933.547236</td>\n",
       "      <td>2654.412831</td>\n",
       "      <td>5.331457e+08</td>\n",
       "    </tr>\n",
       "    <tr>\n",
       "      <th>2</th>\n",
       "      <td>Mr Weston was a man of unexceptionable charact...</td>\n",
       "      <td>1046.392245</td>\n",
       "      <td>2081.548055</td>\n",
       "      <td>4.159974e+08</td>\n",
       "    </tr>\n",
       "    <tr>\n",
       "      <th>0</th>\n",
       "      <td>the quick brown fox jumped over the lazy dogs</td>\n",
       "      <td>2299.624525</td>\n",
       "      <td>3698.759702</td>\n",
       "      <td>5.331457e+08</td>\n",
       "    </tr>\n",
       "  </tbody>\n",
       "</table>\n",
       "</div>"
      ],
      "text/plain": [
       "                                                   sent_str          pp0  \\\n",
       "sent_num                                                                   \n",
       "28                         but he was no companion for her    121.684065   \n",
       "20                          How was she to bear the change    143.174095   \n",
       "24                          and a Miss Taylor in the house    169.463176   \n",
       "15                      knowing all the ways of the family    202.585766   \n",
       "1         The event had every promise of happiness for h...   235.702669   \n",
       "11             but the intercourse of the last seven years    247.654829   \n",
       "33           for having been a valetudinarian all his life    247.872617   \n",
       "25        and with all her advantages natural and domestic    255.775900   \n",
       "19        and who had such an affection for her as could...   268.413488   \n",
       "18        one to whom she could speak every thought as i...   272.946284   \n",
       "14        She had been a friend and companion such as fe...   281.532442   \n",
       "23                              only half a mile from them    282.669982   \n",
       "21        It was true that her friend was going only hal...   285.061645   \n",
       "31                   and Mr Woodhouse had not married early   296.222912   \n",
       "37        his talents could not have recommended him at ...   314.674441   \n",
       "35           he was a much older man in ways than in years    320.822846   \n",
       "5         The want of Miss Taylor would be felt every ho...   342.563372   \n",
       "42        and their little children to fill the house an...   351.125799   \n",
       "4                but it was a black morning's work for her    355.593099   \n",
       "3                            ChatGPT is not the singularity   360.228911   \n",
       "7         how she had taught and how she had played with...   369.322499   \n",
       "16                          interested in all its concerns    387.355146   \n",
       "26        she was now in great danger of suffering from ...   414.229482   \n",
       "27                             She dearly loved her father    415.554145   \n",
       "8         how she had devoted all her powers to attach a...   417.978057   \n",
       "32        was much increased by his constitution and hab...   426.474016   \n",
       "29        He could not meet her in conversation rational...   439.137916   \n",
       "22        but Emma was aware that great must be the diff...   452.540553   \n",
       "34                        without activity of mind or body    467.092383   \n",
       "36        and though everywhere beloved for the friendli...   484.305559   \n",
       "41        before Christmas brought the next visit from I...   493.141205   \n",
       "17        and peculiarly interested in herself in every ...   507.679927   \n",
       "13        on their being left to each other was yet a de...   514.215133   \n",
       "6         She recalled her past kindness the kindness th...   524.871605   \n",
       "30           The evil of the actual disparity in their ages   580.848048   \n",
       "9         and how nursed her through the various illness...   622.336616   \n",
       "38        Her sister though comparatively but little rem...   625.172168   \n",
       "40        and many a long October and November evening m...   740.976432   \n",
       "10                A large debt of gratitude was owing here    753.127065   \n",
       "39        being settled in London only sixteen miles off...   931.711477   \n",
       "12        the equal footing and perfect unreserve which ...   933.547236   \n",
       "2         Mr Weston was a man of unexceptionable charact...  1046.392245   \n",
       "0             the quick brown fox jumped over the lazy dogs  2299.624525   \n",
       "\n",
       "                  pp1           pp2  \n",
       "sent_num                             \n",
       "28         143.789682  1.967799e+08  \n",
       "20         705.529866  3.874804e+08  \n",
       "24         381.865321  2.189530e+08  \n",
       "15         508.329765  3.121303e+08  \n",
       "1          620.168741  4.596415e+08  \n",
       "11         405.330102  2.967378e+08  \n",
       "33         468.541793  4.335868e+08  \n",
       "25        1043.362548  2.889590e+08  \n",
       "19         347.574231  3.497075e+08  \n",
       "18         694.273933  5.056563e+08  \n",
       "14         558.544445  2.084412e+08  \n",
       "23         505.571207  3.593247e+08  \n",
       "21         428.986651  3.165778e+08  \n",
       "31        1121.834439  4.049272e+08  \n",
       "37         529.697172  3.538456e+08  \n",
       "35         815.584010  3.275178e+08  \n",
       "5          539.289049  3.683143e+08  \n",
       "42         915.925974  4.092548e+08  \n",
       "4          374.456062  1.456331e+08  \n",
       "3         2157.273510  4.042466e+08  \n",
       "7          595.670415  4.916817e+08  \n",
       "16        1492.665515  5.331457e+08  \n",
       "26        1045.424794  3.159413e+08  \n",
       "27         593.400263  4.832251e+08  \n",
       "8         1076.814874  5.107004e+08  \n",
       "32        1413.534140  5.331456e+08  \n",
       "29        1073.155781  3.312414e+08  \n",
       "22        1220.310528  4.375207e+08  \n",
       "34        2652.610549  5.331457e+08  \n",
       "36         740.274653  4.004611e+08  \n",
       "41        1232.391812  4.079063e+08  \n",
       "17        1280.720903  5.075720e+08  \n",
       "13         994.087317  4.253864e+08  \n",
       "6         2247.129838  4.931411e+08  \n",
       "30        1125.775844  4.704408e+08  \n",
       "9         1504.599835  4.369085e+08  \n",
       "38        2391.146469  4.827616e+08  \n",
       "40        1971.313832  4.770083e+08  \n",
       "10        2521.554842  4.976894e+08  \n",
       "39        2445.564164  5.331457e+08  \n",
       "12        2654.412831  5.331457e+08  \n",
       "2         2081.548055  4.159974e+08  \n",
       "0         3698.759702  5.331457e+08  "
      ]
     },
     "execution_count": 72,
     "metadata": {},
     "output_type": "execute_result"
    }
   ],
   "source": [
    "PP.sort_values('pp0')"
   ]
  },
  {
   "cell_type": "code",
   "execution_count": 40,
   "id": "ca1846ef-01b7-475e-9635-62082b1d39ab",
   "metadata": {
    "tags": []
   },
   "outputs": [],
   "source": [
    "# T0 = TEST_NGRAMS.merge(M[0], on=['w0'], how='left')\n",
    "# T0.index = TEST_NGRAMS.index\n",
    "# TEST_SENTS['pp0'] = np.exp2(T0.groupby('sent_num').i.mean())\n",
    "\n",
    "# T1 = TEST_NGRAMS.merge(M[1], on=['w0','w1'], how='left')\n",
    "# T1.index = TEST_NGRAMS.index\n",
    "# TEST_SENTS['pp1']= np.exp2(T1.groupby('sent_num').ci.mean())\n",
    "\n",
    "# T2 = TEST_NGRAMS.merge(M[2], on=['w0','w1','w2'], how='left')\n",
    "# T2.index = TEST_NGRAMS.index\n",
    "# TEST_SENTS['pp2']= np.exp2(T2.groupby('sent_num').ci.mean())"
   ]
  },
  {
   "cell_type": "markdown",
   "id": "24032f78-c7a4-46c4-9516-cbf8a8e7a688",
   "metadata": {},
   "source": [
    "# Model Perplexity"
   ]
  },
  {
   "cell_type": "code",
   "execution_count": 41,
   "id": "ca8f9f13-c9ee-4cd4-88eb-40c075451d08",
   "metadata": {
    "tags": []
   },
   "outputs": [],
   "source": [
    "# R.groupby('sent_num').mean().mean().plot.bar();"
   ]
  },
  {
   "cell_type": "code",
   "execution_count": 42,
   "id": "40d872a2-a282-4b46-8f19-4c8c213508bc",
   "metadata": {
    "tags": []
   },
   "outputs": [
    {
     "data": {
      "image/png": "[encoded data removed]",
      "text/plain": [
       "<Figure size 640x480 with 1 Axes>"
      ]
     },
     "metadata": {},
     "output_type": "display_data"
    }
   ],
   "source": [
    "np.exp2(R.mean()).plot.bar(rot=0);"
   ]
  },
  {
   "cell_type": "code",
   "execution_count": 43,
   "id": "46719610-f3bb-4358-9b75-a09e4aacfefe",
   "metadata": {},
   "outputs": [
    {
     "data": {
      "text/html": [
       "<style type=\"text/css\">\n",
       "#T_303f3_row0_col0, #T_303f3_row1_col1, #T_303f3_row2_col2 {\n",
       "  background-color: #023858;\n",
       "  color: #f1f1f1;\n",
       "}\n",
       "#T_303f3_row0_col1, #T_303f3_row1_col0 {\n",
       "  background-color: #73a9cf;\n",
       "  color: #f1f1f1;\n",
       "}\n",
       "#T_303f3_row0_col2, #T_303f3_row2_col0 {\n",
       "  background-color: #fff7fb;\n",
       "  color: #000000;\n",
       "}\n",
       "#T_303f3_row1_col2, #T_303f3_row2_col1 {\n",
       "  background-color: #f2ecf5;\n",
       "  color: #000000;\n",
       "}\n",
       "</style>\n",
       "<table id=\"T_303f3\">\n",
       "  <thead>\n",
       "    <tr>\n",
       "      <th class=\"blank level0\" >&nbsp;</th>\n",
       "      <th id=\"T_303f3_level0_col0\" class=\"col_heading level0 col0\" >pp0</th>\n",
       "      <th id=\"T_303f3_level0_col1\" class=\"col_heading level0 col1\" >pp1</th>\n",
       "      <th id=\"T_303f3_level0_col2\" class=\"col_heading level0 col2\" >pp2</th>\n",
       "    </tr>\n",
       "  </thead>\n",
       "  <tbody>\n",
       "    <tr>\n",
       "      <th id=\"T_303f3_level0_row0\" class=\"row_heading level0 row0\" >pp0</th>\n",
       "      <td id=\"T_303f3_row0_col0\" class=\"data row0 col0\" >1.000000</td>\n",
       "      <td id=\"T_303f3_row0_col1\" class=\"data row0 col1\" >0.798902</td>\n",
       "      <td id=\"T_303f3_row0_col2\" class=\"data row0 col2\" >0.595819</td>\n",
       "    </tr>\n",
       "    <tr>\n",
       "      <th id=\"T_303f3_level0_row1\" class=\"row_heading level0 row1\" >pp1</th>\n",
       "      <td id=\"T_303f3_row1_col0\" class=\"data row1 col0\" >0.798902</td>\n",
       "      <td id=\"T_303f3_row1_col1\" class=\"data row1 col1\" >1.000000</td>\n",
       "      <td id=\"T_303f3_row1_col2\" class=\"data row1 col2\" >0.629656</td>\n",
       "    </tr>\n",
       "    <tr>\n",
       "      <th id=\"T_303f3_level0_row2\" class=\"row_heading level0 row2\" >pp2</th>\n",
       "      <td id=\"T_303f3_row2_col0\" class=\"data row2 col0\" >0.595819</td>\n",
       "      <td id=\"T_303f3_row2_col1\" class=\"data row2 col1\" >0.629656</td>\n",
       "      <td id=\"T_303f3_row2_col2\" class=\"data row2 col2\" >1.000000</td>\n",
       "    </tr>\n",
       "  </tbody>\n",
       "</table>\n"
      ],
      "text/plain": [
       "<pandas.io.formats.style.Styler at 0x14c57b510>"
      ]
     },
     "execution_count": 43,
     "metadata": {},
     "output_type": "execute_result"
    }
   ],
   "source": [
    "PP.iloc[:,1:].corr().style.background_gradient(axis=None)"
   ]
  },
  {
   "cell_type": "code",
   "execution_count": 44,
   "id": "90e60b39-9083-40ed-aeec-51b7634b8ed4",
   "metadata": {
    "tags": []
   },
   "outputs": [],
   "source": [
    "# PP.iloc[:,1:].corr().unstack().sort_values(ascending=False).reset_index().query(\"level_0 < level_1\").set_index(['level_0','level_1'])"
   ]
  },
  {
   "cell_type": "markdown",
   "id": "4449a7e3-f517-4444-b070-b5684f77ce1f",
   "metadata": {},
   "source": [
    "# Visualize"
   ]
  },
  {
   "cell_type": "code",
   "execution_count": 45,
   "id": "6f711966-3d58-4054-819c-79648bf1a779",
   "metadata": {},
   "outputs": [],
   "source": [
    "Z = TEST_SENTS.copy()\n",
    "Z['sent_str'] = Z.sent_str.str.replace('<s> ', '').str.replace(' </s>', '')\n",
    "Z = Z.set_index('sent_str')\n",
    "Z = (Z - Z.mean()) / Z.std()"
   ]
  },
  {
   "cell_type": "code",
   "execution_count": 46,
   "id": "d82d64e2-710f-4cfc-876e-3c1eb9f95dc9",
   "metadata": {},
   "outputs": [],
   "source": [
    "Z['pp_mean'] = Z.mean(axis=1) # Just for sorting purposes"
   ]
  },
  {
   "cell_type": "code",
   "execution_count": 47,
   "id": "f9d2b02a-b137-4abb-8d89-6412d623a83b",
   "metadata": {},
   "outputs": [
    {
     "data": {
      "image/png": "[encoded data removed]",
      "text/plain": [
       "<Figure size 500x1500 with 1 Axes>"
      ]
     },
     "metadata": {},
     "output_type": "display_data"
    }
   ],
   "source": [
    "Z.sort_values('pp_mean', ascending=False).plot.barh(figsize=(5,15));"
   ]
  },
  {
   "cell_type": "markdown",
   "id": "ef674cc2-b528-47e6-b0e0-1b1f2ecded3a",
   "metadata": {},
   "source": [
    "# Generate Text"
   ]
  },
  {
   "cell_type": "code",
   "execution_count": 48,
   "id": "389f3c33-3f45-4a71-a195-0cb44591f399",
   "metadata": {},
   "outputs": [],
   "source": [
    "def generate_text(M, n=250):\n",
    "    \n",
    "    if len(M) < 3:\n",
    "        raise ValueError(\"Must have trigram model generated.\")\n",
    "    \n",
    "    # Start list of words\n",
    "    first_word = M[1].loc['<s>'].sample(weights='cp').index[0]\n",
    "    \n",
    "    words = ['<s>', first_word]\n",
    "    \n",
    "    for i in range(n):\n",
    "        \n",
    "        bg = tuple(words[-2:])\n",
    "\n",
    "        # Try trigram model\n",
    "        try:\n",
    "            next_word = M[2].loc[bg].sample(weights='cp').index[0]\n",
    "\n",
    "        # If not found in model, back off ...\n",
    "        except KeyError as e1:\n",
    "            try:\n",
    "                # Get the last word in the bigram\n",
    "                ug = bg[1]\n",
    "                next_word = M[1].loc[ug].sample(weights='cp').index[0]\n",
    "            \n",
    "            except KeyError as e2:\n",
    "                next_word = M[0].sample(weights='p').index[0]\n",
    "                \n",
    "        words.append(next_word)\n",
    "    \n",
    "    \n",
    "    text = ' '.join(words[2:])\n",
    "    print('\\n\\n'.join([str(i+1) + ' ' + line.replace('<s>','').strip().upper() for i, line in enumerate(text.split('</s>'))]))"
   ]
  },
  {
   "cell_type": "code",
   "execution_count": 49,
   "id": "488c1317-23bc-47f5-9927-ba4e4a548c10",
   "metadata": {},
   "outputs": [
    {
     "name": "stdout",
     "output_type": "stream",
     "text": [
      "1 I ADMIRE YOUR TASTE VERY MUCH UNDER HUNG A LANDSCAPE IN COLOURED SILKS OF HER OWN CONDUCT\n",
      "\n",
      "2 CHARLES MUSGROVE S RECOVERY MIGHT YET RECLAIM HIM\n",
      "\n",
      "3 DOWN THE CENTRE OF THEIR FUTURE HAPPINESS IN BEING MORE HIGHLY VALUED\n",
      "\n",
      "4 RIGHT MOMENT OCCURS\n",
      "\n",
      "5 MRS\n",
      "\n",
      "6 LIFE CAN DO\n",
      "\n",
      "7 AS SHE SAT DOWN AND FOR THAT\n",
      "\n",
      "8 HIM AND IN A VERY AGREEABLE THAT HE EVER BE ABLE TO GIVE HIS OPINION HOWEVER MADE SOME LITTLE PRESENT OF SHEWING THEM WITH SUCH TREMULOUS FEELING THE THOROUGH WANT OF SPIRIT OR LISTENED TO HER ELDEST DAUGHTER\n",
      "\n",
      "9 DIFFERENT SITUATIONS IN LIFE AND THAT MR\n",
      "\n",
      "10 A FEW DAYS BUT IT WOULD BE A DOUBT\n",
      "\n",
      "11 \n",
      "\n",
      "12 LET ME SAY IN DISSENT\n",
      "\n",
      "13 MAY MORE THAN HAD BEEN FORMED\n",
      "\n",
      "14 TOOK CARE TO HAVE INCREASED\n",
      "\n",
      "15 TWO\n",
      "\n",
      "16 I BELIEVE MRS CHARLES MUSGROVE BEGAN CONSEQUENTLY TO STAY\n",
      "\n",
      "17 COULD DO IT\n",
      "\n",
      "18 POCKET AND CARELESSLY SHOWING THE DIRECTION THAT IT WAS PRECISELY WHAT THEY WERE ACTUALLY SETTING FORWARD FOR UPPERCROSS WHICH MADE HIM COLD HEARTED\n",
      "\n",
      "19 THING TO HAVE SETTLED THAT THE WORLD TO THEM\n",
      "\n",
      "20 S PERFECTLY KNOWING THEIR SITUATION\n",
      "\n",
      "21 T HELP WISHING THEY HAD MARRIED\n",
      "\n",
      "22 FIRST COMING TO THE DOCTOR\n",
      "\n",
      "23 THERE HE HAS\n",
      "\n",
      "24 BE OF SOME BUSINESS AT GRAY S\n",
      "\n",
      "25 VERY GENTEELLY AND PAID TEN OR TWELVE SHILLINGS MORE THAN HER HOUSE WOULD HOLD AND THE LONG EXPECTED RAP\n",
      "\n",
      "26 READ IT BROUGHT ONLY THE LOT OF THOSE INSTANCES IN WHICH SHE CONSIDERED\n"
     ]
    }
   ],
   "source": [
    "generate_text(M)"
   ]
  },
  {
   "cell_type": "code",
   "execution_count": null,
   "id": "833c552d-cdbc-424c-bb83-2c38fd88c5be",
   "metadata": {},
   "outputs": [],
   "source": []
  }
 ],
 "metadata": {
  "kernelspec": {
   "display_name": "Python 3 (ipykernel)",
   "language": "python",
   "name": "python3"
  },
  "language_info": {
   "codemirror_mode": {
    "name": "ipython",
    "version": 3
   },
   "file_extension": ".py",
   "mimetype": "text/x-python",
   "name": "python",
   "nbconvert_exporter": "python",
   "pygments_lexer": "ipython3",
   "version": "3.11.5"
  },
  "toc-autonumbering": false,
  "widgets": {
   "application/vnd.jupyter.widget-state+json": {
    "state": {},
    "version_major": 2,
    "version_minor": 0
   }
  }
 },
 "nbformat": 4,
 "nbformat_minor": 5
}
