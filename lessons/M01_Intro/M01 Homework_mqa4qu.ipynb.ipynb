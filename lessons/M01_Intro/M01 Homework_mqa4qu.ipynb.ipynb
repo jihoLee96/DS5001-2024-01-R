{
 "cells": [
  {
   "cell_type": "markdown",
   "id": "1573fa1a-2d76-4ce9-a080-dcd9f5d4be6b",
   "metadata": {
    "jp-MarkdownHeadingCollapsed": true
   },
   "source": [
    "# M01 Homework\n",
    "\n",
    "```yaml\n",
    "Name:   Ji Hyun Kim\n",
    "Computing ID: mqa4qu\n",
    "Code Guide: M01_03_first_foray.ipynb\n",
    "Topic: M01 Homework\n",
    "```"
   ]
  },
  {
   "cell_type": "markdown",
   "id": "0f2da810-0ff3-4194-a9e6-c63809dad664",
   "metadata": {},
   "source": [
    "# 0. Setup to Dataframe"
   ]
  },
  {
   "cell_type": "markdown",
   "id": "b519092a-bbf9-48d2-9327-5ef7983b9325",
   "metadata": {},
   "source": [
    "### 0.1 Set up"
   ]
  },
  {
   "cell_type": "code",
   "execution_count": 2,
   "id": "927b10cc-c22c-46b6-a91e-cfb8a41dd508",
   "metadata": {},
   "outputs": [],
   "source": [
    "import pandas as pd\n",
    "import configparser\n",
    "config = configparser.ConfigParser()"
   ]
  },
  {
   "cell_type": "code",
   "execution_count": 3,
   "id": "ee686e91-ee6c-4929-b605-36b32ddef480",
   "metadata": {},
   "outputs": [],
   "source": [
    "config.read(\"../../../env.ini\")\n",
    "data_home = config['DEFAULT']['data_home']\n",
    "output_dir = config['DEFAULT']['output_dir']"
   ]
  },
  {
   "cell_type": "code",
   "execution_count": 4,
   "id": "b75691b9-0686-4a6f-91db-f511b4524706",
   "metadata": {},
   "outputs": [],
   "source": [
    "# data_home, output_dir"
   ]
  },
  {
   "cell_type": "markdown",
   "id": "2c7618ba-4393-4871-8fec-87a8f96ebc1e",
   "metadata": {},
   "source": [
    "### 0.2 Import File"
   ]
  },
  {
   "cell_type": "code",
   "execution_count": 5,
   "id": "19148a64-3538-492b-b230-ea23ecb1fd39",
   "metadata": {},
   "outputs": [
    {
     "name": "stdout",
     "output_type": "stream",
     "text": [
      "total 0\n",
      "drwxr-xr-x  9 jihyunkim  staff  288 Jan 21 20:24 \u001b[34mgutenberg\u001b[m\u001b[m\n"
     ]
    }
   ],
   "source": [
    "!ls -l {data_home}"
   ]
  },
  {
   "cell_type": "code",
   "execution_count": 6,
   "id": "f10e3d95-2a3f-4f42-afb2-480fc7777ef5",
   "metadata": {},
   "outputs": [],
   "source": [
    "src_file = f\"{data_home}/gutenberg/pg42324.txt\""
   ]
  },
  {
   "cell_type": "markdown",
   "id": "14862056-150c-4fc2-b003-ae695ec8612a",
   "metadata": {},
   "source": [
    "### 0.3 Dataframe of lines & Remove Line Breaks"
   ]
  },
  {
   "cell_type": "code",
   "execution_count": 7,
   "id": "2ffae8cc-cb15-4064-96da-47f2db62d713",
   "metadata": {},
   "outputs": [
    {
     "data": {
      "text/plain": [
       "['\\ufeffThe Project Gutenberg EBook of Frankenstein, by Mary W. Shelley',\n",
       " 'This eBook is for the use of anyone anywhere at no cost and with',\n",
       " 'almost no restrictions whatsoever.  You may copy it, give it away or',\n",
       " 're-use it under the terms of the Project Gutenberg License included',\n",
       " 'with this eBook or online at www.gutenberg.org']"
      ]
     },
     "execution_count": 7,
     "metadata": {},
     "output_type": "execute_result"
    }
   ],
   "source": [
    "file = open(src_file, 'r')\n",
    "lines = []\n",
    "for line in file:\n",
    "    if line.strip():\n",
    "        lines.append(line.strip())\n",
    "file.close()\n",
    "lines[:5]"
   ]
  },
  {
   "cell_type": "markdown",
   "id": "9f75dac0-ff70-43b9-83b4-6a4f55a23095",
   "metadata": {},
   "source": [
    "# 0. Question (Question 1 on Gradescope)\n",
    "What is the title of the novel associated with the text file?<br>\n",
    "Answer: <b>Frankenstein</b> "
   ]
  },
  {
   "cell_type": "code",
   "execution_count": 13,
   "id": "64c38cdf-6ffb-4577-9a94-ee935c2faa73",
   "metadata": {},
   "outputs": [
    {
     "data": {
      "text/html": [
       "<div>\n",
       "<style scoped>\n",
       "    .dataframe tbody tr th:only-of-type {\n",
       "        vertical-align: middle;\n",
       "    }\n",
       "\n",
       "    .dataframe tbody tr th {\n",
       "        vertical-align: top;\n",
       "    }\n",
       "\n",
       "    .dataframe thead th {\n",
       "        text-align: right;\n",
       "    }\n",
       "</style>\n",
       "<table border=\"1\" class=\"dataframe\">\n",
       "  <thead>\n",
       "    <tr style=\"text-align: right;\">\n",
       "      <th></th>\n",
       "      <th>line_str</th>\n",
       "    </tr>\n",
       "    <tr>\n",
       "      <th>line_num</th>\n",
       "      <th></th>\n",
       "    </tr>\n",
       "  </thead>\n",
       "  <tbody>\n",
       "    <tr>\n",
       "      <th>0</th>\n",
       "      <td>﻿The Project Gutenberg EBook of Frankenstein, ...</td>\n",
       "    </tr>\n",
       "    <tr>\n",
       "      <th>1</th>\n",
       "      <td>This eBook is for the use of anyone anywhere a...</td>\n",
       "    </tr>\n",
       "    <tr>\n",
       "      <th>2</th>\n",
       "      <td>almost no restrictions whatsoever.  You may co...</td>\n",
       "    </tr>\n",
       "    <tr>\n",
       "      <th>3</th>\n",
       "      <td>re-use it under the terms of the Project Guten...</td>\n",
       "    </tr>\n",
       "    <tr>\n",
       "      <th>4</th>\n",
       "      <td>with this eBook or online at www.gutenberg.org</td>\n",
       "    </tr>\n",
       "    <tr>\n",
       "      <th>5</th>\n",
       "      <td>Title: Frankenstein</td>\n",
       "    </tr>\n",
       "    <tr>\n",
       "      <th>6</th>\n",
       "      <td>or, The Modern Prometheus</td>\n",
       "    </tr>\n",
       "    <tr>\n",
       "      <th>7</th>\n",
       "      <td>Author: Mary W. Shelley</td>\n",
       "    </tr>\n",
       "    <tr>\n",
       "      <th>8</th>\n",
       "      <td>Release Date: March 13, 2013 [EBook #42324]</td>\n",
       "    </tr>\n",
       "    <tr>\n",
       "      <th>9</th>\n",
       "      <td>Language: English</td>\n",
       "    </tr>\n",
       "  </tbody>\n",
       "</table>\n",
       "</div>"
      ],
      "text/plain": [
       "                                                   line_str\n",
       "line_num                                                   \n",
       "0         ﻿The Project Gutenberg EBook of Frankenstein, ...\n",
       "1         This eBook is for the use of anyone anywhere a...\n",
       "2         almost no restrictions whatsoever.  You may co...\n",
       "3         re-use it under the terms of the Project Guten...\n",
       "4            with this eBook or online at www.gutenberg.org\n",
       "5                                       Title: Frankenstein\n",
       "6                                 or, The Modern Prometheus\n",
       "7                                   Author: Mary W. Shelley\n",
       "8               Release Date: March 13, 2013 [EBook #42324]\n",
       "9                                         Language: English"
      ]
     },
     "execution_count": 13,
     "metadata": {},
     "output_type": "execute_result"
    }
   ],
   "source": [
    "text = pd.DataFrame(lines, columns=['line_str'])\n",
    "text.index.name = 'line_num';\n",
    "text.line_str = text.line_str.str.replace('\\n+', ' ', regex=True).str.strip()\n",
    "text.head(10)"
   ]
  },
  {
   "cell_type": "code",
   "execution_count": 9,
   "id": "a7aae2e1-d337-43b0-9603-04b0fca36d0f",
   "metadata": {},
   "outputs": [],
   "source": [
    "# text.shape"
   ]
  },
  {
   "cell_type": "markdown",
   "id": "4b32b0d6-d96e-409c-8e2b-9fc951949eb3",
   "metadata": {},
   "source": [
    "# 1. Question 1\n",
    "How many tokens does the raw text have? By raw text, we mean the text as-is, without all of the Gutenberg boilerplate removed.<br>\n",
    "Answer: <b>80985</b> tokens"
   ]
  },
  {
   "cell_type": "markdown",
   "id": "3385cc77-d84c-4deb-86c2-fc51ac72f337",
   "metadata": {},
   "source": [
    "### 1.1 Lines to Tokens\n",
    "`K`: A dataframe of tokens."
   ]
  },
  {
   "cell_type": "code",
   "execution_count": 10,
   "id": "6e62b59f-6e0b-4365-8dc1-bdc3540fb51b",
   "metadata": {},
   "outputs": [
    {
     "data": {
      "text/html": [
       "<div>\n",
       "<style scoped>\n",
       "    .dataframe tbody tr th:only-of-type {\n",
       "        vertical-align: middle;\n",
       "    }\n",
       "\n",
       "    .dataframe tbody tr th {\n",
       "        vertical-align: top;\n",
       "    }\n",
       "\n",
       "    .dataframe thead th {\n",
       "        text-align: right;\n",
       "    }\n",
       "</style>\n",
       "<table border=\"1\" class=\"dataframe\">\n",
       "  <thead>\n",
       "    <tr style=\"text-align: right;\">\n",
       "      <th></th>\n",
       "      <th></th>\n",
       "      <th>token_str</th>\n",
       "    </tr>\n",
       "    <tr>\n",
       "      <th>line_num</th>\n",
       "      <th>token_num</th>\n",
       "      <th></th>\n",
       "    </tr>\n",
       "  </thead>\n",
       "  <tbody>\n",
       "    <tr>\n",
       "      <th rowspan=\"5\" valign=\"top\">0</th>\n",
       "      <th>0</th>\n",
       "      <td>﻿The</td>\n",
       "    </tr>\n",
       "    <tr>\n",
       "      <th>1</th>\n",
       "      <td>Project</td>\n",
       "    </tr>\n",
       "    <tr>\n",
       "      <th>2</th>\n",
       "      <td>Gutenberg</td>\n",
       "    </tr>\n",
       "    <tr>\n",
       "      <th>3</th>\n",
       "      <td>EBook</td>\n",
       "    </tr>\n",
       "    <tr>\n",
       "      <th>4</th>\n",
       "      <td>of</td>\n",
       "    </tr>\n",
       "    <tr>\n",
       "      <th>...</th>\n",
       "      <th>...</th>\n",
       "      <td>...</td>\n",
       "    </tr>\n",
       "    <tr>\n",
       "      <th rowspan=\"5\" valign=\"top\">6971</th>\n",
       "      <th>5</th>\n",
       "      <td>to</td>\n",
       "    </tr>\n",
       "    <tr>\n",
       "      <th>6</th>\n",
       "      <td>hear</td>\n",
       "    </tr>\n",
       "    <tr>\n",
       "      <th>7</th>\n",
       "      <td>about</td>\n",
       "    </tr>\n",
       "    <tr>\n",
       "      <th>8</th>\n",
       "      <td>new</td>\n",
       "    </tr>\n",
       "    <tr>\n",
       "      <th>9</th>\n",
       "      <td>eBooks.</td>\n",
       "    </tr>\n",
       "  </tbody>\n",
       "</table>\n",
       "<p>80985 rows × 1 columns</p>\n",
       "</div>"
      ],
      "text/plain": [
       "                    token_str\n",
       "line_num token_num           \n",
       "0        0               ﻿The\n",
       "         1            Project\n",
       "         2          Gutenberg\n",
       "         3              EBook\n",
       "         4                 of\n",
       "...                       ...\n",
       "6971     5                 to\n",
       "         6               hear\n",
       "         7              about\n",
       "         8                new\n",
       "         9            eBooks.\n",
       "\n",
       "[80985 rows x 1 columns]"
      ]
     },
     "execution_count": 10,
     "metadata": {},
     "output_type": "execute_result"
    }
   ],
   "source": [
    "K = text.line_str.str.split(expand=True).stack().to_frame('token_str')\n",
    "K.index.names = ['line_num','token_num']\n",
    "K"
   ]
  },
  {
   "cell_type": "markdown",
   "id": "b883bfc7-30d9-4e7b-8409-d3256d9c0430",
   "metadata": {},
   "source": [
    "# 2. Question 2\n",
    "What is the most frequent pronoun in the text? <br>\n",
    "Answer: <b>I</b> was written <b>2918</b> times, which is the most frequent amongst pronouns."
   ]
  },
  {
   "cell_type": "markdown",
   "id": "24bf585c-f0f1-4c1c-a7a3-4f3a9b755268",
   "metadata": {},
   "source": [
    "### 2.1 Cleaning"
   ]
  },
  {
   "cell_type": "code",
   "execution_count": 11,
   "id": "71860ff7-d3f9-4e01-b88b-8c4531b7b2b5",
   "metadata": {},
   "outputs": [],
   "source": [
    "K['term_str'] = K.token_str.str.replace(r'\\W+', '', regex=True).str.lower()\n",
    "# K.sample(20)"
   ]
  },
  {
   "cell_type": "markdown",
   "id": "2294ac45-24b6-4037-bd5a-f7bf1c4c7771",
   "metadata": {},
   "source": [
    "### 2.2 Extract\n",
    "`V`: Vocabulary"
   ]
  },
  {
   "cell_type": "code",
   "execution_count": 12,
   "id": "4ce773ab-923e-4432-9430-490c90e8806d",
   "metadata": {},
   "outputs": [
    {
     "data": {
      "text/html": [
       "<div>\n",
       "<style scoped>\n",
       "    .dataframe tbody tr th:only-of-type {\n",
       "        vertical-align: middle;\n",
       "    }\n",
       "\n",
       "    .dataframe tbody tr th {\n",
       "        vertical-align: top;\n",
       "    }\n",
       "\n",
       "    .dataframe thead th {\n",
       "        text-align: right;\n",
       "    }\n",
       "</style>\n",
       "<table border=\"1\" class=\"dataframe\">\n",
       "  <thead>\n",
       "    <tr style=\"text-align: right;\">\n",
       "      <th></th>\n",
       "      <th>n</th>\n",
       "    </tr>\n",
       "    <tr>\n",
       "      <th>term_str</th>\n",
       "      <th></th>\n",
       "    </tr>\n",
       "  </thead>\n",
       "  <tbody>\n",
       "    <tr>\n",
       "      <th>the</th>\n",
       "      <td>4575</td>\n",
       "    </tr>\n",
       "    <tr>\n",
       "      <th>and</th>\n",
       "      <td>3120</td>\n",
       "    </tr>\n",
       "    <tr>\n",
       "      <th>of</th>\n",
       "      <td>2918</td>\n",
       "    </tr>\n",
       "    <tr>\n",
       "      <th>i</th>\n",
       "      <td>2918</td>\n",
       "    </tr>\n",
       "    <tr>\n",
       "      <th>to</th>\n",
       "      <td>2257</td>\n",
       "    </tr>\n",
       "  </tbody>\n",
       "</table>\n",
       "</div>"
      ],
      "text/plain": [
       "             n\n",
       "term_str      \n",
       "the       4575\n",
       "and       3120\n",
       "of        2918\n",
       "i         2918\n",
       "to        2257"
      ]
     },
     "execution_count": 12,
     "metadata": {},
     "output_type": "execute_result"
    }
   ],
   "source": [
    "V = K.term_str.value_counts().to_frame('n')\n",
    "V.index.name = 'term_str'\n",
    "# V\n",
    "V.head(5)"
   ]
  },
  {
   "cell_type": "markdown",
   "id": "3a44fe2b-e4a2-47f1-a468-058b74771708",
   "metadata": {},
   "source": [
    "# 3. Question 3\n",
    "Which subject pronoun is most frequent in the text we imported in class? <br>\n",
    "Answer: <b>her</b> was written <b>1202</b> times, which was the most frequent amongst pronouns."
   ]
  },
  {
   "cell_type": "markdown",
   "id": "f284d129-3ed5-4223-bc5e-8bda5eef6b1a",
   "metadata": {},
   "source": [
    "# 4. Question 4\n",
    "Provide a brief explanation for this difference, based on what you may know about the two novels.<br>\n",
    "Answer:<br> <b>Frankenstein</b> is written in <b>first person point of view</b>, where the narrator talks a lot about his own emotions. Therefore, it is likely that the pronoun <b>'I'</b> was most frequently used.<br>\n",
    "On the other hand, <b>Persuasion</b>, is written in <b>third person point of view</b>, which makes it more likely that 'I' will only be used when the characters are talking. In addition, since the <b>protagonist is a female</b>, it is likely that 'her' was the most frequently used pronoun."
   ]
  }
 ],
 "metadata": {
  "kernelspec": {
   "display_name": "Python 3 (ipykernel)",
   "language": "python",
   "name": "python3"
  },
  "language_info": {
   "codemirror_mode": {
    "name": "ipython",
    "version": 3
   },
   "file_extension": ".py",
   "mimetype": "text/x-python",
   "name": "python",
   "nbconvert_exporter": "python",
   "pygments_lexer": "ipython3",
   "version": "3.11.5"
  }
 },
 "nbformat": 4,
 "nbformat_minor": 5
}
