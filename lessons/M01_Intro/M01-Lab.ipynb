{
 "cells": [
  {
   "cell_type": "markdown",
   "metadata": {
    "tags": []
   },
   "source": [
    "# M01 Homework\n",
    "\n",
    "```yaml\n",
    "Author:   JiHo Lee (qxz6hb)\n",
    "Course:   DS 5001 Exploratory Text Analytics\n",
    "```\n",
    "\n",
    "### Question 1. How many tokens does the raw text have? By raw text, we mean the text as-is, without all of the Gutenberg boilerplate removed.\n",
    "\n",
    "> 80985 tokens\n",
    "\n",
    "### Question 2. What is the most frequent pronoun in the text?\n",
    "\n",
    "> ```I``` is the most frequent pronoun in the text with 2918 times\n",
    "\n",
    "### Question 3. Which subject pronoun is most frequent in the text we imported in class? \n",
    "\n",
    "> `she` is the most frequent <b>subject pronoun</b> in the text with 1143 times.\n",
    "\n",
    "`her` is written 1202 times which is the most fruquent <b>pronoun</b>\n",
    "\n",
    "### Question 4. Provide a brief explanation for this difference, based on what you may know about the two novels.\n",
    "\n",
    "> _Frankenstein_ by Mary Shelley is written from a first-person perspective, whereas _Persuasion_ by Jane Austen is primarily written in the third-person point of view. _Frankenstein_ features narratives in first-person perspective. _Persuasion_ often describes Anne's feelings from a third-person perspective. Thus, `I` is a frequently used pronoun in _Frankenstein_, and `she` is the most frequently used subject pronoun in _Persuasion_.\n",
    "\n",
    "#### ```The code related to questions and answers with explanation is described in each corresponding section below.```"
   ]
  },
  {
   "cell_type": "markdown",
   "metadata": {
    "tags": []
   },
   "source": [
    "### Set Up"
   ]
  },
  {
   "cell_type": "code",
   "execution_count": 1,
   "metadata": {
    "tags": []
   },
   "outputs": [
    {
     "data": {
      "text/plain": [
       "'C:\\\\DS5001\\\\DS5001_2024_01_R\\\\..\\\\data'"
      ]
     },
     "execution_count": 1,
     "metadata": {},
     "output_type": "execute_result"
    }
   ],
   "source": [
    "import pandas as pd\n",
    "\n",
    "import configparser\n",
    "config = configparser.ConfigParser()\n",
    "\n",
    "config.read(\"../../../env.ini\")\n",
    "data_home = config['DEFAULT']['data_home']\n",
    "output_dir = config['DEFAULT']['output_dir']\n",
    "\n",
    "data_home = data_home.replace('/', '\\\\')\n",
    "data_home"
   ]
  },
  {
   "cell_type": "markdown",
   "metadata": {},
   "source": [
    "### Import File"
   ]
  },
  {
   "cell_type": "code",
   "execution_count": 2,
   "metadata": {
    "tags": []
   },
   "outputs": [
    {
     "data": {
      "text/plain": [
       "(['The Project Gutenberg EBook of Frankenstein, by Mary W. Shelley',\n",
       "  'This eBook is for the use of anyone anywhere at no cost and with',\n",
       "  'almost no restrictions whatsoever.  You may copy it, give it away or',\n",
       "  're-use it under the terms of the Project Gutenberg License included',\n",
       "  'with this eBook or online at www.gutenberg.org'],\n",
       " ['This Web site includes information about Project Gutenberg-tm,',\n",
       "  'including how to make donations to the Project Gutenberg Literary',\n",
       "  'Archive Foundation, how to help produce our new eBooks, and how to',\n",
       "  'subscribe to our email newsletter to hear about new eBooks.',\n",
       "  ''])"
      ]
     },
     "execution_count": 2,
     "metadata": {},
     "output_type": "execute_result"
    }
   ],
   "source": [
    "src_file = f\"{data_home}\\\\gutenberg\\\\pg42324.txt\"\n",
    "lines = open(src_file, 'r',encoding='utf-8-sig').read()\n",
    "\n",
    "lines = lines.split('\\n')\n",
    "for s in lines:\n",
    "    if s=='':\n",
    "        lines.remove('')\n",
    "lines[:5], lines[-5:]"
   ]
  },
  {
   "cell_type": "markdown",
   "metadata": {},
   "source": [
    "### Convert to Dataframe"
   ]
  },
  {
   "cell_type": "code",
   "execution_count": 3,
   "metadata": {},
   "outputs": [],
   "source": [
    "text = pd.DataFrame(lines)\n",
    "text.columns = ['line_str']\n",
    "text.index.name = 'line_num'"
   ]
  },
  {
   "cell_type": "markdown",
   "metadata": {
    "toc-hr-collapsed": false
   },
   "source": [
    "### Convert Lines to Tokens\n",
    "\n",
    "`K`: A dataframe of tokens.\n",
    "\n",
    "Note the `expand` argument to the `.split()` method."
   ]
  },
  {
   "cell_type": "markdown",
   "metadata": {},
   "source": [
    "### <mark>Quseion 1.</mark>\n",
    "\n",
    "80985 tokens"
   ]
  },
  {
   "cell_type": "code",
   "execution_count": 4,
   "metadata": {},
   "outputs": [
    {
     "data": {
      "text/plain": [
       "80985"
      ]
     },
     "execution_count": 4,
     "metadata": {},
     "output_type": "execute_result"
    }
   ],
   "source": [
    "text = pd.DataFrame(lines, columns=['chunk_str'])\n",
    "text.index.name = 'chunk_id'\n",
    "\n",
    "K = text.chunk_str.str.split(expand=True).stack().to_frame('token_str')\n",
    "K.index.names = ['chunk_num','token_num']\n",
    "\n",
    "len(K)"
   ]
  },
  {
   "cell_type": "markdown",
   "metadata": {},
   "source": [
    "### Extract a Vocabulary\n",
    "\n",
    "### <mark>Question 2.</mark>\n",
    "\n",
    "`I` is the most frequent pronoun in the text with 2918 times"
   ]
  },
  {
   "cell_type": "code",
   "execution_count": 5,
   "metadata": {},
   "outputs": [
    {
     "data": {
      "text/html": [
       "<div>\n",
       "<style scoped>\n",
       "    .dataframe tbody tr th:only-of-type {\n",
       "        vertical-align: middle;\n",
       "    }\n",
       "\n",
       "    .dataframe tbody tr th {\n",
       "        vertical-align: top;\n",
       "    }\n",
       "\n",
       "    .dataframe thead th {\n",
       "        text-align: right;\n",
       "    }\n",
       "</style>\n",
       "<table border=\"1\" class=\"dataframe\">\n",
       "  <thead>\n",
       "    <tr style=\"text-align: right;\">\n",
       "      <th></th>\n",
       "      <th>n</th>\n",
       "    </tr>\n",
       "    <tr>\n",
       "      <th>term_str</th>\n",
       "      <th></th>\n",
       "    </tr>\n",
       "  </thead>\n",
       "  <tbody>\n",
       "    <tr>\n",
       "      <th>the</th>\n",
       "      <td>4575</td>\n",
       "    </tr>\n",
       "    <tr>\n",
       "      <th>and</th>\n",
       "      <td>3120</td>\n",
       "    </tr>\n",
       "    <tr>\n",
       "      <th>of</th>\n",
       "      <td>2918</td>\n",
       "    </tr>\n",
       "    <tr>\n",
       "      <th>i</th>\n",
       "      <td>2918</td>\n",
       "    </tr>\n",
       "    <tr>\n",
       "      <th>to</th>\n",
       "      <td>2257</td>\n",
       "    </tr>\n",
       "    <tr>\n",
       "      <th>my</th>\n",
       "      <td>1819</td>\n",
       "    </tr>\n",
       "    <tr>\n",
       "      <th>a</th>\n",
       "      <td>1497</td>\n",
       "    </tr>\n",
       "    <tr>\n",
       "      <th>in</th>\n",
       "      <td>1232</td>\n",
       "    </tr>\n",
       "    <tr>\n",
       "      <th>was</th>\n",
       "      <td>1064</td>\n",
       "    </tr>\n",
       "    <tr>\n",
       "      <th>that</th>\n",
       "      <td>1060</td>\n",
       "    </tr>\n",
       "  </tbody>\n",
       "</table>\n",
       "</div>"
      ],
      "text/plain": [
       "             n\n",
       "term_str      \n",
       "the       4575\n",
       "and       3120\n",
       "of        2918\n",
       "i         2918\n",
       "to        2257\n",
       "my        1819\n",
       "a         1497\n",
       "in        1232\n",
       "was       1064\n",
       "that      1060"
      ]
     },
     "execution_count": 5,
     "metadata": {},
     "output_type": "execute_result"
    }
   ],
   "source": [
    "K['term_str'] = K.token_str.str.replace(r'\\W+', '', regex=True).str.lower()\n",
    "\n",
    "V = K.term_str.value_counts().to_frame('n')\n",
    "V.index.name = 'term_str'\n",
    "\n",
    "V.head(10)"
   ]
  },
  {
   "cell_type": "markdown",
   "metadata": {},
   "source": [
    "### <mark>Question 3.</mark>\n",
    "\n",
    "`she` is the most frequent subject pronouns with 1143 times."
   ]
  },
  {
   "cell_type": "code",
   "execution_count": 6,
   "metadata": {},
   "outputs": [
    {
     "data": {
      "text/html": [
       "<div>\n",
       "<style scoped>\n",
       "    .dataframe tbody tr th:only-of-type {\n",
       "        vertical-align: middle;\n",
       "    }\n",
       "\n",
       "    .dataframe tbody tr th {\n",
       "        vertical-align: top;\n",
       "    }\n",
       "\n",
       "    .dataframe thead th {\n",
       "        text-align: right;\n",
       "    }\n",
       "</style>\n",
       "<table border=\"1\" class=\"dataframe\">\n",
       "  <thead>\n",
       "    <tr style=\"text-align: right;\">\n",
       "      <th></th>\n",
       "      <th>n</th>\n",
       "    </tr>\n",
       "    <tr>\n",
       "      <th>term_str</th>\n",
       "      <th></th>\n",
       "    </tr>\n",
       "  </thead>\n",
       "  <tbody>\n",
       "    <tr>\n",
       "      <th>the</th>\n",
       "      <td>3501</td>\n",
       "    </tr>\n",
       "    <tr>\n",
       "      <th>to</th>\n",
       "      <td>2862</td>\n",
       "    </tr>\n",
       "    <tr>\n",
       "      <th>and</th>\n",
       "      <td>2851</td>\n",
       "    </tr>\n",
       "    <tr>\n",
       "      <th>of</th>\n",
       "      <td>2684</td>\n",
       "    </tr>\n",
       "    <tr>\n",
       "      <th>a</th>\n",
       "      <td>1648</td>\n",
       "    </tr>\n",
       "    <tr>\n",
       "      <th>in</th>\n",
       "      <td>1439</td>\n",
       "    </tr>\n",
       "    <tr>\n",
       "      <th>was</th>\n",
       "      <td>1336</td>\n",
       "    </tr>\n",
       "    <tr>\n",
       "      <th>her</th>\n",
       "      <td>1202</td>\n",
       "    </tr>\n",
       "    <tr>\n",
       "      <th>had</th>\n",
       "      <td>1187</td>\n",
       "    </tr>\n",
       "    <tr>\n",
       "      <th>she</th>\n",
       "      <td>1143</td>\n",
       "    </tr>\n",
       "  </tbody>\n",
       "</table>\n",
       "</div>"
      ],
      "text/plain": [
       "             n\n",
       "term_str      \n",
       "the       3501\n",
       "to        2862\n",
       "and       2851\n",
       "of        2684\n",
       "a         1648\n",
       "in        1439\n",
       "was       1336\n",
       "her       1202\n",
       "had       1187\n",
       "she       1143"
      ]
     },
     "execution_count": 6,
     "metadata": {},
     "output_type": "execute_result"
    }
   ],
   "source": [
    "src_file = f\"{data_home}\\\\gutenberg\\\\pg105.txt\"\n",
    "lines = open(src_file, 'r',encoding='utf-8-sig').read()\n",
    "\n",
    "lines = lines.split('\\n')\n",
    "for s in lines:\n",
    "    if s=='':\n",
    "        lines.remove('')\n",
    "# lines[:5], lines[-5:]\n",
    "text = pd.DataFrame(lines)\n",
    "text.columns = ['line_str']\n",
    "text.index.name = 'line_num'\n",
    "text = pd.DataFrame(lines, columns=['chunk_str'])\n",
    "text.index.name = 'chunk_id'\n",
    "\n",
    "K = text.chunk_str.str.split(expand=True).stack().to_frame('token_str')\n",
    "K.index.names = ['chunk_num','token_num']\n",
    "K['term_str'] = K.token_str.str.replace(r'\\W+', '', regex=True).str.lower()\n",
    "\n",
    "V = K.term_str.value_counts().to_frame('n')\n",
    "V.index.name = 'term_str'\n",
    "V.head(10)"
   ]
  },
  {
   "cell_type": "markdown",
   "metadata": {},
   "source": [
    "### <mark>Question 4.</mark>\n",
    "\n",
    "_Frankenstein_ by Mary Shelley is written from a first-person perspective, whereas _Persuasion_ by Jane Austen is primarily written in the third-person point of view. _Frankenstein_ features narratives in first-person perspective. _Persuasion_ often describes Anne's feelings from a third-person perspective. Thus, `I` is a frequently used pronoun in _Frankenstein_, and `she` is the most frequently used subject pronoun in _Persuasion_."
   ]
  }
 ],
 "metadata": {
  "hide_input": false,
  "kernelspec": {
   "display_name": "Python 3 (ipykernel)",
   "language": "python",
   "name": "python3"
  },
  "language_info": {
   "codemirror_mode": {
    "name": "ipython",
    "version": 3
   },
   "file_extension": ".py",
   "mimetype": "text/x-python",
   "name": "python",
   "nbconvert_exporter": "python",
   "pygments_lexer": "ipython3",
   "version": "3.11.5"
  },
  "latex_envs": {
   "LaTeX_envs_menu_present": true,
   "autoclose": true,
   "autocomplete": true,
   "bibliofile": "biblio.bib",
   "cite_by": "apalike",
   "current_citInitial": 1,
   "eqLabelWithNumbers": true,
   "eqNumInitial": 1,
   "hotkeys": {
    "equation": "Ctrl-E",
    "itemize": "Ctrl-I"
   },
   "labels_anchors": false,
   "latex_user_defs": false,
   "report_style_numbering": false,
   "user_envs_cfg": false
  },
  "toc": {
   "base_numbering": 1,
   "nav_menu": {},
   "number_sections": true,
   "sideBar": true,
   "skip_h1_title": false,
   "title_cell": "Table of Contents",
   "title_sidebar": "Contents",
   "toc_cell": false,
   "toc_position": {},
   "toc_section_display": true,
   "toc_window_display": true
  },
  "varInspector": {
   "cols": {
    "lenName": 16,
    "lenType": 16,
    "lenVar": 40
   },
   "kernels_config": {
    "python": {
     "delete_cmd_postfix": "",
     "delete_cmd_prefix": "del ",
     "library": "var_list.py",
     "varRefreshCmd": "print(var_dic_list())"
    },
    "r": {
     "delete_cmd_postfix": ") ",
     "delete_cmd_prefix": "rm(",
     "library": "var_list.r",
     "varRefreshCmd": "cat(var_dic_list()) "
    }
   },
   "types_to_exclude": [
    "module",
    "function",
    "builtin_function_or_method",
    "instance",
    "_Feature"
   ],
   "window_display": false
  },
  "vscode": {
   "interpreter": {
    "hash": "c3b963de08c47c3b6758389c5e0978ad73698a111eb508d4e16b558edb8f4cbf"
   }
  },
  "widgets": {
   "application/vnd.jupyter.widget-state+json": {
    "state": {},
    "version_major": 2,
    "version_minor": 0
   }
  }
 },
 "nbformat": 4,
 "nbformat_minor": 4
}
