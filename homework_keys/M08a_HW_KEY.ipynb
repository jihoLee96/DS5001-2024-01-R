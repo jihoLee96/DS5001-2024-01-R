{
 "cells": [
  {
   "cell_type": "markdown",
   "metadata": {},
   "source": [
    "# Metadata \n",
    "\n",
    "```yaml\n",
    "Course:   DS 5001 \n",
    "Module:   08a Topic Models 2 HW\n",
    "Topic:    LDA with SciKit Learn KEY\n",
    "Author:   R.C. Alvarado\n",
    "Date:     20 March 2023 (revised)\n",
    "```"
   ]
  },
  {
   "cell_type": "markdown",
   "metadata": {
    "jp-MarkdownHeadingCollapsed": true,
    "tags": []
   },
   "source": [
    "# Instructions\n",
    "\n",
    "In this week’s homework, you will create topic models using Scikit Learn’s `LatentDirichletAllocation`  class. Using the notebooks from the previous week (Module 08), and the `CORPUS` and `LIB` tables for the `novels` collection (found in the `novels` subdirectory of the shared Dropbox folder), do the following:\n",
    "\n",
    "1. Generate two topic models, one for paragraphs as documents (i.e. bags), the other with chapters as documents. A topic model in this context comprises three tables: `THETA`, `PHI`, and `TOPICS`. For each model, use the following parameters:\n",
    "\n",
    "  * `CountVectorizer`\n",
    "    - max_features = $4000$\n",
    "    - stop_words = 'english'\n",
    "  * `LatentDirichletAllocation`\n",
    "    - n_components = $20$\n",
    "    - max_iter = $5$\n",
    "    - learning_offset = $50.$\n",
    "    - random_state = $0$ \n",
    "  * Hyperparameters\n",
    "    - Use only nouns (`NN` and `NNS`)\n",
    "    - Number of words used to characterize a topic: $7$\n",
    "\n",
    "**Note**: You may want to generalize the notebook code use to generate topic models by creating a class, or at least a library of functions, to perform various tasks. This will allow to quickly run topic models with bag as a parameter. An added benefit of creating a class for exploring topic models is that you can use it in your final projects.\n",
    "\n",
    "Once you are done with these tasks, answer the following questions:\n",
    "\n",
    "1. Use the `PHI` table from each model to compute the entropy $H$ of the distribution over topics. Which bag generates a lower entropy distribution? Hint: To get $H$ work with the L1 normalized vector of word weight sums by topic in the `PHI` table. \n",
    "\n",
    "2. Sort the topics in each model's `PHI` table by topic entropy in descending order. Are the first topics in the two models about the same? In other words, do they yield similar interpretations?\n",
    "\n",
    "3. What topic from each model is most strongly associated with each genre? Note that your answer have four parts.\n",
    "\n",
    "4. Using the `THETA` table from the Chapters model, get the mean topic weights for each book. Which book is most strongly associated with the gothic genre `g`, based on the weight of that genre's most representative topic (as discovered in the previous question)?\n",
    "\n",
    "5. How would you characterize the subject matter of the two genres based on their topic models? Consider the words associated with the dominant topics from each model, but also the models overall."
   ]
  },
  {
   "cell_type": "markdown",
   "metadata": {},
   "source": [
    "# Set Up"
   ]
  },
  {
   "cell_type": "code",
   "execution_count": 10,
   "metadata": {},
   "outputs": [],
   "source": [
    "data_in = \"../../data/novels\"\n",
    "data_prefix = 'novels'"
   ]
  },
  {
   "cell_type": "code",
   "execution_count": 11,
   "metadata": {},
   "outputs": [],
   "source": [
    "OHCO = ['book_id', 'chap_id', 'para_num', 'sent_num', 'token_num']\n",
    "BOOK = OHCO[:1]\n",
    "CHAP = OHCO[:2]\n",
    "PARA = OHCO[:3]\n",
    "BAG = PARA"
   ]
  },
  {
   "cell_type": "code",
   "execution_count": 12,
   "metadata": {},
   "outputs": [],
   "source": [
    "import pandas as pd\n",
    "import numpy as np"
   ]
  },
  {
   "cell_type": "markdown",
   "metadata": {
    "toc-hr-collapsed": true
   },
   "source": [
    "# Import Data"
   ]
  },
  {
   "cell_type": "code",
   "execution_count": 13,
   "metadata": {},
   "outputs": [],
   "source": [
    "TOKENS = pd.read_csv(f\"{data_in}/{data_prefix}-CORPUS.csv\").set_index(OHCO)\n",
    "LIB = pd.read_csv(f\"{data_in}/{data_prefix}-LIB.csv\").set_index('book_id')\n",
    "LABELS = ['author_id','genre_id'] # These are from the LIB table"
   ]
  },
  {
   "cell_type": "code",
   "execution_count": 14,
   "metadata": {},
   "outputs": [
    {
     "data": {
      "text/html": [
       "<div>\n",
       "<style scoped>\n",
       "    .dataframe tbody tr th:only-of-type {\n",
       "        vertical-align: middle;\n",
       "    }\n",
       "\n",
       "    .dataframe tbody tr th {\n",
       "        vertical-align: top;\n",
       "    }\n",
       "\n",
       "    .dataframe thead th {\n",
       "        text-align: right;\n",
       "    }\n",
       "</style>\n",
       "<table border=\"1\" class=\"dataframe\">\n",
       "  <thead>\n",
       "    <tr style=\"text-align: right;\">\n",
       "      <th></th>\n",
       "      <th></th>\n",
       "      <th></th>\n",
       "      <th></th>\n",
       "      <th></th>\n",
       "      <th>pos</th>\n",
       "      <th>term_str</th>\n",
       "    </tr>\n",
       "    <tr>\n",
       "      <th>book_id</th>\n",
       "      <th>chap_id</th>\n",
       "      <th>para_num</th>\n",
       "      <th>sent_num</th>\n",
       "      <th>token_num</th>\n",
       "      <th></th>\n",
       "      <th></th>\n",
       "    </tr>\n",
       "  </thead>\n",
       "  <tbody>\n",
       "    <tr>\n",
       "      <th rowspan=\"5\" valign=\"top\">secretadversary</th>\n",
       "      <th rowspan=\"5\" valign=\"top\">1</th>\n",
       "      <th rowspan=\"4\" valign=\"top\">0</th>\n",
       "      <th rowspan=\"4\" valign=\"top\">1</th>\n",
       "      <th>0</th>\n",
       "      <td>DT</td>\n",
       "      <td>the</td>\n",
       "    </tr>\n",
       "    <tr>\n",
       "      <th>1</th>\n",
       "      <td>NNP</td>\n",
       "      <td>young</td>\n",
       "    </tr>\n",
       "    <tr>\n",
       "      <th>2</th>\n",
       "      <td>NNP</td>\n",
       "      <td>adventurers</td>\n",
       "    </tr>\n",
       "    <tr>\n",
       "      <th>3</th>\n",
       "      <td>NNP</td>\n",
       "      <td>ltd</td>\n",
       "    </tr>\n",
       "    <tr>\n",
       "      <th>1</th>\n",
       "      <th>0</th>\n",
       "      <th>0</th>\n",
       "      <td>JJ</td>\n",
       "      <td>tommy</td>\n",
       "    </tr>\n",
       "    <tr>\n",
       "      <th>...</th>\n",
       "      <th>...</th>\n",
       "      <th>...</th>\n",
       "      <th>...</th>\n",
       "      <th>...</th>\n",
       "      <td>...</td>\n",
       "      <td>...</td>\n",
       "    </tr>\n",
       "    <tr>\n",
       "      <th rowspan=\"5\" valign=\"top\">baskervilles</th>\n",
       "      <th rowspan=\"5\" valign=\"top\">11</th>\n",
       "      <th rowspan=\"5\" valign=\"top\">114</th>\n",
       "      <th rowspan=\"5\" valign=\"top\">1</th>\n",
       "      <th>7</th>\n",
       "      <td>RBR</td>\n",
       "      <td>more</td>\n",
       "    </tr>\n",
       "    <tr>\n",
       "      <th>8</th>\n",
       "      <td>JJ</td>\n",
       "      <td>comfortable</td>\n",
       "    </tr>\n",
       "    <tr>\n",
       "      <th>9</th>\n",
       "      <td>IN</td>\n",
       "      <td>outside</td>\n",
       "    </tr>\n",
       "    <tr>\n",
       "      <th>10</th>\n",
       "      <td>IN</td>\n",
       "      <td>than</td>\n",
       "    </tr>\n",
       "    <tr>\n",
       "      <th>11</th>\n",
       "      <td>NN</td>\n",
       "      <td>in</td>\n",
       "    </tr>\n",
       "  </tbody>\n",
       "</table>\n",
       "<p>1500417 rows × 2 columns</p>\n",
       "</div>"
      ],
      "text/plain": [
       "                                                     pos     term_str\n",
       "book_id         chap_id para_num sent_num token_num                  \n",
       "secretadversary 1       0        1        0           DT          the\n",
       "                                          1          NNP        young\n",
       "                                          2          NNP  adventurers\n",
       "                                          3          NNP          ltd\n",
       "                        1        0        0           JJ        tommy\n",
       "...                                                  ...          ...\n",
       "baskervilles    11      114      1        7          RBR         more\n",
       "                                          8           JJ  comfortable\n",
       "                                          9           IN      outside\n",
       "                                          10          IN         than\n",
       "                                          11          NN           in\n",
       "\n",
       "[1500417 rows x 2 columns]"
      ]
     },
     "execution_count": 14,
     "metadata": {},
     "output_type": "execute_result"
    }
   ],
   "source": [
    "TOKENS"
   ]
  },
  {
   "cell_type": "markdown",
   "metadata": {
    "tags": []
   },
   "source": [
    "# Define Class"
   ]
  },
  {
   "cell_type": "code",
   "execution_count": 15,
   "metadata": {},
   "outputs": [],
   "source": [
    "import pandas as pd # Put here again in case we copy into a separate file\n",
    "from sklearn.feature_extraction.text import CountVectorizer\n",
    "from sklearn.decomposition import LatentDirichletAllocation as LDA\n",
    "import plotly_express as px\n",
    "\n",
    "class TopicExplorer:\n",
    "    \n",
    "    n_features = 4000\n",
    "    stopwords = 'english'\n",
    "    lda_num_topics = 20\n",
    "    lda_max_iter = 5\n",
    "    lda_n_top_terms = 7\n",
    "    \n",
    "    def __init__(self, tokens_df, lib_df, bag, labels=[]):\n",
    "        self.TOKENS = tokens_df\n",
    "        self.LIB = lib_df\n",
    "        self.bag = bag\n",
    "        self.labels = labels\n",
    "        \n",
    "    def generate_tables(self):\n",
    "        print(\"BAG:\", self.bag[-1])\n",
    "        print(\"LABELS:\", self.labels)\n",
    "        print(\"Getting DOCS\")\n",
    "        self._get_docs()\n",
    "        print(\"Getting TERMS\")\n",
    "        self._get_count_model()\n",
    "        print(\"Getting THETA, PHI\")\n",
    "        self._get_topic_model()\n",
    "        print(\"Getting TOPICS\")\n",
    "        self._get_topics()\n",
    "        print('Binding LIB labels to THETA')\n",
    "        self._bind_labels()\n",
    "        print(\"Done.\")\n",
    "        return self\n",
    "        \n",
    "    def _get_docs(self, pos_remove_pat=r'^NNS?$'):\n",
    "        self.DOCS = self.TOKENS[self.TOKENS.pos.str.match(pos_remove_pat)]\\\n",
    "            .groupby(self.bag).term_str\\\n",
    "            .apply(lambda x: ' '.join(x))\\\n",
    "            .to_frame()\\\n",
    "            .rename(columns={'term_str':'doc_str'})\n",
    "        \n",
    "    def _get_count_model(self):\n",
    "        self.count_engine = CountVectorizer(max_features=self.n_features, \n",
    "                                            stop_words=self.stopwords)\n",
    "        self.count_model = self.count_engine.fit_transform(self.DOCS.doc_str)\n",
    "        self.TERMS = self.count_engine.get_feature_names_out()\n",
    "        \n",
    "    def _get_topic_model(self):\n",
    "        self.lda_engine = LDA(n_components=self.lda_num_topics, \n",
    "                              max_iter=self.lda_max_iter, \n",
    "                              learning_offset=50., \n",
    "                              random_state=0)\n",
    "        self.THETA = pd.DataFrame(self.lda_engine.fit_transform(self.count_model), \n",
    "                                  index=self.DOCS.index)\n",
    "        self.THETA.columns.name = 'topic_id'\n",
    "        self.PHI = pd.DataFrame(self.lda_engine.components_, columns=self.TERMS)\n",
    "        self.PHI.index.name = 'topic_id'\n",
    "        self.PHI.columns.name = 'term_str'\n",
    "        \n",
    "    def _get_topics(self, n_terms=10):\n",
    "        self.TOPICS = self.PHI.stack().to_frame('weight')\\\n",
    "            .groupby('topic_id')\\\n",
    "            .apply(lambda x: x.weight.sort_values(ascending=False)\\\n",
    "               .head(self.lda_n_top_terms)\\\n",
    "               .reset_index()\\\n",
    "               .drop('topic_id', axis=1)\\\n",
    "               .term_str)\n",
    "        self.TOPICS['label'] = self.TOPICS[[t for t in range(self.lda_n_top_terms)]]\\\n",
    "            .apply(lambda x: str(x.name)\\\n",
    "                   .zfill(len(str(self.lda_num_topics))) + ' ' + ' '.join(x), axis=1)\n",
    "        self.TOPICS['doc_weight_sum'] = self.THETA.sum()\n",
    "        self.topic_cols = [t for t in range(self.lda_num_topics)]\n",
    "        \n",
    "    def _bind_labels(self):\n",
    "        self.LABELS = {}\n",
    "        self.LABEL_VALUES = {}\n",
    "        for label in self.labels:\n",
    "            self.THETA[label] = self.THETA\\\n",
    "                .apply(lambda x: self.LIB.loc[x.name[0], label], axis=1)\n",
    "            self.LABELS[label] = self.THETA.groupby(label)[self.topic_cols].mean().T  \n",
    "            self.THETA = self.THETA.drop(label, axis=1) # Don't keep the column\n",
    "            self.LABELS[label].index.name = 'topic_id'\n",
    "            self.LABELS[label]['label'] = self.TOPICS['label']\n",
    "            self.LABEL_VALUES[label] = sorted(list(set(self.LIB[label])))\n",
    "            \n",
    "    def show_dominant_label_topic(self, label):\n",
    "        X = self.LABELS[label][self.LABEL_VALUES[label]].idxmax()\n",
    "        return X.to_frame('topic_id').topic_id.map(self.TOPICS.label)\n",
    "            \n",
    "    def show_label_values(self):\n",
    "        for label in self.LABEL_VALUES:\n",
    "            print(label, \": \", self.LABEL_VALUES[label])\n",
    "        \n",
    "    def show_topic_bar(self):\n",
    "        fig_height = self.lda_num_topics / 3\n",
    "        self.TOPICS.sort_values('doc_weight_sum', ascending=True)\\\n",
    "            .plot.barh(y='doc_weight_sum', x='label', figsize=(5, fig_height));\n",
    "        \n",
    "    def show_topic_label_heatmap(self, label):\n",
    "        return MP.LABELS[label][MP.LABEL_VALUES[label]].style.background_gradient()\n",
    "        \n",
    "    def show_label_comparison_plot(self, label, label_value_x, label_value_y):\n",
    "        px.scatter(self.LABELS[label].reset_index(), label_value_x, label_value_y, \n",
    "                   hover_name='label', text='topic_id', width=800, height=600)\\\n",
    "            .update_traces(mode='text').show()        "
   ]
  },
  {
   "cell_type": "markdown",
   "metadata": {},
   "source": [
    "# Generate tables for each bag"
   ]
  },
  {
   "cell_type": "code",
   "execution_count": 16,
   "metadata": {
    "tags": []
   },
   "outputs": [
    {
     "name": "stdout",
     "output_type": "stream",
     "text": [
      "BAG: para_num\n",
      "LABELS: ['author_id', 'genre_id']\n",
      "Getting DOCS\n",
      "Getting TERMS\n",
      "Getting THETA, PHI\n",
      "Getting TOPICS\n",
      "Binding LIB labels to THETA\n",
      "Done.\n"
     ]
    }
   ],
   "source": [
    "MP = TopicExplorer(TOKENS, LIB, PARA, LABELS).generate_tables()"
   ]
  },
  {
   "cell_type": "code",
   "execution_count": 17,
   "metadata": {
    "tags": []
   },
   "outputs": [
    {
     "name": "stdout",
     "output_type": "stream",
     "text": [
      "BAG: chap_id\n",
      "LABELS: ['author_id', 'genre_id']\n",
      "Getting DOCS\n",
      "Getting TERMS\n",
      "Getting THETA, PHI\n",
      "Getting TOPICS\n",
      "Binding LIB labels to THETA\n",
      "Done.\n"
     ]
    }
   ],
   "source": [
    "MC = TopicExplorer(TOKENS, LIB, CHAP, LABELS).generate_tables()"
   ]
  },
  {
   "cell_type": "markdown",
   "metadata": {},
   "source": [
    "# Q1\n",
    "\n",
    "Use the `PHI` table from each model to compute the entropy $H$ of the distribution over topics. Which bag generates a lower entropy distribution? \n",
    "\n",
    "Hint: To get $H$ work with the L1 normalized vector of word weight sums by topic in the `PHI` table. \n",
    "\n",
    "**Answer:** Chapters.\n"
   ]
  },
  {
   "cell_type": "code",
   "execution_count": 27,
   "metadata": {},
   "outputs": [],
   "source": [
    "MP.TOPICS['phi_p'] = MP.PHI.T.sum() / MP.PHI.T.sum().sum()\n",
    "MC.TOPICS['phi_p'] = MC.PHI.T.sum() / MC.PHI.T.sum().sum()"
   ]
  },
  {
   "cell_type": "code",
   "execution_count": 28,
   "metadata": {},
   "outputs": [],
   "source": [
    "MP.TOPICS['phi_h'] = MP.TOPICS.phi_p * np.log2(1/MP.TOPICS.phi_p)\n",
    "MC.TOPICS['phi_h'] = MC.TOPICS.phi_p * np.log2(1/MC.TOPICS.phi_p)"
   ]
  },
  {
   "cell_type": "code",
   "execution_count": 29,
   "metadata": {},
   "outputs": [
    {
     "data": {
      "text/plain": [
       "(4.252625756822118, 3.6914378055200703)"
      ]
     },
     "execution_count": 29,
     "metadata": {},
     "output_type": "execute_result"
    }
   ],
   "source": [
    "MP.TOPICS.phi_h.sum(), MC.TOPICS.phi_h.sum()"
   ]
  },
  {
   "cell_type": "markdown",
   "metadata": {},
   "source": [
    "# Q2\n",
    "\n",
    "Sort the topics in each model's `PHI` table by topic entropy in descending order. Are the first topics in the two models \n",
    "about the same? In other words, do they yield similar interpretations?\n",
    "\n",
    "**Answer:** No."
   ]
  },
  {
   "cell_type": "code",
   "execution_count": 30,
   "metadata": {},
   "outputs": [
    {
     "data": {
      "image/png": "[encoded data removed]",
      "text/plain": [
       "<Figure size 640x480 with 1 Axes>"
      ]
     },
     "metadata": {},
     "output_type": "display_data"
    }
   ],
   "source": [
    "MP.TOPICS.reset_index().set_index('label').phi_h.sort_values().plot.barh(title=\"Topics by Paragraph\");"
   ]
  },
  {
   "cell_type": "code",
   "execution_count": 31,
   "metadata": {},
   "outputs": [
    {
     "data": {
      "image/png": "[encoded data removed]",
      "text/plain": [
       "<Figure size 640x480 with 1 Axes>"
      ]
     },
     "metadata": {},
     "output_type": "display_data"
    }
   ],
   "source": [
    "MC.TOPICS.reset_index().set_index('label').phi_h.sort_values().plot.barh(title=\"Topics by Chapter\");"
   ]
  },
  {
   "cell_type": "markdown",
   "metadata": {},
   "source": [
    "# Q3\n",
    "\n",
    "What topic from each model is most strongly associated with each genre? \n",
    "\n",
    "| | d | g |\n",
    "|--|--|--|\n",
    "| Chapter | 01 man time room yes way door sir face hand house | 05 heart eyes time hand moment night voice lif...|\n",
    "| Paragraph | 08 morning house time place way thing mr thats... | 05 heart moment eyes life countenance tears wo... |\n"
   ]
  },
  {
   "cell_type": "code",
   "execution_count": 40,
   "metadata": {},
   "outputs": [
    {
     "data": {
      "text/plain": [
       "genre_id\n",
       "d             01 man time room yes way door sir\n",
       "g    05 heart eyes time hand moment night voice\n",
       "Name: topic_id, dtype: object"
      ]
     },
     "execution_count": 40,
     "metadata": {},
     "output_type": "execute_result"
    }
   ],
   "source": [
    "MC.show_dominant_label_topic('genre_id')"
   ]
  },
  {
   "cell_type": "code",
   "execution_count": 41,
   "metadata": {},
   "outputs": [
    {
     "data": {
      "text/plain": [
       "genre_id\n",
       "d             08 morning house time place way thing mr\n",
       "g    05 heart moment eyes life countenance tears world\n",
       "Name: topic_id, dtype: object"
      ]
     },
     "execution_count": 41,
     "metadata": {},
     "output_type": "execute_result"
    }
   ],
   "source": [
    "MP.show_dominant_label_topic('genre_id')"
   ]
  },
  {
   "cell_type": "code",
   "execution_count": 42,
   "metadata": {},
   "outputs": [
    {
     "data": {
      "application/vnd.plotly.v1+json": {
       "config": {
        "plotlyServerURL": "https://plot.ly"
       },
       "data": [
        {
         "hovertemplate": "<b>%{hovertext}</b><br><br>g=%{x}<br>d=%{y}<br>topic_id=%{text}<extra></extra>",
         "hovertext": [
          "00 time mother house girl lady family matter",
          "01 man lady wife sort room help way",
          "02 words ah things time hand note sure",
          "03 house door night friend body servants gentleman",
          "04 opinion power man affair eyes manner way",
          "05 heart moment eyes life countenance tears world",
          "06 night dont business mind work time dinner",
          "07 day letter time dear friends friend way",
          "08 morning house time place way thing mr",
          "09 oh man good head end castle moment",
          "10 room bed case table chair door window",
          "11 yes father son box matter place way",
          "12 room house window day windows time morning",
          "13 work right word way time thou tm",
          "14 sir voice light sound steps door distance",
          "15 face eyes hand hands night man lips",
          "16 door room chamber hand apartment look moment",
          "17 heart man mind love time evening friend",
          "18 day country sun home sea mountains place",
          "19 subject person tuppence chateau lord night course"
         ],
         "legendgroup": "",
         "marker": {
          "color": "#636efa",
          "symbol": "circle"
         },
         "mode": "text",
         "name": "",
         "orientation": "v",
         "showlegend": false,
         "text": [
          0,
          1,
          2,
          3,
          4,
          5,
          6,
          7,
          8,
          9,
          10,
          11,
          12,
          13,
          14,
          15,
          16,
          17,
          18,
          19
         ],
         "type": "scatter",
         "x": [
          0.04866333988772099,
          0.0393028985274187,
          0.03363727054299121,
          0.03677280696232246,
          0.04061414653480449,
          0.11245621037135996,
          0.035009569205462124,
          0.06496069258433981,
          0.03732153809199843,
          0.04359766741997377,
          0.03516593307563982,
          0.04728528446287485,
          0.03130199506849342,
          0.04072604470675325,
          0.062377244168576346,
          0.050724073731910395,
          0.054971709671965026,
          0.07541239051183483,
          0.05771929894977032,
          0.05197988552378976
         ],
         "xaxis": "x",
         "y": [
          0.06970900146864693,
          0.06628604853552159,
          0.052139291785861554,
          0.05410596584107761,
          0.04266058077226936,
          0.03155800866633235,
          0.05403141192352741,
          0.0555004722648094,
          0.07243183098553203,
          0.04730686310822895,
          0.05893369178633888,
          0.055947458911564045,
          0.04014255514571334,
          0.04786984838120052,
          0.04066778179037074,
          0.06644557192883782,
          0.047445665754269575,
          0.02665967651457191,
          0.03461262605178787,
          0.035545648383538055
         ],
         "yaxis": "y"
        }
       ],
       "layout": {
        "height": 600,
        "legend": {
         "tracegroupgap": 0
        },
        "margin": {
         "t": 60
        },
        "template": {
         "data": {
          "bar": [
           {
            "error_x": {
             "color": "#2a3f5f"
            },
            "error_y": {
             "color": "#2a3f5f"
            },
            "marker": {
             "line": {
              "color": "#E5ECF6",
              "width": 0.5
             },
             "pattern": {
              "fillmode": "overlay",
              "size": 10,
              "solidity": 0.2
             }
            },
            "type": "bar"
           }
          ],
          "barpolar": [
           {
            "marker": {
             "line": {
              "color": "#E5ECF6",
              "width": 0.5
             },
             "pattern": {
              "fillmode": "overlay",
              "size": 10,
              "solidity": 0.2
             }
            },
            "type": "barpolar"
           }
          ],
          "carpet": [
           {
            "aaxis": {
             "endlinecolor": "#2a3f5f",
             "gridcolor": "white",
             "linecolor": "white",
             "minorgridcolor": "white",
             "startlinecolor": "#2a3f5f"
            },
            "baxis": {
             "endlinecolor": "#2a3f5f",
             "gridcolor": "white",
             "linecolor": "white",
             "minorgridcolor": "white",
             "startlinecolor": "#2a3f5f"
            },
            "type": "carpet"
           }
          ],
          "choropleth": [
           {
            "colorbar": {
             "outlinewidth": 0,
             "ticks": ""
            },
            "type": "choropleth"
           }
          ],
          "contour": [
           {
            "colorbar": {
             "outlinewidth": 0,
             "ticks": ""
            },
            "colorscale": [
             [
              0,
              "#0d0887"
             ],
             [
              0.1111111111111111,
              "#46039f"
             ],
             [
              0.2222222222222222,
              "#7201a8"
             ],
             [
              0.3333333333333333,
              "#9c179e"
             ],
             [
              0.4444444444444444,
              "#bd3786"
             ],
             [
              0.5555555555555556,
              "#d8576b"
             ],
             [
              0.6666666666666666,
              "#ed7953"
             ],
             [
              0.7777777777777778,
              "#fb9f3a"
             ],
             [
              0.8888888888888888,
              "#fdca26"
             ],
             [
              1,
              "#f0f921"
             ]
            ],
            "type": "contour"
           }
          ],
          "contourcarpet": [
           {
            "colorbar": {
             "outlinewidth": 0,
             "ticks": ""
            },
            "type": "contourcarpet"
           }
          ],
          "heatmap": [
           {
            "colorbar": {
             "outlinewidth": 0,
             "ticks": ""
            },
            "colorscale": [
             [
              0,
              "#0d0887"
             ],
             [
              0.1111111111111111,
              "#46039f"
             ],
             [
              0.2222222222222222,
              "#7201a8"
             ],
             [
              0.3333333333333333,
              "#9c179e"
             ],
             [
              0.4444444444444444,
              "#bd3786"
             ],
             [
              0.5555555555555556,
              "#d8576b"
             ],
             [
              0.6666666666666666,
              "#ed7953"
             ],
             [
              0.7777777777777778,
              "#fb9f3a"
             ],
             [
              0.8888888888888888,
              "#fdca26"
             ],
             [
              1,
              "#f0f921"
             ]
            ],
            "type": "heatmap"
           }
          ],
          "heatmapgl": [
           {
            "colorbar": {
             "outlinewidth": 0,
             "ticks": ""
            },
            "colorscale": [
             [
              0,
              "#0d0887"
             ],
             [
              0.1111111111111111,
              "#46039f"
             ],
             [
              0.2222222222222222,
              "#7201a8"
             ],
             [
              0.3333333333333333,
              "#9c179e"
             ],
             [
              0.4444444444444444,
              "#bd3786"
             ],
             [
              0.5555555555555556,
              "#d8576b"
             ],
             [
              0.6666666666666666,
              "#ed7953"
             ],
             [
              0.7777777777777778,
              "#fb9f3a"
             ],
             [
              0.8888888888888888,
              "#fdca26"
             ],
             [
              1,
              "#f0f921"
             ]
            ],
            "type": "heatmapgl"
           }
          ],
          "histogram": [
           {
            "marker": {
             "pattern": {
              "fillmode": "overlay",
              "size": 10,
              "solidity": 0.2
             }
            },
            "type": "histogram"
           }
          ],
          "histogram2d": [
           {
            "colorbar": {
             "outlinewidth": 0,
             "ticks": ""
            },
            "colorscale": [
             [
              0,
              "#0d0887"
             ],
             [
              0.1111111111111111,
              "#46039f"
             ],
             [
              0.2222222222222222,
              "#7201a8"
             ],
             [
              0.3333333333333333,
              "#9c179e"
             ],
             [
              0.4444444444444444,
              "#bd3786"
             ],
             [
              0.5555555555555556,
              "#d8576b"
             ],
             [
              0.6666666666666666,
              "#ed7953"
             ],
             [
              0.7777777777777778,
              "#fb9f3a"
             ],
             [
              0.8888888888888888,
              "#fdca26"
             ],
             [
              1,
              "#f0f921"
             ]
            ],
            "type": "histogram2d"
           }
          ],
          "histogram2dcontour": [
           {
            "colorbar": {
             "outlinewidth": 0,
             "ticks": ""
            },
            "colorscale": [
             [
              0,
              "#0d0887"
             ],
             [
              0.1111111111111111,
              "#46039f"
             ],
             [
              0.2222222222222222,
              "#7201a8"
             ],
             [
              0.3333333333333333,
              "#9c179e"
             ],
             [
              0.4444444444444444,
              "#bd3786"
             ],
             [
              0.5555555555555556,
              "#d8576b"
             ],
             [
              0.6666666666666666,
              "#ed7953"
             ],
             [
              0.7777777777777778,
              "#fb9f3a"
             ],
             [
              0.8888888888888888,
              "#fdca26"
             ],
             [
              1,
              "#f0f921"
             ]
            ],
            "type": "histogram2dcontour"
           }
          ],
          "mesh3d": [
           {
            "colorbar": {
             "outlinewidth": 0,
             "ticks": ""
            },
            "type": "mesh3d"
           }
          ],
          "parcoords": [
           {
            "line": {
             "colorbar": {
              "outlinewidth": 0,
              "ticks": ""
             }
            },
            "type": "parcoords"
           }
          ],
          "pie": [
           {
            "automargin": true,
            "type": "pie"
           }
          ],
          "scatter": [
           {
            "fillpattern": {
             "fillmode": "overlay",
             "size": 10,
             "solidity": 0.2
            },
            "type": "scatter"
           }
          ],
          "scatter3d": [
           {
            "line": {
             "colorbar": {
              "outlinewidth": 0,
              "ticks": ""
             }
            },
            "marker": {
             "colorbar": {
              "outlinewidth": 0,
              "ticks": ""
             }
            },
            "type": "scatter3d"
           }
          ],
          "scattercarpet": [
           {
            "marker": {
             "colorbar": {
              "outlinewidth": 0,
              "ticks": ""
             }
            },
            "type": "scattercarpet"
           }
          ],
          "scattergeo": [
           {
            "marker": {
             "colorbar": {
              "outlinewidth": 0,
              "ticks": ""
             }
            },
            "type": "scattergeo"
           }
          ],
          "scattergl": [
           {
            "marker": {
             "colorbar": {
              "outlinewidth": 0,
              "ticks": ""
             }
            },
            "type": "scattergl"
           }
          ],
          "scattermapbox": [
           {
            "marker": {
             "colorbar": {
              "outlinewidth": 0,
              "ticks": ""
             }
            },
            "type": "scattermapbox"
           }
          ],
          "scatterpolar": [
           {
            "marker": {
             "colorbar": {
              "outlinewidth": 0,
              "ticks": ""
             }
            },
            "type": "scatterpolar"
           }
          ],
          "scatterpolargl": [
           {
            "marker": {
             "colorbar": {
              "outlinewidth": 0,
              "ticks": ""
             }
            },
            "type": "scatterpolargl"
           }
          ],
          "scatterternary": [
           {
            "marker": {
             "colorbar": {
              "outlinewidth": 0,
              "ticks": ""
             }
            },
            "type": "scatterternary"
           }
          ],
          "surface": [
           {
            "colorbar": {
             "outlinewidth": 0,
             "ticks": ""
            },
            "colorscale": [
             [
              0,
              "#0d0887"
             ],
             [
              0.1111111111111111,
              "#46039f"
             ],
             [
              0.2222222222222222,
              "#7201a8"
             ],
             [
              0.3333333333333333,
              "#9c179e"
             ],
             [
              0.4444444444444444,
              "#bd3786"
             ],
             [
              0.5555555555555556,
              "#d8576b"
             ],
             [
              0.6666666666666666,
              "#ed7953"
             ],
             [
              0.7777777777777778,
              "#fb9f3a"
             ],
             [
              0.8888888888888888,
              "#fdca26"
             ],
             [
              1,
              "#f0f921"
             ]
            ],
            "type": "surface"
           }
          ],
          "table": [
           {
            "cells": {
             "fill": {
              "color": "#EBF0F8"
             },
             "line": {
              "color": "white"
             }
            },
            "header": {
             "fill": {
              "color": "#C8D4E3"
             },
             "line": {
              "color": "white"
             }
            },
            "type": "table"
           }
          ]
         },
         "layout": {
          "annotationdefaults": {
           "arrowcolor": "#2a3f5f",
           "arrowhead": 0,
           "arrowwidth": 1
          },
          "autotypenumbers": "strict",
          "coloraxis": {
           "colorbar": {
            "outlinewidth": 0,
            "ticks": ""
           }
          },
          "colorscale": {
           "diverging": [
            [
             0,
             "#8e0152"
            ],
            [
             0.1,
             "#c51b7d"
            ],
            [
             0.2,
             "#de77ae"
            ],
            [
             0.3,
             "#f1b6da"
            ],
            [
             0.4,
             "#fde0ef"
            ],
            [
             0.5,
             "#f7f7f7"
            ],
            [
             0.6,
             "#e6f5d0"
            ],
            [
             0.7,
             "#b8e186"
            ],
            [
             0.8,
             "#7fbc41"
            ],
            [
             0.9,
             "#4d9221"
            ],
            [
             1,
             "#276419"
            ]
           ],
           "sequential": [
            [
             0,
             "#0d0887"
            ],
            [
             0.1111111111111111,
             "#46039f"
            ],
            [
             0.2222222222222222,
             "#7201a8"
            ],
            [
             0.3333333333333333,
             "#9c179e"
            ],
            [
             0.4444444444444444,
             "#bd3786"
            ],
            [
             0.5555555555555556,
             "#d8576b"
            ],
            [
             0.6666666666666666,
             "#ed7953"
            ],
            [
             0.7777777777777778,
             "#fb9f3a"
            ],
            [
             0.8888888888888888,
             "#fdca26"
            ],
            [
             1,
             "#f0f921"
            ]
           ],
           "sequentialminus": [
            [
             0,
             "#0d0887"
            ],
            [
             0.1111111111111111,
             "#46039f"
            ],
            [
             0.2222222222222222,
             "#7201a8"
            ],
            [
             0.3333333333333333,
             "#9c179e"
            ],
            [
             0.4444444444444444,
             "#bd3786"
            ],
            [
             0.5555555555555556,
             "#d8576b"
            ],
            [
             0.6666666666666666,
             "#ed7953"
            ],
            [
             0.7777777777777778,
             "#fb9f3a"
            ],
            [
             0.8888888888888888,
             "#fdca26"
            ],
            [
             1,
             "#f0f921"
            ]
           ]
          },
          "colorway": [
           "#636efa",
           "#EF553B",
           "#00cc96",
           "#ab63fa",
           "#FFA15A",
           "#19d3f3",
           "#FF6692",
           "#B6E880",
           "#FF97FF",
           "#FECB52"
          ],
          "font": {
           "color": "#2a3f5f"
          },
          "geo": {
           "bgcolor": "white",
           "lakecolor": "white",
           "landcolor": "#E5ECF6",
           "showlakes": true,
           "showland": true,
           "subunitcolor": "white"
          },
          "hoverlabel": {
           "align": "left"
          },
          "hovermode": "closest",
          "mapbox": {
           "style": "light"
          },
          "paper_bgcolor": "white",
          "plot_bgcolor": "#E5ECF6",
          "polar": {
           "angularaxis": {
            "gridcolor": "white",
            "linecolor": "white",
            "ticks": ""
           },
           "bgcolor": "#E5ECF6",
           "radialaxis": {
            "gridcolor": "white",
            "linecolor": "white",
            "ticks": ""
           }
          },
          "scene": {
           "xaxis": {
            "backgroundcolor": "#E5ECF6",
            "gridcolor": "white",
            "gridwidth": 2,
            "linecolor": "white",
            "showbackground": true,
            "ticks": "",
            "zerolinecolor": "white"
           },
           "yaxis": {
            "backgroundcolor": "#E5ECF6",
            "gridcolor": "white",
            "gridwidth": 2,
            "linecolor": "white",
            "showbackground": true,
            "ticks": "",
            "zerolinecolor": "white"
           },
           "zaxis": {
            "backgroundcolor": "#E5ECF6",
            "gridcolor": "white",
            "gridwidth": 2,
            "linecolor": "white",
            "showbackground": true,
            "ticks": "",
            "zerolinecolor": "white"
           }
          },
          "shapedefaults": {
           "line": {
            "color": "#2a3f5f"
           }
          },
          "ternary": {
           "aaxis": {
            "gridcolor": "white",
            "linecolor": "white",
            "ticks": ""
           },
           "baxis": {
            "gridcolor": "white",
            "linecolor": "white",
            "ticks": ""
           },
           "bgcolor": "#E5ECF6",
           "caxis": {
            "gridcolor": "white",
            "linecolor": "white",
            "ticks": ""
           }
          },
          "title": {
           "x": 0.05
          },
          "xaxis": {
           "automargin": true,
           "gridcolor": "white",
           "linecolor": "white",
           "ticks": "",
           "title": {
            "standoff": 15
           },
           "zerolinecolor": "white",
           "zerolinewidth": 2
          },
          "yaxis": {
           "automargin": true,
           "gridcolor": "white",
           "linecolor": "white",
           "ticks": "",
           "title": {
            "standoff": 15
           },
           "zerolinecolor": "white",
           "zerolinewidth": 2
          }
         }
        },
        "width": 800,
        "xaxis": {
         "anchor": "y",
         "autorange": true,
         "domain": [
          0,
          1
         ],
         "range": [
          0.026793427551667498,
          0.11696477788818588
         ],
         "title": {
          "text": "g"
         },
         "type": "linear"
        },
        "yaxis": {
         "anchor": "x",
         "autorange": true,
         "domain": [
          0,
          1
         ],
         "range": [
          0.024116779043963015,
          0.07497472845614093
         ],
         "title": {
          "text": "d"
         },
         "type": "linear"
        }
       }
      },
      "image/png": "[encoded data removed]",
      "text/html": [
       "<div>                            <div id=\"4190adbc-60a6-401f-b6bc-65dc2bfff014\" class=\"plotly-graph-div\" style=\"height:600px; width:800px;\"></div>            <script type=\"text/javascript\">                require([\"plotly\"], function(Plotly) {                    window.PLOTLYENV=window.PLOTLYENV || {};                                    if (document.getElementById(\"4190adbc-60a6-401f-b6bc-65dc2bfff014\")) {                    Plotly.newPlot(                        \"4190adbc-60a6-401f-b6bc-65dc2bfff014\",                        [{\"hovertemplate\":\"<b>%{hovertext}</b><br><br>g=%{x}<br>d=%{y}<br>topic_id=%{text}<extra></extra>\",\"hovertext\":[\"00 time mother house girl lady family matter\",\"01 man lady wife sort room help way\",\"02 words ah things time hand note sure\",\"03 house door night friend body servants gentleman\",\"04 opinion power man affair eyes manner way\",\"05 heart moment eyes life countenance tears world\",\"06 night dont business mind work time dinner\",\"07 day letter time dear friends friend way\",\"08 morning house time place way thing mr\",\"09 oh man good head end castle moment\",\"10 room bed case table chair door window\",\"11 yes father son box matter place way\",\"12 room house window day windows time morning\",\"13 work right word way time thou tm\",\"14 sir voice light sound steps door distance\",\"15 face eyes hand hands night man lips\",\"16 door room chamber hand apartment look moment\",\"17 heart man mind love time evening friend\",\"18 day country sun home sea mountains place\",\"19 subject person tuppence chateau lord night course\"],\"legendgroup\":\"\",\"marker\":{\"color\":\"#636efa\",\"symbol\":\"circle\"},\"mode\":\"text\",\"name\":\"\",\"orientation\":\"v\",\"showlegend\":false,\"text\":[0.0,1.0,2.0,3.0,4.0,5.0,6.0,7.0,8.0,9.0,10.0,11.0,12.0,13.0,14.0,15.0,16.0,17.0,18.0,19.0],\"x\":[0.04866333988772099,0.0393028985274187,0.03363727054299121,0.03677280696232246,0.04061414653480449,0.11245621037135996,0.035009569205462124,0.06496069258433981,0.03732153809199843,0.04359766741997377,0.03516593307563982,0.04728528446287485,0.03130199506849342,0.04072604470675325,0.062377244168576346,0.050724073731910395,0.054971709671965026,0.07541239051183483,0.05771929894977032,0.05197988552378976],\"xaxis\":\"x\",\"y\":[0.06970900146864693,0.06628604853552159,0.052139291785861554,0.05410596584107761,0.04266058077226936,0.03155800866633235,0.05403141192352741,0.0555004722648094,0.07243183098553203,0.04730686310822895,0.05893369178633888,0.055947458911564045,0.04014255514571334,0.04786984838120052,0.04066778179037074,0.06644557192883782,0.047445665754269575,0.02665967651457191,0.03461262605178787,0.035545648383538055],\"yaxis\":\"y\",\"type\":\"scatter\"}],                        {\"template\":{\"data\":{\"histogram2dcontour\":[{\"type\":\"histogram2dcontour\",\"colorbar\":{\"outlinewidth\":0,\"ticks\":\"\"},\"colorscale\":[[0.0,\"#0d0887\"],[0.1111111111111111,\"#46039f\"],[0.2222222222222222,\"#7201a8\"],[0.3333333333333333,\"#9c179e\"],[0.4444444444444444,\"#bd3786\"],[0.5555555555555556,\"#d8576b\"],[0.6666666666666666,\"#ed7953\"],[0.7777777777777778,\"#fb9f3a\"],[0.8888888888888888,\"#fdca26\"],[1.0,\"#f0f921\"]]}],\"choropleth\":[{\"type\":\"choropleth\",\"colorbar\":{\"outlinewidth\":0,\"ticks\":\"\"}}],\"histogram2d\":[{\"type\":\"histogram2d\",\"colorbar\":{\"outlinewidth\":0,\"ticks\":\"\"},\"colorscale\":[[0.0,\"#0d0887\"],[0.1111111111111111,\"#46039f\"],[0.2222222222222222,\"#7201a8\"],[0.3333333333333333,\"#9c179e\"],[0.4444444444444444,\"#bd3786\"],[0.5555555555555556,\"#d8576b\"],[0.6666666666666666,\"#ed7953\"],[0.7777777777777778,\"#fb9f3a\"],[0.8888888888888888,\"#fdca26\"],[1.0,\"#f0f921\"]]}],\"heatmap\":[{\"type\":\"heatmap\",\"colorbar\":{\"outlinewidth\":0,\"ticks\":\"\"},\"colorscale\":[[0.0,\"#0d0887\"],[0.1111111111111111,\"#46039f\"],[0.2222222222222222,\"#7201a8\"],[0.3333333333333333,\"#9c179e\"],[0.4444444444444444,\"#bd3786\"],[0.5555555555555556,\"#d8576b\"],[0.6666666666666666,\"#ed7953\"],[0.7777777777777778,\"#fb9f3a\"],[0.8888888888888888,\"#fdca26\"],[1.0,\"#f0f921\"]]}],\"heatmapgl\":[{\"type\":\"heatmapgl\",\"colorbar\":{\"outlinewidth\":0,\"ticks\":\"\"},\"colorscale\":[[0.0,\"#0d0887\"],[0.1111111111111111,\"#46039f\"],[0.2222222222222222,\"#7201a8\"],[0.3333333333333333,\"#9c179e\"],[0.4444444444444444,\"#bd3786\"],[0.5555555555555556,\"#d8576b\"],[0.6666666666666666,\"#ed7953\"],[0.7777777777777778,\"#fb9f3a\"],[0.8888888888888888,\"#fdca26\"],[1.0,\"#f0f921\"]]}],\"contourcarpet\":[{\"type\":\"contourcarpet\",\"colorbar\":{\"outlinewidth\":0,\"ticks\":\"\"}}],\"contour\":[{\"type\":\"contour\",\"colorbar\":{\"outlinewidth\":0,\"ticks\":\"\"},\"colorscale\":[[0.0,\"#0d0887\"],[0.1111111111111111,\"#46039f\"],[0.2222222222222222,\"#7201a8\"],[0.3333333333333333,\"#9c179e\"],[0.4444444444444444,\"#bd3786\"],[0.5555555555555556,\"#d8576b\"],[0.6666666666666666,\"#ed7953\"],[0.7777777777777778,\"#fb9f3a\"],[0.8888888888888888,\"#fdca26\"],[1.0,\"#f0f921\"]]}],\"surface\":[{\"type\":\"surface\",\"colorbar\":{\"outlinewidth\":0,\"ticks\":\"\"},\"colorscale\":[[0.0,\"#0d0887\"],[0.1111111111111111,\"#46039f\"],[0.2222222222222222,\"#7201a8\"],[0.3333333333333333,\"#9c179e\"],[0.4444444444444444,\"#bd3786\"],[0.5555555555555556,\"#d8576b\"],[0.6666666666666666,\"#ed7953\"],[0.7777777777777778,\"#fb9f3a\"],[0.8888888888888888,\"#fdca26\"],[1.0,\"#f0f921\"]]}],\"mesh3d\":[{\"type\":\"mesh3d\",\"colorbar\":{\"outlinewidth\":0,\"ticks\":\"\"}}],\"scatter\":[{\"fillpattern\":{\"fillmode\":\"overlay\",\"size\":10,\"solidity\":0.2},\"type\":\"scatter\"}],\"parcoords\":[{\"type\":\"parcoords\",\"line\":{\"colorbar\":{\"outlinewidth\":0,\"ticks\":\"\"}}}],\"scatterpolargl\":[{\"type\":\"scatterpolargl\",\"marker\":{\"colorbar\":{\"outlinewidth\":0,\"ticks\":\"\"}}}],\"bar\":[{\"error_x\":{\"color\":\"#2a3f5f\"},\"error_y\":{\"color\":\"#2a3f5f\"},\"marker\":{\"line\":{\"color\":\"#E5ECF6\",\"width\":0.5},\"pattern\":{\"fillmode\":\"overlay\",\"size\":10,\"solidity\":0.2}},\"type\":\"bar\"}],\"scattergeo\":[{\"type\":\"scattergeo\",\"marker\":{\"colorbar\":{\"outlinewidth\":0,\"ticks\":\"\"}}}],\"scatterpolar\":[{\"type\":\"scatterpolar\",\"marker\":{\"colorbar\":{\"outlinewidth\":0,\"ticks\":\"\"}}}],\"histogram\":[{\"marker\":{\"pattern\":{\"fillmode\":\"overlay\",\"size\":10,\"solidity\":0.2}},\"type\":\"histogram\"}],\"scattergl\":[{\"type\":\"scattergl\",\"marker\":{\"colorbar\":{\"outlinewidth\":0,\"ticks\":\"\"}}}],\"scatter3d\":[{\"type\":\"scatter3d\",\"line\":{\"colorbar\":{\"outlinewidth\":0,\"ticks\":\"\"}},\"marker\":{\"colorbar\":{\"outlinewidth\":0,\"ticks\":\"\"}}}],\"scattermapbox\":[{\"type\":\"scattermapbox\",\"marker\":{\"colorbar\":{\"outlinewidth\":0,\"ticks\":\"\"}}}],\"scatterternary\":[{\"type\":\"scatterternary\",\"marker\":{\"colorbar\":{\"outlinewidth\":0,\"ticks\":\"\"}}}],\"scattercarpet\":[{\"type\":\"scattercarpet\",\"marker\":{\"colorbar\":{\"outlinewidth\":0,\"ticks\":\"\"}}}],\"carpet\":[{\"aaxis\":{\"endlinecolor\":\"#2a3f5f\",\"gridcolor\":\"white\",\"linecolor\":\"white\",\"minorgridcolor\":\"white\",\"startlinecolor\":\"#2a3f5f\"},\"baxis\":{\"endlinecolor\":\"#2a3f5f\",\"gridcolor\":\"white\",\"linecolor\":\"white\",\"minorgridcolor\":\"white\",\"startlinecolor\":\"#2a3f5f\"},\"type\":\"carpet\"}],\"table\":[{\"cells\":{\"fill\":{\"color\":\"#EBF0F8\"},\"line\":{\"color\":\"white\"}},\"header\":{\"fill\":{\"color\":\"#C8D4E3\"},\"line\":{\"color\":\"white\"}},\"type\":\"table\"}],\"barpolar\":[{\"marker\":{\"line\":{\"color\":\"#E5ECF6\",\"width\":0.5},\"pattern\":{\"fillmode\":\"overlay\",\"size\":10,\"solidity\":0.2}},\"type\":\"barpolar\"}],\"pie\":[{\"automargin\":true,\"type\":\"pie\"}]},\"layout\":{\"autotypenumbers\":\"strict\",\"colorway\":[\"#636efa\",\"#EF553B\",\"#00cc96\",\"#ab63fa\",\"#FFA15A\",\"#19d3f3\",\"#FF6692\",\"#B6E880\",\"#FF97FF\",\"#FECB52\"],\"font\":{\"color\":\"#2a3f5f\"},\"hovermode\":\"closest\",\"hoverlabel\":{\"align\":\"left\"},\"paper_bgcolor\":\"white\",\"plot_bgcolor\":\"#E5ECF6\",\"polar\":{\"bgcolor\":\"#E5ECF6\",\"angularaxis\":{\"gridcolor\":\"white\",\"linecolor\":\"white\",\"ticks\":\"\"},\"radialaxis\":{\"gridcolor\":\"white\",\"linecolor\":\"white\",\"ticks\":\"\"}},\"ternary\":{\"bgcolor\":\"#E5ECF6\",\"aaxis\":{\"gridcolor\":\"white\",\"linecolor\":\"white\",\"ticks\":\"\"},\"baxis\":{\"gridcolor\":\"white\",\"linecolor\":\"white\",\"ticks\":\"\"},\"caxis\":{\"gridcolor\":\"white\",\"linecolor\":\"white\",\"ticks\":\"\"}},\"coloraxis\":{\"colorbar\":{\"outlinewidth\":0,\"ticks\":\"\"}},\"colorscale\":{\"sequential\":[[0.0,\"#0d0887\"],[0.1111111111111111,\"#46039f\"],[0.2222222222222222,\"#7201a8\"],[0.3333333333333333,\"#9c179e\"],[0.4444444444444444,\"#bd3786\"],[0.5555555555555556,\"#d8576b\"],[0.6666666666666666,\"#ed7953\"],[0.7777777777777778,\"#fb9f3a\"],[0.8888888888888888,\"#fdca26\"],[1.0,\"#f0f921\"]],\"sequentialminus\":[[0.0,\"#0d0887\"],[0.1111111111111111,\"#46039f\"],[0.2222222222222222,\"#7201a8\"],[0.3333333333333333,\"#9c179e\"],[0.4444444444444444,\"#bd3786\"],[0.5555555555555556,\"#d8576b\"],[0.6666666666666666,\"#ed7953\"],[0.7777777777777778,\"#fb9f3a\"],[0.8888888888888888,\"#fdca26\"],[1.0,\"#f0f921\"]],\"diverging\":[[0,\"#8e0152\"],[0.1,\"#c51b7d\"],[0.2,\"#de77ae\"],[0.3,\"#f1b6da\"],[0.4,\"#fde0ef\"],[0.5,\"#f7f7f7\"],[0.6,\"#e6f5d0\"],[0.7,\"#b8e186\"],[0.8,\"#7fbc41\"],[0.9,\"#4d9221\"],[1,\"#276419\"]]},\"xaxis\":{\"gridcolor\":\"white\",\"linecolor\":\"white\",\"ticks\":\"\",\"title\":{\"standoff\":15},\"zerolinecolor\":\"white\",\"automargin\":true,\"zerolinewidth\":2},\"yaxis\":{\"gridcolor\":\"white\",\"linecolor\":\"white\",\"ticks\":\"\",\"title\":{\"standoff\":15},\"zerolinecolor\":\"white\",\"automargin\":true,\"zerolinewidth\":2},\"scene\":{\"xaxis\":{\"backgroundcolor\":\"#E5ECF6\",\"gridcolor\":\"white\",\"linecolor\":\"white\",\"showbackground\":true,\"ticks\":\"\",\"zerolinecolor\":\"white\",\"gridwidth\":2},\"yaxis\":{\"backgroundcolor\":\"#E5ECF6\",\"gridcolor\":\"white\",\"linecolor\":\"white\",\"showbackground\":true,\"ticks\":\"\",\"zerolinecolor\":\"white\",\"gridwidth\":2},\"zaxis\":{\"backgroundcolor\":\"#E5ECF6\",\"gridcolor\":\"white\",\"linecolor\":\"white\",\"showbackground\":true,\"ticks\":\"\",\"zerolinecolor\":\"white\",\"gridwidth\":2}},\"shapedefaults\":{\"line\":{\"color\":\"#2a3f5f\"}},\"annotationdefaults\":{\"arrowcolor\":\"#2a3f5f\",\"arrowhead\":0,\"arrowwidth\":1},\"geo\":{\"bgcolor\":\"white\",\"landcolor\":\"#E5ECF6\",\"subunitcolor\":\"white\",\"showland\":true,\"showlakes\":true,\"lakecolor\":\"white\"},\"title\":{\"x\":0.05},\"mapbox\":{\"style\":\"light\"}}},\"xaxis\":{\"anchor\":\"y\",\"domain\":[0.0,1.0],\"title\":{\"text\":\"g\"}},\"yaxis\":{\"anchor\":\"x\",\"domain\":[0.0,1.0],\"title\":{\"text\":\"d\"}},\"legend\":{\"tracegroupgap\":0},\"margin\":{\"t\":60},\"height\":600,\"width\":800},                        {\"responsive\": true}                    ).then(function(){\n",
       "                            \n",
       "var gd = document.getElementById('4190adbc-60a6-401f-b6bc-65dc2bfff014');\n",
       "var x = new MutationObserver(function (mutations, observer) {{\n",
       "        var display = window.getComputedStyle(gd).display;\n",
       "        if (!display || display === 'none') {{\n",
       "            console.log([gd, 'removed!']);\n",
       "            Plotly.purge(gd);\n",
       "            observer.disconnect();\n",
       "        }}\n",
       "}});\n",
       "\n",
       "// Listen for the removal of the full notebook cells\n",
       "var notebookContainer = gd.closest('#notebook-container');\n",
       "if (notebookContainer) {{\n",
       "    x.observe(notebookContainer, {childList: true});\n",
       "}}\n",
       "\n",
       "// Listen for the clearing of the current output cell\n",
       "var outputEl = gd.closest('.output');\n",
       "if (outputEl) {{\n",
       "    x.observe(outputEl, {childList: true});\n",
       "}}\n",
       "\n",
       "                        })                };                });            </script>        </div>"
      ]
     },
     "metadata": {},
     "output_type": "display_data"
    }
   ],
   "source": [
    "MP.show_label_comparison_plot('genre_id', 'g', 'd')"
   ]
  },
  {
   "cell_type": "code",
   "execution_count": 43,
   "metadata": {},
   "outputs": [
    {
     "data": {
      "application/vnd.plotly.v1+json": {
       "config": {
        "plotlyServerURL": "https://plot.ly"
       },
       "data": [
        {
         "hovertemplate": "<b>%{hovertext}</b><br><br>g=%{x}<br>d=%{y}<br>topic_id=%{text}<extra></extra>",
         "hovertext": [
          "00 lady time house way birthday man father",
          "01 man time room yes way door sir",
          "02 sea rocks time day man way letter",
          "03 night time door room way day things",
          "04 man heart creator rage creature brother companion",
          "05 heart eyes time hand moment night voice",
          "06 body corpse evidence murder river period water",
          "07 time house way room man day mind",
          "08 voice house door head room man words",
          "09 moor man night hound death house eyes",
          "10 room time hand house night opium case",
          "11 son man castle father thou lord youth",
          "12 ebony panes prince clock carpet princes mask",
          "13 tm work works terms agreement donations copyright",
          "14 men time party way light night man",
          "15 man hand time face day night room",
          "16 room door bed chamber rooms lamp apartment",
          "17 castle night mind chamber door voice room",
          "18 man time father brother day men way",
          "19 chateau mind tears woods evening heart countenance"
         ],
         "legendgroup": "",
         "marker": {
          "color": "#636efa",
          "symbol": "circle"
         },
         "mode": "text",
         "name": "",
         "orientation": "v",
         "showlegend": false,
         "text": [
          0,
          1,
          2,
          3,
          4,
          5,
          6,
          7,
          8,
          9,
          10,
          11,
          12,
          13,
          14,
          15,
          16,
          17,
          18,
          19
         ],
         "type": "scatter",
         "x": [
          0.0023778743403143213,
          0.008593026102608013,
          0.01199403851436759,
          0.08666991592393264,
          0.01565090854370453,
          0.2119293925762339,
          0.0015311208048415929,
          0.08766078178733426,
          0.0024636256146446807,
          0.007321971384617514,
          0.009291290147620496,
          0.0393347207824521,
          0.0005179156782159193,
          0.01055783844516435,
          0.06651984256654159,
          0.03584444147959229,
          0.03033931070711689,
          0.1419824621290546,
          0.11426300052196664,
          0.1151565219496761
         ],
         "xaxis": "x",
         "y": [
          0.04354361036068193,
          0.46756178295863815,
          0.003620549546779944,
          0.013777398575636047,
          0.0007452568939231153,
          0.00717715262025814,
          0.010795756401085358,
          0.22083120705952047,
          0.016246232193296788,
          0.05646049094410138,
          0.016277969289465934,
          0.0005438625132852715,
          0.00010638132625684566,
          0.0008486337209861494,
          0.027221233062801872,
          0.07377516064373817,
          0.004642694210375464,
          0.00445223777308263,
          0.030585005575279517,
          0.0007873843308068689
         ],
         "yaxis": "y"
        }
       ],
       "layout": {
        "height": 600,
        "legend": {
         "tracegroupgap": 0
        },
        "margin": {
         "t": 60
        },
        "template": {
         "data": {
          "bar": [
           {
            "error_x": {
             "color": "#2a3f5f"
            },
            "error_y": {
             "color": "#2a3f5f"
            },
            "marker": {
             "line": {
              "color": "#E5ECF6",
              "width": 0.5
             },
             "pattern": {
              "fillmode": "overlay",
              "size": 10,
              "solidity": 0.2
             }
            },
            "type": "bar"
           }
          ],
          "barpolar": [
           {
            "marker": {
             "line": {
              "color": "#E5ECF6",
              "width": 0.5
             },
             "pattern": {
              "fillmode": "overlay",
              "size": 10,
              "solidity": 0.2
             }
            },
            "type": "barpolar"
           }
          ],
          "carpet": [
           {
            "aaxis": {
             "endlinecolor": "#2a3f5f",
             "gridcolor": "white",
             "linecolor": "white",
             "minorgridcolor": "white",
             "startlinecolor": "#2a3f5f"
            },
            "baxis": {
             "endlinecolor": "#2a3f5f",
             "gridcolor": "white",
             "linecolor": "white",
             "minorgridcolor": "white",
             "startlinecolor": "#2a3f5f"
            },
            "type": "carpet"
           }
          ],
          "choropleth": [
           {
            "colorbar": {
             "outlinewidth": 0,
             "ticks": ""
            },
            "type": "choropleth"
           }
          ],
          "contour": [
           {
            "colorbar": {
             "outlinewidth": 0,
             "ticks": ""
            },
            "colorscale": [
             [
              0,
              "#0d0887"
             ],
             [
              0.1111111111111111,
              "#46039f"
             ],
             [
              0.2222222222222222,
              "#7201a8"
             ],
             [
              0.3333333333333333,
              "#9c179e"
             ],
             [
              0.4444444444444444,
              "#bd3786"
             ],
             [
              0.5555555555555556,
              "#d8576b"
             ],
             [
              0.6666666666666666,
              "#ed7953"
             ],
             [
              0.7777777777777778,
              "#fb9f3a"
             ],
             [
              0.8888888888888888,
              "#fdca26"
             ],
             [
              1,
              "#f0f921"
             ]
            ],
            "type": "contour"
           }
          ],
          "contourcarpet": [
           {
            "colorbar": {
             "outlinewidth": 0,
             "ticks": ""
            },
            "type": "contourcarpet"
           }
          ],
          "heatmap": [
           {
            "colorbar": {
             "outlinewidth": 0,
             "ticks": ""
            },
            "colorscale": [
             [
              0,
              "#0d0887"
             ],
             [
              0.1111111111111111,
              "#46039f"
             ],
             [
              0.2222222222222222,
              "#7201a8"
             ],
             [
              0.3333333333333333,
              "#9c179e"
             ],
             [
              0.4444444444444444,
              "#bd3786"
             ],
             [
              0.5555555555555556,
              "#d8576b"
             ],
             [
              0.6666666666666666,
              "#ed7953"
             ],
             [
              0.7777777777777778,
              "#fb9f3a"
             ],
             [
              0.8888888888888888,
              "#fdca26"
             ],
             [
              1,
              "#f0f921"
             ]
            ],
            "type": "heatmap"
           }
          ],
          "heatmapgl": [
           {
            "colorbar": {
             "outlinewidth": 0,
             "ticks": ""
            },
            "colorscale": [
             [
              0,
              "#0d0887"
             ],
             [
              0.1111111111111111,
              "#46039f"
             ],
             [
              0.2222222222222222,
              "#7201a8"
             ],
             [
              0.3333333333333333,
              "#9c179e"
             ],
             [
              0.4444444444444444,
              "#bd3786"
             ],
             [
              0.5555555555555556,
              "#d8576b"
             ],
             [
              0.6666666666666666,
              "#ed7953"
             ],
             [
              0.7777777777777778,
              "#fb9f3a"
             ],
             [
              0.8888888888888888,
              "#fdca26"
             ],
             [
              1,
              "#f0f921"
             ]
            ],
            "type": "heatmapgl"
           }
          ],
          "histogram": [
           {
            "marker": {
             "pattern": {
              "fillmode": "overlay",
              "size": 10,
              "solidity": 0.2
             }
            },
            "type": "histogram"
           }
          ],
          "histogram2d": [
           {
            "colorbar": {
             "outlinewidth": 0,
             "ticks": ""
            },
            "colorscale": [
             [
              0,
              "#0d0887"
             ],
             [
              0.1111111111111111,
              "#46039f"
             ],
             [
              0.2222222222222222,
              "#7201a8"
             ],
             [
              0.3333333333333333,
              "#9c179e"
             ],
             [
              0.4444444444444444,
              "#bd3786"
             ],
             [
              0.5555555555555556,
              "#d8576b"
             ],
             [
              0.6666666666666666,
              "#ed7953"
             ],
             [
              0.7777777777777778,
              "#fb9f3a"
             ],
             [
              0.8888888888888888,
              "#fdca26"
             ],
             [
              1,
              "#f0f921"
             ]
            ],
            "type": "histogram2d"
           }
          ],
          "histogram2dcontour": [
           {
            "colorbar": {
             "outlinewidth": 0,
             "ticks": ""
            },
            "colorscale": [
             [
              0,
              "#0d0887"
             ],
             [
              0.1111111111111111,
              "#46039f"
             ],
             [
              0.2222222222222222,
              "#7201a8"
             ],
             [
              0.3333333333333333,
              "#9c179e"
             ],
             [
              0.4444444444444444,
              "#bd3786"
             ],
             [
              0.5555555555555556,
              "#d8576b"
             ],
             [
              0.6666666666666666,
              "#ed7953"
             ],
             [
              0.7777777777777778,
              "#fb9f3a"
             ],
             [
              0.8888888888888888,
              "#fdca26"
             ],
             [
              1,
              "#f0f921"
             ]
            ],
            "type": "histogram2dcontour"
           }
          ],
          "mesh3d": [
           {
            "colorbar": {
             "outlinewidth": 0,
             "ticks": ""
            },
            "type": "mesh3d"
           }
          ],
          "parcoords": [
           {
            "line": {
             "colorbar": {
              "outlinewidth": 0,
              "ticks": ""
             }
            },
            "type": "parcoords"
           }
          ],
          "pie": [
           {
            "automargin": true,
            "type": "pie"
           }
          ],
          "scatter": [
           {
            "fillpattern": {
             "fillmode": "overlay",
             "size": 10,
             "solidity": 0.2
            },
            "type": "scatter"
           }
          ],
          "scatter3d": [
           {
            "line": {
             "colorbar": {
              "outlinewidth": 0,
              "ticks": ""
             }
            },
            "marker": {
             "colorbar": {
              "outlinewidth": 0,
              "ticks": ""
             }
            },
            "type": "scatter3d"
           }
          ],
          "scattercarpet": [
           {
            "marker": {
             "colorbar": {
              "outlinewidth": 0,
              "ticks": ""
             }
            },
            "type": "scattercarpet"
           }
          ],
          "scattergeo": [
           {
            "marker": {
             "colorbar": {
              "outlinewidth": 0,
              "ticks": ""
             }
            },
            "type": "scattergeo"
           }
          ],
          "scattergl": [
           {
            "marker": {
             "colorbar": {
              "outlinewidth": 0,
              "ticks": ""
             }
            },
            "type": "scattergl"
           }
          ],
          "scattermapbox": [
           {
            "marker": {
             "colorbar": {
              "outlinewidth": 0,
              "ticks": ""
             }
            },
            "type": "scattermapbox"
           }
          ],
          "scatterpolar": [
           {
            "marker": {
             "colorbar": {
              "outlinewidth": 0,
              "ticks": ""
             }
            },
            "type": "scatterpolar"
           }
          ],
          "scatterpolargl": [
           {
            "marker": {
             "colorbar": {
              "outlinewidth": 0,
              "ticks": ""
             }
            },
            "type": "scatterpolargl"
           }
          ],
          "scatterternary": [
           {
            "marker": {
             "colorbar": {
              "outlinewidth": 0,
              "ticks": ""
             }
            },
            "type": "scatterternary"
           }
          ],
          "surface": [
           {
            "colorbar": {
             "outlinewidth": 0,
             "ticks": ""
            },
            "colorscale": [
             [
              0,
              "#0d0887"
             ],
             [
              0.1111111111111111,
              "#46039f"
             ],
             [
              0.2222222222222222,
              "#7201a8"
             ],
             [
              0.3333333333333333,
              "#9c179e"
             ],
             [
              0.4444444444444444,
              "#bd3786"
             ],
             [
              0.5555555555555556,
              "#d8576b"
             ],
             [
              0.6666666666666666,
              "#ed7953"
             ],
             [
              0.7777777777777778,
              "#fb9f3a"
             ],
             [
              0.8888888888888888,
              "#fdca26"
             ],
             [
              1,
              "#f0f921"
             ]
            ],
            "type": "surface"
           }
          ],
          "table": [
           {
            "cells": {
             "fill": {
              "color": "#EBF0F8"
             },
             "line": {
              "color": "white"
             }
            },
            "header": {
             "fill": {
              "color": "#C8D4E3"
             },
             "line": {
              "color": "white"
             }
            },
            "type": "table"
           }
          ]
         },
         "layout": {
          "annotationdefaults": {
           "arrowcolor": "#2a3f5f",
           "arrowhead": 0,
           "arrowwidth": 1
          },
          "autotypenumbers": "strict",
          "coloraxis": {
           "colorbar": {
            "outlinewidth": 0,
            "ticks": ""
           }
          },
          "colorscale": {
           "diverging": [
            [
             0,
             "#8e0152"
            ],
            [
             0.1,
             "#c51b7d"
            ],
            [
             0.2,
             "#de77ae"
            ],
            [
             0.3,
             "#f1b6da"
            ],
            [
             0.4,
             "#fde0ef"
            ],
            [
             0.5,
             "#f7f7f7"
            ],
            [
             0.6,
             "#e6f5d0"
            ],
            [
             0.7,
             "#b8e186"
            ],
            [
             0.8,
             "#7fbc41"
            ],
            [
             0.9,
             "#4d9221"
            ],
            [
             1,
             "#276419"
            ]
           ],
           "sequential": [
            [
             0,
             "#0d0887"
            ],
            [
             0.1111111111111111,
             "#46039f"
            ],
            [
             0.2222222222222222,
             "#7201a8"
            ],
            [
             0.3333333333333333,
             "#9c179e"
            ],
            [
             0.4444444444444444,
             "#bd3786"
            ],
            [
             0.5555555555555556,
             "#d8576b"
            ],
            [
             0.6666666666666666,
             "#ed7953"
            ],
            [
             0.7777777777777778,
             "#fb9f3a"
            ],
            [
             0.8888888888888888,
             "#fdca26"
            ],
            [
             1,
             "#f0f921"
            ]
           ],
           "sequentialminus": [
            [
             0,
             "#0d0887"
            ],
            [
             0.1111111111111111,
             "#46039f"
            ],
            [
             0.2222222222222222,
             "#7201a8"
            ],
            [
             0.3333333333333333,
             "#9c179e"
            ],
            [
             0.4444444444444444,
             "#bd3786"
            ],
            [
             0.5555555555555556,
             "#d8576b"
            ],
            [
             0.6666666666666666,
             "#ed7953"
            ],
            [
             0.7777777777777778,
             "#fb9f3a"
            ],
            [
             0.8888888888888888,
             "#fdca26"
            ],
            [
             1,
             "#f0f921"
            ]
           ]
          },
          "colorway": [
           "#636efa",
           "#EF553B",
           "#00cc96",
           "#ab63fa",
           "#FFA15A",
           "#19d3f3",
           "#FF6692",
           "#B6E880",
           "#FF97FF",
           "#FECB52"
          ],
          "font": {
           "color": "#2a3f5f"
          },
          "geo": {
           "bgcolor": "white",
           "lakecolor": "white",
           "landcolor": "#E5ECF6",
           "showlakes": true,
           "showland": true,
           "subunitcolor": "white"
          },
          "hoverlabel": {
           "align": "left"
          },
          "hovermode": "closest",
          "mapbox": {
           "style": "light"
          },
          "paper_bgcolor": "white",
          "plot_bgcolor": "#E5ECF6",
          "polar": {
           "angularaxis": {
            "gridcolor": "white",
            "linecolor": "white",
            "ticks": ""
           },
           "bgcolor": "#E5ECF6",
           "radialaxis": {
            "gridcolor": "white",
            "linecolor": "white",
            "ticks": ""
           }
          },
          "scene": {
           "xaxis": {
            "backgroundcolor": "#E5ECF6",
            "gridcolor": "white",
            "gridwidth": 2,
            "linecolor": "white",
            "showbackground": true,
            "ticks": "",
            "zerolinecolor": "white"
           },
           "yaxis": {
            "backgroundcolor": "#E5ECF6",
            "gridcolor": "white",
            "gridwidth": 2,
            "linecolor": "white",
            "showbackground": true,
            "ticks": "",
            "zerolinecolor": "white"
           },
           "zaxis": {
            "backgroundcolor": "#E5ECF6",
            "gridcolor": "white",
            "gridwidth": 2,
            "linecolor": "white",
            "showbackground": true,
            "ticks": "",
            "zerolinecolor": "white"
           }
          },
          "shapedefaults": {
           "line": {
            "color": "#2a3f5f"
           }
          },
          "ternary": {
           "aaxis": {
            "gridcolor": "white",
            "linecolor": "white",
            "ticks": ""
           },
           "baxis": {
            "gridcolor": "white",
            "linecolor": "white",
            "ticks": ""
           },
           "bgcolor": "#E5ECF6",
           "caxis": {
            "gridcolor": "white",
            "linecolor": "white",
            "ticks": ""
           }
          },
          "title": {
           "x": 0.05
          },
          "xaxis": {
           "automargin": true,
           "gridcolor": "white",
           "linecolor": "white",
           "ticks": "",
           "title": {
            "standoff": 15
           },
           "zerolinecolor": "white",
           "zerolinewidth": 2
          },
          "yaxis": {
           "automargin": true,
           "gridcolor": "white",
           "linecolor": "white",
           "ticks": "",
           "title": {
            "standoff": 15
           },
           "zerolinecolor": "white",
           "zerolinewidth": 2
          }
         }
        },
        "width": 800,
        "xaxis": {
         "anchor": "y",
         "autorange": true,
         "domain": [
          0,
          1
         ],
         "range": [
          -0.011227166371673968,
          0.22367447462612378
         ],
         "title": {
          "text": "g"
         },
         "type": "linear"
        },
        "yaxis": {
         "anchor": "x",
         "autorange": true,
         "domain": [
          0,
          1
         ],
         "range": [
          -0.025863363208875445,
          0.49353152749377044
         ],
         "title": {
          "text": "d"
         },
         "type": "linear"
        }
       }
      },
      "image/png": "[encoded data removed]",
      "text/html": [
       "<div>                            <div id=\"d6f851b6-129c-4a2a-ae97-fbe0a21a4e3d\" class=\"plotly-graph-div\" style=\"height:600px; width:800px;\"></div>            <script type=\"text/javascript\">                require([\"plotly\"], function(Plotly) {                    window.PLOTLYENV=window.PLOTLYENV || {};                                    if (document.getElementById(\"d6f851b6-129c-4a2a-ae97-fbe0a21a4e3d\")) {                    Plotly.newPlot(                        \"d6f851b6-129c-4a2a-ae97-fbe0a21a4e3d\",                        [{\"hovertemplate\":\"<b>%{hovertext}</b><br><br>g=%{x}<br>d=%{y}<br>topic_id=%{text}<extra></extra>\",\"hovertext\":[\"00 lady time house way birthday man father\",\"01 man time room yes way door sir\",\"02 sea rocks time day man way letter\",\"03 night time door room way day things\",\"04 man heart creator rage creature brother companion\",\"05 heart eyes time hand moment night voice\",\"06 body corpse evidence murder river period water\",\"07 time house way room man day mind\",\"08 voice house door head room man words\",\"09 moor man night hound death house eyes\",\"10 room time hand house night opium case\",\"11 son man castle father thou lord youth\",\"12 ebony panes prince clock carpet princes mask\",\"13 tm work works terms agreement donations copyright\",\"14 men time party way light night man\",\"15 man hand time face day night room\",\"16 room door bed chamber rooms lamp apartment\",\"17 castle night mind chamber door voice room\",\"18 man time father brother day men way\",\"19 chateau mind tears woods evening heart countenance\"],\"legendgroup\":\"\",\"marker\":{\"color\":\"#636efa\",\"symbol\":\"circle\"},\"mode\":\"text\",\"name\":\"\",\"orientation\":\"v\",\"showlegend\":false,\"text\":[0.0,1.0,2.0,3.0,4.0,5.0,6.0,7.0,8.0,9.0,10.0,11.0,12.0,13.0,14.0,15.0,16.0,17.0,18.0,19.0],\"x\":[0.0023778743403143213,0.008593026102608013,0.01199403851436759,0.08666991592393264,0.01565090854370453,0.2119293925762339,0.0015311208048415929,0.08766078178733426,0.0024636256146446807,0.007321971384617514,0.009291290147620496,0.0393347207824521,0.0005179156782159193,0.01055783844516435,0.06651984256654159,0.03584444147959229,0.03033931070711689,0.1419824621290546,0.11426300052196664,0.1151565219496761],\"xaxis\":\"x\",\"y\":[0.04354361036068193,0.46756178295863815,0.003620549546779944,0.013777398575636047,0.0007452568939231153,0.00717715262025814,0.010795756401085358,0.22083120705952047,0.016246232193296788,0.05646049094410138,0.016277969289465934,0.0005438625132852715,0.00010638132625684566,0.0008486337209861494,0.027221233062801872,0.07377516064373817,0.004642694210375464,0.00445223777308263,0.030585005575279517,0.0007873843308068689],\"yaxis\":\"y\",\"type\":\"scatter\"}],                        {\"template\":{\"data\":{\"histogram2dcontour\":[{\"type\":\"histogram2dcontour\",\"colorbar\":{\"outlinewidth\":0,\"ticks\":\"\"},\"colorscale\":[[0.0,\"#0d0887\"],[0.1111111111111111,\"#46039f\"],[0.2222222222222222,\"#7201a8\"],[0.3333333333333333,\"#9c179e\"],[0.4444444444444444,\"#bd3786\"],[0.5555555555555556,\"#d8576b\"],[0.6666666666666666,\"#ed7953\"],[0.7777777777777778,\"#fb9f3a\"],[0.8888888888888888,\"#fdca26\"],[1.0,\"#f0f921\"]]}],\"choropleth\":[{\"type\":\"choropleth\",\"colorbar\":{\"outlinewidth\":0,\"ticks\":\"\"}}],\"histogram2d\":[{\"type\":\"histogram2d\",\"colorbar\":{\"outlinewidth\":0,\"ticks\":\"\"},\"colorscale\":[[0.0,\"#0d0887\"],[0.1111111111111111,\"#46039f\"],[0.2222222222222222,\"#7201a8\"],[0.3333333333333333,\"#9c179e\"],[0.4444444444444444,\"#bd3786\"],[0.5555555555555556,\"#d8576b\"],[0.6666666666666666,\"#ed7953\"],[0.7777777777777778,\"#fb9f3a\"],[0.8888888888888888,\"#fdca26\"],[1.0,\"#f0f921\"]]}],\"heatmap\":[{\"type\":\"heatmap\",\"colorbar\":{\"outlinewidth\":0,\"ticks\":\"\"},\"colorscale\":[[0.0,\"#0d0887\"],[0.1111111111111111,\"#46039f\"],[0.2222222222222222,\"#7201a8\"],[0.3333333333333333,\"#9c179e\"],[0.4444444444444444,\"#bd3786\"],[0.5555555555555556,\"#d8576b\"],[0.6666666666666666,\"#ed7953\"],[0.7777777777777778,\"#fb9f3a\"],[0.8888888888888888,\"#fdca26\"],[1.0,\"#f0f921\"]]}],\"heatmapgl\":[{\"type\":\"heatmapgl\",\"colorbar\":{\"outlinewidth\":0,\"ticks\":\"\"},\"colorscale\":[[0.0,\"#0d0887\"],[0.1111111111111111,\"#46039f\"],[0.2222222222222222,\"#7201a8\"],[0.3333333333333333,\"#9c179e\"],[0.4444444444444444,\"#bd3786\"],[0.5555555555555556,\"#d8576b\"],[0.6666666666666666,\"#ed7953\"],[0.7777777777777778,\"#fb9f3a\"],[0.8888888888888888,\"#fdca26\"],[1.0,\"#f0f921\"]]}],\"contourcarpet\":[{\"type\":\"contourcarpet\",\"colorbar\":{\"outlinewidth\":0,\"ticks\":\"\"}}],\"contour\":[{\"type\":\"contour\",\"colorbar\":{\"outlinewidth\":0,\"ticks\":\"\"},\"colorscale\":[[0.0,\"#0d0887\"],[0.1111111111111111,\"#46039f\"],[0.2222222222222222,\"#7201a8\"],[0.3333333333333333,\"#9c179e\"],[0.4444444444444444,\"#bd3786\"],[0.5555555555555556,\"#d8576b\"],[0.6666666666666666,\"#ed7953\"],[0.7777777777777778,\"#fb9f3a\"],[0.8888888888888888,\"#fdca26\"],[1.0,\"#f0f921\"]]}],\"surface\":[{\"type\":\"surface\",\"colorbar\":{\"outlinewidth\":0,\"ticks\":\"\"},\"colorscale\":[[0.0,\"#0d0887\"],[0.1111111111111111,\"#46039f\"],[0.2222222222222222,\"#7201a8\"],[0.3333333333333333,\"#9c179e\"],[0.4444444444444444,\"#bd3786\"],[0.5555555555555556,\"#d8576b\"],[0.6666666666666666,\"#ed7953\"],[0.7777777777777778,\"#fb9f3a\"],[0.8888888888888888,\"#fdca26\"],[1.0,\"#f0f921\"]]}],\"mesh3d\":[{\"type\":\"mesh3d\",\"colorbar\":{\"outlinewidth\":0,\"ticks\":\"\"}}],\"scatter\":[{\"fillpattern\":{\"fillmode\":\"overlay\",\"size\":10,\"solidity\":0.2},\"type\":\"scatter\"}],\"parcoords\":[{\"type\":\"parcoords\",\"line\":{\"colorbar\":{\"outlinewidth\":0,\"ticks\":\"\"}}}],\"scatterpolargl\":[{\"type\":\"scatterpolargl\",\"marker\":{\"colorbar\":{\"outlinewidth\":0,\"ticks\":\"\"}}}],\"bar\":[{\"error_x\":{\"color\":\"#2a3f5f\"},\"error_y\":{\"color\":\"#2a3f5f\"},\"marker\":{\"line\":{\"color\":\"#E5ECF6\",\"width\":0.5},\"pattern\":{\"fillmode\":\"overlay\",\"size\":10,\"solidity\":0.2}},\"type\":\"bar\"}],\"scattergeo\":[{\"type\":\"scattergeo\",\"marker\":{\"colorbar\":{\"outlinewidth\":0,\"ticks\":\"\"}}}],\"scatterpolar\":[{\"type\":\"scatterpolar\",\"marker\":{\"colorbar\":{\"outlinewidth\":0,\"ticks\":\"\"}}}],\"histogram\":[{\"marker\":{\"pattern\":{\"fillmode\":\"overlay\",\"size\":10,\"solidity\":0.2}},\"type\":\"histogram\"}],\"scattergl\":[{\"type\":\"scattergl\",\"marker\":{\"colorbar\":{\"outlinewidth\":0,\"ticks\":\"\"}}}],\"scatter3d\":[{\"type\":\"scatter3d\",\"line\":{\"colorbar\":{\"outlinewidth\":0,\"ticks\":\"\"}},\"marker\":{\"colorbar\":{\"outlinewidth\":0,\"ticks\":\"\"}}}],\"scattermapbox\":[{\"type\":\"scattermapbox\",\"marker\":{\"colorbar\":{\"outlinewidth\":0,\"ticks\":\"\"}}}],\"scatterternary\":[{\"type\":\"scatterternary\",\"marker\":{\"colorbar\":{\"outlinewidth\":0,\"ticks\":\"\"}}}],\"scattercarpet\":[{\"type\":\"scattercarpet\",\"marker\":{\"colorbar\":{\"outlinewidth\":0,\"ticks\":\"\"}}}],\"carpet\":[{\"aaxis\":{\"endlinecolor\":\"#2a3f5f\",\"gridcolor\":\"white\",\"linecolor\":\"white\",\"minorgridcolor\":\"white\",\"startlinecolor\":\"#2a3f5f\"},\"baxis\":{\"endlinecolor\":\"#2a3f5f\",\"gridcolor\":\"white\",\"linecolor\":\"white\",\"minorgridcolor\":\"white\",\"startlinecolor\":\"#2a3f5f\"},\"type\":\"carpet\"}],\"table\":[{\"cells\":{\"fill\":{\"color\":\"#EBF0F8\"},\"line\":{\"color\":\"white\"}},\"header\":{\"fill\":{\"color\":\"#C8D4E3\"},\"line\":{\"color\":\"white\"}},\"type\":\"table\"}],\"barpolar\":[{\"marker\":{\"line\":{\"color\":\"#E5ECF6\",\"width\":0.5},\"pattern\":{\"fillmode\":\"overlay\",\"size\":10,\"solidity\":0.2}},\"type\":\"barpolar\"}],\"pie\":[{\"automargin\":true,\"type\":\"pie\"}]},\"layout\":{\"autotypenumbers\":\"strict\",\"colorway\":[\"#636efa\",\"#EF553B\",\"#00cc96\",\"#ab63fa\",\"#FFA15A\",\"#19d3f3\",\"#FF6692\",\"#B6E880\",\"#FF97FF\",\"#FECB52\"],\"font\":{\"color\":\"#2a3f5f\"},\"hovermode\":\"closest\",\"hoverlabel\":{\"align\":\"left\"},\"paper_bgcolor\":\"white\",\"plot_bgcolor\":\"#E5ECF6\",\"polar\":{\"bgcolor\":\"#E5ECF6\",\"angularaxis\":{\"gridcolor\":\"white\",\"linecolor\":\"white\",\"ticks\":\"\"},\"radialaxis\":{\"gridcolor\":\"white\",\"linecolor\":\"white\",\"ticks\":\"\"}},\"ternary\":{\"bgcolor\":\"#E5ECF6\",\"aaxis\":{\"gridcolor\":\"white\",\"linecolor\":\"white\",\"ticks\":\"\"},\"baxis\":{\"gridcolor\":\"white\",\"linecolor\":\"white\",\"ticks\":\"\"},\"caxis\":{\"gridcolor\":\"white\",\"linecolor\":\"white\",\"ticks\":\"\"}},\"coloraxis\":{\"colorbar\":{\"outlinewidth\":0,\"ticks\":\"\"}},\"colorscale\":{\"sequential\":[[0.0,\"#0d0887\"],[0.1111111111111111,\"#46039f\"],[0.2222222222222222,\"#7201a8\"],[0.3333333333333333,\"#9c179e\"],[0.4444444444444444,\"#bd3786\"],[0.5555555555555556,\"#d8576b\"],[0.6666666666666666,\"#ed7953\"],[0.7777777777777778,\"#fb9f3a\"],[0.8888888888888888,\"#fdca26\"],[1.0,\"#f0f921\"]],\"sequentialminus\":[[0.0,\"#0d0887\"],[0.1111111111111111,\"#46039f\"],[0.2222222222222222,\"#7201a8\"],[0.3333333333333333,\"#9c179e\"],[0.4444444444444444,\"#bd3786\"],[0.5555555555555556,\"#d8576b\"],[0.6666666666666666,\"#ed7953\"],[0.7777777777777778,\"#fb9f3a\"],[0.8888888888888888,\"#fdca26\"],[1.0,\"#f0f921\"]],\"diverging\":[[0,\"#8e0152\"],[0.1,\"#c51b7d\"],[0.2,\"#de77ae\"],[0.3,\"#f1b6da\"],[0.4,\"#fde0ef\"],[0.5,\"#f7f7f7\"],[0.6,\"#e6f5d0\"],[0.7,\"#b8e186\"],[0.8,\"#7fbc41\"],[0.9,\"#4d9221\"],[1,\"#276419\"]]},\"xaxis\":{\"gridcolor\":\"white\",\"linecolor\":\"white\",\"ticks\":\"\",\"title\":{\"standoff\":15},\"zerolinecolor\":\"white\",\"automargin\":true,\"zerolinewidth\":2},\"yaxis\":{\"gridcolor\":\"white\",\"linecolor\":\"white\",\"ticks\":\"\",\"title\":{\"standoff\":15},\"zerolinecolor\":\"white\",\"automargin\":true,\"zerolinewidth\":2},\"scene\":{\"xaxis\":{\"backgroundcolor\":\"#E5ECF6\",\"gridcolor\":\"white\",\"linecolor\":\"white\",\"showbackground\":true,\"ticks\":\"\",\"zerolinecolor\":\"white\",\"gridwidth\":2},\"yaxis\":{\"backgroundcolor\":\"#E5ECF6\",\"gridcolor\":\"white\",\"linecolor\":\"white\",\"showbackground\":true,\"ticks\":\"\",\"zerolinecolor\":\"white\",\"gridwidth\":2},\"zaxis\":{\"backgroundcolor\":\"#E5ECF6\",\"gridcolor\":\"white\",\"linecolor\":\"white\",\"showbackground\":true,\"ticks\":\"\",\"zerolinecolor\":\"white\",\"gridwidth\":2}},\"shapedefaults\":{\"line\":{\"color\":\"#2a3f5f\"}},\"annotationdefaults\":{\"arrowcolor\":\"#2a3f5f\",\"arrowhead\":0,\"arrowwidth\":1},\"geo\":{\"bgcolor\":\"white\",\"landcolor\":\"#E5ECF6\",\"subunitcolor\":\"white\",\"showland\":true,\"showlakes\":true,\"lakecolor\":\"white\"},\"title\":{\"x\":0.05},\"mapbox\":{\"style\":\"light\"}}},\"xaxis\":{\"anchor\":\"y\",\"domain\":[0.0,1.0],\"title\":{\"text\":\"g\"}},\"yaxis\":{\"anchor\":\"x\",\"domain\":[0.0,1.0],\"title\":{\"text\":\"d\"}},\"legend\":{\"tracegroupgap\":0},\"margin\":{\"t\":60},\"height\":600,\"width\":800},                        {\"responsive\": true}                    ).then(function(){\n",
       "                            \n",
       "var gd = document.getElementById('d6f851b6-129c-4a2a-ae97-fbe0a21a4e3d');\n",
       "var x = new MutationObserver(function (mutations, observer) {{\n",
       "        var display = window.getComputedStyle(gd).display;\n",
       "        if (!display || display === 'none') {{\n",
       "            console.log([gd, 'removed!']);\n",
       "            Plotly.purge(gd);\n",
       "            observer.disconnect();\n",
       "        }}\n",
       "}});\n",
       "\n",
       "// Listen for the removal of the full notebook cells\n",
       "var notebookContainer = gd.closest('#notebook-container');\n",
       "if (notebookContainer) {{\n",
       "    x.observe(notebookContainer, {childList: true});\n",
       "}}\n",
       "\n",
       "// Listen for the clearing of the current output cell\n",
       "var outputEl = gd.closest('.output');\n",
       "if (outputEl) {{\n",
       "    x.observe(outputEl, {childList: true});\n",
       "}}\n",
       "\n",
       "                        })                };                });            </script>        </div>"
      ]
     },
     "metadata": {},
     "output_type": "display_data"
    }
   ],
   "source": [
    "MC.show_label_comparison_plot('genre_id','g','d')"
   ]
  },
  {
   "cell_type": "markdown",
   "metadata": {},
   "source": [
    "# Q4\n",
    "\n",
    "Using the `THETA` table from the Chapters model, get the mean topic weights for each book. Which book is most strongly associated with the gothic genre `g`, based on the weight of that genre's most representative topic (as discovered in the previous question)?\n",
    "\n",
    "**Answer:** Monk"
   ]
  },
  {
   "cell_type": "code",
   "execution_count": 44,
   "metadata": {},
   "outputs": [
    {
     "data": {
      "text/plain": [
       "'monk'"
      ]
     },
     "execution_count": 44,
     "metadata": {},
     "output_type": "execute_result"
    }
   ],
   "source": [
    "MC.THETA.groupby('book_id').mean()[5].idxmax()"
   ]
  },
  {
   "cell_type": "code",
   "execution_count": 45,
   "metadata": {},
   "outputs": [
    {
     "data": {
      "text/html": [
       "<style type=\"text/css\">\n",
       "#T_8750f_row0_col0, #T_8750f_row0_col2, #T_8750f_row0_col3, #T_8750f_row0_col4, #T_8750f_row0_col5, #T_8750f_row0_col6, #T_8750f_row0_col10, #T_8750f_row0_col11, #T_8750f_row0_col12, #T_8750f_row0_col13, #T_8750f_row0_col17, #T_8750f_row0_col19, #T_8750f_row1_col0, #T_8750f_row1_col2, #T_8750f_row1_col3, #T_8750f_row1_col4, #T_8750f_row1_col8, #T_8750f_row1_col10, #T_8750f_row1_col11, #T_8750f_row1_col12, #T_8750f_row1_col13, #T_8750f_row1_col16, #T_8750f_row1_col19, #T_8750f_row2_col0, #T_8750f_row2_col1, #T_8750f_row2_col2, #T_8750f_row2_col3, #T_8750f_row2_col4, #T_8750f_row2_col6, #T_8750f_row2_col7, #T_8750f_row2_col8, #T_8750f_row2_col9, #T_8750f_row2_col10, #T_8750f_row2_col12, #T_8750f_row2_col14, #T_8750f_row2_col15, #T_8750f_row2_col16, #T_8750f_row2_col17, #T_8750f_row2_col18, #T_8750f_row2_col19, #T_8750f_row3_col0, #T_8750f_row3_col2, #T_8750f_row3_col4, #T_8750f_row3_col5, #T_8750f_row3_col6, #T_8750f_row3_col8, #T_8750f_row3_col9, #T_8750f_row3_col10, #T_8750f_row3_col11, #T_8750f_row3_col12, #T_8750f_row3_col13, #T_8750f_row3_col16, #T_8750f_row3_col17, #T_8750f_row3_col19, #T_8750f_row4_col0, #T_8750f_row4_col4, #T_8750f_row4_col6, #T_8750f_row4_col8, #T_8750f_row4_col9, #T_8750f_row4_col11, #T_8750f_row4_col12, #T_8750f_row4_col13, #T_8750f_row4_col19, #T_8750f_row5_col0, #T_8750f_row5_col1, #T_8750f_row5_col2, #T_8750f_row5_col8, #T_8750f_row5_col9, #T_8750f_row5_col12, #T_8750f_row5_col13, #T_8750f_row5_col16, #T_8750f_row6_col0, #T_8750f_row6_col1, #T_8750f_row6_col2, #T_8750f_row6_col3, #T_8750f_row6_col4, #T_8750f_row6_col7, #T_8750f_row6_col9, #T_8750f_row6_col11, #T_8750f_row6_col12, #T_8750f_row6_col13, #T_8750f_row6_col14, #T_8750f_row6_col15, #T_8750f_row6_col16, #T_8750f_row6_col17, #T_8750f_row6_col18, #T_8750f_row6_col19, #T_8750f_row7_col0, #T_8750f_row7_col1, #T_8750f_row7_col2, #T_8750f_row7_col3, #T_8750f_row7_col4, #T_8750f_row7_col6, #T_8750f_row7_col8, #T_8750f_row7_col9, #T_8750f_row7_col10, #T_8750f_row7_col11, #T_8750f_row7_col12, #T_8750f_row7_col13, #T_8750f_row7_col14, #T_8750f_row7_col15, #T_8750f_row7_col16, #T_8750f_row7_col17, #T_8750f_row7_col19, #T_8750f_row8_col4, #T_8750f_row8_col9, #T_8750f_row8_col11, #T_8750f_row8_col12, #T_8750f_row8_col13, #T_8750f_row8_col15, #T_8750f_row8_col17, #T_8750f_row8_col19, #T_8750f_row9_col0, #T_8750f_row9_col1, #T_8750f_row9_col3, #T_8750f_row9_col6, #T_8750f_row9_col9, #T_8750f_row9_col11, #T_8750f_row9_col12, #T_8750f_row9_col13, #T_8750f_row9_col14, #T_8750f_row9_col15, #T_8750f_row9_col17, #T_8750f_row10_col0, #T_8750f_row10_col1, #T_8750f_row10_col2, #T_8750f_row10_col4, #T_8750f_row10_col6, #T_8750f_row10_col8, #T_8750f_row10_col9, #T_8750f_row10_col10, #T_8750f_row10_col12, #T_8750f_row10_col17, #T_8750f_row10_col19, #T_8750f_row11_col0, #T_8750f_row11_col1, #T_8750f_row11_col2, #T_8750f_row11_col3, #T_8750f_row11_col4, #T_8750f_row11_col5, #T_8750f_row11_col6, #T_8750f_row11_col7, #T_8750f_row11_col8, #T_8750f_row11_col10, #T_8750f_row11_col11, #T_8750f_row11_col12, #T_8750f_row11_col13, #T_8750f_row11_col14, #T_8750f_row11_col15, #T_8750f_row11_col16, #T_8750f_row11_col17, #T_8750f_row11_col18, #T_8750f_row11_col19, #T_8750f_row12_col0, #T_8750f_row12_col1, #T_8750f_row12_col2, #T_8750f_row12_col3, #T_8750f_row12_col4, #T_8750f_row12_col6, #T_8750f_row12_col7, #T_8750f_row12_col8, #T_8750f_row12_col10, #T_8750f_row12_col11, #T_8750f_row12_col13, #T_8750f_row12_col15, #T_8750f_row12_col17, #T_8750f_row12_col18, #T_8750f_row12_col19, #T_8750f_row13_col0, #T_8750f_row13_col1, #T_8750f_row13_col2, #T_8750f_row13_col3, #T_8750f_row13_col4, #T_8750f_row13_col5, #T_8750f_row13_col6, #T_8750f_row13_col7, #T_8750f_row13_col9, #T_8750f_row13_col10, #T_8750f_row13_col11, #T_8750f_row13_col12, #T_8750f_row13_col13, #T_8750f_row13_col14, #T_8750f_row13_col15, #T_8750f_row13_col16, #T_8750f_row13_col17, #T_8750f_row13_col18, #T_8750f_row13_col19, #T_8750f_row14_col0, #T_8750f_row14_col2, #T_8750f_row14_col10, #T_8750f_row14_col11, #T_8750f_row14_col12, #T_8750f_row14_col13, #T_8750f_row14_col16, #T_8750f_row14_col19, #T_8750f_row15_col0, #T_8750f_row15_col2, #T_8750f_row15_col4, #T_8750f_row15_col6, #T_8750f_row15_col8, #T_8750f_row15_col9, #T_8750f_row15_col10, #T_8750f_row15_col11, #T_8750f_row15_col12, #T_8750f_row15_col13, #T_8750f_row15_col14, #T_8750f_row15_col15, #T_8750f_row15_col16, #T_8750f_row15_col17, #T_8750f_row15_col18, #T_8750f_row15_col19, #T_8750f_row16_col0, #T_8750f_row16_col2, #T_8750f_row16_col3, #T_8750f_row16_col4, #T_8750f_row16_col5, #T_8750f_row16_col8, #T_8750f_row16_col11, #T_8750f_row16_col12, #T_8750f_row16_col13, #T_8750f_row16_col17, #T_8750f_row16_col19, #T_8750f_row17_col0, #T_8750f_row17_col2, #T_8750f_row17_col4, #T_8750f_row17_col6, #T_8750f_row17_col7, #T_8750f_row17_col8, #T_8750f_row17_col9, #T_8750f_row17_col11, #T_8750f_row17_col12, #T_8750f_row17_col13, #T_8750f_row17_col14, #T_8750f_row17_col15, #T_8750f_row17_col17, #T_8750f_row18_col1, #T_8750f_row18_col2, #T_8750f_row18_col3, #T_8750f_row18_col4, #T_8750f_row18_col6, #T_8750f_row18_col8, #T_8750f_row18_col9, #T_8750f_row18_col10, #T_8750f_row18_col12, #T_8750f_row18_col13, #T_8750f_row18_col15, #T_8750f_row18_col18, #T_8750f_row19_col0, #T_8750f_row19_col1, #T_8750f_row19_col2, #T_8750f_row19_col3, #T_8750f_row19_col4, #T_8750f_row19_col7, #T_8750f_row19_col11, #T_8750f_row19_col12, #T_8750f_row19_col13, #T_8750f_row19_col15, #T_8750f_row19_col18 {\n",
       "  background-color: #fff7fb;\n",
       "  color: #000000;\n",
       "}\n",
       "#T_8750f_row0_col1 {\n",
       "  background-color: #94b6d7;\n",
       "  color: #000000;\n",
       "}\n",
       "#T_8750f_row0_col7, #T_8750f_row1_col15, #T_8750f_row5_col15, #T_8750f_row19_col19 {\n",
       "  background-color: #faf2f8;\n",
       "  color: #000000;\n",
       "}\n",
       "#T_8750f_row0_col8, #T_8750f_row2_col5, #T_8750f_row3_col7, #T_8750f_row6_col8, #T_8750f_row14_col3, #T_8750f_row17_col3 {\n",
       "  background-color: #fcf4fa;\n",
       "  color: #000000;\n",
       "}\n",
       "#T_8750f_row0_col9, #T_8750f_row12_col9, #T_8750f_row14_col7 {\n",
       "  background-color: #f7f0f7;\n",
       "  color: #000000;\n",
       "}\n",
       "#T_8750f_row0_col14, #T_8750f_row0_col16, #T_8750f_row1_col6, #T_8750f_row5_col3, #T_8750f_row5_col6, #T_8750f_row5_col11, #T_8750f_row7_col7, #T_8750f_row7_col18, #T_8750f_row8_col5, #T_8750f_row8_col6, #T_8750f_row8_col8, #T_8750f_row8_col18, #T_8750f_row9_col8, #T_8750f_row10_col18, #T_8750f_row14_col4, #T_8750f_row14_col5, #T_8750f_row15_col5, #T_8750f_row16_col16, #T_8750f_row17_col10, #T_8750f_row17_col16, #T_8750f_row17_col19, #T_8750f_row18_col0, #T_8750f_row18_col11, #T_8750f_row19_col17 {\n",
       "  background-color: #fef6fb;\n",
       "  color: #000000;\n",
       "}\n",
       "#T_8750f_row0_col15, #T_8750f_row10_col5 {\n",
       "  background-color: #9cb9d9;\n",
       "  color: #000000;\n",
       "}\n",
       "#T_8750f_row0_col18, #T_8750f_row4_col2 {\n",
       "  background-color: #f9f2f8;\n",
       "  color: #000000;\n",
       "}\n",
       "#T_8750f_row1_col1 {\n",
       "  background-color: #96b6d7;\n",
       "  color: #000000;\n",
       "}\n",
       "#T_8750f_row1_col5, #T_8750f_row4_col1, #T_8750f_row8_col2, #T_8750f_row8_col16, #T_8750f_row10_col14, #T_8750f_row16_col7, #T_8750f_row17_col18 {\n",
       "  background-color: #fef6fa;\n",
       "  color: #000000;\n",
       "}\n",
       "#T_8750f_row1_col7, #T_8750f_row1_col18, #T_8750f_row5_col4 {\n",
       "  background-color: #f6eff7;\n",
       "  color: #000000;\n",
       "}\n",
       "#T_8750f_row1_col9 {\n",
       "  background-color: #acc0dd;\n",
       "  color: #000000;\n",
       "}\n",
       "#T_8750f_row1_col14, #T_8750f_row4_col10, #T_8750f_row9_col19, #T_8750f_row18_col16, #T_8750f_row19_col6 {\n",
       "  background-color: #fbf3f9;\n",
       "  color: #000000;\n",
       "}\n",
       "#T_8750f_row1_col17, #T_8750f_row4_col5, #T_8750f_row4_col14, #T_8750f_row4_col16, #T_8750f_row4_col17, #T_8750f_row5_col10, #T_8750f_row5_col19, #T_8750f_row6_col5, #T_8750f_row8_col3, #T_8750f_row8_col14, #T_8750f_row9_col10, #T_8750f_row10_col3, #T_8750f_row10_col15, #T_8750f_row10_col16, #T_8750f_row14_col6, #T_8750f_row14_col9, #T_8750f_row14_col17, #T_8750f_row15_col3, #T_8750f_row15_col7, #T_8750f_row16_col6, #T_8750f_row17_col5, #T_8750f_row18_col7 {\n",
       "  background-color: #fdf5fa;\n",
       "  color: #000000;\n",
       "}\n",
       "#T_8750f_row2_col11 {\n",
       "  background-color: #05659f;\n",
       "  color: #f1f1f1;\n",
       "}\n",
       "#T_8750f_row2_col13 {\n",
       "  background-color: #e3e0ee;\n",
       "  color: #000000;\n",
       "}\n",
       "#T_8750f_row3_col1 {\n",
       "  background-color: #d5d5e8;\n",
       "  color: #000000;\n",
       "}\n",
       "#T_8750f_row3_col3 {\n",
       "  background-color: #f5eff6;\n",
       "  color: #000000;\n",
       "}\n",
       "#T_8750f_row3_col14, #T_8750f_row3_col15, #T_8750f_row10_col13, #T_8750f_row18_col14 {\n",
       "  background-color: #f0eaf4;\n",
       "  color: #000000;\n",
       "}\n",
       "#T_8750f_row3_col18 {\n",
       "  background-color: #7dacd1;\n",
       "  color: #f1f1f1;\n",
       "}\n",
       "#T_8750f_row4_col3 {\n",
       "  background-color: #60a1ca;\n",
       "  color: #f1f1f1;\n",
       "}\n",
       "#T_8750f_row4_col7, #T_8750f_row8_col10, #T_8750f_row9_col2, #T_8750f_row9_col4 {\n",
       "  background-color: #faf3f9;\n",
       "  color: #000000;\n",
       "}\n",
       "#T_8750f_row4_col15 {\n",
       "  background-color: #e2dfee;\n",
       "  color: #000000;\n",
       "}\n",
       "#T_8750f_row4_col18, #T_8750f_row14_col14 {\n",
       "  background-color: #efe9f3;\n",
       "  color: #000000;\n",
       "}\n",
       "#T_8750f_row5_col5 {\n",
       "  background-color: #c5cce3;\n",
       "  color: #000000;\n",
       "}\n",
       "#T_8750f_row5_col7, #T_8750f_row19_col10 {\n",
       "  background-color: #fbf4f9;\n",
       "  color: #000000;\n",
       "}\n",
       "#T_8750f_row5_col14, #T_8750f_row16_col9 {\n",
       "  background-color: #e7e3f0;\n",
       "  color: #000000;\n",
       "}\n",
       "#T_8750f_row5_col17, #T_8750f_row10_col7 {\n",
       "  background-color: #dcdaeb;\n",
       "  color: #000000;\n",
       "}\n",
       "#T_8750f_row5_col18, #T_8750f_row19_col8 {\n",
       "  background-color: #e0dded;\n",
       "  color: #000000;\n",
       "}\n",
       "#T_8750f_row6_col6 {\n",
       "  background-color: #046097;\n",
       "  color: #f1f1f1;\n",
       "}\n",
       "#T_8750f_row6_col10 {\n",
       "  background-color: #ebe6f2;\n",
       "  color: #000000;\n",
       "}\n",
       "#T_8750f_row7_col5 {\n",
       "  background-color: #023d60;\n",
       "  color: #f1f1f1;\n",
       "}\n",
       "#T_8750f_row8_col0, #T_8750f_row9_col5 {\n",
       "  background-color: #eae6f1;\n",
       "  color: #000000;\n",
       "}\n",
       "#T_8750f_row8_col1 {\n",
       "  background-color: #ece7f2;\n",
       "  color: #000000;\n",
       "}\n",
       "#T_8750f_row8_col7 {\n",
       "  background-color: #3790c0;\n",
       "  color: #f1f1f1;\n",
       "}\n",
       "#T_8750f_row9_col7 {\n",
       "  background-color: #afc1dd;\n",
       "  color: #000000;\n",
       "}\n",
       "#T_8750f_row9_col16 {\n",
       "  background-color: #f2ecf5;\n",
       "  color: #000000;\n",
       "}\n",
       "#T_8750f_row9_col18 {\n",
       "  background-color: #bcc7e1;\n",
       "  color: #000000;\n",
       "}\n",
       "#T_8750f_row10_col11 {\n",
       "  background-color: #d2d2e7;\n",
       "  color: #000000;\n",
       "}\n",
       "#T_8750f_row11_col9, #T_8750f_row13_col8 {\n",
       "  background-color: #023858;\n",
       "  color: #f1f1f1;\n",
       "}\n",
       "#T_8750f_row12_col5 {\n",
       "  background-color: #f5eef6;\n",
       "  color: #000000;\n",
       "}\n",
       "#T_8750f_row12_col12, #T_8750f_row16_col14 {\n",
       "  background-color: #f4edf6;\n",
       "  color: #000000;\n",
       "}\n",
       "#T_8750f_row12_col14 {\n",
       "  background-color: #78abd0;\n",
       "  color: #f1f1f1;\n",
       "}\n",
       "#T_8750f_row12_col16 {\n",
       "  background-color: #bdc8e1;\n",
       "  color: #000000;\n",
       "}\n",
       "#T_8750f_row14_col1 {\n",
       "  background-color: #81aed2;\n",
       "  color: #f1f1f1;\n",
       "}\n",
       "#T_8750f_row14_col8, #T_8750f_row16_col10 {\n",
       "  background-color: #f8f1f8;\n",
       "  color: #000000;\n",
       "}\n",
       "#T_8750f_row14_col15 {\n",
       "  background-color: #eee9f3;\n",
       "  color: #000000;\n",
       "}\n",
       "#T_8750f_row14_col18 {\n",
       "  background-color: #ede8f3;\n",
       "  color: #000000;\n",
       "}\n",
       "#T_8750f_row15_col1 {\n",
       "  background-color: #03466e;\n",
       "  color: #f1f1f1;\n",
       "}\n",
       "#T_8750f_row16_col1, #T_8750f_row18_col17 {\n",
       "  background-color: #b3c3de;\n",
       "  color: #000000;\n",
       "}\n",
       "#T_8750f_row16_col15 {\n",
       "  background-color: #c4cbe3;\n",
       "  color: #000000;\n",
       "}\n",
       "#T_8750f_row16_col18 {\n",
       "  background-color: #f4eef6;\n",
       "  color: #000000;\n",
       "}\n",
       "#T_8750f_row17_col1 {\n",
       "  background-color: #034973;\n",
       "  color: #f1f1f1;\n",
       "}\n",
       "#T_8750f_row18_col5, #T_8750f_row19_col14, #T_8750f_row19_col16 {\n",
       "  background-color: #e5e1ef;\n",
       "  color: #000000;\n",
       "}\n",
       "#T_8750f_row18_col19 {\n",
       "  background-color: #b4c4df;\n",
       "  color: #000000;\n",
       "}\n",
       "#T_8750f_row19_col5 {\n",
       "  background-color: #c2cbe2;\n",
       "  color: #000000;\n",
       "}\n",
       "#T_8750f_row19_col9 {\n",
       "  background-color: #eee8f3;\n",
       "  color: #000000;\n",
       "}\n",
       "</style>\n",
       "<table id=\"T_8750f\">\n",
       "  <thead>\n",
       "    <tr>\n",
       "      <th class=\"index_name level0\" >topic_id</th>\n",
       "      <th id=\"T_8750f_level0_col0\" class=\"col_heading level0 col0\" >0</th>\n",
       "      <th id=\"T_8750f_level0_col1\" class=\"col_heading level0 col1\" >1</th>\n",
       "      <th id=\"T_8750f_level0_col2\" class=\"col_heading level0 col2\" >2</th>\n",
       "      <th id=\"T_8750f_level0_col3\" class=\"col_heading level0 col3\" >3</th>\n",
       "      <th id=\"T_8750f_level0_col4\" class=\"col_heading level0 col4\" >4</th>\n",
       "      <th id=\"T_8750f_level0_col5\" class=\"col_heading level0 col5\" >5</th>\n",
       "      <th id=\"T_8750f_level0_col6\" class=\"col_heading level0 col6\" >6</th>\n",
       "      <th id=\"T_8750f_level0_col7\" class=\"col_heading level0 col7\" >7</th>\n",
       "      <th id=\"T_8750f_level0_col8\" class=\"col_heading level0 col8\" >8</th>\n",
       "      <th id=\"T_8750f_level0_col9\" class=\"col_heading level0 col9\" >9</th>\n",
       "      <th id=\"T_8750f_level0_col10\" class=\"col_heading level0 col10\" >10</th>\n",
       "      <th id=\"T_8750f_level0_col11\" class=\"col_heading level0 col11\" >11</th>\n",
       "      <th id=\"T_8750f_level0_col12\" class=\"col_heading level0 col12\" >12</th>\n",
       "      <th id=\"T_8750f_level0_col13\" class=\"col_heading level0 col13\" >13</th>\n",
       "      <th id=\"T_8750f_level0_col14\" class=\"col_heading level0 col14\" >14</th>\n",
       "      <th id=\"T_8750f_level0_col15\" class=\"col_heading level0 col15\" >15</th>\n",
       "      <th id=\"T_8750f_level0_col16\" class=\"col_heading level0 col16\" >16</th>\n",
       "      <th id=\"T_8750f_level0_col17\" class=\"col_heading level0 col17\" >17</th>\n",
       "      <th id=\"T_8750f_level0_col18\" class=\"col_heading level0 col18\" >18</th>\n",
       "      <th id=\"T_8750f_level0_col19\" class=\"col_heading level0 col19\" >19</th>\n",
       "    </tr>\n",
       "    <tr>\n",
       "      <th class=\"index_name level0\" >book_id</th>\n",
       "      <th class=\"blank col0\" >&nbsp;</th>\n",
       "      <th class=\"blank col1\" >&nbsp;</th>\n",
       "      <th class=\"blank col2\" >&nbsp;</th>\n",
       "      <th class=\"blank col3\" >&nbsp;</th>\n",
       "      <th class=\"blank col4\" >&nbsp;</th>\n",
       "      <th class=\"blank col5\" >&nbsp;</th>\n",
       "      <th class=\"blank col6\" >&nbsp;</th>\n",
       "      <th class=\"blank col7\" >&nbsp;</th>\n",
       "      <th class=\"blank col8\" >&nbsp;</th>\n",
       "      <th class=\"blank col9\" >&nbsp;</th>\n",
       "      <th class=\"blank col10\" >&nbsp;</th>\n",
       "      <th class=\"blank col11\" >&nbsp;</th>\n",
       "      <th class=\"blank col12\" >&nbsp;</th>\n",
       "      <th class=\"blank col13\" >&nbsp;</th>\n",
       "      <th class=\"blank col14\" >&nbsp;</th>\n",
       "      <th class=\"blank col15\" >&nbsp;</th>\n",
       "      <th class=\"blank col16\" >&nbsp;</th>\n",
       "      <th class=\"blank col17\" >&nbsp;</th>\n",
       "      <th class=\"blank col18\" >&nbsp;</th>\n",
       "      <th class=\"blank col19\" >&nbsp;</th>\n",
       "    </tr>\n",
       "  </thead>\n",
       "  <tbody>\n",
       "    <tr>\n",
       "      <th id=\"T_8750f_level0_row0\" class=\"row_heading level0 row0\" >adventures</th>\n",
       "      <td id=\"T_8750f_row0_col0\" class=\"data row0 col0\" >0.000828</td>\n",
       "      <td id=\"T_8750f_row0_col1\" class=\"data row0 col1\" >0.418945</td>\n",
       "      <td id=\"T_8750f_row0_col2\" class=\"data row0 col2\" >0.000039</td>\n",
       "      <td id=\"T_8750f_row0_col3\" class=\"data row0 col3\" >0.002241</td>\n",
       "      <td id=\"T_8750f_row0_col4\" class=\"data row0 col4\" >0.000039</td>\n",
       "      <td id=\"T_8750f_row0_col5\" class=\"data row0 col5\" >0.003784</td>\n",
       "      <td id=\"T_8750f_row0_col6\" class=\"data row0 col6\" >0.000039</td>\n",
       "      <td id=\"T_8750f_row0_col7\" class=\"data row0 col7\" >0.038878</td>\n",
       "      <td id=\"T_8750f_row0_col8\" class=\"data row0 col8\" >0.022939</td>\n",
       "      <td id=\"T_8750f_row0_col9\" class=\"data row0 col9\" >0.054198</td>\n",
       "      <td id=\"T_8750f_row0_col10\" class=\"data row0 col10\" >0.003572</td>\n",
       "      <td id=\"T_8750f_row0_col11\" class=\"data row0 col11\" >0.002858</td>\n",
       "      <td id=\"T_8750f_row0_col12\" class=\"data row0 col12\" >0.000039</td>\n",
       "      <td id=\"T_8750f_row0_col13\" class=\"data row0 col13\" >0.000313</td>\n",
       "      <td id=\"T_8750f_row0_col14\" class=\"data row0 col14\" >0.004494</td>\n",
       "      <td id=\"T_8750f_row0_col15\" class=\"data row0 col15\" >0.398504</td>\n",
       "      <td id=\"T_8750f_row0_col16\" class=\"data row0 col16\" >0.004142</td>\n",
       "      <td id=\"T_8750f_row0_col17\" class=\"data row0 col17\" >0.002636</td>\n",
       "      <td id=\"T_8750f_row0_col18\" class=\"data row0 col18\" >0.041471</td>\n",
       "      <td id=\"T_8750f_row0_col19\" class=\"data row0 col19\" >0.000039</td>\n",
       "    </tr>\n",
       "    <tr>\n",
       "      <th id=\"T_8750f_level0_row1\" class=\"row_heading level0 row1\" >baskervilles</th>\n",
       "      <td id=\"T_8750f_row1_col0\" class=\"data row1 col0\" >0.000812</td>\n",
       "      <td id=\"T_8750f_row1_col1\" class=\"data row1 col1\" >0.414274</td>\n",
       "      <td id=\"T_8750f_row1_col2\" class=\"data row1 col2\" >0.000089</td>\n",
       "      <td id=\"T_8750f_row1_col3\" class=\"data row1 col3\" >0.002167</td>\n",
       "      <td id=\"T_8750f_row1_col4\" class=\"data row1 col4\" >0.000089</td>\n",
       "      <td id=\"T_8750f_row1_col5\" class=\"data row1 col5\" >0.009695</td>\n",
       "      <td id=\"T_8750f_row1_col6\" class=\"data row1 col6\" >0.006642</td>\n",
       "      <td id=\"T_8750f_row1_col7\" class=\"data row1 col7\" >0.059387</td>\n",
       "      <td id=\"T_8750f_row1_col8\" class=\"data row1 col8\" >0.000089</td>\n",
       "      <td id=\"T_8750f_row1_col9\" class=\"data row1 col9\" >0.356495</td>\n",
       "      <td id=\"T_8750f_row1_col10\" class=\"data row1 col10\" >0.000089</td>\n",
       "      <td id=\"T_8750f_row1_col11\" class=\"data row1 col11\" >0.000089</td>\n",
       "      <td id=\"T_8750f_row1_col12\" class=\"data row1 col12\" >0.000089</td>\n",
       "      <td id=\"T_8750f_row1_col13\" class=\"data row1 col13\" >0.002534</td>\n",
       "      <td id=\"T_8750f_row1_col14\" class=\"data row1 col14\" >0.030142</td>\n",
       "      <td id=\"T_8750f_row1_col15\" class=\"data row1 col15\" >0.036968</td>\n",
       "      <td id=\"T_8750f_row1_col16\" class=\"data row1 col16\" >0.003114</td>\n",
       "      <td id=\"T_8750f_row1_col17\" class=\"data row1 col17\" >0.015068</td>\n",
       "      <td id=\"T_8750f_row1_col18\" class=\"data row1 col18\" >0.062077</td>\n",
       "      <td id=\"T_8750f_row1_col19\" class=\"data row1 col19\" >0.000089</td>\n",
       "    </tr>\n",
       "    <tr>\n",
       "      <th id=\"T_8750f_level0_row2\" class=\"row_heading level0 row2\" >castleofotranto</th>\n",
       "      <td id=\"T_8750f_row2_col0\" class=\"data row2 col0\" >0.000041</td>\n",
       "      <td id=\"T_8750f_row2_col1\" class=\"data row2 col1\" >0.000041</td>\n",
       "      <td id=\"T_8750f_row2_col2\" class=\"data row2 col2\" >0.000041</td>\n",
       "      <td id=\"T_8750f_row2_col3\" class=\"data row2 col3\" >0.000041</td>\n",
       "      <td id=\"T_8750f_row2_col4\" class=\"data row2 col4\" >0.000041</td>\n",
       "      <td id=\"T_8750f_row2_col5\" class=\"data row2 col5\" >0.023148</td>\n",
       "      <td id=\"T_8750f_row2_col6\" class=\"data row2 col6\" >0.000041</td>\n",
       "      <td id=\"T_8750f_row2_col7\" class=\"data row2 col7\" >0.000041</td>\n",
       "      <td id=\"T_8750f_row2_col8\" class=\"data row2 col8\" >0.000587</td>\n",
       "      <td id=\"T_8750f_row2_col9\" class=\"data row2 col9\" >0.000041</td>\n",
       "      <td id=\"T_8750f_row2_col10\" class=\"data row2 col10\" >0.000041</td>\n",
       "      <td id=\"T_8750f_row2_col11\" class=\"data row2 col11\" >0.811165</td>\n",
       "      <td id=\"T_8750f_row2_col12\" class=\"data row2 col12\" >0.000041</td>\n",
       "      <td id=\"T_8750f_row2_col13\" class=\"data row2 col13\" >0.164443</td>\n",
       "      <td id=\"T_8750f_row2_col14\" class=\"data row2 col14\" >0.000041</td>\n",
       "      <td id=\"T_8750f_row2_col15\" class=\"data row2 col15\" >0.000041</td>\n",
       "      <td id=\"T_8750f_row2_col16\" class=\"data row2 col16\" >0.000041</td>\n",
       "      <td id=\"T_8750f_row2_col17\" class=\"data row2 col17\" >0.000041</td>\n",
       "      <td id=\"T_8750f_row2_col18\" class=\"data row2 col18\" >0.000041</td>\n",
       "      <td id=\"T_8750f_row2_col19\" class=\"data row2 col19\" >0.000041</td>\n",
       "    </tr>\n",
       "    <tr>\n",
       "      <th id=\"T_8750f_level0_row3\" class=\"row_heading level0 row3\" >christmascarole</th>\n",
       "      <td id=\"T_8750f_row3_col0\" class=\"data row3 col0\" >0.000071</td>\n",
       "      <td id=\"T_8750f_row3_col1\" class=\"data row3 col1\" >0.229655</td>\n",
       "      <td id=\"T_8750f_row3_col2\" class=\"data row3 col2\" >0.000071</td>\n",
       "      <td id=\"T_8750f_row3_col3\" class=\"data row3 col3\" >0.062990</td>\n",
       "      <td id=\"T_8750f_row3_col4\" class=\"data row3 col4\" >0.000071</td>\n",
       "      <td id=\"T_8750f_row3_col5\" class=\"data row3 col5\" >0.000071</td>\n",
       "      <td id=\"T_8750f_row3_col6\" class=\"data row3 col6\" >0.000071</td>\n",
       "      <td id=\"T_8750f_row3_col7\" class=\"data row3 col7\" >0.020979</td>\n",
       "      <td id=\"T_8750f_row3_col8\" class=\"data row3 col8\" >0.002276</td>\n",
       "      <td id=\"T_8750f_row3_col9\" class=\"data row3 col9\" >0.001926</td>\n",
       "      <td id=\"T_8750f_row3_col10\" class=\"data row3 col10\" >0.000071</td>\n",
       "      <td id=\"T_8750f_row3_col11\" class=\"data row3 col11\" >0.001651</td>\n",
       "      <td id=\"T_8750f_row3_col12\" class=\"data row3 col12\" >0.000071</td>\n",
       "      <td id=\"T_8750f_row3_col13\" class=\"data row3 col13\" >0.000071</td>\n",
       "      <td id=\"T_8750f_row3_col14\" class=\"data row3 col14\" >0.099854</td>\n",
       "      <td id=\"T_8750f_row3_col15\" class=\"data row3 col15\" >0.097997</td>\n",
       "      <td id=\"T_8750f_row3_col16\" class=\"data row3 col16\" >0.003528</td>\n",
       "      <td id=\"T_8750f_row3_col17\" class=\"data row3 col17\" >0.000071</td>\n",
       "      <td id=\"T_8750f_row3_col18\" class=\"data row3 col18\" >0.478438</td>\n",
       "      <td id=\"T_8750f_row3_col19\" class=\"data row3 col19\" >0.000071</td>\n",
       "    </tr>\n",
       "    <tr>\n",
       "      <th id=\"T_8750f_level0_row4\" class=\"row_heading level0 row4\" >dracula</th>\n",
       "      <td id=\"T_8750f_row4_col0\" class=\"data row4 col0\" >0.000062</td>\n",
       "      <td id=\"T_8750f_row4_col1\" class=\"data row4 col1\" >0.010079</td>\n",
       "      <td id=\"T_8750f_row4_col2\" class=\"data row4 col2\" >0.040029</td>\n",
       "      <td id=\"T_8750f_row4_col3\" class=\"data row4 col3\" >0.541501</td>\n",
       "      <td id=\"T_8750f_row4_col4\" class=\"data row4 col4\" >0.000062</td>\n",
       "      <td id=\"T_8750f_row4_col5\" class=\"data row4 col5\" >0.015929</td>\n",
       "      <td id=\"T_8750f_row4_col6\" class=\"data row4 col6\" >0.000062</td>\n",
       "      <td id=\"T_8750f_row4_col7\" class=\"data row4 col7\" >0.034058</td>\n",
       "      <td id=\"T_8750f_row4_col8\" class=\"data row4 col8\" >0.000062</td>\n",
       "      <td id=\"T_8750f_row4_col9\" class=\"data row4 col9\" >0.001156</td>\n",
       "      <td id=\"T_8750f_row4_col10\" class=\"data row4 col10\" >0.028031</td>\n",
       "      <td id=\"T_8750f_row4_col11\" class=\"data row4 col11\" >0.000062</td>\n",
       "      <td id=\"T_8750f_row4_col12\" class=\"data row4 col12\" >0.000062</td>\n",
       "      <td id=\"T_8750f_row4_col13\" class=\"data row4 col13\" >0.000062</td>\n",
       "      <td id=\"T_8750f_row4_col14\" class=\"data row4 col14\" >0.015820</td>\n",
       "      <td id=\"T_8750f_row4_col15\" class=\"data row4 col15\" >0.170249</td>\n",
       "      <td id=\"T_8750f_row4_col16\" class=\"data row4 col16\" >0.017614</td>\n",
       "      <td id=\"T_8750f_row4_col17\" class=\"data row4 col17\" >0.018019</td>\n",
       "      <td id=\"T_8750f_row4_col18\" class=\"data row4 col18\" >0.107016</td>\n",
       "      <td id=\"T_8750f_row4_col19\" class=\"data row4 col19\" >0.000062</td>\n",
       "    </tr>\n",
       "    <tr>\n",
       "      <th id=\"T_8750f_level0_row5\" class=\"row_heading level0 row5\" >frankenstein</th>\n",
       "      <td id=\"T_8750f_row5_col0\" class=\"data row5 col0\" >0.003804</td>\n",
       "      <td id=\"T_8750f_row5_col1\" class=\"data row5 col1\" >0.000158</td>\n",
       "      <td id=\"T_8750f_row5_col2\" class=\"data row5 col2\" >0.000158</td>\n",
       "      <td id=\"T_8750f_row5_col3\" class=\"data row5 col3\" >0.006660</td>\n",
       "      <td id=\"T_8750f_row5_col4\" class=\"data row5 col4\" >0.062474</td>\n",
       "      <td id=\"T_8750f_row5_col5\" class=\"data row5 col5\" >0.284310</td>\n",
       "      <td id=\"T_8750f_row5_col6\" class=\"data row5 col6\" >0.006261</td>\n",
       "      <td id=\"T_8750f_row5_col7\" class=\"data row5 col7\" >0.025802</td>\n",
       "      <td id=\"T_8750f_row5_col8\" class=\"data row5 col8\" >0.000158</td>\n",
       "      <td id=\"T_8750f_row5_col9\" class=\"data row5 col9\" >0.002357</td>\n",
       "      <td id=\"T_8750f_row5_col10\" class=\"data row5 col10\" >0.016381</td>\n",
       "      <td id=\"T_8750f_row5_col11\" class=\"data row5 col11\" >0.005853</td>\n",
       "      <td id=\"T_8750f_row5_col12\" class=\"data row5 col12\" >0.000158</td>\n",
       "      <td id=\"T_8750f_row5_col13\" class=\"data row5 col13\" >0.001606</td>\n",
       "      <td id=\"T_8750f_row5_col14\" class=\"data row5 col14\" >0.152014</td>\n",
       "      <td id=\"T_8750f_row5_col15\" class=\"data row5 col15\" >0.036595</td>\n",
       "      <td id=\"T_8750f_row5_col16\" class=\"data row5 col16\" >0.000158</td>\n",
       "      <td id=\"T_8750f_row5_col17\" class=\"data row5 col17\" >0.195686</td>\n",
       "      <td id=\"T_8750f_row5_col18\" class=\"data row5 col18\" >0.180214</td>\n",
       "      <td id=\"T_8750f_row5_col19\" class=\"data row5 col19\" >0.019194</td>\n",
       "    </tr>\n",
       "    <tr>\n",
       "      <th id=\"T_8750f_level0_row6\" class=\"row_heading level0 row6\" >marieroget</th>\n",
       "      <td id=\"T_8750f_row6_col0\" class=\"data row6 col0\" >0.000015</td>\n",
       "      <td id=\"T_8750f_row6_col1\" class=\"data row6 col1\" >0.000015</td>\n",
       "      <td id=\"T_8750f_row6_col2\" class=\"data row6 col2\" >0.000015</td>\n",
       "      <td id=\"T_8750f_row6_col3\" class=\"data row6 col3\" >0.000015</td>\n",
       "      <td id=\"T_8750f_row6_col4\" class=\"data row6 col4\" >0.000015</td>\n",
       "      <td id=\"T_8750f_row6_col5\" class=\"data row6 col5\" >0.013225</td>\n",
       "      <td id=\"T_8750f_row6_col6\" class=\"data row6 col6\" >0.835984</td>\n",
       "      <td id=\"T_8750f_row6_col7\" class=\"data row6 col7\" >0.000015</td>\n",
       "      <td id=\"T_8750f_row6_col8\" class=\"data row6 col8\" >0.021382</td>\n",
       "      <td id=\"T_8750f_row6_col9\" class=\"data row6 col9\" >0.000015</td>\n",
       "      <td id=\"T_8750f_row6_col10\" class=\"data row6 col10\" >0.129165</td>\n",
       "      <td id=\"T_8750f_row6_col11\" class=\"data row6 col11\" >0.000015</td>\n",
       "      <td id=\"T_8750f_row6_col12\" class=\"data row6 col12\" >0.000015</td>\n",
       "      <td id=\"T_8750f_row6_col13\" class=\"data row6 col13\" >0.000015</td>\n",
       "      <td id=\"T_8750f_row6_col14\" class=\"data row6 col14\" >0.000015</td>\n",
       "      <td id=\"T_8750f_row6_col15\" class=\"data row6 col15\" >0.000015</td>\n",
       "      <td id=\"T_8750f_row6_col16\" class=\"data row6 col16\" >0.000015</td>\n",
       "      <td id=\"T_8750f_row6_col17\" class=\"data row6 col17\" >0.000015</td>\n",
       "      <td id=\"T_8750f_row6_col18\" class=\"data row6 col18\" >0.000015</td>\n",
       "      <td id=\"T_8750f_row6_col19\" class=\"data row6 col19\" >0.000015</td>\n",
       "    </tr>\n",
       "    <tr>\n",
       "      <th id=\"T_8750f_level0_row7\" class=\"row_heading level0 row7\" >monk</th>\n",
       "      <td id=\"T_8750f_row7_col0\" class=\"data row7 col0\" >0.000034</td>\n",
       "      <td id=\"T_8750f_row7_col1\" class=\"data row7 col1\" >0.001713</td>\n",
       "      <td id=\"T_8750f_row7_col2\" class=\"data row7 col2\" >0.000034</td>\n",
       "      <td id=\"T_8750f_row7_col3\" class=\"data row7 col3\" >0.001860</td>\n",
       "      <td id=\"T_8750f_row7_col4\" class=\"data row7 col4\" >0.000034</td>\n",
       "      <td id=\"T_8750f_row7_col5\" class=\"data row7 col5\" >0.977318</td>\n",
       "      <td id=\"T_8750f_row7_col6\" class=\"data row7 col6\" >0.000034</td>\n",
       "      <td id=\"T_8750f_row7_col7\" class=\"data row7 col7\" >0.007560</td>\n",
       "      <td id=\"T_8750f_row7_col8\" class=\"data row7 col8\" >0.000034</td>\n",
       "      <td id=\"T_8750f_row7_col9\" class=\"data row7 col9\" >0.000034</td>\n",
       "      <td id=\"T_8750f_row7_col10\" class=\"data row7 col10\" >0.000034</td>\n",
       "      <td id=\"T_8750f_row7_col11\" class=\"data row7 col11\" >0.000034</td>\n",
       "      <td id=\"T_8750f_row7_col12\" class=\"data row7 col12\" >0.000034</td>\n",
       "      <td id=\"T_8750f_row7_col13\" class=\"data row7 col13\" >0.000034</td>\n",
       "      <td id=\"T_8750f_row7_col14\" class=\"data row7 col14\" >0.001467</td>\n",
       "      <td id=\"T_8750f_row7_col15\" class=\"data row7 col15\" >0.000034</td>\n",
       "      <td id=\"T_8750f_row7_col16\" class=\"data row7 col16\" >0.000034</td>\n",
       "      <td id=\"T_8750f_row7_col17\" class=\"data row7 col17\" >0.002916</td>\n",
       "      <td id=\"T_8750f_row7_col18\" class=\"data row7 col18\" >0.006724</td>\n",
       "      <td id=\"T_8750f_row7_col19\" class=\"data row7 col19\" >0.000034</td>\n",
       "    </tr>\n",
       "    <tr>\n",
       "      <th id=\"T_8750f_level0_row8\" class=\"row_heading level0 row8\" >moonstone</th>\n",
       "      <td id=\"T_8750f_row8_col0\" class=\"data row8 col0\" >0.133761</td>\n",
       "      <td id=\"T_8750f_row8_col1\" class=\"data row8 col1\" >0.127440</td>\n",
       "      <td id=\"T_8750f_row8_col2\" class=\"data row8 col2\" >0.010962</td>\n",
       "      <td id=\"T_8750f_row8_col3\" class=\"data row8 col3\" >0.019476</td>\n",
       "      <td id=\"T_8750f_row8_col4\" class=\"data row8 col4\" >0.000114</td>\n",
       "      <td id=\"T_8750f_row8_col5\" class=\"data row8 col5\" >0.007403</td>\n",
       "      <td id=\"T_8750f_row8_col6\" class=\"data row8 col6\" >0.004192</td>\n",
       "      <td id=\"T_8750f_row8_col7\" class=\"data row8 col7\" >0.621086</td>\n",
       "      <td id=\"T_8750f_row8_col8\" class=\"data row8 col8\" >0.006513</td>\n",
       "      <td id=\"T_8750f_row8_col9\" class=\"data row8 col9\" >0.001049</td>\n",
       "      <td id=\"T_8750f_row8_col10\" class=\"data row8 col10\" >0.031700</td>\n",
       "      <td id=\"T_8750f_row8_col11\" class=\"data row8 col11\" >0.000114</td>\n",
       "      <td id=\"T_8750f_row8_col12\" class=\"data row8 col12\" >0.000114</td>\n",
       "      <td id=\"T_8750f_row8_col13\" class=\"data row8 col13\" >0.000367</td>\n",
       "      <td id=\"T_8750f_row8_col14\" class=\"data row8 col14\" >0.019020</td>\n",
       "      <td id=\"T_8750f_row8_col15\" class=\"data row8 col15\" >0.002193</td>\n",
       "      <td id=\"T_8750f_row8_col16\" class=\"data row8 col16\" >0.009365</td>\n",
       "      <td id=\"T_8750f_row8_col17\" class=\"data row8 col17\" >0.000338</td>\n",
       "      <td id=\"T_8750f_row8_col18\" class=\"data row8 col18\" >0.004678</td>\n",
       "      <td id=\"T_8750f_row8_col19\" class=\"data row8 col19\" >0.000114</td>\n",
       "    </tr>\n",
       "    <tr>\n",
       "      <th id=\"T_8750f_level0_row9\" class=\"row_heading level0 row9\" >northangerabbey</th>\n",
       "      <td id=\"T_8750f_row9_col0\" class=\"data row9 col0\" >0.000850</td>\n",
       "      <td id=\"T_8750f_row9_col1\" class=\"data row9 col1\" >0.000163</td>\n",
       "      <td id=\"T_8750f_row9_col2\" class=\"data row9 col2\" >0.032283</td>\n",
       "      <td id=\"T_8750f_row9_col3\" class=\"data row9 col3\" >0.000163</td>\n",
       "      <td id=\"T_8750f_row9_col4\" class=\"data row9 col4\" >0.032263</td>\n",
       "      <td id=\"T_8750f_row9_col5\" class=\"data row9 col5\" >0.133702</td>\n",
       "      <td id=\"T_8750f_row9_col6\" class=\"data row9 col6\" >0.000163</td>\n",
       "      <td id=\"T_8750f_row9_col7\" class=\"data row9 col7\" >0.351083</td>\n",
       "      <td id=\"T_8750f_row9_col8\" class=\"data row9 col8\" >0.007458</td>\n",
       "      <td id=\"T_8750f_row9_col9\" class=\"data row9 col9\" >0.000163</td>\n",
       "      <td id=\"T_8750f_row9_col10\" class=\"data row9 col10\" >0.013114</td>\n",
       "      <td id=\"T_8750f_row9_col11\" class=\"data row9 col11\" >0.000163</td>\n",
       "      <td id=\"T_8750f_row9_col12\" class=\"data row9 col12\" >0.000163</td>\n",
       "      <td id=\"T_8750f_row9_col13\" class=\"data row9 col13\" >0.000163</td>\n",
       "      <td id=\"T_8750f_row9_col14\" class=\"data row9 col14\" >0.000163</td>\n",
       "      <td id=\"T_8750f_row9_col15\" class=\"data row9 col15\" >0.002167</td>\n",
       "      <td id=\"T_8750f_row9_col16\" class=\"data row9 col16\" >0.082044</td>\n",
       "      <td id=\"T_8750f_row9_col17\" class=\"data row9 col17\" >0.003637</td>\n",
       "      <td id=\"T_8750f_row9_col18\" class=\"data row9 col18\" >0.310777</td>\n",
       "      <td id=\"T_8750f_row9_col19\" class=\"data row9 col19\" >0.029320</td>\n",
       "    </tr>\n",
       "    <tr>\n",
       "      <th id=\"T_8750f_level0_row10\" class=\"row_heading level0 row10\" >oldenglishbaron</th>\n",
       "      <td id=\"T_8750f_row10_col0\" class=\"data row10 col0\" >0.000055</td>\n",
       "      <td id=\"T_8750f_row10_col1\" class=\"data row10 col1\" >0.003529</td>\n",
       "      <td id=\"T_8750f_row10_col2\" class=\"data row10 col2\" >0.000055</td>\n",
       "      <td id=\"T_8750f_row10_col3\" class=\"data row10 col3\" >0.013446</td>\n",
       "      <td id=\"T_8750f_row10_col4\" class=\"data row10 col4\" >0.000055</td>\n",
       "      <td id=\"T_8750f_row10_col5\" class=\"data row10 col5\" >0.400547</td>\n",
       "      <td id=\"T_8750f_row10_col6\" class=\"data row10 col6\" >0.001634</td>\n",
       "      <td id=\"T_8750f_row10_col7\" class=\"data row10 col7\" >0.196985</td>\n",
       "      <td id=\"T_8750f_row10_col8\" class=\"data row10 col8\" >0.000055</td>\n",
       "      <td id=\"T_8750f_row10_col9\" class=\"data row10 col9\" >0.000055</td>\n",
       "      <td id=\"T_8750f_row10_col10\" class=\"data row10 col10\" >0.000055</td>\n",
       "      <td id=\"T_8750f_row10_col11\" class=\"data row10 col11\" >0.242466</td>\n",
       "      <td id=\"T_8750f_row10_col12\" class=\"data row10 col12\" >0.000055</td>\n",
       "      <td id=\"T_8750f_row10_col13\" class=\"data row10 col13\" >0.099948</td>\n",
       "      <td id=\"T_8750f_row10_col14\" class=\"data row10 col14\" >0.009078</td>\n",
       "      <td id=\"T_8750f_row10_col15\" class=\"data row10 col15\" >0.012164</td>\n",
       "      <td id=\"T_8750f_row10_col16\" class=\"data row10 col16\" >0.012330</td>\n",
       "      <td id=\"T_8750f_row10_col17\" class=\"data row10 col17\" >0.000055</td>\n",
       "      <td id=\"T_8750f_row10_col18\" class=\"data row10 col18\" >0.007379</td>\n",
       "      <td id=\"T_8750f_row10_col19\" class=\"data row10 col19\" >0.000055</td>\n",
       "    </tr>\n",
       "    <tr>\n",
       "      <th id=\"T_8750f_level0_row11\" class=\"row_heading level0 row11\" >pitandpendulum</th>\n",
       "      <td id=\"T_8750f_row11_col0\" class=\"data row11 col0\" >0.000048</td>\n",
       "      <td id=\"T_8750f_row11_col1\" class=\"data row11 col1\" >0.000048</td>\n",
       "      <td id=\"T_8750f_row11_col2\" class=\"data row11 col2\" >0.000048</td>\n",
       "      <td id=\"T_8750f_row11_col3\" class=\"data row11 col3\" >0.000048</td>\n",
       "      <td id=\"T_8750f_row11_col4\" class=\"data row11 col4\" >0.000048</td>\n",
       "      <td id=\"T_8750f_row11_col5\" class=\"data row11 col5\" >0.000048</td>\n",
       "      <td id=\"T_8750f_row11_col6\" class=\"data row11 col6\" >0.000048</td>\n",
       "      <td id=\"T_8750f_row11_col7\" class=\"data row11 col7\" >0.000048</td>\n",
       "      <td id=\"T_8750f_row11_col8\" class=\"data row11 col8\" >0.000048</td>\n",
       "      <td id=\"T_8750f_row11_col9\" class=\"data row11 col9\" >0.999086</td>\n",
       "      <td id=\"T_8750f_row11_col10\" class=\"data row11 col10\" >0.000048</td>\n",
       "      <td id=\"T_8750f_row11_col11\" class=\"data row11 col11\" >0.000048</td>\n",
       "      <td id=\"T_8750f_row11_col12\" class=\"data row11 col12\" >0.000048</td>\n",
       "      <td id=\"T_8750f_row11_col13\" class=\"data row11 col13\" >0.000048</td>\n",
       "      <td id=\"T_8750f_row11_col14\" class=\"data row11 col14\" >0.000048</td>\n",
       "      <td id=\"T_8750f_row11_col15\" class=\"data row11 col15\" >0.000048</td>\n",
       "      <td id=\"T_8750f_row11_col16\" class=\"data row11 col16\" >0.000048</td>\n",
       "      <td id=\"T_8750f_row11_col17\" class=\"data row11 col17\" >0.000048</td>\n",
       "      <td id=\"T_8750f_row11_col18\" class=\"data row11 col18\" >0.000048</td>\n",
       "      <td id=\"T_8750f_row11_col19\" class=\"data row11 col19\" >0.000048</td>\n",
       "    </tr>\n",
       "    <tr>\n",
       "      <th id=\"T_8750f_level0_row12\" class=\"row_heading level0 row12\" >reddeath</th>\n",
       "      <td id=\"T_8750f_row12_col0\" class=\"data row12 col0\" >0.000121</td>\n",
       "      <td id=\"T_8750f_row12_col1\" class=\"data row12 col1\" >0.000121</td>\n",
       "      <td id=\"T_8750f_row12_col2\" class=\"data row12 col2\" >0.000121</td>\n",
       "      <td id=\"T_8750f_row12_col3\" class=\"data row12 col3\" >0.000121</td>\n",
       "      <td id=\"T_8750f_row12_col4\" class=\"data row12 col4\" >0.000121</td>\n",
       "      <td id=\"T_8750f_row12_col5\" class=\"data row12 col5\" >0.068769</td>\n",
       "      <td id=\"T_8750f_row12_col6\" class=\"data row12 col6\" >0.000121</td>\n",
       "      <td id=\"T_8750f_row12_col7\" class=\"data row12 col7\" >0.000121</td>\n",
       "      <td id=\"T_8750f_row12_col8\" class=\"data row12 col8\" >0.000121</td>\n",
       "      <td id=\"T_8750f_row12_col9\" class=\"data row12 col9\" >0.057754</td>\n",
       "      <td id=\"T_8750f_row12_col10\" class=\"data row12 col10\" >0.000121</td>\n",
       "      <td id=\"T_8750f_row12_col11\" class=\"data row12 col11\" >0.000121</td>\n",
       "      <td id=\"T_8750f_row12_col12\" class=\"data row12 col12\" >0.074500</td>\n",
       "      <td id=\"T_8750f_row12_col13\" class=\"data row12 col13\" >0.000121</td>\n",
       "      <td id=\"T_8750f_row12_col14\" class=\"data row12 col14\" >0.491069</td>\n",
       "      <td id=\"T_8750f_row12_col15\" class=\"data row12 col15\" >0.000121</td>\n",
       "      <td id=\"T_8750f_row12_col16\" class=\"data row12 col16\" >0.306092</td>\n",
       "      <td id=\"T_8750f_row12_col17\" class=\"data row12 col17\" >0.000121</td>\n",
       "      <td id=\"T_8750f_row12_col18\" class=\"data row12 col18\" >0.000121</td>\n",
       "      <td id=\"T_8750f_row12_col19\" class=\"data row12 col19\" >0.000121</td>\n",
       "    </tr>\n",
       "    <tr>\n",
       "      <th id=\"T_8750f_level0_row13\" class=\"row_heading level0 row13\" >ruemorgue</th>\n",
       "      <td id=\"T_8750f_row13_col0\" class=\"data row13 col0\" >0.000023</td>\n",
       "      <td id=\"T_8750f_row13_col1\" class=\"data row13 col1\" >0.000023</td>\n",
       "      <td id=\"T_8750f_row13_col2\" class=\"data row13 col2\" >0.000023</td>\n",
       "      <td id=\"T_8750f_row13_col3\" class=\"data row13 col3\" >0.000023</td>\n",
       "      <td id=\"T_8750f_row13_col4\" class=\"data row13 col4\" >0.000023</td>\n",
       "      <td id=\"T_8750f_row13_col5\" class=\"data row13 col5\" >0.000023</td>\n",
       "      <td id=\"T_8750f_row13_col6\" class=\"data row13 col6\" >0.000023</td>\n",
       "      <td id=\"T_8750f_row13_col7\" class=\"data row13 col7\" >0.000023</td>\n",
       "      <td id=\"T_8750f_row13_col8\" class=\"data row13 col8\" >0.999568</td>\n",
       "      <td id=\"T_8750f_row13_col9\" class=\"data row13 col9\" >0.000023</td>\n",
       "      <td id=\"T_8750f_row13_col10\" class=\"data row13 col10\" >0.000023</td>\n",
       "      <td id=\"T_8750f_row13_col11\" class=\"data row13 col11\" >0.000023</td>\n",
       "      <td id=\"T_8750f_row13_col12\" class=\"data row13 col12\" >0.000023</td>\n",
       "      <td id=\"T_8750f_row13_col13\" class=\"data row13 col13\" >0.000023</td>\n",
       "      <td id=\"T_8750f_row13_col14\" class=\"data row13 col14\" >0.000023</td>\n",
       "      <td id=\"T_8750f_row13_col15\" class=\"data row13 col15\" >0.000023</td>\n",
       "      <td id=\"T_8750f_row13_col16\" class=\"data row13 col16\" >0.000023</td>\n",
       "      <td id=\"T_8750f_row13_col17\" class=\"data row13 col17\" >0.000023</td>\n",
       "      <td id=\"T_8750f_row13_col18\" class=\"data row13 col18\" >0.000023</td>\n",
       "      <td id=\"T_8750f_row13_col19\" class=\"data row13 col19\" >0.000023</td>\n",
       "    </tr>\n",
       "    <tr>\n",
       "      <th id=\"T_8750f_level0_row14\" class=\"row_heading level0 row14\" >scarlet</th>\n",
       "      <td id=\"T_8750f_row14_col0\" class=\"data row14 col0\" >0.000111</td>\n",
       "      <td id=\"T_8750f_row14_col1\" class=\"data row14 col1\" >0.467781</td>\n",
       "      <td id=\"T_8750f_row14_col2\" class=\"data row14 col2\" >0.000111</td>\n",
       "      <td id=\"T_8750f_row14_col3\" class=\"data row14 col3\" >0.022823</td>\n",
       "      <td id=\"T_8750f_row14_col4\" class=\"data row14 col4\" >0.006591</td>\n",
       "      <td id=\"T_8750f_row14_col5\" class=\"data row14 col5\" >0.007568</td>\n",
       "      <td id=\"T_8750f_row14_col6\" class=\"data row14 col6\" >0.016201</td>\n",
       "      <td id=\"T_8750f_row14_col7\" class=\"data row14 col7\" >0.057702</td>\n",
       "      <td id=\"T_8750f_row14_col8\" class=\"data row14 col8\" >0.050239</td>\n",
       "      <td id=\"T_8750f_row14_col9\" class=\"data row14 col9\" >0.012463</td>\n",
       "      <td id=\"T_8750f_row14_col10\" class=\"data row14 col10\" >0.000111</td>\n",
       "      <td id=\"T_8750f_row14_col11\" class=\"data row14 col11\" >0.001516</td>\n",
       "      <td id=\"T_8750f_row14_col12\" class=\"data row14 col12\" >0.000111</td>\n",
       "      <td id=\"T_8750f_row14_col13\" class=\"data row14 col13\" >0.000111</td>\n",
       "      <td id=\"T_8750f_row14_col14\" class=\"data row14 col14\" >0.106962</td>\n",
       "      <td id=\"T_8750f_row14_col15\" class=\"data row14 col15\" >0.112958</td>\n",
       "      <td id=\"T_8750f_row14_col16\" class=\"data row14 col16\" >0.001079</td>\n",
       "      <td id=\"T_8750f_row14_col17\" class=\"data row14 col17\" >0.017904</td>\n",
       "      <td id=\"T_8750f_row14_col18\" class=\"data row14 col18\" >0.117550</td>\n",
       "      <td id=\"T_8750f_row14_col19\" class=\"data row14 col19\" >0.000111</td>\n",
       "    </tr>\n",
       "    <tr>\n",
       "      <th id=\"T_8750f_level0_row15\" class=\"row_heading level0 row15\" >secretadversary</th>\n",
       "      <td id=\"T_8750f_row15_col0\" class=\"data row15 col0\" >0.000142</td>\n",
       "      <td id=\"T_8750f_row15_col1\" class=\"data row15 col1\" >0.946534</td>\n",
       "      <td id=\"T_8750f_row15_col2\" class=\"data row15 col2\" >0.000142</td>\n",
       "      <td id=\"T_8750f_row15_col3\" class=\"data row15 col3\" >0.014639</td>\n",
       "      <td id=\"T_8750f_row15_col4\" class=\"data row15 col4\" >0.000142</td>\n",
       "      <td id=\"T_8750f_row15_col5\" class=\"data row15 col5\" >0.006274</td>\n",
       "      <td id=\"T_8750f_row15_col6\" class=\"data row15 col6\" >0.000142</td>\n",
       "      <td id=\"T_8750f_row15_col7\" class=\"data row15 col7\" >0.018061</td>\n",
       "      <td id=\"T_8750f_row15_col8\" class=\"data row15 col8\" >0.000142</td>\n",
       "      <td id=\"T_8750f_row15_col9\" class=\"data row15 col9\" >0.000142</td>\n",
       "      <td id=\"T_8750f_row15_col10\" class=\"data row15 col10\" >0.002843</td>\n",
       "      <td id=\"T_8750f_row15_col11\" class=\"data row15 col11\" >0.000450</td>\n",
       "      <td id=\"T_8750f_row15_col12\" class=\"data row15 col12\" >0.000142</td>\n",
       "      <td id=\"T_8750f_row15_col13\" class=\"data row15 col13\" >0.001344</td>\n",
       "      <td id=\"T_8750f_row15_col14\" class=\"data row15 col14\" >0.002047</td>\n",
       "      <td id=\"T_8750f_row15_col15\" class=\"data row15 col15\" >0.000552</td>\n",
       "      <td id=\"T_8750f_row15_col16\" class=\"data row15 col16\" >0.000142</td>\n",
       "      <td id=\"T_8750f_row15_col17\" class=\"data row15 col17\" >0.003780</td>\n",
       "      <td id=\"T_8750f_row15_col18\" class=\"data row15 col18\" >0.002193</td>\n",
       "      <td id=\"T_8750f_row15_col19\" class=\"data row15 col19\" >0.000142</td>\n",
       "    </tr>\n",
       "    <tr>\n",
       "      <th id=\"T_8750f_level0_row16\" class=\"row_heading level0 row16\" >signoffour</th>\n",
       "      <td id=\"T_8750f_row16_col0\" class=\"data row16 col0\" >0.000112</td>\n",
       "      <td id=\"T_8750f_row16_col1\" class=\"data row16 col1\" >0.339613</td>\n",
       "      <td id=\"T_8750f_row16_col2\" class=\"data row16 col2\" >0.000112</td>\n",
       "      <td id=\"T_8750f_row16_col3\" class=\"data row16 col3\" >0.000112</td>\n",
       "      <td id=\"T_8750f_row16_col4\" class=\"data row16 col4\" >0.000112</td>\n",
       "      <td id=\"T_8750f_row16_col5\" class=\"data row16 col5\" >0.000112</td>\n",
       "      <td id=\"T_8750f_row16_col6\" class=\"data row16 col6\" >0.014344</td>\n",
       "      <td id=\"T_8750f_row16_col7\" class=\"data row16 col7\" >0.009670</td>\n",
       "      <td id=\"T_8750f_row16_col8\" class=\"data row16 col8\" >0.000112</td>\n",
       "      <td id=\"T_8750f_row16_col9\" class=\"data row16 col9\" >0.149309</td>\n",
       "      <td id=\"T_8750f_row16_col10\" class=\"data row16 col10\" >0.044682</td>\n",
       "      <td id=\"T_8750f_row16_col11\" class=\"data row16 col11\" >0.000112</td>\n",
       "      <td id=\"T_8750f_row16_col12\" class=\"data row16 col12\" >0.000112</td>\n",
       "      <td id=\"T_8750f_row16_col13\" class=\"data row16 col13\" >0.001793</td>\n",
       "      <td id=\"T_8750f_row16_col14\" class=\"data row16 col14\" >0.077375</td>\n",
       "      <td id=\"T_8750f_row16_col15\" class=\"data row16 col15\" >0.286716</td>\n",
       "      <td id=\"T_8750f_row16_col16\" class=\"data row16 col16\" >0.004076</td>\n",
       "      <td id=\"T_8750f_row16_col17\" class=\"data row16 col17\" >0.000112</td>\n",
       "      <td id=\"T_8750f_row16_col18\" class=\"data row16 col18\" >0.071302</td>\n",
       "      <td id=\"T_8750f_row16_col19\" class=\"data row16 col19\" >0.000112</td>\n",
       "    </tr>\n",
       "    <tr>\n",
       "      <th id=\"T_8750f_level0_row17\" class=\"row_heading level0 row17\" >styles</th>\n",
       "      <td id=\"T_8750f_row17_col0\" class=\"data row17 col0\" >0.000087</td>\n",
       "      <td id=\"T_8750f_row17_col1\" class=\"data row17 col1\" >0.935600</td>\n",
       "      <td id=\"T_8750f_row17_col2\" class=\"data row17 col2\" >0.000087</td>\n",
       "      <td id=\"T_8750f_row17_col3\" class=\"data row17 col3\" >0.020793</td>\n",
       "      <td id=\"T_8750f_row17_col4\" class=\"data row17 col4\" >0.000087</td>\n",
       "      <td id=\"T_8750f_row17_col5\" class=\"data row17 col5\" >0.014734</td>\n",
       "      <td id=\"T_8750f_row17_col6\" class=\"data row17 col6\" >0.000087</td>\n",
       "      <td id=\"T_8750f_row17_col7\" class=\"data row17 col7\" >0.000087</td>\n",
       "      <td id=\"T_8750f_row17_col8\" class=\"data row17 col8\" >0.000087</td>\n",
       "      <td id=\"T_8750f_row17_col9\" class=\"data row17 col9\" >0.000087</td>\n",
       "      <td id=\"T_8750f_row17_col10\" class=\"data row17 col10\" >0.004810</td>\n",
       "      <td id=\"T_8750f_row17_col11\" class=\"data row17 col11\" >0.000087</td>\n",
       "      <td id=\"T_8750f_row17_col12\" class=\"data row17 col12\" >0.000087</td>\n",
       "      <td id=\"T_8750f_row17_col13\" class=\"data row17 col13\" >0.000087</td>\n",
       "      <td id=\"T_8750f_row17_col14\" class=\"data row17 col14\" >0.000087</td>\n",
       "      <td id=\"T_8750f_row17_col15\" class=\"data row17 col15\" >0.000087</td>\n",
       "      <td id=\"T_8750f_row17_col16\" class=\"data row17 col16\" >0.004922</td>\n",
       "      <td id=\"T_8750f_row17_col17\" class=\"data row17 col17\" >0.000087</td>\n",
       "      <td id=\"T_8750f_row17_col18\" class=\"data row17 col18\" >0.010485</td>\n",
       "      <td id=\"T_8750f_row17_col19\" class=\"data row17 col19\" >0.007526</td>\n",
       "    </tr>\n",
       "    <tr>\n",
       "      <th id=\"T_8750f_level0_row18\" class=\"row_heading level0 row18\" >udolpho</th>\n",
       "      <td id=\"T_8750f_row18_col0\" class=\"data row18 col0\" >0.005035</td>\n",
       "      <td id=\"T_8750f_row18_col1\" class=\"data row18 col1\" >0.000762</td>\n",
       "      <td id=\"T_8750f_row18_col2\" class=\"data row18 col2\" >0.000828</td>\n",
       "      <td id=\"T_8750f_row18_col3\" class=\"data row18 col3\" >0.002510</td>\n",
       "      <td id=\"T_8750f_row18_col4\" class=\"data row18 col4\" >0.000579</td>\n",
       "      <td id=\"T_8750f_row18_col5\" class=\"data row18 col5\" >0.157503</td>\n",
       "      <td id=\"T_8750f_row18_col6\" class=\"data row18 col6\" >0.000796</td>\n",
       "      <td id=\"T_8750f_row18_col7\" class=\"data row18 col7\" >0.016003</td>\n",
       "      <td id=\"T_8750f_row18_col8\" class=\"data row18 col8\" >0.000087</td>\n",
       "      <td id=\"T_8750f_row18_col9\" class=\"data row18 col9\" >0.000306</td>\n",
       "      <td id=\"T_8750f_row18_col10\" class=\"data row18 col10\" >0.000087</td>\n",
       "      <td id=\"T_8750f_row18_col11\" class=\"data row18 col11\" >0.005993</td>\n",
       "      <td id=\"T_8750f_row18_col12\" class=\"data row18 col12\" >0.000087</td>\n",
       "      <td id=\"T_8750f_row18_col13\" class=\"data row18 col13\" >0.000087</td>\n",
       "      <td id=\"T_8750f_row18_col14\" class=\"data row18 col14\" >0.103448</td>\n",
       "      <td id=\"T_8750f_row18_col15\" class=\"data row18 col15\" >0.001391</td>\n",
       "      <td id=\"T_8750f_row18_col16\" class=\"data row18 col16\" >0.031048</td>\n",
       "      <td id=\"T_8750f_row18_col17\" class=\"data row18 col17\" >0.336000</td>\n",
       "      <td id=\"T_8750f_row18_col18\" class=\"data row18 col18\" >0.003899</td>\n",
       "      <td id=\"T_8750f_row18_col19\" class=\"data row18 col19\" >0.333553</td>\n",
       "    </tr>\n",
       "    <tr>\n",
       "      <th id=\"T_8750f_level0_row19\" class=\"row_heading level0 row19\" >usher</th>\n",
       "      <td id=\"T_8750f_row19_col0\" class=\"data row19 col0\" >0.000043</td>\n",
       "      <td id=\"T_8750f_row19_col1\" class=\"data row19 col1\" >0.000043</td>\n",
       "      <td id=\"T_8750f_row19_col2\" class=\"data row19 col2\" >0.000043</td>\n",
       "      <td id=\"T_8750f_row19_col3\" class=\"data row19 col3\" >0.000043</td>\n",
       "      <td id=\"T_8750f_row19_col4\" class=\"data row19 col4\" >0.000043</td>\n",
       "      <td id=\"T_8750f_row19_col5\" class=\"data row19 col5\" >0.292059</td>\n",
       "      <td id=\"T_8750f_row19_col6\" class=\"data row19 col6\" >0.027631</td>\n",
       "      <td id=\"T_8750f_row19_col7\" class=\"data row19 col7\" >0.000043</td>\n",
       "      <td id=\"T_8750f_row19_col8\" class=\"data row19 col8\" >0.180845</td>\n",
       "      <td id=\"T_8750f_row19_col9\" class=\"data row19 col9\" >0.115970</td>\n",
       "      <td id=\"T_8750f_row19_col10\" class=\"data row19 col10\" >0.025197</td>\n",
       "      <td id=\"T_8750f_row19_col11\" class=\"data row19 col11\" >0.000043</td>\n",
       "      <td id=\"T_8750f_row19_col12\" class=\"data row19 col12\" >0.000043</td>\n",
       "      <td id=\"T_8750f_row19_col13\" class=\"data row19 col13\" >0.000043</td>\n",
       "      <td id=\"T_8750f_row19_col14\" class=\"data row19 col14\" >0.156455</td>\n",
       "      <td id=\"T_8750f_row19_col15\" class=\"data row19 col15\" >0.000043</td>\n",
       "      <td id=\"T_8750f_row19_col16\" class=\"data row19 col16\" >0.159632</td>\n",
       "      <td id=\"T_8750f_row19_col17\" class=\"data row19 col17\" >0.006116</td>\n",
       "      <td id=\"T_8750f_row19_col18\" class=\"data row19 col18\" >0.000043</td>\n",
       "      <td id=\"T_8750f_row19_col19\" class=\"data row19 col19\" >0.035622</td>\n",
       "    </tr>\n",
       "  </tbody>\n",
       "</table>\n"
      ],
      "text/plain": [
       "<pandas.io.formats.style.Styler at 0x7f919f15e640>"
      ]
     },
     "execution_count": 45,
     "metadata": {},
     "output_type": "execute_result"
    }
   ],
   "source": [
    "MC.THETA.groupby('book_id').mean().style.background_gradient(axis=None)"
   ]
  },
  {
   "cell_type": "markdown",
   "metadata": {},
   "source": [
    "# Q5\n",
    "\n",
    "How would you characterize the subject matter of the two genres based on their topic models? \n",
    "\n",
    "Consider the words associated with the dominant topics from each model, but also the models overall."
   ]
  },
  {
   "cell_type": "markdown",
   "metadata": {},
   "source": [
    "**Answer**: Based on this, one way to characterize the two genres is that gothic novels are internal and emotional and detective novels are external and focus on material things, like money and evidence."
   ]
  },
  {
   "cell_type": "code",
   "execution_count": null,
   "metadata": {},
   "outputs": [],
   "source": []
  }
 ],
 "metadata": {
  "kernelspec": {
   "display_name": "Python 3 (ipykernel)",
   "language": "python",
   "name": "python3"
  },
  "language_info": {
   "codemirror_mode": {
    "name": "ipython",
    "version": 3
   },
   "file_extension": ".py",
   "mimetype": "text/x-python",
   "name": "python",
   "nbconvert_exporter": "python",
   "pygments_lexer": "ipython3",
   "version": "3.11.5"
  },
  "latex_envs": {
   "LaTeX_envs_menu_present": true,
   "autoclose": false,
   "autocomplete": true,
   "bibliofile": "biblio.bib",
   "cite_by": "apalike",
   "current_citInitial": 1,
   "eqLabelWithNumbers": true,
   "eqNumInitial": 1,
   "hotkeys": {
    "equation": "Ctrl-E",
    "itemize": "Ctrl-I"
   },
   "labels_anchors": false,
   "latex_user_defs": false,
   "report_style_numbering": false,
   "user_envs_cfg": false
  },
  "toc": {
   "base_numbering": 1,
   "nav_menu": {},
   "number_sections": true,
   "sideBar": true,
   "skip_h1_title": true,
   "title_cell": "Table of Contents",
   "title_sidebar": "Contents",
   "toc_cell": false,
   "toc_position": {},
   "toc_section_display": true,
   "toc_window_display": true
  },
  "varInspector": {
   "cols": {
    "lenName": 16,
    "lenType": 16,
    "lenVar": 40
   },
   "kernels_config": {
    "python": {
     "delete_cmd_postfix": "",
     "delete_cmd_prefix": "del ",
     "library": "var_list.py",
     "varRefreshCmd": "print(var_dic_list())"
    },
    "r": {
     "delete_cmd_postfix": ") ",
     "delete_cmd_prefix": "rm(",
     "library": "var_list.r",
     "varRefreshCmd": "cat(var_dic_list()) "
    }
   },
   "types_to_exclude": [
    "module",
    "function",
    "builtin_function_or_method",
    "instance",
    "_Feature"
   ],
   "window_display": false
  },
  "widgets": {
   "application/vnd.jupyter.widget-state+json": {
    "state": {},
    "version_major": 2,
    "version_minor": 0
   }
  }
 },
 "nbformat": 4,
 "nbformat_minor": 4
}
